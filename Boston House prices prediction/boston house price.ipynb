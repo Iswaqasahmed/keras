{
 "metadata": {
  "language_info": {
   "codemirror_mode": {
    "name": "ipython",
    "version": 3
   },
   "file_extension": ".py",
   "mimetype": "text/x-python",
   "name": "python",
   "nbconvert_exporter": "python",
   "pygments_lexer": "ipython3",
   "version": "3.7.3-final"
  },
  "orig_nbformat": 2,
  "kernelspec": {
   "name": "Python 3.7.3 64-bit ('base': conda)",
   "display_name": "Python 3.7.3 64-bit ('base': conda)",
   "metadata": {
    "interpreter": {
     "hash": "2f9fbfe4749d0089818a674644891712019826e89c7f10430ca576b75f464ce7"
    }
   }
  }
 },
 "nbformat": 4,
 "nbformat_minor": 2,
 "cells": [
  {
   "cell_type": "code",
   "execution_count": 1,
   "metadata": {},
   "outputs": [
    {
     "output_type": "stream",
     "name": "stderr",
     "text": [
      "Using TensorFlow backend.\n"
     ]
    }
   ],
   "source": [
    "# loading data of pre-loaded at keras\n",
    "from keras.datasets import boston_housing"
   ]
  },
  {
   "cell_type": "code",
   "execution_count": 2,
   "metadata": {},
   "outputs": [],
   "source": [
    "# break data into test and train. always try to split data 60:40, if data is messy you should do it 90:5:5 train,test and validation respectively\n",
    "(x_train,y_train),(x_test,y_test) = boston_housing.load_data()"
   ]
  },
  {
   "cell_type": "code",
   "execution_count": 3,
   "metadata": {},
   "outputs": [
    {
     "output_type": "stream",
     "name": "stdout",
     "text": [
      "Shape of training data:  (404, 13)\nShape of training label:  (404,)\nShape of test label:  (102, 13)\nShape of test label:  (102,)\n"
     ]
    }
   ],
   "source": [
    "print('Shape of training data: ',x_train.shape)\n",
    "print('Shape of training label: ',y_train.shape)\n",
    "print('Shape of test label: ',x_test.shape)\n",
    "print('Shape of test label: ',y_test.shape)\n"
   ]
  },
  {
   "cell_type": "code",
   "execution_count": 4,
   "metadata": {},
   "outputs": [
    {
     "output_type": "stream",
     "name": "stdout",
     "text": [
      "(104, 13)\n"
     ]
    }
   ],
   "source": [
    "# split data for validation\n",
    "x_val = x_train[300:,]\n",
    "y_val = y_train[300:,]\n",
    "print(x_val.shape)"
   ]
  },
  {
   "cell_type": "code",
   "execution_count": 5,
   "metadata": {},
   "outputs": [],
   "source": [
    "# importing numpy, keras sequential model and layer \n",
    "import numpy as np\n",
    "from keras.models import Sequential\n",
    "from keras.layers import Dense,Activation"
   ]
  },
  {
   "cell_type": "code",
   "execution_count": 6,
   "metadata": {},
   "outputs": [],
   "source": [
    "# Define model architecture\n",
    "model = Sequential()\n",
    "model.add(Dense(13,input_dim=13,kernel_initializer='normal',activation='relu'))\n",
    "model.add(Dense(6,kernel_initializer ='normal',activation='relu'))\n",
    "model.add(Dense(1,kernel_initializer = 'normal',activation='sigmoid'))"
   ]
  },
  {
   "cell_type": "code",
   "execution_count": 7,
   "metadata": {},
   "outputs": [],
   "source": [
    "# Compile Model\n",
    "model.compile(loss='mean_squared_error',optimizer='adam',metrics=['mean_absolute_percentage_error'])\n"
   ]
  },
  {
   "cell_type": "code",
   "execution_count": 8,
   "metadata": {},
   "outputs": [
    {
     "output_type": "stream",
     "name": "stdout",
     "text": [
      "WARNING:tensorflow:From C:\\Users\\shariq\\Anaconda3\\lib\\site-packages\\keras\\backend\\tensorflow_backend.py:422: The name tf.global_variables is deprecated. Please use tf.compat.v1.global_variables instead.\n",
      "\n",
      "Train on 404 samples, validate on 104 samples\n",
      "Epoch 1/3\n",
      "404/404 [==============================] - 1s 3ms/step - loss: 558.7801 - mean_absolute_percentage_error: 96.7234 - val_loss: 647.6291 - val_mean_absolute_percentage_error: 96.5072\n",
      "Epoch 2/3\n",
      "404/404 [==============================] - 0s 139us/step - loss: 550.8707 - mean_absolute_percentage_error: 95.7091 - val_loss: 638.7716 - val_mean_absolute_percentage_error: 95.5858\n",
      "Epoch 3/3\n",
      "404/404 [==============================] - 0s 148us/step - loss: 544.5438 - mean_absolute_percentage_error: 94.9719 - val_loss: 635.1348 - val_mean_absolute_percentage_error: 95.2410\n"
     ]
    },
    {
     "output_type": "execute_result",
     "data": {
      "text/plain": [
       "<keras.callbacks.callbacks.History at 0x2269b2d0e10>"
      ]
     },
     "metadata": {},
     "execution_count": 8
    }
   ],
   "source": [
    "# train the model\n",
    "model.fit(x_train,y_train,batch_size=32,epochs=3,validation_data=(x_val,y_val))\n"
   ]
  },
  {
   "cell_type": "code",
   "execution_count": 9,
   "metadata": {},
   "outputs": [
    {
     "output_type": "stream",
     "name": "stdout",
     "text": [
      "Epoch 1/10\n",
      "404/404 [==============================] - 0s 198us/step - loss: 542.7645 - mean_absolute_percentage_error: 94.7841\n",
      "Epoch 2/10\n",
      "404/404 [==============================] - 0s 131us/step - loss: 542.4965 - mean_absolute_percentage_error: 94.7563\n",
      "Epoch 3/10\n",
      "404/404 [==============================] - 0s 99us/step - loss: 542.4391 - mean_absolute_percentage_error: 94.7506\n",
      "Epoch 4/10\n",
      "404/404 [==============================] - 0s 173us/step - loss: 542.4185 - mean_absolute_percentage_error: 94.7486\n",
      "Epoch 5/10\n",
      "404/404 [==============================] - 0s 208us/step - loss: 542.4085 - mean_absolute_percentage_error: 94.7476\n",
      "Epoch 6/10\n",
      "404/404 [==============================] - 0s 178us/step - loss: 542.4018 - mean_absolute_percentage_error: 94.7469\n",
      "Epoch 7/10\n",
      "404/404 [==============================] - 0s 133us/step - loss: 542.3969 - mean_absolute_percentage_error: 94.7464\n",
      "Epoch 8/10\n",
      "404/404 [==============================] - 0s 102us/step - loss: 542.3931 - mean_absolute_percentage_error: 94.7461\n",
      "Epoch 9/10\n",
      "404/404 [==============================] - 0s 115us/step - loss: 542.3901 - mean_absolute_percentage_error: 94.7458\n",
      "Epoch 10/10\n",
      "404/404 [==============================] - 0s 121us/step - loss: 542.3877 - mean_absolute_percentage_error: 94.7455\n"
     ]
    },
    {
     "output_type": "execute_result",
     "data": {
      "text/plain": [
       "<keras.callbacks.callbacks.History at 0x2269b6bd518>"
      ]
     },
     "metadata": {},
     "execution_count": 9
    }
   ],
   "source": [
    "# our losses goes to 95 % due to underfitting, so we should increase epoch size 3 to 10,15,30 and so on... with repect to loss\n",
    "\n",
    "model.fit(x_train,y_train,batch_size=32,epochs=10) "
   ]
  },
  {
   "cell_type": "code",
   "execution_count": 10,
   "metadata": {},
   "outputs": [
    {
     "output_type": "stream",
     "name": "stdout",
     "text": [
      "Epoch 1/15\n",
      "404/404 [==============================] - 0s 141us/step - loss: 542.3856 - mean_absolute_percentage_error: 94.7453\n",
      "Epoch 2/15\n",
      "404/404 [==============================] - 0s 252us/step - loss: 542.3839 - mean_absolute_percentage_error: 94.7452\n",
      "Epoch 3/15\n",
      "404/404 [==============================] - 0s 109us/step - loss: 542.3825 - mean_absolute_percentage_error: 94.7450\n",
      "Epoch 4/15\n",
      "404/404 [==============================] - 0s 168us/step - loss: 542.3813 - mean_absolute_percentage_error: 94.7449\n",
      "Epoch 5/15\n",
      "404/404 [==============================] - 0s 119us/step - loss: 542.3803 - mean_absolute_percentage_error: 94.7448\n",
      "Epoch 6/15\n",
      "404/404 [==============================] - 0s 121us/step - loss: 542.3794 - mean_absolute_percentage_error: 94.7447\n",
      "Epoch 7/15\n",
      "404/404 [==============================] - 0s 239us/step - loss: 542.3785 - mean_absolute_percentage_error: 94.7447\n",
      "Epoch 8/15\n",
      "404/404 [==============================] - 0s 148us/step - loss: 542.3779 - mean_absolute_percentage_error: 94.7446\n",
      "Epoch 9/15\n",
      "404/404 [==============================] - 0s 103us/step - loss: 542.3773 - mean_absolute_percentage_error: 94.7445\n",
      "Epoch 10/15\n",
      "404/404 [==============================] - 0s 118us/step - loss: 542.3767 - mean_absolute_percentage_error: 94.7445\n",
      "Epoch 11/15\n",
      "404/404 [==============================] - 0s 103us/step - loss: 542.3763 - mean_absolute_percentage_error: 94.7444\n",
      "Epoch 12/15\n",
      "404/404 [==============================] - 0s 116us/step - loss: 542.3759 - mean_absolute_percentage_error: 94.7444\n",
      "Epoch 13/15\n",
      "404/404 [==============================] - 0s 112us/step - loss: 542.3755 - mean_absolute_percentage_error: 94.7444\n",
      "Epoch 14/15\n",
      "404/404 [==============================] - 0s 164us/step - loss: 542.3751 - mean_absolute_percentage_error: 94.7443\n",
      "Epoch 15/15\n",
      "404/404 [==============================] - 0s 119us/step - loss: 542.3748 - mean_absolute_percentage_error: 94.7443\n"
     ]
    },
    {
     "output_type": "execute_result",
     "data": {
      "text/plain": [
       "<keras.callbacks.callbacks.History at 0x2269b1a2518>"
      ]
     },
     "metadata": {},
     "execution_count": 10
    }
   ],
   "source": [
    "model.fit(x_train,y_train,batch_size=32,epochs=15)"
   ]
  },
  {
   "cell_type": "code",
   "execution_count": 11,
   "metadata": {},
   "outputs": [
    {
     "output_type": "stream",
     "name": "stdout",
     "text": [
      "Epoch 1/30\n",
      "404/404 [==============================] - 0s 268us/step - loss: 542.3745 - mean_absolute_percentage_error: 94.7443\n",
      "Epoch 2/30\n",
      "404/404 [==============================] - 0s 123us/step - loss: 542.3743 - mean_absolute_percentage_error: 94.7442\n",
      "Epoch 3/30\n",
      "404/404 [==============================] - 0s 138us/step - loss: 542.3741 - mean_absolute_percentage_error: 94.7442\n",
      "Epoch 4/30\n",
      "404/404 [==============================] - 0s 99us/step - loss: 542.3739 - mean_absolute_percentage_error: 94.7442\n",
      "Epoch 5/30\n",
      "404/404 [==============================] - 0s 123us/step - loss: 542.3737 - mean_absolute_percentage_error: 94.7442\n",
      "Epoch 6/30\n",
      "404/404 [==============================] - 0s 184us/step - loss: 542.3735 - mean_absolute_percentage_error: 94.7442\n",
      "Epoch 7/30\n",
      "404/404 [==============================] - 0s 82us/step - loss: 542.3733 - mean_absolute_percentage_error: 94.7442\n",
      "Epoch 8/30\n",
      "404/404 [==============================] - 0s 86us/step - loss: 542.3732 - mean_absolute_percentage_error: 94.7441\n",
      "Epoch 9/30\n",
      "404/404 [==============================] - 0s 174us/step - loss: 542.3730 - mean_absolute_percentage_error: 94.7441\n",
      "Epoch 10/30\n",
      "404/404 [==============================] - 0s 119us/step - loss: 542.3729 - mean_absolute_percentage_error: 94.7441\n",
      "Epoch 11/30\n",
      "404/404 [==============================] - 0s 139us/step - loss: 542.3728 - mean_absolute_percentage_error: 94.7441\n",
      "Epoch 12/30\n",
      "404/404 [==============================] - 0s 109us/step - loss: 542.3727 - mean_absolute_percentage_error: 94.7441\n",
      "Epoch 13/30\n",
      "404/404 [==============================] - 0s 127us/step - loss: 542.3726 - mean_absolute_percentage_error: 94.7441\n",
      "Epoch 14/30\n",
      "404/404 [==============================] - 0s 139us/step - loss: 542.3725 - mean_absolute_percentage_error: 94.7441\n",
      "Epoch 15/30\n",
      "404/404 [==============================] - 0s 176us/step - loss: 542.3724 - mean_absolute_percentage_error: 94.7441\n",
      "Epoch 16/30\n",
      "404/404 [==============================] - 0s 170us/step - loss: 542.3723 - mean_absolute_percentage_error: 94.7441\n",
      "Epoch 17/30\n",
      "404/404 [==============================] - 0s 143us/step - loss: 542.3722 - mean_absolute_percentage_error: 94.7440\n",
      "Epoch 18/30\n",
      "404/404 [==============================] - 0s 114us/step - loss: 542.3721 - mean_absolute_percentage_error: 94.7440\n",
      "Epoch 19/30\n",
      "404/404 [==============================] - 0s 104us/step - loss: 542.3721 - mean_absolute_percentage_error: 94.7440\n",
      "Epoch 20/30\n",
      "404/404 [==============================] - 0s 140us/step - loss: 542.3720 - mean_absolute_percentage_error: 94.7440\n",
      "Epoch 21/30\n",
      "404/404 [==============================] - 0s 119us/step - loss: 542.3719 - mean_absolute_percentage_error: 94.7440\n",
      "Epoch 22/30\n",
      "404/404 [==============================] - 0s 174us/step - loss: 542.3719 - mean_absolute_percentage_error: 94.7440\n",
      "Epoch 23/30\n",
      "404/404 [==============================] - 0s 158us/step - loss: 542.3718 - mean_absolute_percentage_error: 94.7440\n",
      "Epoch 24/30\n",
      "404/404 [==============================] - 0s 145us/step - loss: 542.3718 - mean_absolute_percentage_error: 94.7440\n",
      "Epoch 25/30\n",
      "404/404 [==============================] - 0s 139us/step - loss: 542.3717 - mean_absolute_percentage_error: 94.7440\n",
      "Epoch 26/30\n",
      "404/404 [==============================] - 0s 170us/step - loss: 542.3717 - mean_absolute_percentage_error: 94.7440\n",
      "Epoch 27/30\n",
      "404/404 [==============================] - 0s 129us/step - loss: 542.3716 - mean_absolute_percentage_error: 94.7440\n",
      "Epoch 28/30\n",
      "404/404 [==============================] - 0s 99us/step - loss: 542.3716 - mean_absolute_percentage_error: 94.7440\n",
      "Epoch 29/30\n",
      "404/404 [==============================] - 0s 129us/step - loss: 542.3716 - mean_absolute_percentage_error: 94.7440\n",
      "Epoch 30/30\n",
      "404/404 [==============================] - 0s 238us/step - loss: 542.3715 - mean_absolute_percentage_error: 94.7440\n"
     ]
    },
    {
     "output_type": "execute_result",
     "data": {
      "text/plain": [
       "<keras.callbacks.callbacks.History at 0x2269c94f208>"
      ]
     },
     "metadata": {},
     "execution_count": 11
    }
   ],
   "source": [
    "model.fit(x_train,y_train,batch_size=32,epochs=30)"
   ]
  },
  {
   "cell_type": "code",
   "execution_count": 12,
   "metadata": {},
   "outputs": [
    {
     "output_type": "stream",
     "name": "stdout",
     "text": [
      "Epoch 1/50\n",
      "404/404 [==============================] - 0s 109us/step - loss: 542.3715 - mean_absolute_percentage_error: 94.7440\n",
      "Epoch 2/50\n",
      "404/404 [==============================] - 0s 209us/step - loss: 542.3714 - mean_absolute_percentage_error: 94.7440\n",
      "Epoch 3/50\n",
      "404/404 [==============================] - 0s 247us/step - loss: 542.3714 - mean_absolute_percentage_error: 94.7440\n",
      "Epoch 4/50\n",
      "404/404 [==============================] - 0s 277us/step - loss: 542.3714 - mean_absolute_percentage_error: 94.7440\n",
      "Epoch 5/50\n",
      "404/404 [==============================] - 0s 208us/step - loss: 542.3713 - mean_absolute_percentage_error: 94.7440\n",
      "Epoch 6/50\n",
      "404/404 [==============================] - 0s 241us/step - loss: 542.3713 - mean_absolute_percentage_error: 94.7440\n",
      "Epoch 7/50\n",
      "404/404 [==============================] - 0s 198us/step - loss: 542.3713 - mean_absolute_percentage_error: 94.7440\n",
      "Epoch 8/50\n",
      "404/404 [==============================] - 0s 127us/step - loss: 542.3713 - mean_absolute_percentage_error: 94.7440\n",
      "Epoch 9/50\n",
      "404/404 [==============================] - 0s 141us/step - loss: 542.3713 - mean_absolute_percentage_error: 94.7440\n",
      "Epoch 10/50\n",
      "404/404 [==============================] - 0s 139us/step - loss: 542.3712 - mean_absolute_percentage_error: 94.7440\n",
      "Epoch 11/50\n",
      "404/404 [==============================] - 0s 110us/step - loss: 542.3712 - mean_absolute_percentage_error: 94.7440\n",
      "Epoch 12/50\n",
      "404/404 [==============================] - 0s 204us/step - loss: 542.3712 - mean_absolute_percentage_error: 94.7439\n",
      "Epoch 13/50\n",
      "404/404 [==============================] - 0s 122us/step - loss: 542.3711 - mean_absolute_percentage_error: 94.7439\n",
      "Epoch 14/50\n",
      "404/404 [==============================] - 0s 244us/step - loss: 542.3711 - mean_absolute_percentage_error: 94.7439\n",
      "Epoch 15/50\n",
      "404/404 [==============================] - 0s 354us/step - loss: 542.3711 - mean_absolute_percentage_error: 94.7439\n",
      "Epoch 16/50\n",
      "404/404 [==============================] - 0s 264us/step - loss: 542.3711 - mean_absolute_percentage_error: 94.7440\n",
      "Epoch 17/50\n",
      "404/404 [==============================] - 0s 198us/step - loss: 542.3711 - mean_absolute_percentage_error: 94.7439\n",
      "Epoch 18/50\n",
      "404/404 [==============================] - 0s 146us/step - loss: 542.3711 - mean_absolute_percentage_error: 94.7440\n",
      "Epoch 19/50\n",
      "404/404 [==============================] - 0s 239us/step - loss: 542.3710 - mean_absolute_percentage_error: 94.7439\n",
      "Epoch 20/50\n",
      "404/404 [==============================] - 0s 146us/step - loss: 542.3710 - mean_absolute_percentage_error: 94.7439\n",
      "Epoch 21/50\n",
      "404/404 [==============================] - 0s 112us/step - loss: 542.3710 - mean_absolute_percentage_error: 94.7439\n",
      "Epoch 22/50\n",
      "404/404 [==============================] - 0s 114us/step - loss: 542.3710 - mean_absolute_percentage_error: 94.7439\n",
      "Epoch 23/50\n",
      "404/404 [==============================] - 0s 159us/step - loss: 542.3710 - mean_absolute_percentage_error: 94.7439\n",
      "Epoch 24/50\n",
      "404/404 [==============================] - 0s 204us/step - loss: 542.3710 - mean_absolute_percentage_error: 94.7439\n",
      "Epoch 25/50\n",
      "404/404 [==============================] - 0s 129us/step - loss: 542.3710 - mean_absolute_percentage_error: 94.7439\n",
      "Epoch 26/50\n",
      "404/404 [==============================] - 0s 122us/step - loss: 542.3709 - mean_absolute_percentage_error: 94.7439\n",
      "Epoch 27/50\n",
      "404/404 [==============================] - 0s 152us/step - loss: 542.3709 - mean_absolute_percentage_error: 94.7439\n",
      "Epoch 28/50\n",
      "404/404 [==============================] - 0s 99us/step - loss: 542.3709 - mean_absolute_percentage_error: 94.7439\n",
      "Epoch 29/50\n",
      "404/404 [==============================] - 0s 109us/step - loss: 542.3709 - mean_absolute_percentage_error: 94.7439\n",
      "Epoch 30/50\n",
      "404/404 [==============================] - 0s 173us/step - loss: 542.3709 - mean_absolute_percentage_error: 94.7439\n",
      "Epoch 31/50\n",
      "404/404 [==============================] - 0s 167us/step - loss: 542.3709 - mean_absolute_percentage_error: 94.7439\n",
      "Epoch 32/50\n",
      "404/404 [==============================] - 0s 168us/step - loss: 542.3709 - mean_absolute_percentage_error: 94.7439\n",
      "Epoch 33/50\n",
      "404/404 [==============================] - 0s 119us/step - loss: 542.3709 - mean_absolute_percentage_error: 94.7439\n",
      "Epoch 34/50\n",
      "404/404 [==============================] - 0s 111us/step - loss: 542.3708 - mean_absolute_percentage_error: 94.7439\n",
      "Epoch 35/50\n",
      "404/404 [==============================] - 0s 234us/step - loss: 542.3708 - mean_absolute_percentage_error: 94.7439\n",
      "Epoch 36/50\n",
      "404/404 [==============================] - 0s 100us/step - loss: 542.3708 - mean_absolute_percentage_error: 94.7439\n",
      "Epoch 37/50\n",
      "404/404 [==============================] - 0s 178us/step - loss: 542.3708 - mean_absolute_percentage_error: 94.7439\n",
      "Epoch 38/50\n",
      "404/404 [==============================] - 0s 103us/step - loss: 542.3708 - mean_absolute_percentage_error: 94.7439\n",
      "Epoch 39/50\n",
      "404/404 [==============================] - 0s 143us/step - loss: 542.3708 - mean_absolute_percentage_error: 94.7439\n",
      "Epoch 40/50\n",
      "404/404 [==============================] - 0s 145us/step - loss: 542.3708 - mean_absolute_percentage_error: 94.7439\n",
      "Epoch 41/50\n",
      "404/404 [==============================] - 0s 119us/step - loss: 542.3708 - mean_absolute_percentage_error: 94.7439\n",
      "Epoch 42/50\n",
      "404/404 [==============================] - 0s 93us/step - loss: 542.3708 - mean_absolute_percentage_error: 94.7439\n",
      "Epoch 43/50\n",
      "404/404 [==============================] - 0s 126us/step - loss: 542.3708 - mean_absolute_percentage_error: 94.7439\n",
      "Epoch 44/50\n",
      "404/404 [==============================] - 0s 129us/step - loss: 542.3708 - mean_absolute_percentage_error: 94.7439\n",
      "Epoch 45/50\n",
      "404/404 [==============================] - 0s 109us/step - loss: 542.3707 - mean_absolute_percentage_error: 94.7439\n",
      "Epoch 46/50\n",
      "404/404 [==============================] - 0s 244us/step - loss: 542.3707 - mean_absolute_percentage_error: 94.7439\n",
      "Epoch 47/50\n",
      "404/404 [==============================] - 0s 178us/step - loss: 542.3707 - mean_absolute_percentage_error: 94.7439\n",
      "Epoch 48/50\n",
      "404/404 [==============================] - 0s 119us/step - loss: 542.3707 - mean_absolute_percentage_error: 94.7439\n",
      "Epoch 49/50\n",
      "404/404 [==============================] - 0s 144us/step - loss: 542.3707 - mean_absolute_percentage_error: 94.7439\n",
      "Epoch 50/50\n",
      "404/404 [==============================] - 0s 208us/step - loss: 542.3707 - mean_absolute_percentage_error: 94.7439\n"
     ]
    },
    {
     "output_type": "execute_result",
     "data": {
      "text/plain": [
       "<keras.callbacks.callbacks.History at 0x2269c94f748>"
      ]
     },
     "metadata": {},
     "execution_count": 12
    }
   ],
   "source": [
    "model.fit(x_train,y_train,batch_size=32,epochs=50)\n"
   ]
  },
  {
   "cell_type": "code",
   "execution_count": 13,
   "metadata": {},
   "outputs": [],
   "source": [
    "# have you noticed that although we have change epochs size but loss remain same why? because at the end we use sigmoid that the reason,\n",
    "model = Sequential()\n",
    "model.add(Dense(13,input_dim=13,kernel_initializer='normal',activation='relu'))\n",
    "model.add(Dense(6,kernel_initializer ='normal',activation='relu'))\n",
    "model.add(Dense(1,kernel_initializer = 'normal'))\n",
    "model.compile(loss='mean_squared_error',optimizer='adam',metrics=['mean_absolute_percentage_error'])\n"
   ]
  },
  {
   "cell_type": "code",
   "execution_count": 14,
   "metadata": {},
   "outputs": [
    {
     "output_type": "stream",
     "name": "stdout",
     "text": [
      "Train on 404 samples, validate on 104 samples\n",
      "Epoch 1/3\n",
      "404/404 [==============================] - 2s 4ms/step - loss: 557.0940 - mean_absolute_percentage_error: 96.5162 - val_loss: 627.8452 - val_mean_absolute_percentage_error: 94.4660\n",
      "Epoch 2/3\n",
      "404/404 [==============================] - 0s 124us/step - loss: 516.8433 - mean_absolute_percentage_error: 91.3355 - val_loss: 573.5835 - val_mean_absolute_percentage_error: 88.4135\n",
      "Epoch 3/3\n",
      "404/404 [==============================] - 0s 117us/step - loss: 456.2054 - mean_absolute_percentage_error: 82.6680 - val_loss: 486.9746 - val_mean_absolute_percentage_error: 77.8821\n"
     ]
    },
    {
     "output_type": "execute_result",
     "data": {
      "text/plain": [
       "<keras.callbacks.callbacks.History at 0x2269c94fb00>"
      ]
     },
     "metadata": {},
     "execution_count": 14
    }
   ],
   "source": [
    "model.fit(x_train,y_train,batch_size=32,epochs=3,validation_data=(x_val,y_val))\n"
   ]
  },
  {
   "cell_type": "code",
   "execution_count": 15,
   "metadata": {},
   "outputs": [
    {
     "output_type": "stream",
     "name": "stdout",
     "text": [
      "Train on 404 samples, validate on 104 samples\n",
      "Epoch 1/10\n",
      "404/404 [==============================] - 0s 228us/step - loss: 361.8670 - mean_absolute_percentage_error: 68.8357 - val_loss: 359.9335 - val_mean_absolute_percentage_error: 59.9050\n",
      "Epoch 2/10\n",
      "404/404 [==============================] - 0s 119us/step - loss: 239.1232 - mean_absolute_percentage_error: 50.7177 - val_loss: 220.8055 - val_mean_absolute_percentage_error: 41.1924\n",
      "Epoch 3/10\n",
      "404/404 [==============================] - 0s 139us/step - loss: 140.5130 - mean_absolute_percentage_error: 40.4384 - val_loss: 141.7912 - val_mean_absolute_percentage_error: 37.5431\n",
      "Epoch 4/10\n",
      "404/404 [==============================] - 0s 99us/step - loss: 121.5496 - mean_absolute_percentage_error: 45.3462 - val_loss: 129.7588 - val_mean_absolute_percentage_error: 40.5668\n",
      "Epoch 5/10\n",
      "404/404 [==============================] - 0s 109us/step - loss: 112.4856 - mean_absolute_percentage_error: 42.9849 - val_loss: 126.8788 - val_mean_absolute_percentage_error: 36.0740\n",
      "Epoch 6/10\n",
      "404/404 [==============================] - 0s 168us/step - loss: 105.9509 - mean_absolute_percentage_error: 38.8195 - val_loss: 123.9750 - val_mean_absolute_percentage_error: 34.3778\n",
      "Epoch 7/10\n",
      "404/404 [==============================] - 0s 127us/step - loss: 101.8319 - mean_absolute_percentage_error: 37.9263 - val_loss: 117.4274 - val_mean_absolute_percentage_error: 34.2231\n",
      "Epoch 8/10\n",
      "404/404 [==============================] - 0s 108us/step - loss: 97.2003 - mean_absolute_percentage_error: 36.7294 - val_loss: 114.5253 - val_mean_absolute_percentage_error: 32.5151\n",
      "Epoch 9/10\n",
      "404/404 [==============================] - 0s 150us/step - loss: 92.9690 - mean_absolute_percentage_error: 35.5850 - val_loss: 109.3486 - val_mean_absolute_percentage_error: 32.3553\n",
      "Epoch 10/10\n",
      "404/404 [==============================] - 0s 139us/step - loss: 89.3011 - mean_absolute_percentage_error: 35.2291 - val_loss: 105.1901 - val_mean_absolute_percentage_error: 31.5833\n"
     ]
    },
    {
     "output_type": "execute_result",
     "data": {
      "text/plain": [
       "<keras.callbacks.callbacks.History at 0x2269cddbb70>"
      ]
     },
     "metadata": {},
     "execution_count": 15
    }
   ],
   "source": [
    "model.fit(x_train,y_train,batch_size=32,epochs=10,validation_data=(x_val,y_val))\n"
   ]
  },
  {
   "cell_type": "code",
   "execution_count": 16,
   "metadata": {},
   "outputs": [
    {
     "output_type": "stream",
     "name": "stdout",
     "text": [
      "Train on 404 samples, validate on 104 samples\n",
      "Epoch 1/15\n",
      "404/404 [==============================] - 0s 129us/step - loss: 85.4431 - mean_absolute_percentage_error: 33.8852 - val_loss: 102.7478 - val_mean_absolute_percentage_error: 29.8756\n",
      "Epoch 2/15\n",
      "404/404 [==============================] - 0s 106us/step - loss: 81.9213 - mean_absolute_percentage_error: 32.7468 - val_loss: 99.2487 - val_mean_absolute_percentage_error: 29.2552\n",
      "Epoch 3/15\n",
      "404/404 [==============================] - 0s 123us/step - loss: 79.1704 - mean_absolute_percentage_error: 32.6138 - val_loss: 95.7366 - val_mean_absolute_percentage_error: 28.6938\n",
      "Epoch 4/15\n",
      "404/404 [==============================] - 0s 148us/step - loss: 75.9451 - mean_absolute_percentage_error: 31.4171 - val_loss: 94.0452 - val_mean_absolute_percentage_error: 27.3076\n",
      "Epoch 5/15\n",
      "404/404 [==============================] - 0s 111us/step - loss: 73.9942 - mean_absolute_percentage_error: 30.4511 - val_loss: 91.1443 - val_mean_absolute_percentage_error: 26.7890\n",
      "Epoch 6/15\n",
      "404/404 [==============================] - 0s 140us/step - loss: 71.7115 - mean_absolute_percentage_error: 30.2777 - val_loss: 89.3528 - val_mean_absolute_percentage_error: 26.2554\n",
      "Epoch 7/15\n",
      "404/404 [==============================] - 0s 158us/step - loss: 69.8857 - mean_absolute_percentage_error: 30.2111 - val_loss: 87.8945 - val_mean_absolute_percentage_error: 25.9155\n",
      "Epoch 8/15\n",
      "404/404 [==============================] - 0s 148us/step - loss: 68.6503 - mean_absolute_percentage_error: 30.4275 - val_loss: 87.1231 - val_mean_absolute_percentage_error: 25.4118\n",
      "Epoch 9/15\n",
      "404/404 [==============================] - 0s 124us/step - loss: 67.5041 - mean_absolute_percentage_error: 29.6419 - val_loss: 86.6914 - val_mean_absolute_percentage_error: 24.9624\n",
      "Epoch 10/15\n",
      "404/404 [==============================] - 0s 155us/step - loss: 67.0988 - mean_absolute_percentage_error: 28.9941 - val_loss: 85.7368 - val_mean_absolute_percentage_error: 24.9912\n",
      "Epoch 11/15\n",
      "404/404 [==============================] - 0s 155us/step - loss: 65.9805 - mean_absolute_percentage_error: 29.5312 - val_loss: 84.9111 - val_mean_absolute_percentage_error: 25.0828\n",
      "Epoch 12/15\n",
      "404/404 [==============================] - 0s 148us/step - loss: 65.5013 - mean_absolute_percentage_error: 29.5905 - val_loss: 84.7434 - val_mean_absolute_percentage_error: 24.8412\n",
      "Epoch 13/15\n",
      "404/404 [==============================] - 0s 199us/step - loss: 64.9636 - mean_absolute_percentage_error: 29.5515 - val_loss: 83.6711 - val_mean_absolute_percentage_error: 25.1699\n",
      "Epoch 14/15\n",
      "404/404 [==============================] - 0s 148us/step - loss: 64.4321 - mean_absolute_percentage_error: 29.4669 - val_loss: 84.0369 - val_mean_absolute_percentage_error: 24.6697\n",
      "Epoch 15/15\n",
      "404/404 [==============================] - 0s 158us/step - loss: 64.1940 - mean_absolute_percentage_error: 28.1293 - val_loss: 83.4906 - val_mean_absolute_percentage_error: 24.7518\n"
     ]
    },
    {
     "output_type": "execute_result",
     "data": {
      "text/plain": [
       "<keras.callbacks.callbacks.History at 0x2269cdf0630>"
      ]
     },
     "metadata": {},
     "execution_count": 16
    }
   ],
   "source": [
    "model.fit(x_train,y_train,batch_size=32,epochs=15,validation_data=(x_val,y_val))\n"
   ]
  },
  {
   "cell_type": "code",
   "execution_count": 17,
   "metadata": {},
   "outputs": [
    {
     "output_type": "stream",
     "name": "stdout",
     "text": [
      "Train on 404 samples, validate on 104 samples\n",
      "Epoch 1/50\n",
      "404/404 [==============================] - 0s 161us/step - loss: 63.5199 - mean_absolute_percentage_error: 29.4547 - val_loss: 82.4179 - val_mean_absolute_percentage_error: 25.2192\n",
      "Epoch 2/50\n",
      "404/404 [==============================] - 0s 197us/step - loss: 62.9170 - mean_absolute_percentage_error: 28.8925 - val_loss: 83.7288 - val_mean_absolute_percentage_error: 24.3556\n",
      "Epoch 3/50\n",
      "404/404 [==============================] - 0s 139us/step - loss: 63.2422 - mean_absolute_percentage_error: 27.4498 - val_loss: 82.8340 - val_mean_absolute_percentage_error: 24.5375\n",
      "Epoch 4/50\n",
      "404/404 [==============================] - 0s 249us/step - loss: 62.6162 - mean_absolute_percentage_error: 29.3551 - val_loss: 81.4554 - val_mean_absolute_percentage_error: 25.1885\n",
      "Epoch 5/50\n",
      "404/404 [==============================] - 0s 148us/step - loss: 61.9780 - mean_absolute_percentage_error: 28.7814 - val_loss: 82.4137 - val_mean_absolute_percentage_error: 24.2394\n",
      "Epoch 6/50\n",
      "404/404 [==============================] - 0s 137us/step - loss: 61.9936 - mean_absolute_percentage_error: 26.8507 - val_loss: 83.2150 - val_mean_absolute_percentage_error: 23.7316\n",
      "Epoch 7/50\n",
      "404/404 [==============================] - 0s 206us/step - loss: 61.4596 - mean_absolute_percentage_error: 28.4691 - val_loss: 80.4080 - val_mean_absolute_percentage_error: 25.0337\n",
      "Epoch 8/50\n",
      "404/404 [==============================] - 0s 199us/step - loss: 61.0718 - mean_absolute_percentage_error: 27.4774 - val_loss: 82.5261 - val_mean_absolute_percentage_error: 23.5765\n",
      "Epoch 9/50\n",
      "404/404 [==============================] - 0s 139us/step - loss: 60.4518 - mean_absolute_percentage_error: 27.5598 - val_loss: 80.1202 - val_mean_absolute_percentage_error: 24.4596\n",
      "Epoch 10/50\n",
      "404/404 [==============================] - 0s 126us/step - loss: 60.1481 - mean_absolute_percentage_error: 27.1022 - val_loss: 80.5193 - val_mean_absolute_percentage_error: 23.8196\n",
      "Epoch 11/50\n",
      "404/404 [==============================] - 0s 115us/step - loss: 59.9254 - mean_absolute_percentage_error: 27.9163 - val_loss: 80.0195 - val_mean_absolute_percentage_error: 23.7589\n",
      "Epoch 12/50\n",
      "404/404 [==============================] - 0s 129us/step - loss: 59.4488 - mean_absolute_percentage_error: 26.5186 - val_loss: 79.9281 - val_mean_absolute_percentage_error: 23.4750\n",
      "Epoch 13/50\n",
      "404/404 [==============================] - 0s 111us/step - loss: 58.8644 - mean_absolute_percentage_error: 27.4260 - val_loss: 78.2971 - val_mean_absolute_percentage_error: 24.3107\n",
      "Epoch 14/50\n",
      "404/404 [==============================] - 0s 151us/step - loss: 58.3566 - mean_absolute_percentage_error: 26.3620 - val_loss: 79.6387 - val_mean_absolute_percentage_error: 23.0044\n",
      "Epoch 15/50\n",
      "404/404 [==============================] - 0s 211us/step - loss: 57.7793 - mean_absolute_percentage_error: 26.0648 - val_loss: 78.5186 - val_mean_absolute_percentage_error: 23.1878\n",
      "Epoch 16/50\n",
      "404/404 [==============================] - 0s 162us/step - loss: 57.3685 - mean_absolute_percentage_error: 25.7397 - val_loss: 77.8328 - val_mean_absolute_percentage_error: 23.2302\n",
      "Epoch 17/50\n",
      "404/404 [==============================] - 0s 161us/step - loss: 56.9236 - mean_absolute_percentage_error: 26.7272 - val_loss: 77.3807 - val_mean_absolute_percentage_error: 23.1184\n",
      "Epoch 18/50\n",
      "404/404 [==============================] - 0s 136us/step - loss: 56.6687 - mean_absolute_percentage_error: 24.7564 - val_loss: 78.0575 - val_mean_absolute_percentage_error: 22.3877\n",
      "Epoch 19/50\n",
      "404/404 [==============================] - 0s 124us/step - loss: 55.8871 - mean_absolute_percentage_error: 25.6868 - val_loss: 76.6850 - val_mean_absolute_percentage_error: 22.8429\n",
      "Epoch 20/50\n",
      "404/404 [==============================] - 0s 616us/step - loss: 55.5177 - mean_absolute_percentage_error: 24.8557 - val_loss: 77.2805 - val_mean_absolute_percentage_error: 22.1959\n",
      "Epoch 21/50\n",
      "404/404 [==============================] - 0s 346us/step - loss: 54.8255 - mean_absolute_percentage_error: 24.5116 - val_loss: 75.5421 - val_mean_absolute_percentage_error: 23.0088\n",
      "Epoch 22/50\n",
      "404/404 [==============================] - 0s 264us/step - loss: 54.7606 - mean_absolute_percentage_error: 24.6632 - val_loss: 75.8778 - val_mean_absolute_percentage_error: 22.4095\n",
      "Epoch 23/50\n",
      "404/404 [==============================] - 0s 177us/step - loss: 54.2008 - mean_absolute_percentage_error: 25.0087 - val_loss: 74.9441 - val_mean_absolute_percentage_error: 22.6906\n",
      "Epoch 24/50\n",
      "404/404 [==============================] - 0s 243us/step - loss: 53.9025 - mean_absolute_percentage_error: 24.1290 - val_loss: 75.1538 - val_mean_absolute_percentage_error: 22.2313\n",
      "Epoch 25/50\n",
      "404/404 [==============================] - 0s 122us/step - loss: 53.5348 - mean_absolute_percentage_error: 25.0528 - val_loss: 74.2775 - val_mean_absolute_percentage_error: 22.5149\n",
      "Epoch 26/50\n",
      "404/404 [==============================] - 0s 122us/step - loss: 53.3952 - mean_absolute_percentage_error: 23.9428 - val_loss: 73.9472 - val_mean_absolute_percentage_error: 22.4475\n",
      "Epoch 27/50\n",
      "404/404 [==============================] - 0s 187us/step - loss: 52.8434 - mean_absolute_percentage_error: 24.6039 - val_loss: 73.7645 - val_mean_absolute_percentage_error: 22.2857\n",
      "Epoch 28/50\n",
      "404/404 [==============================] - 0s 147us/step - loss: 52.5326 - mean_absolute_percentage_error: 23.6985 - val_loss: 73.6202 - val_mean_absolute_percentage_error: 22.1464\n",
      "Epoch 29/50\n",
      "404/404 [==============================] - 0s 158us/step - loss: 52.2639 - mean_absolute_percentage_error: 24.7564 - val_loss: 72.2642 - val_mean_absolute_percentage_error: 22.8223\n",
      "Epoch 30/50\n",
      "404/404 [==============================] - 0s 158us/step - loss: 51.8968 - mean_absolute_percentage_error: 24.5849 - val_loss: 73.5759 - val_mean_absolute_percentage_error: 21.6271\n",
      "Epoch 31/50\n",
      "404/404 [==============================] - 0s 127us/step - loss: 51.6948 - mean_absolute_percentage_error: 23.1065 - val_loss: 72.6257 - val_mean_absolute_percentage_error: 21.8794\n",
      "Epoch 32/50\n",
      "404/404 [==============================] - 0s 138us/step - loss: 51.5253 - mean_absolute_percentage_error: 24.8895 - val_loss: 71.3199 - val_mean_absolute_percentage_error: 22.4762\n",
      "Epoch 33/50\n",
      "404/404 [==============================] - 0s 148us/step - loss: 51.3746 - mean_absolute_percentage_error: 23.1453 - val_loss: 72.1959 - val_mean_absolute_percentage_error: 21.5879\n",
      "Epoch 34/50\n",
      "404/404 [==============================] - 0s 148us/step - loss: 50.6366 - mean_absolute_percentage_error: 24.3908 - val_loss: 70.0721 - val_mean_absolute_percentage_error: 22.8814\n",
      "Epoch 35/50\n",
      "404/404 [==============================] - 0s 208us/step - loss: 50.2821 - mean_absolute_percentage_error: 24.0575 - val_loss: 71.1653 - val_mean_absolute_percentage_error: 21.5154\n",
      "Epoch 36/50\n",
      "404/404 [==============================] - 0s 219us/step - loss: 50.3350 - mean_absolute_percentage_error: 22.7143 - val_loss: 69.7293 - val_mean_absolute_percentage_error: 22.1855\n",
      "Epoch 37/50\n",
      "404/404 [==============================] - 0s 150us/step - loss: 50.0616 - mean_absolute_percentage_error: 24.9910 - val_loss: 69.4593 - val_mean_absolute_percentage_error: 21.9975\n",
      "Epoch 38/50\n",
      "404/404 [==============================] - 0s 196us/step - loss: 49.9242 - mean_absolute_percentage_error: 22.3316 - val_loss: 69.7358 - val_mean_absolute_percentage_error: 21.4129\n",
      "Epoch 39/50\n",
      "404/404 [==============================] - 0s 218us/step - loss: 49.9819 - mean_absolute_percentage_error: 24.8990 - val_loss: 68.7197 - val_mean_absolute_percentage_error: 21.7030\n",
      "Epoch 40/50\n",
      "404/404 [==============================] - 0s 278us/step - loss: 49.2414 - mean_absolute_percentage_error: 22.3445 - val_loss: 68.8627 - val_mean_absolute_percentage_error: 21.2427\n",
      "Epoch 41/50\n",
      "404/404 [==============================] - 0s 208us/step - loss: 48.7234 - mean_absolute_percentage_error: 24.1206 - val_loss: 67.1135 - val_mean_absolute_percentage_error: 22.3116\n",
      "Epoch 42/50\n",
      "404/404 [==============================] - 0s 208us/step - loss: 48.9988 - mean_absolute_percentage_error: 22.3110 - val_loss: 67.9459 - val_mean_absolute_percentage_error: 21.1734\n",
      "Epoch 43/50\n",
      "404/404 [==============================] - 0s 218us/step - loss: 48.1457 - mean_absolute_percentage_error: 24.1433 - val_loss: 66.9659 - val_mean_absolute_percentage_error: 21.4233\n",
      "Epoch 44/50\n",
      "404/404 [==============================] - 0s 168us/step - loss: 47.4887 - mean_absolute_percentage_error: 22.5134 - val_loss: 66.7887 - val_mean_absolute_percentage_error: 21.1563\n",
      "Epoch 45/50\n",
      "404/404 [==============================] - 0s 238us/step - loss: 47.3737 - mean_absolute_percentage_error: 22.9245 - val_loss: 67.0872 - val_mean_absolute_percentage_error: 20.6505\n",
      "Epoch 46/50\n",
      "404/404 [==============================] - 0s 168us/step - loss: 47.5228 - mean_absolute_percentage_error: 23.8720 - val_loss: 66.0488 - val_mean_absolute_percentage_error: 20.8548\n",
      "Epoch 47/50\n",
      "404/404 [==============================] - 0s 188us/step - loss: 46.4793 - mean_absolute_percentage_error: 22.2614 - val_loss: 65.1147 - val_mean_absolute_percentage_error: 21.1080\n",
      "Epoch 48/50\n",
      "404/404 [==============================] - 0s 218us/step - loss: 46.5368 - mean_absolute_percentage_error: 21.7109 - val_loss: 64.0943 - val_mean_absolute_percentage_error: 21.4589\n",
      "Epoch 49/50\n",
      "404/404 [==============================] - 0s 260us/step - loss: 46.3337 - mean_absolute_percentage_error: 24.2642 - val_loss: 64.5526 - val_mean_absolute_percentage_error: 20.6050\n",
      "Epoch 50/50\n",
      "404/404 [==============================] - 0s 180us/step - loss: 45.5122 - mean_absolute_percentage_error: 21.2896 - val_loss: 63.8904 - val_mean_absolute_percentage_error: 20.6679\n"
     ]
    },
    {
     "output_type": "execute_result",
     "data": {
      "text/plain": [
       "<keras.callbacks.callbacks.History at 0x2269cd88e48>"
      ]
     },
     "metadata": {},
     "execution_count": 17
    }
   ],
   "source": [
    "model.fit(x_train,y_train,batch_size=32,epochs=50,validation_data=(x_val,y_val))\n"
   ]
  },
  {
   "cell_type": "code",
   "execution_count": 18,
   "metadata": {},
   "outputs": [
    {
     "output_type": "stream",
     "name": "stdout",
     "text": [
      "Train on 404 samples, validate on 104 samples\n",
      "Epoch 1/100\n",
      "404/404 [==============================] - 0s 188us/step - loss: 45.3318 - mean_absolute_percentage_error: 23.5892 - val_loss: 63.0817 - val_mean_absolute_percentage_error: 20.8085\n",
      "Epoch 2/100\n",
      "404/404 [==============================] - 0s 199us/step - loss: 44.6128 - mean_absolute_percentage_error: 21.8937 - val_loss: 62.8265 - val_mean_absolute_percentage_error: 20.5405\n",
      "Epoch 3/100\n",
      "404/404 [==============================] - 0s 173us/step - loss: 44.0449 - mean_absolute_percentage_error: 22.0286 - val_loss: 61.2798 - val_mean_absolute_percentage_error: 21.4060\n",
      "Epoch 4/100\n",
      "404/404 [==============================] - 0s 258us/step - loss: 44.2348 - mean_absolute_percentage_error: 22.5947 - val_loss: 62.3055 - val_mean_absolute_percentage_error: 20.0460\n",
      "Epoch 5/100\n",
      "404/404 [==============================] - 0s 138us/step - loss: 43.5089 - mean_absolute_percentage_error: 22.3414 - val_loss: 60.2704 - val_mean_absolute_percentage_error: 21.0981\n",
      "Epoch 6/100\n",
      "404/404 [==============================] - 0s 376us/step - loss: 43.3900 - mean_absolute_percentage_error: 21.6071 - val_loss: 60.0613 - val_mean_absolute_percentage_error: 20.6842\n",
      "Epoch 7/100\n",
      "404/404 [==============================] - 0s 477us/step - loss: 42.6381 - mean_absolute_percentage_error: 22.1636 - val_loss: 60.5010 - val_mean_absolute_percentage_error: 19.8914\n",
      "Epoch 8/100\n",
      "404/404 [==============================] - 0s 150us/step - loss: 42.3578 - mean_absolute_percentage_error: 21.4102 - val_loss: 58.9638 - val_mean_absolute_percentage_error: 20.5530\n",
      "Epoch 9/100\n",
      "404/404 [==============================] - 0s 256us/step - loss: 41.8435 - mean_absolute_percentage_error: 21.5161 - val_loss: 58.6333 - val_mean_absolute_percentage_error: 20.3103\n",
      "Epoch 10/100\n",
      "404/404 [==============================] - 0s 159us/step - loss: 41.7324 - mean_absolute_percentage_error: 21.2289 - val_loss: 57.7722 - val_mean_absolute_percentage_error: 20.4880\n",
      "Epoch 11/100\n",
      "404/404 [==============================] - 0s 168us/step - loss: 41.0846 - mean_absolute_percentage_error: 21.9878 - val_loss: 57.3225 - val_mean_absolute_percentage_error: 20.2656\n",
      "Epoch 12/100\n",
      "404/404 [==============================] - 0s 145us/step - loss: 41.0651 - mean_absolute_percentage_error: 21.2137 - val_loss: 56.2909 - val_mean_absolute_percentage_error: 20.7075\n",
      "Epoch 13/100\n",
      "404/404 [==============================] - 0s 144us/step - loss: 40.3188 - mean_absolute_percentage_error: 21.6595 - val_loss: 57.2250 - val_mean_absolute_percentage_error: 19.3227\n",
      "Epoch 14/100\n",
      "404/404 [==============================] - 0s 137us/step - loss: 40.2983 - mean_absolute_percentage_error: 21.4373 - val_loss: 55.8927 - val_mean_absolute_percentage_error: 19.7009\n",
      "Epoch 15/100\n",
      "404/404 [==============================] - 0s 128us/step - loss: 40.3171 - mean_absolute_percentage_error: 20.9230 - val_loss: 54.6873 - val_mean_absolute_percentage_error: 20.2841\n",
      "Epoch 16/100\n",
      "404/404 [==============================] - 0s 130us/step - loss: 39.0541 - mean_absolute_percentage_error: 21.4237 - val_loss: 56.0871 - val_mean_absolute_percentage_error: 18.8076\n",
      "Epoch 17/100\n",
      "404/404 [==============================] - 0s 197us/step - loss: 39.1769 - mean_absolute_percentage_error: 20.5174 - val_loss: 53.8648 - val_mean_absolute_percentage_error: 19.8125\n",
      "Epoch 18/100\n",
      "404/404 [==============================] - 0s 147us/step - loss: 38.3894 - mean_absolute_percentage_error: 20.9610 - val_loss: 54.1202 - val_mean_absolute_percentage_error: 19.0250\n",
      "Epoch 19/100\n",
      "404/404 [==============================] - 0s 139us/step - loss: 38.0835 - mean_absolute_percentage_error: 20.8943 - val_loss: 53.0982 - val_mean_absolute_percentage_error: 19.1626\n",
      "Epoch 20/100\n",
      "404/404 [==============================] - 0s 129us/step - loss: 37.6007 - mean_absolute_percentage_error: 20.5141 - val_loss: 52.3793 - val_mean_absolute_percentage_error: 19.0927\n",
      "Epoch 21/100\n",
      "404/404 [==============================] - 0s 129us/step - loss: 37.2251 - mean_absolute_percentage_error: 20.9135 - val_loss: 52.0896 - val_mean_absolute_percentage_error: 18.7769\n",
      "Epoch 22/100\n",
      "404/404 [==============================] - 0s 119us/step - loss: 37.1824 - mean_absolute_percentage_error: 19.8338 - val_loss: 50.4785 - val_mean_absolute_percentage_error: 19.6517\n",
      "Epoch 23/100\n",
      "404/404 [==============================] - 0s 139us/step - loss: 36.6477 - mean_absolute_percentage_error: 21.3319 - val_loss: 52.3151 - val_mean_absolute_percentage_error: 17.8297\n",
      "Epoch 24/100\n",
      "404/404 [==============================] - 0s 129us/step - loss: 36.7576 - mean_absolute_percentage_error: 20.2851 - val_loss: 49.7603 - val_mean_absolute_percentage_error: 18.8367\n",
      "Epoch 25/100\n",
      "404/404 [==============================] - 0s 138us/step - loss: 36.2087 - mean_absolute_percentage_error: 20.4099 - val_loss: 48.6618 - val_mean_absolute_percentage_error: 19.2483\n",
      "Epoch 26/100\n",
      "404/404 [==============================] - 0s 158us/step - loss: 35.5033 - mean_absolute_percentage_error: 19.7862 - val_loss: 48.6718 - val_mean_absolute_percentage_error: 18.5646\n",
      "Epoch 27/100\n",
      "404/404 [==============================] - 0s 208us/step - loss: 36.0885 - mean_absolute_percentage_error: 21.3047 - val_loss: 49.8786 - val_mean_absolute_percentage_error: 17.4370\n",
      "Epoch 28/100\n",
      "404/404 [==============================] - 0s 209us/step - loss: 35.2844 - mean_absolute_percentage_error: 20.9251 - val_loss: 47.4677 - val_mean_absolute_percentage_error: 18.2689\n",
      "Epoch 29/100\n",
      "404/404 [==============================] - 0s 168us/step - loss: 34.6657 - mean_absolute_percentage_error: 19.6453 - val_loss: 46.5533 - val_mean_absolute_percentage_error: 18.4374\n",
      "Epoch 30/100\n",
      "404/404 [==============================] - 0s 228us/step - loss: 34.0193 - mean_absolute_percentage_error: 20.1241 - val_loss: 45.7464 - val_mean_absolute_percentage_error: 18.6986\n",
      "Epoch 31/100\n",
      "404/404 [==============================] - 0s 208us/step - loss: 34.0386 - mean_absolute_percentage_error: 19.9647 - val_loss: 45.2349 - val_mean_absolute_percentage_error: 18.5267\n",
      "Epoch 32/100\n",
      "404/404 [==============================] - 0s 148us/step - loss: 33.3688 - mean_absolute_percentage_error: 19.7622 - val_loss: 44.5859 - val_mean_absolute_percentage_error: 18.4528\n",
      "Epoch 33/100\n",
      "404/404 [==============================] - 0s 158us/step - loss: 33.0987 - mean_absolute_percentage_error: 20.0702 - val_loss: 44.2410 - val_mean_absolute_percentage_error: 18.1195\n",
      "Epoch 34/100\n",
      "404/404 [==============================] - 0s 165us/step - loss: 32.7547 - mean_absolute_percentage_error: 19.9276 - val_loss: 45.3125 - val_mean_absolute_percentage_error: 17.0427\n",
      "Epoch 35/100\n",
      "404/404 [==============================] - 0s 257us/step - loss: 32.4453 - mean_absolute_percentage_error: 19.8774 - val_loss: 43.8207 - val_mean_absolute_percentage_error: 17.3993\n",
      "Epoch 36/100\n",
      "404/404 [==============================] - 0s 177us/step - loss: 33.7055 - mean_absolute_percentage_error: 20.0786 - val_loss: 42.0137 - val_mean_absolute_percentage_error: 19.0803\n",
      "Epoch 37/100\n",
      "404/404 [==============================] - 0s 149us/step - loss: 31.7269 - mean_absolute_percentage_error: 19.5649 - val_loss: 43.0576 - val_mean_absolute_percentage_error: 17.1086\n",
      "Epoch 38/100\n",
      "404/404 [==============================] - 0s 127us/step - loss: 31.3026 - mean_absolute_percentage_error: 19.4745 - val_loss: 41.2450 - val_mean_absolute_percentage_error: 18.0883\n",
      "Epoch 39/100\n",
      "404/404 [==============================] - 0s 139us/step - loss: 31.1666 - mean_absolute_percentage_error: 19.7009 - val_loss: 42.1671 - val_mean_absolute_percentage_error: 16.9229\n",
      "Epoch 40/100\n",
      "404/404 [==============================] - 0s 119us/step - loss: 31.1189 - mean_absolute_percentage_error: 19.6400 - val_loss: 40.0559 - val_mean_absolute_percentage_error: 18.4925\n",
      "Epoch 41/100\n",
      "404/404 [==============================] - 0s 97us/step - loss: 31.4039 - mean_absolute_percentage_error: 19.3034 - val_loss: 41.5011 - val_mean_absolute_percentage_error: 16.6512\n",
      "Epoch 42/100\n",
      "404/404 [==============================] - 0s 135us/step - loss: 30.4829 - mean_absolute_percentage_error: 20.0857 - val_loss: 40.0041 - val_mean_absolute_percentage_error: 16.9769\n",
      "Epoch 43/100\n",
      "404/404 [==============================] - 0s 257us/step - loss: 30.2527 - mean_absolute_percentage_error: 19.7092 - val_loss: 39.5721 - val_mean_absolute_percentage_error: 16.8881\n",
      "Epoch 44/100\n",
      "404/404 [==============================] - 0s 150us/step - loss: 30.5828 - mean_absolute_percentage_error: 18.8906 - val_loss: 38.0940 - val_mean_absolute_percentage_error: 18.6069\n",
      "Epoch 45/100\n",
      "404/404 [==============================] - 0s 149us/step - loss: 29.6061 - mean_absolute_percentage_error: 19.5540 - val_loss: 38.9059 - val_mean_absolute_percentage_error: 16.5553\n",
      "Epoch 46/100\n",
      "404/404 [==============================] - 0s 119us/step - loss: 30.0348 - mean_absolute_percentage_error: 18.8086 - val_loss: 37.1685 - val_mean_absolute_percentage_error: 18.1213\n",
      "Epoch 47/100\n",
      "404/404 [==============================] - 0s 122us/step - loss: 29.1317 - mean_absolute_percentage_error: 19.0937 - val_loss: 38.7373 - val_mean_absolute_percentage_error: 16.2323\n",
      "Epoch 48/100\n",
      "404/404 [==============================] - 0s 109us/step - loss: 28.6289 - mean_absolute_percentage_error: 19.1064 - val_loss: 37.2033 - val_mean_absolute_percentage_error: 16.5200\n",
      "Epoch 49/100\n",
      "404/404 [==============================] - 0s 122us/step - loss: 28.6631 - mean_absolute_percentage_error: 18.9303 - val_loss: 37.4355 - val_mean_absolute_percentage_error: 16.0502\n",
      "Epoch 50/100\n",
      "404/404 [==============================] - 0s 315us/step - loss: 28.4619 - mean_absolute_percentage_error: 18.9240 - val_loss: 37.0054 - val_mean_absolute_percentage_error: 15.9185\n",
      "Epoch 51/100\n",
      "404/404 [==============================] - 0s 308us/step - loss: 27.6489 - mean_absolute_percentage_error: 18.3950 - val_loss: 34.9385 - val_mean_absolute_percentage_error: 17.0583\n",
      "Epoch 52/100\n",
      "404/404 [==============================] - 0s 279us/step - loss: 27.6606 - mean_absolute_percentage_error: 19.0498 - val_loss: 35.3693 - val_mean_absolute_percentage_error: 16.1334\n",
      "Epoch 53/100\n",
      "404/404 [==============================] - 0s 226us/step - loss: 27.3576 - mean_absolute_percentage_error: 18.4331 - val_loss: 35.1914 - val_mean_absolute_percentage_error: 15.9099\n",
      "Epoch 54/100\n",
      "404/404 [==============================] - 0s 121us/step - loss: 27.2655 - mean_absolute_percentage_error: 18.5544 - val_loss: 34.5760 - val_mean_absolute_percentage_error: 15.9954\n",
      "Epoch 55/100\n",
      "404/404 [==============================] - 0s 99us/step - loss: 26.8206 - mean_absolute_percentage_error: 18.8182 - val_loss: 34.5588 - val_mean_absolute_percentage_error: 15.7685\n",
      "Epoch 56/100\n",
      "404/404 [==============================] - 0s 100us/step - loss: 26.5807 - mean_absolute_percentage_error: 18.3857 - val_loss: 33.5411 - val_mean_absolute_percentage_error: 16.0698\n",
      "Epoch 57/100\n",
      "404/404 [==============================] - 0s 205us/step - loss: 26.3273 - mean_absolute_percentage_error: 18.0141 - val_loss: 32.6483 - val_mean_absolute_percentage_error: 16.7793\n",
      "Epoch 58/100\n",
      "404/404 [==============================] - 0s 237us/step - loss: 26.3823 - mean_absolute_percentage_error: 18.7324 - val_loss: 34.2173 - val_mean_absolute_percentage_error: 15.4186\n",
      "Epoch 59/100\n",
      "404/404 [==============================] - 0s 282us/step - loss: 25.8452 - mean_absolute_percentage_error: 18.1252 - val_loss: 31.9702 - val_mean_absolute_percentage_error: 16.6618\n",
      "Epoch 60/100\n",
      "404/404 [==============================] - 0s 326us/step - loss: 26.4438 - mean_absolute_percentage_error: 18.4060 - val_loss: 32.4324 - val_mean_absolute_percentage_error: 15.7022\n",
      "Epoch 61/100\n",
      "404/404 [==============================] - 0s 279us/step - loss: 26.0018 - mean_absolute_percentage_error: 18.3476 - val_loss: 32.5788 - val_mean_absolute_percentage_error: 15.3641\n",
      "Epoch 62/100\n",
      "404/404 [==============================] - 0s 294us/step - loss: 25.6807 - mean_absolute_percentage_error: 18.5850 - val_loss: 32.9822 - val_mean_absolute_percentage_error: 15.1437\n",
      "Epoch 63/100\n",
      "404/404 [==============================] - 0s 289us/step - loss: 25.1912 - mean_absolute_percentage_error: 17.5493 - val_loss: 31.0055 - val_mean_absolute_percentage_error: 16.1070\n",
      "Epoch 64/100\n",
      "404/404 [==============================] - 0s 218us/step - loss: 26.4685 - mean_absolute_percentage_error: 19.0632 - val_loss: 33.4999 - val_mean_absolute_percentage_error: 14.8935\n",
      "Epoch 65/100\n",
      "404/404 [==============================] - 0s 338us/step - loss: 25.7093 - mean_absolute_percentage_error: 18.7184 - val_loss: 32.6939 - val_mean_absolute_percentage_error: 14.8923\n",
      "Epoch 66/100\n",
      "404/404 [==============================] - 0s 375us/step - loss: 24.8925 - mean_absolute_percentage_error: 18.0143 - val_loss: 30.4857 - val_mean_absolute_percentage_error: 15.5233\n",
      "Epoch 67/100\n",
      "404/404 [==============================] - 0s 258us/step - loss: 24.9427 - mean_absolute_percentage_error: 17.7640 - val_loss: 29.7576 - val_mean_absolute_percentage_error: 16.9348\n",
      "Epoch 68/100\n",
      "404/404 [==============================] - 0s 231us/step - loss: 25.3843 - mean_absolute_percentage_error: 18.5929 - val_loss: 30.9279 - val_mean_absolute_percentage_error: 14.8748\n",
      "Epoch 69/100\n",
      "404/404 [==============================] - 0s 187us/step - loss: 24.6325 - mean_absolute_percentage_error: 18.6613 - val_loss: 31.8612 - val_mean_absolute_percentage_error: 14.7254\n",
      "Epoch 70/100\n",
      "404/404 [==============================] - 0s 208us/step - loss: 25.3694 - mean_absolute_percentage_error: 18.2173 - val_loss: 29.2045 - val_mean_absolute_percentage_error: 15.4759\n",
      "Epoch 71/100\n",
      "404/404 [==============================] - 0s 161us/step - loss: 24.0730 - mean_absolute_percentage_error: 17.5490 - val_loss: 28.8126 - val_mean_absolute_percentage_error: 15.6617\n",
      "Epoch 72/100\n",
      "404/404 [==============================] - 0s 174us/step - loss: 24.2010 - mean_absolute_percentage_error: 17.9743 - val_loss: 28.9856 - val_mean_absolute_percentage_error: 15.1787\n",
      "Epoch 73/100\n",
      "404/404 [==============================] - 0s 177us/step - loss: 23.8582 - mean_absolute_percentage_error: 18.2017 - val_loss: 28.9394 - val_mean_absolute_percentage_error: 14.9956\n",
      "Epoch 74/100\n",
      "404/404 [==============================] - 0s 158us/step - loss: 23.6036 - mean_absolute_percentage_error: 17.4329 - val_loss: 29.2784 - val_mean_absolute_percentage_error: 14.7014\n",
      "Epoch 75/100\n",
      "404/404 [==============================] - 0s 168us/step - loss: 23.7047 - mean_absolute_percentage_error: 18.0256 - val_loss: 29.4185 - val_mean_absolute_percentage_error: 14.5901\n",
      "Epoch 76/100\n",
      "404/404 [==============================] - 0s 190us/step - loss: 23.3569 - mean_absolute_percentage_error: 17.3502 - val_loss: 27.6197 - val_mean_absolute_percentage_error: 15.7592\n",
      "Epoch 77/100\n",
      "404/404 [==============================] - 0s 170us/step - loss: 23.5907 - mean_absolute_percentage_error: 18.4258 - val_loss: 30.5239 - val_mean_absolute_percentage_error: 14.5088\n",
      "Epoch 78/100\n",
      "404/404 [==============================] - 0s 190us/step - loss: 24.0103 - mean_absolute_percentage_error: 18.0055 - val_loss: 28.1012 - val_mean_absolute_percentage_error: 14.7013\n",
      "Epoch 79/100\n",
      "404/404 [==============================] - 0s 230us/step - loss: 23.8659 - mean_absolute_percentage_error: 17.8913 - val_loss: 27.2504 - val_mean_absolute_percentage_error: 15.1432\n",
      "Epoch 80/100\n",
      "404/404 [==============================] - 0s 187us/step - loss: 23.4320 - mean_absolute_percentage_error: 17.3172 - val_loss: 26.8250 - val_mean_absolute_percentage_error: 15.6513\n",
      "Epoch 81/100\n",
      "404/404 [==============================] - 0s 162us/step - loss: 23.0371 - mean_absolute_percentage_error: 17.7551 - val_loss: 28.3893 - val_mean_absolute_percentage_error: 14.4129\n",
      "Epoch 82/100\n",
      "404/404 [==============================] - 0s 153us/step - loss: 22.8617 - mean_absolute_percentage_error: 17.8227 - val_loss: 27.6396 - val_mean_absolute_percentage_error: 14.4649\n",
      "Epoch 83/100\n",
      "404/404 [==============================] - 0s 148us/step - loss: 22.6636 - mean_absolute_percentage_error: 17.2739 - val_loss: 26.3457 - val_mean_absolute_percentage_error: 15.2023\n",
      "Epoch 84/100\n",
      "404/404 [==============================] - 0s 138us/step - loss: 22.8074 - mean_absolute_percentage_error: 17.9936 - val_loss: 31.6862 - val_mean_absolute_percentage_error: 14.7213\n",
      "Epoch 85/100\n",
      "404/404 [==============================] - 0s 189us/step - loss: 24.0017 - mean_absolute_percentage_error: 18.1849 - val_loss: 27.2423 - val_mean_absolute_percentage_error: 14.3963\n",
      "Epoch 86/100\n",
      "404/404 [==============================] - 0s 227us/step - loss: 23.0634 - mean_absolute_percentage_error: 17.4437 - val_loss: 26.6151 - val_mean_absolute_percentage_error: 14.4941\n",
      "Epoch 87/100\n",
      "404/404 [==============================] - 0s 177us/step - loss: 22.3029 - mean_absolute_percentage_error: 17.4466 - val_loss: 27.5831 - val_mean_absolute_percentage_error: 14.2807\n",
      "Epoch 88/100\n",
      "404/404 [==============================] - 0s 158us/step - loss: 22.5477 - mean_absolute_percentage_error: 17.4740 - val_loss: 25.6387 - val_mean_absolute_percentage_error: 15.2657\n",
      "Epoch 89/100\n",
      "404/404 [==============================] - 0s 200us/step - loss: 22.3110 - mean_absolute_percentage_error: 17.4383 - val_loss: 26.8756 - val_mean_absolute_percentage_error: 14.2970\n",
      "Epoch 90/100\n",
      "404/404 [==============================] - 0s 139us/step - loss: 22.2161 - mean_absolute_percentage_error: 17.4481 - val_loss: 26.6660 - val_mean_absolute_percentage_error: 14.2874\n",
      "Epoch 91/100\n",
      "404/404 [==============================] - 0s 137us/step - loss: 22.1907 - mean_absolute_percentage_error: 17.5039 - val_loss: 25.3160 - val_mean_absolute_percentage_error: 15.2249\n",
      "Epoch 92/100\n",
      "404/404 [==============================] - 0s 119us/step - loss: 22.0958 - mean_absolute_percentage_error: 17.3590 - val_loss: 25.2751 - val_mean_absolute_percentage_error: 14.7850\n",
      "Epoch 93/100\n",
      "404/404 [==============================] - 0s 150us/step - loss: 21.9938 - mean_absolute_percentage_error: 17.3887 - val_loss: 25.5965 - val_mean_absolute_percentage_error: 14.4482\n",
      "Epoch 94/100\n",
      "404/404 [==============================] - 0s 114us/step - loss: 21.8317 - mean_absolute_percentage_error: 17.2421 - val_loss: 24.8953 - val_mean_absolute_percentage_error: 15.2493\n",
      "Epoch 95/100\n",
      "404/404 [==============================] - 0s 139us/step - loss: 22.2801 - mean_absolute_percentage_error: 17.8365 - val_loss: 28.0480 - val_mean_absolute_percentage_error: 14.3346\n",
      "Epoch 96/100\n",
      "404/404 [==============================] - 0s 139us/step - loss: 22.2686 - mean_absolute_percentage_error: 17.8096 - val_loss: 26.9307 - val_mean_absolute_percentage_error: 14.2211\n",
      "Epoch 97/100\n",
      "404/404 [==============================] - 0s 109us/step - loss: 21.7378 - mean_absolute_percentage_error: 17.0802 - val_loss: 24.6450 - val_mean_absolute_percentage_error: 15.5952\n",
      "Epoch 98/100\n",
      "404/404 [==============================] - 0s 137us/step - loss: 21.8977 - mean_absolute_percentage_error: 17.4625 - val_loss: 25.2175 - val_mean_absolute_percentage_error: 14.2018\n",
      "Epoch 99/100\n",
      "404/404 [==============================] - 0s 160us/step - loss: 21.3491 - mean_absolute_percentage_error: 17.1983 - val_loss: 25.3353 - val_mean_absolute_percentage_error: 14.1852\n",
      "Epoch 100/100\n",
      "404/404 [==============================] - 0s 141us/step - loss: 21.3291 - mean_absolute_percentage_error: 17.0932 - val_loss: 24.6711 - val_mean_absolute_percentage_error: 14.3497\n"
     ]
    },
    {
     "output_type": "execute_result",
     "data": {
      "text/plain": [
       "<keras.callbacks.callbacks.History at 0x2269b1a27b8>"
      ]
     },
     "metadata": {},
     "execution_count": 18
    }
   ],
   "source": [
    "model.fit(x_train,y_train,batch_size=32,epochs=100,validation_data=(x_val,y_val))\n"
   ]
  },
  {
   "cell_type": "code",
   "execution_count": 19,
   "metadata": {},
   "outputs": [
    {
     "output_type": "stream",
     "name": "stdout",
     "text": [
      "Train on 404 samples, validate on 104 samples\n",
      "Epoch 1/135\n",
      "404/404 [==============================] - 0s 148us/step - loss: 21.3946 - mean_absolute_percentage_error: 17.1715 - val_loss: 24.4002 - val_mean_absolute_percentage_error: 14.5299\n",
      "Epoch 2/135\n",
      "404/404 [==============================] - 0s 340us/step - loss: 21.2024 - mean_absolute_percentage_error: 17.0201 - val_loss: 24.7187 - val_mean_absolute_percentage_error: 14.2067\n",
      "Epoch 3/135\n",
      "404/404 [==============================] - 0s 198us/step - loss: 21.0680 - mean_absolute_percentage_error: 17.2495 - val_loss: 26.9320 - val_mean_absolute_percentage_error: 14.2226\n",
      "Epoch 4/135\n",
      "404/404 [==============================] - 0s 188us/step - loss: 21.0985 - mean_absolute_percentage_error: 16.8311 - val_loss: 23.7932 - val_mean_absolute_percentage_error: 15.0150\n",
      "Epoch 5/135\n",
      "404/404 [==============================] - 0s 150us/step - loss: 21.0297 - mean_absolute_percentage_error: 17.7008 - val_loss: 27.4014 - val_mean_absolute_percentage_error: 14.2871\n",
      "Epoch 6/135\n",
      "404/404 [==============================] - 0s 148us/step - loss: 22.7832 - mean_absolute_percentage_error: 17.8419 - val_loss: 29.2103 - val_mean_absolute_percentage_error: 14.4760\n",
      "Epoch 7/135\n",
      "404/404 [==============================] - 0s 127us/step - loss: 22.1366 - mean_absolute_percentage_error: 17.4006 - val_loss: 23.8442 - val_mean_absolute_percentage_error: 14.5654\n",
      "Epoch 8/135\n",
      "404/404 [==============================] - 0s 217us/step - loss: 20.9159 - mean_absolute_percentage_error: 17.0508 - val_loss: 24.2503 - val_mean_absolute_percentage_error: 14.0458\n",
      "Epoch 9/135\n",
      "404/404 [==============================] - 0s 142us/step - loss: 20.7462 - mean_absolute_percentage_error: 16.8437 - val_loss: 23.2930 - val_mean_absolute_percentage_error: 14.9707\n",
      "Epoch 10/135\n",
      "404/404 [==============================] - 0s 132us/step - loss: 22.2194 - mean_absolute_percentage_error: 17.9365 - val_loss: 27.0710 - val_mean_absolute_percentage_error: 14.1531\n",
      "Epoch 11/135\n",
      "404/404 [==============================] - 0s 139us/step - loss: 21.8523 - mean_absolute_percentage_error: 17.6068 - val_loss: 26.2881 - val_mean_absolute_percentage_error: 14.0716\n",
      "Epoch 12/135\n",
      "404/404 [==============================] - 0s 186us/step - loss: 21.7797 - mean_absolute_percentage_error: 17.3728 - val_loss: 23.4947 - val_mean_absolute_percentage_error: 14.0976\n",
      "Epoch 13/135\n",
      "404/404 [==============================] - 0s 158us/step - loss: 20.6407 - mean_absolute_percentage_error: 16.6260 - val_loss: 22.9309 - val_mean_absolute_percentage_error: 14.7523\n",
      "Epoch 14/135\n",
      "404/404 [==============================] - 0s 139us/step - loss: 20.6832 - mean_absolute_percentage_error: 16.9093 - val_loss: 23.3452 - val_mean_absolute_percentage_error: 13.9771\n",
      "Epoch 15/135\n",
      "404/404 [==============================] - 0s 129us/step - loss: 20.3826 - mean_absolute_percentage_error: 16.8672 - val_loss: 22.9983 - val_mean_absolute_percentage_error: 14.1642\n",
      "Epoch 16/135\n",
      "404/404 [==============================] - 0s 140us/step - loss: 20.2468 - mean_absolute_percentage_error: 16.8680 - val_loss: 23.3779 - val_mean_absolute_percentage_error: 13.8832\n",
      "Epoch 17/135\n",
      "404/404 [==============================] - 0s 136us/step - loss: 20.1717 - mean_absolute_percentage_error: 17.0308 - val_loss: 22.9403 - val_mean_absolute_percentage_error: 13.9633\n",
      "Epoch 18/135\n",
      "404/404 [==============================] - 0s 128us/step - loss: 20.1076 - mean_absolute_percentage_error: 16.4675 - val_loss: 22.4929 - val_mean_absolute_percentage_error: 14.5555\n",
      "Epoch 19/135\n",
      "404/404 [==============================] - 0s 139us/step - loss: 21.9140 - mean_absolute_percentage_error: 17.0844 - val_loss: 23.1243 - val_mean_absolute_percentage_error: 15.6504\n",
      "Epoch 20/135\n",
      "404/404 [==============================] - 0s 143us/step - loss: 21.1346 - mean_absolute_percentage_error: 17.5212 - val_loss: 25.5342 - val_mean_absolute_percentage_error: 13.9706\n",
      "Epoch 21/135\n",
      "404/404 [==============================] - 0s 148us/step - loss: 20.5377 - mean_absolute_percentage_error: 16.9975 - val_loss: 23.3730 - val_mean_absolute_percentage_error: 13.7868\n",
      "Epoch 22/135\n",
      "404/404 [==============================] - 0s 141us/step - loss: 20.0813 - mean_absolute_percentage_error: 16.5840 - val_loss: 23.1304 - val_mean_absolute_percentage_error: 13.7860\n",
      "Epoch 23/135\n",
      "404/404 [==============================] - 0s 152us/step - loss: 20.6564 - mean_absolute_percentage_error: 16.8607 - val_loss: 24.4973 - val_mean_absolute_percentage_error: 13.7890\n",
      "Epoch 24/135\n",
      "404/404 [==============================] - 0s 131us/step - loss: 20.0204 - mean_absolute_percentage_error: 16.6434 - val_loss: 23.1928 - val_mean_absolute_percentage_error: 13.7101\n",
      "Epoch 25/135\n",
      "404/404 [==============================] - 0s 205us/step - loss: 20.2481 - mean_absolute_percentage_error: 16.7465 - val_loss: 23.4018 - val_mean_absolute_percentage_error: 13.6627\n",
      "Epoch 26/135\n",
      "404/404 [==============================] - 0s 161us/step - loss: 19.8921 - mean_absolute_percentage_error: 16.3896 - val_loss: 22.0840 - val_mean_absolute_percentage_error: 14.0633\n",
      "Epoch 27/135\n",
      "404/404 [==============================] - 0s 256us/step - loss: 21.2549 - mean_absolute_percentage_error: 17.2016 - val_loss: 23.6516 - val_mean_absolute_percentage_error: 13.6906\n",
      "Epoch 28/135\n",
      "404/404 [==============================] - 0s 118us/step - loss: 19.7286 - mean_absolute_percentage_error: 16.8831 - val_loss: 22.9343 - val_mean_absolute_percentage_error: 13.6507\n",
      "Epoch 29/135\n",
      "404/404 [==============================] - 0s 139us/step - loss: 19.5745 - mean_absolute_percentage_error: 16.4393 - val_loss: 22.7361 - val_mean_absolute_percentage_error: 13.5963\n",
      "Epoch 30/135\n",
      "404/404 [==============================] - 0s 128us/step - loss: 19.6773 - mean_absolute_percentage_error: 16.7447 - val_loss: 22.3705 - val_mean_absolute_percentage_error: 13.6151\n",
      "Epoch 31/135\n",
      "404/404 [==============================] - 0s 138us/step - loss: 19.4568 - mean_absolute_percentage_error: 16.2780 - val_loss: 22.1305 - val_mean_absolute_percentage_error: 13.6154\n",
      "Epoch 32/135\n",
      "404/404 [==============================] - 0s 138us/step - loss: 19.2734 - mean_absolute_percentage_error: 16.5429 - val_loss: 22.0612 - val_mean_absolute_percentage_error: 13.6195\n",
      "Epoch 33/135\n",
      "404/404 [==============================] - 0s 129us/step - loss: 19.6023 - mean_absolute_percentage_error: 16.3587 - val_loss: 21.7377 - val_mean_absolute_percentage_error: 13.6595\n",
      "Epoch 34/135\n",
      "404/404 [==============================] - 0s 197us/step - loss: 19.3943 - mean_absolute_percentage_error: 16.1487 - val_loss: 21.3921 - val_mean_absolute_percentage_error: 14.2245\n",
      "Epoch 35/135\n",
      "404/404 [==============================] - 0s 109us/step - loss: 20.2328 - mean_absolute_percentage_error: 17.1922 - val_loss: 25.7651 - val_mean_absolute_percentage_error: 13.9732\n",
      "Epoch 36/135\n",
      "404/404 [==============================] - 0s 130us/step - loss: 19.2923 - mean_absolute_percentage_error: 16.5753 - val_loss: 21.2822 - val_mean_absolute_percentage_error: 14.3859\n",
      "Epoch 37/135\n",
      "404/404 [==============================] - 0s 129us/step - loss: 19.8797 - mean_absolute_percentage_error: 16.4102 - val_loss: 21.1528 - val_mean_absolute_percentage_error: 14.2006\n",
      "Epoch 38/135\n",
      "404/404 [==============================] - 0s 119us/step - loss: 20.2579 - mean_absolute_percentage_error: 16.7812 - val_loss: 21.8405 - val_mean_absolute_percentage_error: 13.4684\n",
      "Epoch 39/135\n",
      "404/404 [==============================] - 0s 119us/step - loss: 19.2554 - mean_absolute_percentage_error: 16.4401 - val_loss: 22.3231 - val_mean_absolute_percentage_error: 13.4545\n",
      "Epoch 40/135\n",
      "404/404 [==============================] - 0s 99us/step - loss: 19.0059 - mean_absolute_percentage_error: 16.1668 - val_loss: 20.9528 - val_mean_absolute_percentage_error: 13.8397\n",
      "Epoch 41/135\n",
      "404/404 [==============================] - 0s 258us/step - loss: 18.9527 - mean_absolute_percentage_error: 16.3065 - val_loss: 21.2482 - val_mean_absolute_percentage_error: 13.4283\n",
      "Epoch 42/135\n",
      "404/404 [==============================] - 0s 150us/step - loss: 18.8052 - mean_absolute_percentage_error: 16.2232 - val_loss: 21.2142 - val_mean_absolute_percentage_error: 13.4877\n",
      "Epoch 43/135\n",
      "404/404 [==============================] - 0s 150us/step - loss: 19.4541 - mean_absolute_percentage_error: 16.4103 - val_loss: 20.8011 - val_mean_absolute_percentage_error: 14.1640\n",
      "Epoch 44/135\n",
      "404/404 [==============================] - 0s 150us/step - loss: 18.6844 - mean_absolute_percentage_error: 16.4429 - val_loss: 22.9390 - val_mean_absolute_percentage_error: 13.4746\n",
      "Epoch 45/135\n",
      "404/404 [==============================] - 0s 140us/step - loss: 19.1115 - mean_absolute_percentage_error: 16.0228 - val_loss: 21.0195 - val_mean_absolute_percentage_error: 14.7665\n",
      "Epoch 46/135\n",
      "404/404 [==============================] - 0s 121us/step - loss: 19.7818 - mean_absolute_percentage_error: 16.5894 - val_loss: 21.2269 - val_mean_absolute_percentage_error: 13.3678\n",
      "Epoch 47/135\n",
      "404/404 [==============================] - 0s 138us/step - loss: 19.1085 - mean_absolute_percentage_error: 16.6103 - val_loss: 22.6207 - val_mean_absolute_percentage_error: 13.4109\n",
      "Epoch 48/135\n",
      "404/404 [==============================] - 0s 119us/step - loss: 18.7662 - mean_absolute_percentage_error: 16.2528 - val_loss: 20.4981 - val_mean_absolute_percentage_error: 13.6876\n",
      "Epoch 49/135\n",
      "404/404 [==============================] - 0s 109us/step - loss: 18.6060 - mean_absolute_percentage_error: 16.0190 - val_loss: 20.6577 - val_mean_absolute_percentage_error: 13.4426\n",
      "Epoch 50/135\n",
      "404/404 [==============================] - 0s 143us/step - loss: 19.0584 - mean_absolute_percentage_error: 16.3033 - val_loss: 23.3449 - val_mean_absolute_percentage_error: 13.4868\n",
      "Epoch 51/135\n",
      "404/404 [==============================] - 0s 167us/step - loss: 18.8646 - mean_absolute_percentage_error: 16.3344 - val_loss: 20.9936 - val_mean_absolute_percentage_error: 13.2950\n",
      "Epoch 52/135\n",
      "404/404 [==============================] - 0s 129us/step - loss: 19.2087 - mean_absolute_percentage_error: 15.8840 - val_loss: 20.9874 - val_mean_absolute_percentage_error: 14.8737\n",
      "Epoch 53/135\n",
      "404/404 [==============================] - 0s 168us/step - loss: 19.1557 - mean_absolute_percentage_error: 16.4383 - val_loss: 21.6069 - val_mean_absolute_percentage_error: 13.2371\n",
      "Epoch 54/135\n",
      "404/404 [==============================] - 0s 168us/step - loss: 18.5857 - mean_absolute_percentage_error: 16.3121 - val_loss: 21.5206 - val_mean_absolute_percentage_error: 13.2191\n",
      "Epoch 55/135\n",
      "404/404 [==============================] - 0s 143us/step - loss: 18.3906 - mean_absolute_percentage_error: 15.9281 - val_loss: 20.1625 - val_mean_absolute_percentage_error: 13.3784\n",
      "Epoch 56/135\n",
      "404/404 [==============================] - 0s 168us/step - loss: 18.2872 - mean_absolute_percentage_error: 15.8928 - val_loss: 20.9728 - val_mean_absolute_percentage_error: 13.1785\n",
      "Epoch 57/135\n",
      "404/404 [==============================] - 0s 148us/step - loss: 18.1896 - mean_absolute_percentage_error: 15.8976 - val_loss: 20.1209 - val_mean_absolute_percentage_error: 13.3097\n",
      "Epoch 58/135\n",
      "404/404 [==============================] - 0s 158us/step - loss: 18.1894 - mean_absolute_percentage_error: 15.7471 - val_loss: 20.0107 - val_mean_absolute_percentage_error: 13.2317\n",
      "Epoch 59/135\n",
      "404/404 [==============================] - 0s 277us/step - loss: 18.1521 - mean_absolute_percentage_error: 15.9547 - val_loss: 19.9108 - val_mean_absolute_percentage_error: 13.2173\n",
      "Epoch 60/135\n",
      "404/404 [==============================] - 0s 158us/step - loss: 19.1797 - mean_absolute_percentage_error: 16.6259 - val_loss: 24.0379 - val_mean_absolute_percentage_error: 13.5946\n",
      "Epoch 61/135\n",
      "404/404 [==============================] - 0s 159us/step - loss: 18.1399 - mean_absolute_percentage_error: 15.7666 - val_loss: 20.2273 - val_mean_absolute_percentage_error: 14.2565\n",
      "Epoch 62/135\n",
      "404/404 [==============================] - 0s 188us/step - loss: 19.7950 - mean_absolute_percentage_error: 16.9381 - val_loss: 25.1123 - val_mean_absolute_percentage_error: 13.8967\n",
      "Epoch 63/135\n",
      "404/404 [==============================] - 0s 192us/step - loss: 19.4920 - mean_absolute_percentage_error: 16.5300 - val_loss: 21.3846 - val_mean_absolute_percentage_error: 13.2020\n",
      "Epoch 64/135\n",
      "404/404 [==============================] - 0s 150us/step - loss: 19.2185 - mean_absolute_percentage_error: 15.8619 - val_loss: 20.5228 - val_mean_absolute_percentage_error: 14.8785\n",
      "Epoch 65/135\n",
      "404/404 [==============================] - 0s 208us/step - loss: 18.0918 - mean_absolute_percentage_error: 16.2730 - val_loss: 22.2205 - val_mean_absolute_percentage_error: 13.3669\n",
      "Epoch 66/135\n",
      "404/404 [==============================] - 0s 139us/step - loss: 18.1525 - mean_absolute_percentage_error: 15.6865 - val_loss: 19.7407 - val_mean_absolute_percentage_error: 13.2161\n",
      "Epoch 67/135\n",
      "404/404 [==============================] - 0s 266us/step - loss: 18.3451 - mean_absolute_percentage_error: 16.1022 - val_loss: 22.2132 - val_mean_absolute_percentage_error: 13.3027\n",
      "Epoch 68/135\n",
      "404/404 [==============================] - 0s 178us/step - loss: 18.6888 - mean_absolute_percentage_error: 16.3323 - val_loss: 22.3837 - val_mean_absolute_percentage_error: 13.3548\n",
      "Epoch 69/135\n",
      "404/404 [==============================] - 0s 232us/step - loss: 19.2826 - mean_absolute_percentage_error: 16.3813 - val_loss: 19.4248 - val_mean_absolute_percentage_error: 13.4162\n",
      "Epoch 70/135\n",
      "404/404 [==============================] - 0s 158us/step - loss: 18.2822 - mean_absolute_percentage_error: 15.4261 - val_loss: 19.4176 - val_mean_absolute_percentage_error: 13.6917\n",
      "Epoch 71/135\n",
      "404/404 [==============================] - 0s 238us/step - loss: 17.9525 - mean_absolute_percentage_error: 16.3680 - val_loss: 21.6039 - val_mean_absolute_percentage_error: 13.1835\n",
      "Epoch 72/135\n",
      "404/404 [==============================] - 0s 160us/step - loss: 17.8312 - mean_absolute_percentage_error: 15.5487 - val_loss: 19.3759 - val_mean_absolute_percentage_error: 13.0039\n",
      "Epoch 73/135\n",
      "404/404 [==============================] - 0s 138us/step - loss: 17.4717 - mean_absolute_percentage_error: 15.5121 - val_loss: 19.5292 - val_mean_absolute_percentage_error: 12.9773\n",
      "Epoch 74/135\n",
      "404/404 [==============================] - 0s 206us/step - loss: 17.4108 - mean_absolute_percentage_error: 15.4896 - val_loss: 19.1821 - val_mean_absolute_percentage_error: 13.0100\n",
      "Epoch 75/135\n",
      "404/404 [==============================] - 0s 188us/step - loss: 17.5719 - mean_absolute_percentage_error: 15.7012 - val_loss: 20.5459 - val_mean_absolute_percentage_error: 12.9740\n",
      "Epoch 76/135\n",
      "404/404 [==============================] - 0s 139us/step - loss: 17.5225 - mean_absolute_percentage_error: 15.6216 - val_loss: 19.7185 - val_mean_absolute_percentage_error: 12.9967\n",
      "Epoch 77/135\n",
      "404/404 [==============================] - 0s 142us/step - loss: 17.9448 - mean_absolute_percentage_error: 15.6711 - val_loss: 18.9538 - val_mean_absolute_percentage_error: 13.1359\n",
      "Epoch 78/135\n",
      "404/404 [==============================] - 0s 155us/step - loss: 17.6589 - mean_absolute_percentage_error: 15.3415 - val_loss: 18.8458 - val_mean_absolute_percentage_error: 13.1951\n",
      "Epoch 79/135\n",
      "404/404 [==============================] - 0s 139us/step - loss: 17.8753 - mean_absolute_percentage_error: 15.7328 - val_loss: 18.9398 - val_mean_absolute_percentage_error: 12.9278\n",
      "Epoch 80/135\n",
      "404/404 [==============================] - 0s 129us/step - loss: 17.1641 - mean_absolute_percentage_error: 15.8336 - val_loss: 22.3761 - val_mean_absolute_percentage_error: 13.2054\n",
      "Epoch 81/135\n",
      "404/404 [==============================] - 0s 109us/step - loss: 18.1583 - mean_absolute_percentage_error: 15.6148 - val_loss: 18.8866 - val_mean_absolute_percentage_error: 12.9014\n",
      "Epoch 82/135\n",
      "404/404 [==============================] - 0s 124us/step - loss: 17.5807 - mean_absolute_percentage_error: 15.3814 - val_loss: 18.7715 - val_mean_absolute_percentage_error: 13.4264\n",
      "Epoch 83/135\n",
      "404/404 [==============================] - 0s 127us/step - loss: 17.2205 - mean_absolute_percentage_error: 15.7012 - val_loss: 20.0070 - val_mean_absolute_percentage_error: 12.8926\n",
      "Epoch 84/135\n",
      "404/404 [==============================] - 0s 124us/step - loss: 17.2419 - mean_absolute_percentage_error: 15.2715 - val_loss: 18.8202 - val_mean_absolute_percentage_error: 12.8277\n",
      "Epoch 85/135\n",
      "404/404 [==============================] - 0s 119us/step - loss: 17.2676 - mean_absolute_percentage_error: 15.3409 - val_loss: 19.5896 - val_mean_absolute_percentage_error: 12.8495\n",
      "Epoch 86/135\n",
      "404/404 [==============================] - 0s 109us/step - loss: 17.2441 - mean_absolute_percentage_error: 15.4052 - val_loss: 18.4437 - val_mean_absolute_percentage_error: 12.9021\n",
      "Epoch 87/135\n",
      "404/404 [==============================] - 0s 121us/step - loss: 17.4635 - mean_absolute_percentage_error: 15.5017 - val_loss: 20.8541 - val_mean_absolute_percentage_error: 12.9649\n",
      "Epoch 88/135\n",
      "404/404 [==============================] - 0s 137us/step - loss: 17.1019 - mean_absolute_percentage_error: 15.4862 - val_loss: 18.4250 - val_mean_absolute_percentage_error: 12.9053\n",
      "Epoch 89/135\n",
      "404/404 [==============================] - 0s 139us/step - loss: 16.7858 - mean_absolute_percentage_error: 15.2001 - val_loss: 19.7604 - val_mean_absolute_percentage_error: 12.8390\n",
      "Epoch 90/135\n",
      "404/404 [==============================] - 0s 100us/step - loss: 16.7485 - mean_absolute_percentage_error: 15.2124 - val_loss: 18.4944 - val_mean_absolute_percentage_error: 13.0385\n",
      "Epoch 91/135\n",
      "404/404 [==============================] - 0s 129us/step - loss: 16.8736 - mean_absolute_percentage_error: 15.3885 - val_loss: 18.6671 - val_mean_absolute_percentage_error: 12.7292\n",
      "Epoch 92/135\n",
      "404/404 [==============================] - 0s 129us/step - loss: 16.7630 - mean_absolute_percentage_error: 15.1657 - val_loss: 18.4192 - val_mean_absolute_percentage_error: 12.7828\n",
      "Epoch 93/135\n",
      "404/404 [==============================] - 0s 139us/step - loss: 16.7341 - mean_absolute_percentage_error: 15.1853 - val_loss: 18.4271 - val_mean_absolute_percentage_error: 12.7025\n",
      "Epoch 94/135\n",
      "404/404 [==============================] - 0s 148us/step - loss: 16.8131 - mean_absolute_percentage_error: 15.3886 - val_loss: 19.9310 - val_mean_absolute_percentage_error: 12.7545\n",
      "Epoch 95/135\n",
      "404/404 [==============================] - 0s 148us/step - loss: 17.0155 - mean_absolute_percentage_error: 15.5181 - val_loss: 18.6066 - val_mean_absolute_percentage_error: 13.7371\n",
      "Epoch 96/135\n",
      "404/404 [==============================] - 0s 129us/step - loss: 17.0476 - mean_absolute_percentage_error: 15.2166 - val_loss: 18.1823 - val_mean_absolute_percentage_error: 12.6721\n",
      "Epoch 97/135\n",
      "404/404 [==============================] - 0s 109us/step - loss: 16.9698 - mean_absolute_percentage_error: 15.2928 - val_loss: 18.3969 - val_mean_absolute_percentage_error: 13.4571\n",
      "Epoch 98/135\n",
      "404/404 [==============================] - 0s 137us/step - loss: 16.8668 - mean_absolute_percentage_error: 15.5503 - val_loss: 19.0401 - val_mean_absolute_percentage_error: 12.6290\n",
      "Epoch 99/135\n",
      "404/404 [==============================] - 0s 162us/step - loss: 16.5933 - mean_absolute_percentage_error: 15.0694 - val_loss: 18.2338 - val_mean_absolute_percentage_error: 12.5846\n",
      "Epoch 100/135\n",
      "404/404 [==============================] - 0s 129us/step - loss: 16.5556 - mean_absolute_percentage_error: 14.9702 - val_loss: 18.0023 - val_mean_absolute_percentage_error: 12.6526\n",
      "Epoch 101/135\n",
      "404/404 [==============================] - 0s 112us/step - loss: 16.5448 - mean_absolute_percentage_error: 15.2100 - val_loss: 18.1537 - val_mean_absolute_percentage_error: 12.6399\n",
      "Epoch 102/135\n",
      "404/404 [==============================] - 0s 124us/step - loss: 16.9336 - mean_absolute_percentage_error: 15.2014 - val_loss: 17.9916 - val_mean_absolute_percentage_error: 12.5918\n",
      "Epoch 103/135\n",
      "404/404 [==============================] - 0s 130us/step - loss: 17.7608 - mean_absolute_percentage_error: 15.5954 - val_loss: 18.8309 - val_mean_absolute_percentage_error: 12.5709\n",
      "Epoch 104/135\n",
      "404/404 [==============================] - 0s 127us/step - loss: 17.1465 - mean_absolute_percentage_error: 15.1900 - val_loss: 17.7192 - val_mean_absolute_percentage_error: 12.5535\n",
      "Epoch 105/135\n",
      "404/404 [==============================] - 0s 129us/step - loss: 16.9875 - mean_absolute_percentage_error: 15.1696 - val_loss: 17.9107 - val_mean_absolute_percentage_error: 12.5928\n",
      "Epoch 106/135\n",
      "404/404 [==============================] - 0s 119us/step - loss: 16.5399 - mean_absolute_percentage_error: 15.3368 - val_loss: 18.7848 - val_mean_absolute_percentage_error: 12.6247\n",
      "Epoch 107/135\n",
      "404/404 [==============================] - 0s 168us/step - loss: 16.4048 - mean_absolute_percentage_error: 14.9208 - val_loss: 19.0449 - val_mean_absolute_percentage_error: 14.5767\n",
      "Epoch 108/135\n",
      "404/404 [==============================] - 0s 129us/step - loss: 17.9491 - mean_absolute_percentage_error: 15.5529 - val_loss: 18.3793 - val_mean_absolute_percentage_error: 12.5601\n",
      "Epoch 109/135\n",
      "404/404 [==============================] - 0s 178us/step - loss: 16.9919 - mean_absolute_percentage_error: 15.3495 - val_loss: 19.1994 - val_mean_absolute_percentage_error: 12.5980\n",
      "Epoch 110/135\n",
      "404/404 [==============================] - 0s 117us/step - loss: 16.5513 - mean_absolute_percentage_error: 15.2699 - val_loss: 17.6334 - val_mean_absolute_percentage_error: 12.8399\n",
      "Epoch 111/135\n",
      "404/404 [==============================] - 0s 129us/step - loss: 16.3127 - mean_absolute_percentage_error: 14.9315 - val_loss: 17.9173 - val_mean_absolute_percentage_error: 12.5464\n",
      "Epoch 112/135\n",
      "404/404 [==============================] - 0s 140us/step - loss: 16.0912 - mean_absolute_percentage_error: 15.0658 - val_loss: 18.9181 - val_mean_absolute_percentage_error: 12.5826\n",
      "Epoch 113/135\n",
      "404/404 [==============================] - 0s 139us/step - loss: 16.0562 - mean_absolute_percentage_error: 14.7295 - val_loss: 17.8962 - val_mean_absolute_percentage_error: 13.3630\n",
      "Epoch 114/135\n",
      "404/404 [==============================] - 0s 109us/step - loss: 16.7729 - mean_absolute_percentage_error: 15.4217 - val_loss: 18.7295 - val_mean_absolute_percentage_error: 12.5962\n",
      "Epoch 115/135\n",
      "404/404 [==============================] - 0s 173us/step - loss: 16.3650 - mean_absolute_percentage_error: 15.2229 - val_loss: 18.8230 - val_mean_absolute_percentage_error: 12.5631\n",
      "Epoch 116/135\n",
      "404/404 [==============================] - 0s 120us/step - loss: 17.1962 - mean_absolute_percentage_error: 15.2518 - val_loss: 19.4361 - val_mean_absolute_percentage_error: 15.3429\n",
      "Epoch 117/135\n",
      "404/404 [==============================] - 0s 137us/step - loss: 17.2727 - mean_absolute_percentage_error: 15.7306 - val_loss: 19.3219 - val_mean_absolute_percentage_error: 12.6518\n",
      "Epoch 118/135\n",
      "404/404 [==============================] - 0s 198us/step - loss: 16.0453 - mean_absolute_percentage_error: 15.1248 - val_loss: 17.5069 - val_mean_absolute_percentage_error: 12.5207\n",
      "Epoch 119/135\n",
      "404/404 [==============================] - 0s 136us/step - loss: 15.8850 - mean_absolute_percentage_error: 14.9452 - val_loss: 17.7449 - val_mean_absolute_percentage_error: 12.4418\n",
      "Epoch 120/135\n",
      "404/404 [==============================] - 0s 117us/step - loss: 16.3367 - mean_absolute_percentage_error: 15.0375 - val_loss: 18.5642 - val_mean_absolute_percentage_error: 12.5187\n",
      "Epoch 121/135\n",
      "404/404 [==============================] - 0s 109us/step - loss: 16.2750 - mean_absolute_percentage_error: 14.7294 - val_loss: 17.2990 - val_mean_absolute_percentage_error: 13.0042\n",
      "Epoch 122/135\n",
      "404/404 [==============================] - 0s 180us/step - loss: 16.2100 - mean_absolute_percentage_error: 14.9759 - val_loss: 17.5219 - val_mean_absolute_percentage_error: 12.4009\n",
      "Epoch 123/135\n",
      "404/404 [==============================] - 0s 117us/step - loss: 16.1114 - mean_absolute_percentage_error: 14.8826 - val_loss: 18.5217 - val_mean_absolute_percentage_error: 12.4866\n",
      "Epoch 124/135\n",
      "404/404 [==============================] - 0s 129us/step - loss: 15.8468 - mean_absolute_percentage_error: 14.4191 - val_loss: 17.2762 - val_mean_absolute_percentage_error: 12.6967\n",
      "Epoch 125/135\n",
      "404/404 [==============================] - 0s 119us/step - loss: 15.8559 - mean_absolute_percentage_error: 14.8065 - val_loss: 17.3698 - val_mean_absolute_percentage_error: 12.3246\n",
      "Epoch 126/135\n",
      "404/404 [==============================] - 0s 133us/step - loss: 15.7775 - mean_absolute_percentage_error: 14.7809 - val_loss: 17.7259 - val_mean_absolute_percentage_error: 12.3926\n",
      "Epoch 127/135\n",
      "404/404 [==============================] - 0s 148us/step - loss: 15.8299 - mean_absolute_percentage_error: 14.7110 - val_loss: 17.4889 - val_mean_absolute_percentage_error: 13.3111\n",
      "Epoch 128/135\n",
      "404/404 [==============================] - 0s 120us/step - loss: 16.4451 - mean_absolute_percentage_error: 14.9808 - val_loss: 17.0769 - val_mean_absolute_percentage_error: 12.4274\n",
      "Epoch 129/135\n",
      "404/404 [==============================] - 0s 109us/step - loss: 15.7887 - mean_absolute_percentage_error: 14.7069 - val_loss: 17.2053 - val_mean_absolute_percentage_error: 12.3673\n",
      "Epoch 130/135\n",
      "404/404 [==============================] - 0s 158us/step - loss: 15.6595 - mean_absolute_percentage_error: 14.7432 - val_loss: 18.2173 - val_mean_absolute_percentage_error: 12.3262\n",
      "Epoch 131/135\n",
      "404/404 [==============================] - 0s 139us/step - loss: 16.0641 - mean_absolute_percentage_error: 14.9749 - val_loss: 17.0837 - val_mean_absolute_percentage_error: 13.0086\n",
      "Epoch 132/135\n",
      "404/404 [==============================] - 0s 127us/step - loss: 16.0121 - mean_absolute_percentage_error: 14.7201 - val_loss: 16.9519 - val_mean_absolute_percentage_error: 12.4293\n",
      "Epoch 133/135\n",
      "404/404 [==============================] - 0s 123us/step - loss: 15.7631 - mean_absolute_percentage_error: 14.6108 - val_loss: 16.9853 - val_mean_absolute_percentage_error: 12.3872\n",
      "Epoch 134/135\n",
      "404/404 [==============================] - 0s 120us/step - loss: 15.3697 - mean_absolute_percentage_error: 14.7768 - val_loss: 18.6567 - val_mean_absolute_percentage_error: 12.3428\n",
      "Epoch 135/135\n",
      "404/404 [==============================] - 0s 119us/step - loss: 16.0590 - mean_absolute_percentage_error: 14.9041 - val_loss: 16.9315 - val_mean_absolute_percentage_error: 12.1811\n"
     ]
    }
   ],
   "source": [
    "history = model.fit(x_train,y_train,batch_size=32,epochs=135,validation_data=(x_val,y_val))\n"
   ]
  },
  {
   "cell_type": "code",
   "execution_count": 20,
   "metadata": {},
   "outputs": [
    {
     "output_type": "stream",
     "name": "stdout",
     "text": [
      "102/102 [==============================] - 0s 196us/step\n",
      "loss  :::  35.4002155977137\n",
      "mean_absolute_percentage_error  :::  20.811710357666016\n"
     ]
    }
   ],
   "source": [
    "# model evalationu\n",
    "result = model.evaluate(x_test,y_test)\n",
    "for i in range(len(model.metrics_names)):\n",
    "    print(model.metrics_names[i],\" ::: \", result[i])"
   ]
  },
  {
   "cell_type": "code",
   "execution_count": 21,
   "metadata": {},
   "outputs": [
    {
     "output_type": "stream",
     "name": "stdout",
     "text": [
      "Model: \"sequential_2\"\n",
      "_________________________________________________________________\n",
      "Layer (type)                 Output Shape              Param #   \n",
      "=================================================================\n",
      "dense_4 (Dense)              (None, 13)                182       \n",
      "_________________________________________________________________\n",
      "dense_5 (Dense)              (None, 6)                 84        \n",
      "_________________________________________________________________\n",
      "dense_6 (Dense)              (None, 1)                 7         \n",
      "=================================================================\n",
      "Total params: 273\n",
      "Trainable params: 273\n",
      "Non-trainable params: 0\n",
      "_________________________________________________________________\n"
     ]
    }
   ],
   "source": [
    "model.summary()"
   ]
  },
  {
   "cell_type": "code",
   "execution_count": 22,
   "metadata": {},
   "outputs": [
    {
     "output_type": "execute_result",
     "data": {
      "text/plain": [
       "'mean_squared_error'"
      ]
     },
     "metadata": {},
     "execution_count": 22
    }
   ],
   "source": [
    "model.loss"
   ]
  },
  {
   "cell_type": "code",
   "execution_count": 23,
   "metadata": {},
   "outputs": [],
   "source": [
    "history_dict = history.history"
   ]
  },
  {
   "cell_type": "code",
   "execution_count": 24,
   "metadata": {},
   "outputs": [
    {
     "output_type": "execute_result",
     "data": {
      "text/plain": [
       "dict_keys(['val_loss', 'val_mean_absolute_percentage_error', 'loss', 'mean_absolute_percentage_error'])"
      ]
     },
     "metadata": {},
     "execution_count": 24
    }
   ],
   "source": [
    "history_dict.keys()"
   ]
  },
  {
   "cell_type": "code",
   "execution_count": 25,
   "metadata": {},
   "outputs": [],
   "source": [
    "#his"
   ]
  },
  {
   "cell_type": "code",
   "execution_count": 26,
   "metadata": {},
   "outputs": [],
   "source": [
    "import matplotlib.pyplot as plt\n",
    "loss_value = history_dict['loss']\n",
    "val_loss_values = history_dict['val_loss']\n"
   ]
  },
  {
   "cell_type": "code",
   "execution_count": 27,
   "metadata": {},
   "outputs": [
    {
     "output_type": "execute_result",
     "data": {
      "text/plain": [
       "range(1, 31)"
      ]
     },
     "metadata": {},
     "execution_count": 27
    }
   ],
   "source": [
    "epochs = range(1,len('mean_absolute_percentage_error')+1)\n",
    "epochs"
   ]
  },
  {
   "cell_type": "code",
   "execution_count": 28,
   "metadata": {},
   "outputs": [
    {
     "output_type": "display_data",
     "data": {
      "text/plain": "<Figure size 432x288 with 1 Axes>",
      "image/svg+xml": "<?xml version=\"1.0\" encoding=\"utf-8\" standalone=\"no\"?>\r\n<!DOCTYPE svg PUBLIC \"-//W3C//DTD SVG 1.1//EN\"\r\n  \"http://www.w3.org/Graphics/SVG/1.1/DTD/svg11.dtd\">\r\n<!-- Created with matplotlib (https://matplotlib.org/) -->\r\n<svg height=\"277.314375pt\" version=\"1.1\" viewBox=\"0 0 386.103125 277.314375\" width=\"386.103125pt\" xmlns=\"http://www.w3.org/2000/svg\" xmlns:xlink=\"http://www.w3.org/1999/xlink\">\r\n <defs>\r\n  <style type=\"text/css\">\r\n*{stroke-linecap:butt;stroke-linejoin:round;}\r\n  </style>\r\n </defs>\r\n <g id=\"figure_1\">\r\n  <g id=\"patch_1\">\r\n   <path d=\"M 0 277.314375 \r\nL 386.103125 277.314375 \r\nL 386.103125 0 \r\nL 0 0 \r\nz\r\n\" style=\"fill:none;\"/>\r\n  </g>\r\n  <g id=\"axes_1\">\r\n   <g id=\"patch_2\">\r\n    <path d=\"M 40.603125 239.758125 \r\nL 375.403125 239.758125 \r\nL 375.403125 22.318125 \r\nL 40.603125 22.318125 \r\nz\r\n\" style=\"fill:#ffffff;\"/>\r\n   </g>\r\n   <g id=\"matplotlib.axis_1\">\r\n    <g id=\"xtick_1\">\r\n     <g id=\"line2d_1\">\r\n      <defs>\r\n       <path d=\"M 0 0 \r\nL 0 3.5 \r\n\" id=\"m33676e8137\" style=\"stroke:#000000;stroke-width:0.8;\"/>\r\n      </defs>\r\n      <g>\r\n       <use style=\"stroke:#000000;stroke-width:0.8;\" x=\"45.326009\" xlink:href=\"#m33676e8137\" y=\"239.758125\"/>\r\n      </g>\r\n     </g>\r\n     <g id=\"text_1\">\r\n      <!-- 0 -->\r\n      <defs>\r\n       <path d=\"M 31.78125 66.40625 \r\nQ 24.171875 66.40625 20.328125 58.90625 \r\nQ 16.5 51.421875 16.5 36.375 \r\nQ 16.5 21.390625 20.328125 13.890625 \r\nQ 24.171875 6.390625 31.78125 6.390625 \r\nQ 39.453125 6.390625 43.28125 13.890625 \r\nQ 47.125 21.390625 47.125 36.375 \r\nQ 47.125 51.421875 43.28125 58.90625 \r\nQ 39.453125 66.40625 31.78125 66.40625 \r\nz\r\nM 31.78125 74.21875 \r\nQ 44.046875 74.21875 50.515625 64.515625 \r\nQ 56.984375 54.828125 56.984375 36.375 \r\nQ 56.984375 17.96875 50.515625 8.265625 \r\nQ 44.046875 -1.421875 31.78125 -1.421875 \r\nQ 19.53125 -1.421875 13.0625 8.265625 \r\nQ 6.59375 17.96875 6.59375 36.375 \r\nQ 6.59375 54.828125 13.0625 64.515625 \r\nQ 19.53125 74.21875 31.78125 74.21875 \r\nz\r\n\" id=\"DejaVuSans-48\"/>\r\n      </defs>\r\n      <g transform=\"translate(42.144759 254.356562)scale(0.1 -0.1)\">\r\n       <use xlink:href=\"#DejaVuSans-48\"/>\r\n      </g>\r\n     </g>\r\n    </g>\r\n    <g id=\"xtick_2\">\r\n     <g id=\"line2d_2\">\r\n      <g>\r\n       <use style=\"stroke:#000000;stroke-width:0.8;\" x=\"97.802498\" xlink:href=\"#m33676e8137\" y=\"239.758125\"/>\r\n      </g>\r\n     </g>\r\n     <g id=\"text_2\">\r\n      <!-- 5 -->\r\n      <defs>\r\n       <path d=\"M 10.796875 72.90625 \r\nL 49.515625 72.90625 \r\nL 49.515625 64.59375 \r\nL 19.828125 64.59375 \r\nL 19.828125 46.734375 \r\nQ 21.96875 47.46875 24.109375 47.828125 \r\nQ 26.265625 48.1875 28.421875 48.1875 \r\nQ 40.625 48.1875 47.75 41.5 \r\nQ 54.890625 34.8125 54.890625 23.390625 \r\nQ 54.890625 11.625 47.5625 5.09375 \r\nQ 40.234375 -1.421875 26.90625 -1.421875 \r\nQ 22.3125 -1.421875 17.546875 -0.640625 \r\nQ 12.796875 0.140625 7.71875 1.703125 \r\nL 7.71875 11.625 \r\nQ 12.109375 9.234375 16.796875 8.0625 \r\nQ 21.484375 6.890625 26.703125 6.890625 \r\nQ 35.15625 6.890625 40.078125 11.328125 \r\nQ 45.015625 15.765625 45.015625 23.390625 \r\nQ 45.015625 31 40.078125 35.4375 \r\nQ 35.15625 39.890625 26.703125 39.890625 \r\nQ 22.75 39.890625 18.8125 39.015625 \r\nQ 14.890625 38.140625 10.796875 36.28125 \r\nz\r\n\" id=\"DejaVuSans-53\"/>\r\n      </defs>\r\n      <g transform=\"translate(94.621248 254.356562)scale(0.1 -0.1)\">\r\n       <use xlink:href=\"#DejaVuSans-53\"/>\r\n      </g>\r\n     </g>\r\n    </g>\r\n    <g id=\"xtick_3\">\r\n     <g id=\"line2d_3\">\r\n      <g>\r\n       <use style=\"stroke:#000000;stroke-width:0.8;\" x=\"150.278987\" xlink:href=\"#m33676e8137\" y=\"239.758125\"/>\r\n      </g>\r\n     </g>\r\n     <g id=\"text_3\">\r\n      <!-- 10 -->\r\n      <defs>\r\n       <path d=\"M 12.40625 8.296875 \r\nL 28.515625 8.296875 \r\nL 28.515625 63.921875 \r\nL 10.984375 60.40625 \r\nL 10.984375 69.390625 \r\nL 28.421875 72.90625 \r\nL 38.28125 72.90625 \r\nL 38.28125 8.296875 \r\nL 54.390625 8.296875 \r\nL 54.390625 0 \r\nL 12.40625 0 \r\nz\r\n\" id=\"DejaVuSans-49\"/>\r\n      </defs>\r\n      <g transform=\"translate(143.916487 254.356562)scale(0.1 -0.1)\">\r\n       <use xlink:href=\"#DejaVuSans-49\"/>\r\n       <use x=\"63.623047\" xlink:href=\"#DejaVuSans-48\"/>\r\n      </g>\r\n     </g>\r\n    </g>\r\n    <g id=\"xtick_4\">\r\n     <g id=\"line2d_4\">\r\n      <g>\r\n       <use style=\"stroke:#000000;stroke-width:0.8;\" x=\"202.755476\" xlink:href=\"#m33676e8137\" y=\"239.758125\"/>\r\n      </g>\r\n     </g>\r\n     <g id=\"text_4\">\r\n      <!-- 15 -->\r\n      <g transform=\"translate(196.392976 254.356562)scale(0.1 -0.1)\">\r\n       <use xlink:href=\"#DejaVuSans-49\"/>\r\n       <use x=\"63.623047\" xlink:href=\"#DejaVuSans-53\"/>\r\n      </g>\r\n     </g>\r\n    </g>\r\n    <g id=\"xtick_5\">\r\n     <g id=\"line2d_5\">\r\n      <g>\r\n       <use style=\"stroke:#000000;stroke-width:0.8;\" x=\"255.231965\" xlink:href=\"#m33676e8137\" y=\"239.758125\"/>\r\n      </g>\r\n     </g>\r\n     <g id=\"text_5\">\r\n      <!-- 20 -->\r\n      <defs>\r\n       <path d=\"M 19.1875 8.296875 \r\nL 53.609375 8.296875 \r\nL 53.609375 0 \r\nL 7.328125 0 \r\nL 7.328125 8.296875 \r\nQ 12.9375 14.109375 22.625 23.890625 \r\nQ 32.328125 33.6875 34.8125 36.53125 \r\nQ 39.546875 41.84375 41.421875 45.53125 \r\nQ 43.3125 49.21875 43.3125 52.78125 \r\nQ 43.3125 58.59375 39.234375 62.25 \r\nQ 35.15625 65.921875 28.609375 65.921875 \r\nQ 23.96875 65.921875 18.8125 64.3125 \r\nQ 13.671875 62.703125 7.8125 59.421875 \r\nL 7.8125 69.390625 \r\nQ 13.765625 71.78125 18.9375 73 \r\nQ 24.125 74.21875 28.421875 74.21875 \r\nQ 39.75 74.21875 46.484375 68.546875 \r\nQ 53.21875 62.890625 53.21875 53.421875 \r\nQ 53.21875 48.921875 51.53125 44.890625 \r\nQ 49.859375 40.875 45.40625 35.40625 \r\nQ 44.1875 33.984375 37.640625 27.21875 \r\nQ 31.109375 20.453125 19.1875 8.296875 \r\nz\r\n\" id=\"DejaVuSans-50\"/>\r\n      </defs>\r\n      <g transform=\"translate(248.869465 254.356562)scale(0.1 -0.1)\">\r\n       <use xlink:href=\"#DejaVuSans-50\"/>\r\n       <use x=\"63.623047\" xlink:href=\"#DejaVuSans-48\"/>\r\n      </g>\r\n     </g>\r\n    </g>\r\n    <g id=\"xtick_6\">\r\n     <g id=\"line2d_6\">\r\n      <g>\r\n       <use style=\"stroke:#000000;stroke-width:0.8;\" x=\"307.708454\" xlink:href=\"#m33676e8137\" y=\"239.758125\"/>\r\n      </g>\r\n     </g>\r\n     <g id=\"text_6\">\r\n      <!-- 25 -->\r\n      <g transform=\"translate(301.345954 254.356562)scale(0.1 -0.1)\">\r\n       <use xlink:href=\"#DejaVuSans-50\"/>\r\n       <use x=\"63.623047\" xlink:href=\"#DejaVuSans-53\"/>\r\n      </g>\r\n     </g>\r\n    </g>\r\n    <g id=\"xtick_7\">\r\n     <g id=\"line2d_7\">\r\n      <g>\r\n       <use style=\"stroke:#000000;stroke-width:0.8;\" x=\"360.184943\" xlink:href=\"#m33676e8137\" y=\"239.758125\"/>\r\n      </g>\r\n     </g>\r\n     <g id=\"text_7\">\r\n      <!-- 30 -->\r\n      <defs>\r\n       <path d=\"M 40.578125 39.3125 \r\nQ 47.65625 37.796875 51.625 33 \r\nQ 55.609375 28.21875 55.609375 21.1875 \r\nQ 55.609375 10.40625 48.1875 4.484375 \r\nQ 40.765625 -1.421875 27.09375 -1.421875 \r\nQ 22.515625 -1.421875 17.65625 -0.515625 \r\nQ 12.796875 0.390625 7.625 2.203125 \r\nL 7.625 11.71875 \r\nQ 11.71875 9.328125 16.59375 8.109375 \r\nQ 21.484375 6.890625 26.8125 6.890625 \r\nQ 36.078125 6.890625 40.9375 10.546875 \r\nQ 45.796875 14.203125 45.796875 21.1875 \r\nQ 45.796875 27.640625 41.28125 31.265625 \r\nQ 36.765625 34.90625 28.71875 34.90625 \r\nL 20.21875 34.90625 \r\nL 20.21875 43.015625 \r\nL 29.109375 43.015625 \r\nQ 36.375 43.015625 40.234375 45.921875 \r\nQ 44.09375 48.828125 44.09375 54.296875 \r\nQ 44.09375 59.90625 40.109375 62.90625 \r\nQ 36.140625 65.921875 28.71875 65.921875 \r\nQ 24.65625 65.921875 20.015625 65.03125 \r\nQ 15.375 64.15625 9.8125 62.3125 \r\nL 9.8125 71.09375 \r\nQ 15.4375 72.65625 20.34375 73.4375 \r\nQ 25.25 74.21875 29.59375 74.21875 \r\nQ 40.828125 74.21875 47.359375 69.109375 \r\nQ 53.90625 64.015625 53.90625 55.328125 \r\nQ 53.90625 49.265625 50.4375 45.09375 \r\nQ 46.96875 40.921875 40.578125 39.3125 \r\nz\r\n\" id=\"DejaVuSans-51\"/>\r\n      </defs>\r\n      <g transform=\"translate(353.822443 254.356562)scale(0.1 -0.1)\">\r\n       <use xlink:href=\"#DejaVuSans-51\"/>\r\n       <use x=\"63.623047\" xlink:href=\"#DejaVuSans-48\"/>\r\n      </g>\r\n     </g>\r\n    </g>\r\n    <g id=\"text_8\">\r\n     <!-- Epochs -->\r\n     <defs>\r\n      <path d=\"M 9.8125 72.90625 \r\nL 55.90625 72.90625 \r\nL 55.90625 64.59375 \r\nL 19.671875 64.59375 \r\nL 19.671875 43.015625 \r\nL 54.390625 43.015625 \r\nL 54.390625 34.71875 \r\nL 19.671875 34.71875 \r\nL 19.671875 8.296875 \r\nL 56.78125 8.296875 \r\nL 56.78125 0 \r\nL 9.8125 0 \r\nz\r\n\" id=\"DejaVuSans-69\"/>\r\n      <path d=\"M 18.109375 8.203125 \r\nL 18.109375 -20.796875 \r\nL 9.078125 -20.796875 \r\nL 9.078125 54.6875 \r\nL 18.109375 54.6875 \r\nL 18.109375 46.390625 \r\nQ 20.953125 51.265625 25.265625 53.625 \r\nQ 29.59375 56 35.59375 56 \r\nQ 45.5625 56 51.78125 48.09375 \r\nQ 58.015625 40.1875 58.015625 27.296875 \r\nQ 58.015625 14.40625 51.78125 6.484375 \r\nQ 45.5625 -1.421875 35.59375 -1.421875 \r\nQ 29.59375 -1.421875 25.265625 0.953125 \r\nQ 20.953125 3.328125 18.109375 8.203125 \r\nz\r\nM 48.6875 27.296875 \r\nQ 48.6875 37.203125 44.609375 42.84375 \r\nQ 40.53125 48.484375 33.40625 48.484375 \r\nQ 26.265625 48.484375 22.1875 42.84375 \r\nQ 18.109375 37.203125 18.109375 27.296875 \r\nQ 18.109375 17.390625 22.1875 11.75 \r\nQ 26.265625 6.109375 33.40625 6.109375 \r\nQ 40.53125 6.109375 44.609375 11.75 \r\nQ 48.6875 17.390625 48.6875 27.296875 \r\nz\r\n\" id=\"DejaVuSans-112\"/>\r\n      <path d=\"M 30.609375 48.390625 \r\nQ 23.390625 48.390625 19.1875 42.75 \r\nQ 14.984375 37.109375 14.984375 27.296875 \r\nQ 14.984375 17.484375 19.15625 11.84375 \r\nQ 23.34375 6.203125 30.609375 6.203125 \r\nQ 37.796875 6.203125 41.984375 11.859375 \r\nQ 46.1875 17.53125 46.1875 27.296875 \r\nQ 46.1875 37.015625 41.984375 42.703125 \r\nQ 37.796875 48.390625 30.609375 48.390625 \r\nz\r\nM 30.609375 56 \r\nQ 42.328125 56 49.015625 48.375 \r\nQ 55.71875 40.765625 55.71875 27.296875 \r\nQ 55.71875 13.875 49.015625 6.21875 \r\nQ 42.328125 -1.421875 30.609375 -1.421875 \r\nQ 18.84375 -1.421875 12.171875 6.21875 \r\nQ 5.515625 13.875 5.515625 27.296875 \r\nQ 5.515625 40.765625 12.171875 48.375 \r\nQ 18.84375 56 30.609375 56 \r\nz\r\n\" id=\"DejaVuSans-111\"/>\r\n      <path d=\"M 48.78125 52.59375 \r\nL 48.78125 44.1875 \r\nQ 44.96875 46.296875 41.140625 47.34375 \r\nQ 37.3125 48.390625 33.40625 48.390625 \r\nQ 24.65625 48.390625 19.8125 42.84375 \r\nQ 14.984375 37.3125 14.984375 27.296875 \r\nQ 14.984375 17.28125 19.8125 11.734375 \r\nQ 24.65625 6.203125 33.40625 6.203125 \r\nQ 37.3125 6.203125 41.140625 7.25 \r\nQ 44.96875 8.296875 48.78125 10.40625 \r\nL 48.78125 2.09375 \r\nQ 45.015625 0.34375 40.984375 -0.53125 \r\nQ 36.96875 -1.421875 32.421875 -1.421875 \r\nQ 20.0625 -1.421875 12.78125 6.34375 \r\nQ 5.515625 14.109375 5.515625 27.296875 \r\nQ 5.515625 40.671875 12.859375 48.328125 \r\nQ 20.21875 56 33.015625 56 \r\nQ 37.15625 56 41.109375 55.140625 \r\nQ 45.0625 54.296875 48.78125 52.59375 \r\nz\r\n\" id=\"DejaVuSans-99\"/>\r\n      <path d=\"M 54.890625 33.015625 \r\nL 54.890625 0 \r\nL 45.90625 0 \r\nL 45.90625 32.71875 \r\nQ 45.90625 40.484375 42.875 44.328125 \r\nQ 39.84375 48.1875 33.796875 48.1875 \r\nQ 26.515625 48.1875 22.3125 43.546875 \r\nQ 18.109375 38.921875 18.109375 30.90625 \r\nL 18.109375 0 \r\nL 9.078125 0 \r\nL 9.078125 75.984375 \r\nL 18.109375 75.984375 \r\nL 18.109375 46.1875 \r\nQ 21.34375 51.125 25.703125 53.5625 \r\nQ 30.078125 56 35.796875 56 \r\nQ 45.21875 56 50.046875 50.171875 \r\nQ 54.890625 44.34375 54.890625 33.015625 \r\nz\r\n\" id=\"DejaVuSans-104\"/>\r\n      <path d=\"M 44.28125 53.078125 \r\nL 44.28125 44.578125 \r\nQ 40.484375 46.53125 36.375 47.5 \r\nQ 32.28125 48.484375 27.875 48.484375 \r\nQ 21.1875 48.484375 17.84375 46.4375 \r\nQ 14.5 44.390625 14.5 40.28125 \r\nQ 14.5 37.15625 16.890625 35.375 \r\nQ 19.28125 33.59375 26.515625 31.984375 \r\nL 29.59375 31.296875 \r\nQ 39.15625 29.25 43.1875 25.515625 \r\nQ 47.21875 21.78125 47.21875 15.09375 \r\nQ 47.21875 7.46875 41.1875 3.015625 \r\nQ 35.15625 -1.421875 24.609375 -1.421875 \r\nQ 20.21875 -1.421875 15.453125 -0.5625 \r\nQ 10.6875 0.296875 5.421875 2 \r\nL 5.421875 11.28125 \r\nQ 10.40625 8.6875 15.234375 7.390625 \r\nQ 20.0625 6.109375 24.8125 6.109375 \r\nQ 31.15625 6.109375 34.5625 8.28125 \r\nQ 37.984375 10.453125 37.984375 14.40625 \r\nQ 37.984375 18.0625 35.515625 20.015625 \r\nQ 33.0625 21.96875 24.703125 23.78125 \r\nL 21.578125 24.515625 \r\nQ 13.234375 26.265625 9.515625 29.90625 \r\nQ 5.8125 33.546875 5.8125 39.890625 \r\nQ 5.8125 47.609375 11.28125 51.796875 \r\nQ 16.75 56 26.8125 56 \r\nQ 31.78125 56 36.171875 55.265625 \r\nQ 40.578125 54.546875 44.28125 53.078125 \r\nz\r\n\" id=\"DejaVuSans-115\"/>\r\n     </defs>\r\n     <g transform=\"translate(190.0875 268.034687)scale(0.1 -0.1)\">\r\n      <use xlink:href=\"#DejaVuSans-69\"/>\r\n      <use x=\"63.183594\" xlink:href=\"#DejaVuSans-112\"/>\r\n      <use x=\"126.660156\" xlink:href=\"#DejaVuSans-111\"/>\r\n      <use x=\"187.841797\" xlink:href=\"#DejaVuSans-99\"/>\r\n      <use x=\"242.822266\" xlink:href=\"#DejaVuSans-104\"/>\r\n      <use x=\"306.201172\" xlink:href=\"#DejaVuSans-115\"/>\r\n     </g>\r\n    </g>\r\n   </g>\r\n   <g id=\"matplotlib.axis_2\">\r\n    <g id=\"ytick_1\">\r\n     <g id=\"line2d_8\">\r\n      <defs>\r\n       <path d=\"M 0 0 \r\nL -3.5 0 \r\n\" id=\"mb3bb977a10\" style=\"stroke:#000000;stroke-width:0.8;\"/>\r\n      </defs>\r\n      <g>\r\n       <use style=\"stroke:#000000;stroke-width:0.8;\" x=\"40.603125\" xlink:href=\"#mb3bb977a10\" y=\"221.145302\"/>\r\n      </g>\r\n     </g>\r\n     <g id=\"text_9\">\r\n      <!-- 20 -->\r\n      <g transform=\"translate(20.878125 224.944521)scale(0.1 -0.1)\">\r\n       <use xlink:href=\"#DejaVuSans-50\"/>\r\n       <use x=\"63.623047\" xlink:href=\"#DejaVuSans-48\"/>\r\n      </g>\r\n     </g>\r\n    </g>\r\n    <g id=\"ytick_2\">\r\n     <g id=\"line2d_9\">\r\n      <g>\r\n       <use style=\"stroke:#000000;stroke-width:0.8;\" x=\"40.603125\" xlink:href=\"#mb3bb977a10\" y=\"180.116418\"/>\r\n      </g>\r\n     </g>\r\n     <g id=\"text_10\">\r\n      <!-- 22 -->\r\n      <g transform=\"translate(20.878125 183.915637)scale(0.1 -0.1)\">\r\n       <use xlink:href=\"#DejaVuSans-50\"/>\r\n       <use x=\"63.623047\" xlink:href=\"#DejaVuSans-50\"/>\r\n      </g>\r\n     </g>\r\n    </g>\r\n    <g id=\"ytick_3\">\r\n     <g id=\"line2d_10\">\r\n      <g>\r\n       <use style=\"stroke:#000000;stroke-width:0.8;\" x=\"40.603125\" xlink:href=\"#mb3bb977a10\" y=\"139.087535\"/>\r\n      </g>\r\n     </g>\r\n     <g id=\"text_11\">\r\n      <!-- 24 -->\r\n      <defs>\r\n       <path d=\"M 37.796875 64.3125 \r\nL 12.890625 25.390625 \r\nL 37.796875 25.390625 \r\nz\r\nM 35.203125 72.90625 \r\nL 47.609375 72.90625 \r\nL 47.609375 25.390625 \r\nL 58.015625 25.390625 \r\nL 58.015625 17.1875 \r\nL 47.609375 17.1875 \r\nL 47.609375 0 \r\nL 37.796875 0 \r\nL 37.796875 17.1875 \r\nL 4.890625 17.1875 \r\nL 4.890625 26.703125 \r\nz\r\n\" id=\"DejaVuSans-52\"/>\r\n      </defs>\r\n      <g transform=\"translate(20.878125 142.886753)scale(0.1 -0.1)\">\r\n       <use xlink:href=\"#DejaVuSans-50\"/>\r\n       <use x=\"63.623047\" xlink:href=\"#DejaVuSans-52\"/>\r\n      </g>\r\n     </g>\r\n    </g>\r\n    <g id=\"ytick_4\">\r\n     <g id=\"line2d_11\">\r\n      <g>\r\n       <use style=\"stroke:#000000;stroke-width:0.8;\" x=\"40.603125\" xlink:href=\"#mb3bb977a10\" y=\"98.058651\"/>\r\n      </g>\r\n     </g>\r\n     <g id=\"text_12\">\r\n      <!-- 26 -->\r\n      <defs>\r\n       <path d=\"M 33.015625 40.375 \r\nQ 26.375 40.375 22.484375 35.828125 \r\nQ 18.609375 31.296875 18.609375 23.390625 \r\nQ 18.609375 15.53125 22.484375 10.953125 \r\nQ 26.375 6.390625 33.015625 6.390625 \r\nQ 39.65625 6.390625 43.53125 10.953125 \r\nQ 47.40625 15.53125 47.40625 23.390625 \r\nQ 47.40625 31.296875 43.53125 35.828125 \r\nQ 39.65625 40.375 33.015625 40.375 \r\nz\r\nM 52.59375 71.296875 \r\nL 52.59375 62.3125 \r\nQ 48.875 64.0625 45.09375 64.984375 \r\nQ 41.3125 65.921875 37.59375 65.921875 \r\nQ 27.828125 65.921875 22.671875 59.328125 \r\nQ 17.53125 52.734375 16.796875 39.40625 \r\nQ 19.671875 43.65625 24.015625 45.921875 \r\nQ 28.375 48.1875 33.59375 48.1875 \r\nQ 44.578125 48.1875 50.953125 41.515625 \r\nQ 57.328125 34.859375 57.328125 23.390625 \r\nQ 57.328125 12.15625 50.6875 5.359375 \r\nQ 44.046875 -1.421875 33.015625 -1.421875 \r\nQ 20.359375 -1.421875 13.671875 8.265625 \r\nQ 6.984375 17.96875 6.984375 36.375 \r\nQ 6.984375 53.65625 15.1875 63.9375 \r\nQ 23.390625 74.21875 37.203125 74.21875 \r\nQ 40.921875 74.21875 44.703125 73.484375 \r\nQ 48.484375 72.75 52.59375 71.296875 \r\nz\r\n\" id=\"DejaVuSans-54\"/>\r\n      </defs>\r\n      <g transform=\"translate(20.878125 101.85787)scale(0.1 -0.1)\">\r\n       <use xlink:href=\"#DejaVuSans-50\"/>\r\n       <use x=\"63.623047\" xlink:href=\"#DejaVuSans-54\"/>\r\n      </g>\r\n     </g>\r\n    </g>\r\n    <g id=\"ytick_5\">\r\n     <g id=\"line2d_12\">\r\n      <g>\r\n       <use style=\"stroke:#000000;stroke-width:0.8;\" x=\"40.603125\" xlink:href=\"#mb3bb977a10\" y=\"57.029767\"/>\r\n      </g>\r\n     </g>\r\n     <g id=\"text_13\">\r\n      <!-- 28 -->\r\n      <defs>\r\n       <path d=\"M 31.78125 34.625 \r\nQ 24.75 34.625 20.71875 30.859375 \r\nQ 16.703125 27.09375 16.703125 20.515625 \r\nQ 16.703125 13.921875 20.71875 10.15625 \r\nQ 24.75 6.390625 31.78125 6.390625 \r\nQ 38.8125 6.390625 42.859375 10.171875 \r\nQ 46.921875 13.96875 46.921875 20.515625 \r\nQ 46.921875 27.09375 42.890625 30.859375 \r\nQ 38.875 34.625 31.78125 34.625 \r\nz\r\nM 21.921875 38.8125 \r\nQ 15.578125 40.375 12.03125 44.71875 \r\nQ 8.5 49.078125 8.5 55.328125 \r\nQ 8.5 64.0625 14.71875 69.140625 \r\nQ 20.953125 74.21875 31.78125 74.21875 \r\nQ 42.671875 74.21875 48.875 69.140625 \r\nQ 55.078125 64.0625 55.078125 55.328125 \r\nQ 55.078125 49.078125 51.53125 44.71875 \r\nQ 48 40.375 41.703125 38.8125 \r\nQ 48.828125 37.15625 52.796875 32.3125 \r\nQ 56.78125 27.484375 56.78125 20.515625 \r\nQ 56.78125 9.90625 50.3125 4.234375 \r\nQ 43.84375 -1.421875 31.78125 -1.421875 \r\nQ 19.734375 -1.421875 13.25 4.234375 \r\nQ 6.78125 9.90625 6.78125 20.515625 \r\nQ 6.78125 27.484375 10.78125 32.3125 \r\nQ 14.796875 37.15625 21.921875 38.8125 \r\nz\r\nM 18.3125 54.390625 \r\nQ 18.3125 48.734375 21.84375 45.5625 \r\nQ 25.390625 42.390625 31.78125 42.390625 \r\nQ 38.140625 42.390625 41.71875 45.5625 \r\nQ 45.3125 48.734375 45.3125 54.390625 \r\nQ 45.3125 60.0625 41.71875 63.234375 \r\nQ 38.140625 66.40625 31.78125 66.40625 \r\nQ 25.390625 66.40625 21.84375 63.234375 \r\nQ 18.3125 60.0625 18.3125 54.390625 \r\nz\r\n\" id=\"DejaVuSans-56\"/>\r\n      </defs>\r\n      <g transform=\"translate(20.878125 60.828986)scale(0.1 -0.1)\">\r\n       <use xlink:href=\"#DejaVuSans-50\"/>\r\n       <use x=\"63.623047\" xlink:href=\"#DejaVuSans-56\"/>\r\n      </g>\r\n     </g>\r\n    </g>\r\n    <g id=\"text_14\">\r\n     <!-- Loss -->\r\n     <defs>\r\n      <path d=\"M 9.8125 72.90625 \r\nL 19.671875 72.90625 \r\nL 19.671875 8.296875 \r\nL 55.171875 8.296875 \r\nL 55.171875 0 \r\nL 9.8125 0 \r\nz\r\n\" id=\"DejaVuSans-76\"/>\r\n     </defs>\r\n     <g transform=\"translate(14.798438 142.092031)rotate(-90)scale(0.1 -0.1)\">\r\n      <use xlink:href=\"#DejaVuSans-76\"/>\r\n      <use x=\"55.697266\" xlink:href=\"#DejaVuSans-111\"/>\r\n      <use x=\"116.878906\" xlink:href=\"#DejaVuSans-115\"/>\r\n      <use x=\"168.978516\" xlink:href=\"#DejaVuSans-115\"/>\r\n     </g>\r\n    </g>\r\n   </g>\r\n   <g id=\"line2d_13\">\r\n    <defs>\r\n     <path d=\"M 0 3 \r\nC 0.795609 3 1.55874 2.683901 2.12132 2.12132 \r\nC 2.683901 1.55874 3 0.795609 3 0 \r\nC 3 -0.795609 2.683901 -1.55874 2.12132 -2.12132 \r\nC 1.55874 -2.683901 0.795609 -3 0 -3 \r\nC -0.795609 -3 -1.55874 -2.683901 -2.12132 -2.12132 \r\nC -2.683901 -1.55874 -3 -0.795609 -3 0 \r\nC -3 0.795609 -2.683901 1.55874 -2.12132 2.12132 \r\nC -1.55874 2.683901 -0.795609 3 0 3 \r\nz\r\n\" id=\"m7452b6c126\" style=\"stroke:#0000ff;\"/>\r\n    </defs>\r\n    <g clip-path=\"url(#p6758c084ef)\">\r\n     <use style=\"fill:#0000ff;stroke:#0000ff;\" x=\"55.821307\" xlink:href=\"#m7452b6c126\" y=\"192.536487\"/>\r\n     <use style=\"fill:#0000ff;stroke:#0000ff;\" x=\"66.316605\" xlink:href=\"#m7452b6c126\" y=\"196.479361\"/>\r\n     <use style=\"fill:#0000ff;stroke:#0000ff;\" x=\"76.811902\" xlink:href=\"#m7452b6c126\" y=\"199.235706\"/>\r\n     <use style=\"fill:#0000ff;stroke:#0000ff;\" x=\"87.3072\" xlink:href=\"#m7452b6c126\" y=\"198.610715\"/>\r\n     <use style=\"fill:#0000ff;stroke:#0000ff;\" x=\"97.802498\" xlink:href=\"#m7452b6c126\" y=\"200.022544\"/>\r\n     <use style=\"fill:#0000ff;stroke:#0000ff;\" x=\"108.297796\" xlink:href=\"#m7452b6c126\" y=\"164.050436\"/>\r\n     <use style=\"fill:#0000ff;stroke:#0000ff;\" x=\"118.793094\" xlink:href=\"#m7452b6c126\" y=\"177.313673\"/>\r\n     <use style=\"fill:#0000ff;stroke:#0000ff;\" x=\"129.288391\" xlink:href=\"#m7452b6c126\" y=\"202.356204\"/>\r\n     <use style=\"fill:#0000ff;stroke:#0000ff;\" x=\"139.783689\" xlink:href=\"#m7452b6c126\" y=\"205.837104\"/>\r\n     <use style=\"fill:#0000ff;stroke:#0000ff;\" x=\"150.278987\" xlink:href=\"#m7452b6c126\" y=\"175.615233\"/>\r\n     <use style=\"fill:#0000ff;stroke:#0000ff;\" x=\"160.774285\" xlink:href=\"#m7452b6c126\" y=\"183.14691\"/>\r\n     <use style=\"fill:#0000ff;stroke:#0000ff;\" x=\"171.269583\" xlink:href=\"#m7452b6c126\" y=\"184.63505\"/>\r\n     <use style=\"fill:#0000ff;stroke:#0000ff;\" x=\"181.76488\" xlink:href=\"#m7452b6c126\" y=\"208.000723\"/>\r\n     <use style=\"fill:#0000ff;stroke:#0000ff;\" x=\"192.260178\" xlink:href=\"#m7452b6c126\" y=\"207.129728\"/>\r\n     <use style=\"fill:#0000ff;stroke:#0000ff;\" x=\"202.755476\" xlink:href=\"#m7452b6c126\" y=\"213.295821\"/>\r\n     <use style=\"fill:#0000ff;stroke:#0000ff;\" x=\"213.250774\" xlink:href=\"#m7452b6c126\" y=\"216.081483\"/>\r\n     <use style=\"fill:#0000ff;stroke:#0000ff;\" x=\"223.746072\" xlink:href=\"#m7452b6c126\" y=\"217.621959\"/>\r\n     <use style=\"fill:#0000ff;stroke:#0000ff;\" x=\"234.24137\" xlink:href=\"#m7452b6c126\" y=\"218.937737\"/>\r\n     <use style=\"fill:#0000ff;stroke:#0000ff;\" x=\"244.736667\" xlink:href=\"#m7452b6c126\" y=\"181.881065\"/>\r\n     <use style=\"fill:#0000ff;stroke:#0000ff;\" x=\"255.231965\" xlink:href=\"#m7452b6c126\" y=\"197.869098\"/>\r\n     <use style=\"fill:#0000ff;stroke:#0000ff;\" x=\"265.727263\" xlink:href=\"#m7452b6c126\" y=\"210.11378\"/>\r\n     <use style=\"fill:#0000ff;stroke:#0000ff;\" x=\"276.222561\" xlink:href=\"#m7452b6c126\" y=\"219.477862\"/>\r\n     <use style=\"fill:#0000ff;stroke:#0000ff;\" x=\"286.717859\" xlink:href=\"#m7452b6c126\" y=\"207.6792\"/>\r\n     <use style=\"fill:#0000ff;stroke:#0000ff;\" x=\"297.213156\" xlink:href=\"#m7452b6c126\" y=\"220.726257\"/>\r\n     <use style=\"fill:#0000ff;stroke:#0000ff;\" x=\"307.708454\" xlink:href=\"#m7452b6c126\" y=\"216.056274\"/>\r\n     <use style=\"fill:#0000ff;stroke:#0000ff;\" x=\"318.203752\" xlink:href=\"#m7452b6c126\" y=\"223.359728\"/>\r\n     <use style=\"fill:#0000ff;stroke:#0000ff;\" x=\"328.69905\" xlink:href=\"#m7452b6c126\" y=\"195.400982\"/>\r\n     <use style=\"fill:#0000ff;stroke:#0000ff;\" x=\"339.194348\" xlink:href=\"#m7452b6c126\" y=\"226.713143\"/>\r\n     <use style=\"fill:#0000ff;stroke:#0000ff;\" x=\"349.689645\" xlink:href=\"#m7452b6c126\" y=\"229.874489\"/>\r\n     <use style=\"fill:#0000ff;stroke:#0000ff;\" x=\"360.184943\" xlink:href=\"#m7452b6c126\" y=\"227.766146\"/>\r\n    </g>\r\n   </g>\r\n   <g id=\"line2d_14\">\r\n    <path clip-path=\"url(#p6758c084ef)\" d=\"M 55.821307 130.877486 \r\nL 66.316605 124.343365 \r\nL 76.811902 78.938386 \r\nL 87.3072 143.328925 \r\nL 97.802498 69.308765 \r\nL 108.297796 32.201761 \r\nL 118.793094 142.284233 \r\nL 129.288391 133.952667 \r\nL 139.783689 153.590336 \r\nL 150.278987 76.086798 \r\nL 160.774285 92.147582 \r\nL 171.269583 149.453073 \r\nL 181.76488 161.019461 \r\nL 192.260178 152.519938 \r\nL 202.755476 159.636087 \r\nL 213.250774 151.849557 \r\nL 223.746072 160.826587 \r\nL 234.24137 170.004197 \r\nL 244.736667 157.051095 \r\nL 255.231965 107.614076 \r\nL 265.727263 151.949196 \r\nL 276.222561 156.927107 \r\nL 286.717859 128.88625 \r\nL 297.213156 155.647135 \r\nL 307.708454 151.359078 \r\nL 318.203752 178.394144 \r\nL 328.69905 146.235429 \r\nL 339.194348 160.949744 \r\nL 349.689645 165.014795 \r\nL 360.184943 172.515184 \r\n\" style=\"fill:none;stroke:#0000ff;stroke-linecap:square;stroke-width:1.5;\"/>\r\n   </g>\r\n   <g id=\"patch_3\">\r\n    <path d=\"M 40.603125 239.758125 \r\nL 40.603125 22.318125 \r\n\" style=\"fill:none;stroke:#000000;stroke-linecap:square;stroke-linejoin:miter;stroke-width:0.8;\"/>\r\n   </g>\r\n   <g id=\"patch_4\">\r\n    <path d=\"M 375.403125 239.758125 \r\nL 375.403125 22.318125 \r\n\" style=\"fill:none;stroke:#000000;stroke-linecap:square;stroke-linejoin:miter;stroke-width:0.8;\"/>\r\n   </g>\r\n   <g id=\"patch_5\">\r\n    <path d=\"M 40.603125 239.758125 \r\nL 375.403125 239.758125 \r\n\" style=\"fill:none;stroke:#000000;stroke-linecap:square;stroke-linejoin:miter;stroke-width:0.8;\"/>\r\n   </g>\r\n   <g id=\"patch_6\">\r\n    <path d=\"M 40.603125 22.318125 \r\nL 375.403125 22.318125 \r\n\" style=\"fill:none;stroke:#000000;stroke-linecap:square;stroke-linejoin:miter;stroke-width:0.8;\"/>\r\n   </g>\r\n   <g id=\"text_15\">\r\n    <!-- Training and Validation loss -->\r\n    <defs>\r\n     <path d=\"M -0.296875 72.90625 \r\nL 61.375 72.90625 \r\nL 61.375 64.59375 \r\nL 35.5 64.59375 \r\nL 35.5 0 \r\nL 25.59375 0 \r\nL 25.59375 64.59375 \r\nL -0.296875 64.59375 \r\nz\r\n\" id=\"DejaVuSans-84\"/>\r\n     <path d=\"M 41.109375 46.296875 \r\nQ 39.59375 47.171875 37.8125 47.578125 \r\nQ 36.03125 48 33.890625 48 \r\nQ 26.265625 48 22.1875 43.046875 \r\nQ 18.109375 38.09375 18.109375 28.8125 \r\nL 18.109375 0 \r\nL 9.078125 0 \r\nL 9.078125 54.6875 \r\nL 18.109375 54.6875 \r\nL 18.109375 46.1875 \r\nQ 20.953125 51.171875 25.484375 53.578125 \r\nQ 30.03125 56 36.53125 56 \r\nQ 37.453125 56 38.578125 55.875 \r\nQ 39.703125 55.765625 41.0625 55.515625 \r\nz\r\n\" id=\"DejaVuSans-114\"/>\r\n     <path d=\"M 34.28125 27.484375 \r\nQ 23.390625 27.484375 19.1875 25 \r\nQ 14.984375 22.515625 14.984375 16.5 \r\nQ 14.984375 11.71875 18.140625 8.90625 \r\nQ 21.296875 6.109375 26.703125 6.109375 \r\nQ 34.1875 6.109375 38.703125 11.40625 \r\nQ 43.21875 16.703125 43.21875 25.484375 \r\nL 43.21875 27.484375 \r\nz\r\nM 52.203125 31.203125 \r\nL 52.203125 0 \r\nL 43.21875 0 \r\nL 43.21875 8.296875 \r\nQ 40.140625 3.328125 35.546875 0.953125 \r\nQ 30.953125 -1.421875 24.3125 -1.421875 \r\nQ 15.921875 -1.421875 10.953125 3.296875 \r\nQ 6 8.015625 6 15.921875 \r\nQ 6 25.140625 12.171875 29.828125 \r\nQ 18.359375 34.515625 30.609375 34.515625 \r\nL 43.21875 34.515625 \r\nL 43.21875 35.40625 \r\nQ 43.21875 41.609375 39.140625 45 \r\nQ 35.0625 48.390625 27.6875 48.390625 \r\nQ 23 48.390625 18.546875 47.265625 \r\nQ 14.109375 46.140625 10.015625 43.890625 \r\nL 10.015625 52.203125 \r\nQ 14.9375 54.109375 19.578125 55.046875 \r\nQ 24.21875 56 28.609375 56 \r\nQ 40.484375 56 46.34375 49.84375 \r\nQ 52.203125 43.703125 52.203125 31.203125 \r\nz\r\n\" id=\"DejaVuSans-97\"/>\r\n     <path d=\"M 9.421875 54.6875 \r\nL 18.40625 54.6875 \r\nL 18.40625 0 \r\nL 9.421875 0 \r\nz\r\nM 9.421875 75.984375 \r\nL 18.40625 75.984375 \r\nL 18.40625 64.59375 \r\nL 9.421875 64.59375 \r\nz\r\n\" id=\"DejaVuSans-105\"/>\r\n     <path d=\"M 54.890625 33.015625 \r\nL 54.890625 0 \r\nL 45.90625 0 \r\nL 45.90625 32.71875 \r\nQ 45.90625 40.484375 42.875 44.328125 \r\nQ 39.84375 48.1875 33.796875 48.1875 \r\nQ 26.515625 48.1875 22.3125 43.546875 \r\nQ 18.109375 38.921875 18.109375 30.90625 \r\nL 18.109375 0 \r\nL 9.078125 0 \r\nL 9.078125 54.6875 \r\nL 18.109375 54.6875 \r\nL 18.109375 46.1875 \r\nQ 21.34375 51.125 25.703125 53.5625 \r\nQ 30.078125 56 35.796875 56 \r\nQ 45.21875 56 50.046875 50.171875 \r\nQ 54.890625 44.34375 54.890625 33.015625 \r\nz\r\n\" id=\"DejaVuSans-110\"/>\r\n     <path d=\"M 45.40625 27.984375 \r\nQ 45.40625 37.75 41.375 43.109375 \r\nQ 37.359375 48.484375 30.078125 48.484375 \r\nQ 22.859375 48.484375 18.828125 43.109375 \r\nQ 14.796875 37.75 14.796875 27.984375 \r\nQ 14.796875 18.265625 18.828125 12.890625 \r\nQ 22.859375 7.515625 30.078125 7.515625 \r\nQ 37.359375 7.515625 41.375 12.890625 \r\nQ 45.40625 18.265625 45.40625 27.984375 \r\nz\r\nM 54.390625 6.78125 \r\nQ 54.390625 -7.171875 48.1875 -13.984375 \r\nQ 42 -20.796875 29.203125 -20.796875 \r\nQ 24.46875 -20.796875 20.265625 -20.09375 \r\nQ 16.0625 -19.390625 12.109375 -17.921875 \r\nL 12.109375 -9.1875 \r\nQ 16.0625 -11.328125 19.921875 -12.34375 \r\nQ 23.78125 -13.375 27.78125 -13.375 \r\nQ 36.625 -13.375 41.015625 -8.765625 \r\nQ 45.40625 -4.15625 45.40625 5.171875 \r\nL 45.40625 9.625 \r\nQ 42.625 4.78125 38.28125 2.390625 \r\nQ 33.9375 0 27.875 0 \r\nQ 17.828125 0 11.671875 7.65625 \r\nQ 5.515625 15.328125 5.515625 27.984375 \r\nQ 5.515625 40.671875 11.671875 48.328125 \r\nQ 17.828125 56 27.875 56 \r\nQ 33.9375 56 38.28125 53.609375 \r\nQ 42.625 51.21875 45.40625 46.390625 \r\nL 45.40625 54.6875 \r\nL 54.390625 54.6875 \r\nz\r\n\" id=\"DejaVuSans-103\"/>\r\n     <path id=\"DejaVuSans-32\"/>\r\n     <path d=\"M 45.40625 46.390625 \r\nL 45.40625 75.984375 \r\nL 54.390625 75.984375 \r\nL 54.390625 0 \r\nL 45.40625 0 \r\nL 45.40625 8.203125 \r\nQ 42.578125 3.328125 38.25 0.953125 \r\nQ 33.9375 -1.421875 27.875 -1.421875 \r\nQ 17.96875 -1.421875 11.734375 6.484375 \r\nQ 5.515625 14.40625 5.515625 27.296875 \r\nQ 5.515625 40.1875 11.734375 48.09375 \r\nQ 17.96875 56 27.875 56 \r\nQ 33.9375 56 38.25 53.625 \r\nQ 42.578125 51.265625 45.40625 46.390625 \r\nz\r\nM 14.796875 27.296875 \r\nQ 14.796875 17.390625 18.875 11.75 \r\nQ 22.953125 6.109375 30.078125 6.109375 \r\nQ 37.203125 6.109375 41.296875 11.75 \r\nQ 45.40625 17.390625 45.40625 27.296875 \r\nQ 45.40625 37.203125 41.296875 42.84375 \r\nQ 37.203125 48.484375 30.078125 48.484375 \r\nQ 22.953125 48.484375 18.875 42.84375 \r\nQ 14.796875 37.203125 14.796875 27.296875 \r\nz\r\n\" id=\"DejaVuSans-100\"/>\r\n     <path d=\"M 28.609375 0 \r\nL 0.78125 72.90625 \r\nL 11.078125 72.90625 \r\nL 34.1875 11.53125 \r\nL 57.328125 72.90625 \r\nL 67.578125 72.90625 \r\nL 39.796875 0 \r\nz\r\n\" id=\"DejaVuSans-86\"/>\r\n     <path d=\"M 9.421875 75.984375 \r\nL 18.40625 75.984375 \r\nL 18.40625 0 \r\nL 9.421875 0 \r\nz\r\n\" id=\"DejaVuSans-108\"/>\r\n     <path d=\"M 18.3125 70.21875 \r\nL 18.3125 54.6875 \r\nL 36.8125 54.6875 \r\nL 36.8125 47.703125 \r\nL 18.3125 47.703125 \r\nL 18.3125 18.015625 \r\nQ 18.3125 11.328125 20.140625 9.421875 \r\nQ 21.96875 7.515625 27.59375 7.515625 \r\nL 36.8125 7.515625 \r\nL 36.8125 0 \r\nL 27.59375 0 \r\nQ 17.1875 0 13.234375 3.875 \r\nQ 9.28125 7.765625 9.28125 18.015625 \r\nL 9.28125 47.703125 \r\nL 2.6875 47.703125 \r\nL 2.6875 54.6875 \r\nL 9.28125 54.6875 \r\nL 9.28125 70.21875 \r\nz\r\n\" id=\"DejaVuSans-116\"/>\r\n    </defs>\r\n    <g transform=\"translate(124.774687 16.318125)scale(0.12 -0.12)\">\r\n     <use xlink:href=\"#DejaVuSans-84\"/>\r\n     <use x=\"60.865234\" xlink:href=\"#DejaVuSans-114\"/>\r\n     <use x=\"101.978516\" xlink:href=\"#DejaVuSans-97\"/>\r\n     <use x=\"163.257812\" xlink:href=\"#DejaVuSans-105\"/>\r\n     <use x=\"191.041016\" xlink:href=\"#DejaVuSans-110\"/>\r\n     <use x=\"254.419922\" xlink:href=\"#DejaVuSans-105\"/>\r\n     <use x=\"282.203125\" xlink:href=\"#DejaVuSans-110\"/>\r\n     <use x=\"345.582031\" xlink:href=\"#DejaVuSans-103\"/>\r\n     <use x=\"409.058594\" xlink:href=\"#DejaVuSans-32\"/>\r\n     <use x=\"440.845703\" xlink:href=\"#DejaVuSans-97\"/>\r\n     <use x=\"502.125\" xlink:href=\"#DejaVuSans-110\"/>\r\n     <use x=\"565.503906\" xlink:href=\"#DejaVuSans-100\"/>\r\n     <use x=\"628.980469\" xlink:href=\"#DejaVuSans-32\"/>\r\n     <use x=\"660.767578\" xlink:href=\"#DejaVuSans-86\"/>\r\n     <use x=\"729.066406\" xlink:href=\"#DejaVuSans-97\"/>\r\n     <use x=\"790.345703\" xlink:href=\"#DejaVuSans-108\"/>\r\n     <use x=\"818.128906\" xlink:href=\"#DejaVuSans-105\"/>\r\n     <use x=\"845.912109\" xlink:href=\"#DejaVuSans-100\"/>\r\n     <use x=\"909.388672\" xlink:href=\"#DejaVuSans-97\"/>\r\n     <use x=\"970.667969\" xlink:href=\"#DejaVuSans-116\"/>\r\n     <use x=\"1009.876953\" xlink:href=\"#DejaVuSans-105\"/>\r\n     <use x=\"1037.660156\" xlink:href=\"#DejaVuSans-111\"/>\r\n     <use x=\"1098.841797\" xlink:href=\"#DejaVuSans-110\"/>\r\n     <use x=\"1162.220703\" xlink:href=\"#DejaVuSans-32\"/>\r\n     <use x=\"1194.007812\" xlink:href=\"#DejaVuSans-108\"/>\r\n     <use x=\"1221.791016\" xlink:href=\"#DejaVuSans-111\"/>\r\n     <use x=\"1282.972656\" xlink:href=\"#DejaVuSans-115\"/>\r\n     <use x=\"1335.072266\" xlink:href=\"#DejaVuSans-115\"/>\r\n    </g>\r\n   </g>\r\n   <g id=\"legend_1\">\r\n    <g id=\"patch_7\">\r\n     <path d=\"M 260.971875 59.674375 \r\nL 368.403125 59.674375 \r\nQ 370.403125 59.674375 370.403125 57.674375 \r\nL 370.403125 29.318125 \r\nQ 370.403125 27.318125 368.403125 27.318125 \r\nL 260.971875 27.318125 \r\nQ 258.971875 27.318125 258.971875 29.318125 \r\nL 258.971875 57.674375 \r\nQ 258.971875 59.674375 260.971875 59.674375 \r\nz\r\n\" style=\"fill:#ffffff;opacity:0.8;stroke:#cccccc;stroke-linejoin:miter;\"/>\r\n    </g>\r\n    <g id=\"line2d_15\"/>\r\n    <g id=\"line2d_16\">\r\n     <g>\r\n      <use style=\"fill:#0000ff;stroke:#0000ff;\" x=\"272.971875\" xlink:href=\"#m7452b6c126\" y=\"35.416562\"/>\r\n     </g>\r\n    </g>\r\n    <g id=\"text_16\">\r\n     <!-- Training Loss -->\r\n     <g transform=\"translate(290.971875 38.916562)scale(0.1 -0.1)\">\r\n      <use xlink:href=\"#DejaVuSans-84\"/>\r\n      <use x=\"60.865234\" xlink:href=\"#DejaVuSans-114\"/>\r\n      <use x=\"101.978516\" xlink:href=\"#DejaVuSans-97\"/>\r\n      <use x=\"163.257812\" xlink:href=\"#DejaVuSans-105\"/>\r\n      <use x=\"191.041016\" xlink:href=\"#DejaVuSans-110\"/>\r\n      <use x=\"254.419922\" xlink:href=\"#DejaVuSans-105\"/>\r\n      <use x=\"282.203125\" xlink:href=\"#DejaVuSans-110\"/>\r\n      <use x=\"345.582031\" xlink:href=\"#DejaVuSans-103\"/>\r\n      <use x=\"409.058594\" xlink:href=\"#DejaVuSans-32\"/>\r\n      <use x=\"440.845703\" xlink:href=\"#DejaVuSans-76\"/>\r\n      <use x=\"496.542969\" xlink:href=\"#DejaVuSans-111\"/>\r\n      <use x=\"557.724609\" xlink:href=\"#DejaVuSans-115\"/>\r\n      <use x=\"609.824219\" xlink:href=\"#DejaVuSans-115\"/>\r\n     </g>\r\n    </g>\r\n    <g id=\"line2d_17\">\r\n     <path d=\"M 262.971875 50.094687 \r\nL 282.971875 50.094687 \r\n\" style=\"fill:none;stroke:#0000ff;stroke-linecap:square;stroke-width:1.5;\"/>\r\n    </g>\r\n    <g id=\"line2d_18\"/>\r\n    <g id=\"text_17\">\r\n     <!-- Validation Loss -->\r\n     <g transform=\"translate(290.971875 53.594687)scale(0.1 -0.1)\">\r\n      <use xlink:href=\"#DejaVuSans-86\"/>\r\n      <use x=\"68.298828\" xlink:href=\"#DejaVuSans-97\"/>\r\n      <use x=\"129.578125\" xlink:href=\"#DejaVuSans-108\"/>\r\n      <use x=\"157.361328\" xlink:href=\"#DejaVuSans-105\"/>\r\n      <use x=\"185.144531\" xlink:href=\"#DejaVuSans-100\"/>\r\n      <use x=\"248.621094\" xlink:href=\"#DejaVuSans-97\"/>\r\n      <use x=\"309.900391\" xlink:href=\"#DejaVuSans-116\"/>\r\n      <use x=\"349.109375\" xlink:href=\"#DejaVuSans-105\"/>\r\n      <use x=\"376.892578\" xlink:href=\"#DejaVuSans-111\"/>\r\n      <use x=\"438.074219\" xlink:href=\"#DejaVuSans-110\"/>\r\n      <use x=\"501.453125\" xlink:href=\"#DejaVuSans-32\"/>\r\n      <use x=\"533.240234\" xlink:href=\"#DejaVuSans-76\"/>\r\n      <use x=\"588.9375\" xlink:href=\"#DejaVuSans-111\"/>\r\n      <use x=\"650.119141\" xlink:href=\"#DejaVuSans-115\"/>\r\n      <use x=\"702.21875\" xlink:href=\"#DejaVuSans-115\"/>\r\n     </g>\r\n    </g>\r\n   </g>\r\n  </g>\r\n </g>\r\n <defs>\r\n  <clipPath id=\"p6758c084ef\">\r\n   <rect height=\"217.44\" width=\"334.8\" x=\"40.603125\" y=\"22.318125\"/>\r\n  </clipPath>\r\n </defs>\r\n</svg>\r\n",
      "image/png": "[encoded data removed]"
     },
     "metadata": {
      "needs_background": "light"
     }
    }
   ],
   "source": [
    "plt.plot(epochs,loss_value[:30],'bo',label='Training Loss')\n",
    "plt.plot(epochs,val_loss_values[:30],'b',label='Validation Loss')\n",
    "plt.title('Training and Validation loss')\n",
    "plt.xlabel('Epochs')\n",
    "plt.ylabel('Loss')\n",
    "plt.legend()\n",
    "plt.show()\n"
   ]
  }
 ]
}