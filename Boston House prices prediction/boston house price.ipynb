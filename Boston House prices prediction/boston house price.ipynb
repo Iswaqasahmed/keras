{
 "metadata": {
  "language_info": {
   "codemirror_mode": {
    "name": "ipython",
    "version": 3
   },
   "file_extension": ".py",
   "mimetype": "text/x-python",
   "name": "python",
   "nbconvert_exporter": "python",
   "pygments_lexer": "ipython3",
   "version": "3.7.3-final"
  },
  "orig_nbformat": 2,
  "kernelspec": {
   "name": "python3",
   "display_name": "Python 3.7.3 64-bit ('shariq': virtualenv)",
   "metadata": {
    "interpreter": {
     "hash": "2f9fbfe4749d0089818a674644891712019826e89c7f10430ca576b75f464ce7"
    }
   }
  }
 },
 "nbformat": 4,
 "nbformat_minor": 2,
 "cells": [
  {
   "cell_type": "code",
   "execution_count": 13,
   "metadata": {},
   "outputs": [],
   "source": [
    "# loading data of pre-loaded at keras\n",
    "from keras.datasets import boston_housing"
   ]
  },
  {
   "cell_type": "code",
   "execution_count": 14,
   "metadata": {},
   "outputs": [],
   "source": [
    "# break data into test and train. always try to split data 60:40, if data is messy you should do it 90:5:5 train,test and validation respectively\n",
    "(x_train,y_train),(x_test,y_test) = boston_housing.load_data()"
   ]
  },
  {
   "cell_type": "code",
   "execution_count": 15,
   "metadata": {},
   "outputs": [
    {
     "output_type": "stream",
     "name": "stdout",
     "text": [
      "Shape of training data:  (404, 13)\nShape of training label:  (404,)\nShape of test label:  (102, 13)\nShape of test label:  (102,)\n"
     ]
    }
   ],
   "source": [
    "print('Shape of training data: ',x_train.shape)\n",
    "print('Shape of training label: ',y_train.shape)\n",
    "print('Shape of test label: ',x_test.shape)\n",
    "print('Shape of test label: ',y_test.shape)\n"
   ]
  },
  {
   "cell_type": "code",
   "execution_count": 16,
   "metadata": {},
   "outputs": [
    {
     "output_type": "stream",
     "name": "stdout",
     "text": [
      "(104, 13)\n(104,)\n"
     ]
    }
   ],
   "source": [
    "# split data for validation\n",
    "x_val = x_train[300:,]\n",
    "y_val = y_train[300:,]\n",
    "print(x_val.shape)\n",
    "print(y_val.shape)"
   ]
  },
  {
   "cell_type": "code",
   "execution_count": 17,
   "metadata": {},
   "outputs": [],
   "source": [
    "# importing numpy, keras sequential model and layer \n",
    "import numpy as np\n",
    "from keras.models import Sequential\n",
    "from keras.layers import Dense,Activation"
   ]
  },
  {
   "cell_type": "code",
   "execution_count": 18,
   "metadata": {},
   "outputs": [],
   "source": [
    "# Define model architecture\n",
    "model = Sequential()\n",
    "model.add(Dense(13,input_dim=13,kernel_initializer='normal',activation='relu'))\n",
    "model.add(Dense(6,kernel_initializer ='normal',activation='relu'))\n",
    "model.add(Dense(1,kernel_initializer = 'normal',activation='sigmoid'))"
   ]
  },
  {
   "cell_type": "code",
   "execution_count": 19,
   "metadata": {},
   "outputs": [],
   "source": [
    "# Compile Model\n",
    "model.compile(loss='mean_squared_error',optimizer='adam',metrics=['mean_absolute_percentage_error'])\n"
   ]
  },
  {
   "cell_type": "code",
   "execution_count": 20,
   "metadata": {},
   "outputs": [
    {
     "output_type": "stream",
     "name": "stdout",
     "text": [
      "WARNING:tensorflow:From C:\\Users\\shariq\\Anaconda3\\lib\\site-packages\\keras\\backend\\tensorflow_backend.py:422: The name tf.global_variables is deprecated. Please use tf.compat.v1.global_variables instead.\n",
      "\n",
      "Train on 404 samples, validate on 104 samples\n",
      "Epoch 1/3\n",
      "404/404 [==============================] - 4s 9ms/step - loss: 564.9063 - mean_absolute_percentage_error: 97.4908 - val_loss: 657.4371 - val_mean_absolute_percentage_error: 97.5632\n",
      "Epoch 2/3\n",
      "404/404 [==============================] - 0s 146us/step - loss: 563.1317 - mean_absolute_percentage_error: 97.2767 - val_loss: 655.8588 - val_mean_absolute_percentage_error: 97.3975\n",
      "Epoch 3/3\n",
      "404/404 [==============================] - 0s 148us/step - loss: 561.1146 - mean_absolute_percentage_error: 97.0234 - val_loss: 652.4825 - val_mean_absolute_percentage_error: 97.0405\n"
     ]
    },
    {
     "output_type": "execute_result",
     "data": {
      "text/plain": [
       "<keras.callbacks.callbacks.History at 0x2447d9d8748>"
      ]
     },
     "metadata": {},
     "execution_count": 20
    }
   ],
   "source": [
    "# train the model\n",
    "model.fit(x_train,y_train,batch_size=32,epochs=3,validation_data=(x_val,y_val))\n"
   ]
  },
  {
   "cell_type": "code",
   "execution_count": 21,
   "metadata": {},
   "outputs": [
    {
     "output_type": "stream",
     "name": "stdout",
     "text": [
      "Epoch 1/10\n",
      "404/404 [==============================] - 0s 121us/step - loss: 556.5274 - mean_absolute_percentage_error: 96.4572\n",
      "Epoch 2/10\n",
      "404/404 [==============================] - 0s 230us/step - loss: 549.2262 - mean_absolute_percentage_error: 95.5503\n",
      "Epoch 3/10\n",
      "404/404 [==============================] - 0s 114us/step - loss: 544.2142 - mean_absolute_percentage_error: 94.9539\n",
      "Epoch 4/10\n",
      "404/404 [==============================] - 0s 96us/step - loss: 542.8696 - mean_absolute_percentage_error: 94.7979\n",
      "Epoch 5/10\n",
      "404/404 [==============================] - 0s 104us/step - loss: 542.5740 - mean_absolute_percentage_error: 94.7662\n",
      "Epoch 6/10\n",
      "404/404 [==============================] - 0s 225us/step - loss: 542.4938 - mean_absolute_percentage_error: 94.7573\n",
      "Epoch 7/10\n",
      "404/404 [==============================] - 0s 92us/step - loss: 542.4603 - mean_absolute_percentage_error: 94.7536\n",
      "Epoch 8/10\n",
      "404/404 [==============================] - 0s 106us/step - loss: 542.4418 - mean_absolute_percentage_error: 94.7515\n",
      "Epoch 9/10\n",
      "404/404 [==============================] - 0s 114us/step - loss: 542.4292 - mean_absolute_percentage_error: 94.7502\n",
      "Epoch 10/10\n",
      "404/404 [==============================] - 0s 228us/step - loss: 542.4201 - mean_absolute_percentage_error: 94.7492\n"
     ]
    },
    {
     "output_type": "execute_result",
     "data": {
      "text/plain": [
       "<keras.callbacks.callbacks.History at 0x2447db7b588>"
      ]
     },
     "metadata": {},
     "execution_count": 21
    }
   ],
   "source": [
    "# our losses goes to 95 % due to underfitting, so we should increase epoch size 3 to 10,15,30 and so on... with repect to loss\n",
    "\n",
    "model.fit(x_train,y_train,batch_size=32,epochs=10) "
   ]
  },
  {
   "cell_type": "code",
   "execution_count": 22,
   "metadata": {},
   "outputs": [
    {
     "output_type": "stream",
     "name": "stdout",
     "text": [
      "Epoch 1/15\n",
      "404/404 [==============================] - 0s 188us/step - loss: 542.4130 - mean_absolute_percentage_error: 94.7485\n",
      "Epoch 2/15\n",
      "404/404 [==============================] - 0s 156us/step - loss: 542.4073 - mean_absolute_percentage_error: 94.7479\n",
      "Epoch 3/15\n",
      "404/404 [==============================] - 0s 109us/step - loss: 542.4028 - mean_absolute_percentage_error: 94.7474\n",
      "Epoch 4/15\n",
      "404/404 [==============================] - 0s 94us/step - loss: 542.3991 - mean_absolute_percentage_error: 94.7470\n",
      "Epoch 5/15\n",
      "404/404 [==============================] - 0s 126us/step - loss: 542.3960 - mean_absolute_percentage_error: 94.7466\n",
      "Epoch 6/15\n",
      "404/404 [==============================] - 0s 156us/step - loss: 542.3933 - mean_absolute_percentage_error: 94.7463\n",
      "Epoch 7/15\n",
      "404/404 [==============================] - 0s 109us/step - loss: 542.3911 - mean_absolute_percentage_error: 94.7461\n",
      "Epoch 8/15\n",
      "404/404 [==============================] - 0s 99us/step - loss: 542.3892 - mean_absolute_percentage_error: 94.7459\n",
      "Epoch 9/15\n",
      "404/404 [==============================] - 0s 139us/step - loss: 542.3875 - mean_absolute_percentage_error: 94.7457\n",
      "Epoch 10/15\n",
      "404/404 [==============================] - 0s 104us/step - loss: 542.3860 - mean_absolute_percentage_error: 94.7456\n",
      "Epoch 11/15\n",
      "404/404 [==============================] - 0s 119us/step - loss: 542.3847 - mean_absolute_percentage_error: 94.7454\n",
      "Epoch 12/15\n",
      "404/404 [==============================] - 0s 94us/step - loss: 542.3837 - mean_absolute_percentage_error: 94.7453\n",
      "Epoch 13/15\n",
      "404/404 [==============================] - 0s 106us/step - loss: 542.3826 - mean_absolute_percentage_error: 94.7452\n",
      "Epoch 14/15\n",
      "404/404 [==============================] - 0s 208us/step - loss: 542.3818 - mean_absolute_percentage_error: 94.7451\n",
      "Epoch 15/15\n",
      "404/404 [==============================] - 0s 193us/step - loss: 542.3810 - mean_absolute_percentage_error: 94.7450\n"
     ]
    },
    {
     "output_type": "execute_result",
     "data": {
      "text/plain": [
       "<keras.callbacks.callbacks.History at 0x2447dc139b0>"
      ]
     },
     "metadata": {},
     "execution_count": 22
    }
   ],
   "source": [
    "model.fit(x_train,y_train,batch_size=32,epochs=15)"
   ]
  },
  {
   "cell_type": "code",
   "execution_count": 23,
   "metadata": {},
   "outputs": [
    {
     "output_type": "stream",
     "name": "stdout",
     "text": [
      "Epoch 1/30\n",
      "404/404 [==============================] - 0s 139us/step - loss: 542.3803 - mean_absolute_percentage_error: 94.7449\n",
      "Epoch 2/30\n",
      "404/404 [==============================] - 0s 114us/step - loss: 542.3796 - mean_absolute_percentage_error: 94.7449\n",
      "Epoch 3/30\n",
      "404/404 [==============================] - 0s 116us/step - loss: 542.3790 - mean_absolute_percentage_error: 94.7448\n",
      "Epoch 4/30\n",
      "404/404 [==============================] - 0s 178us/step - loss: 542.3785 - mean_absolute_percentage_error: 94.7448\n",
      "Epoch 5/30\n",
      "404/404 [==============================] - 0s 111us/step - loss: 542.3780 - mean_absolute_percentage_error: 94.7447\n",
      "Epoch 6/30\n",
      "404/404 [==============================] - 0s 129us/step - loss: 542.3776 - mean_absolute_percentage_error: 94.7447\n",
      "Epoch 7/30\n",
      "404/404 [==============================] - 0s 171us/step - loss: 542.3772 - mean_absolute_percentage_error: 94.7446\n",
      "Epoch 8/30\n",
      "404/404 [==============================] - 0s 156us/step - loss: 542.3768 - mean_absolute_percentage_error: 94.7446\n",
      "Epoch 9/30\n",
      "404/404 [==============================] - 0s 106us/step - loss: 542.3765 - mean_absolute_percentage_error: 94.7445\n",
      "Epoch 10/30\n",
      "404/404 [==============================] - 0s 109us/step - loss: 542.3762 - mean_absolute_percentage_error: 94.7445\n",
      "Epoch 11/30\n",
      "404/404 [==============================] - 0s 109us/step - loss: 542.3759 - mean_absolute_percentage_error: 94.7445\n",
      "Epoch 12/30\n",
      "404/404 [==============================] - 0s 89us/step - loss: 542.3756 - mean_absolute_percentage_error: 94.7444\n",
      "Epoch 13/30\n",
      "404/404 [==============================] - 0s 119us/step - loss: 542.3753 - mean_absolute_percentage_error: 94.7444\n",
      "Epoch 14/30\n",
      "404/404 [==============================] - 0s 124us/step - loss: 542.3751 - mean_absolute_percentage_error: 94.7444\n",
      "Epoch 15/30\n",
      "404/404 [==============================] - 0s 166us/step - loss: 542.3749 - mean_absolute_percentage_error: 94.7444\n",
      "Epoch 16/30\n",
      "404/404 [==============================] - 0s 106us/step - loss: 542.3747 - mean_absolute_percentage_error: 94.7444\n",
      "Epoch 17/30\n",
      "404/404 [==============================] - 0s 156us/step - loss: 542.3745 - mean_absolute_percentage_error: 94.7443\n",
      "Epoch 18/30\n",
      "404/404 [==============================] - 0s 143us/step - loss: 542.3743 - mean_absolute_percentage_error: 94.7443\n",
      "Epoch 19/30\n",
      "404/404 [==============================] - 0s 96us/step - loss: 542.3742 - mean_absolute_percentage_error: 94.7443\n",
      "Epoch 20/30\n",
      "404/404 [==============================] - 0s 99us/step - loss: 542.3740 - mean_absolute_percentage_error: 94.7443\n",
      "Epoch 21/30\n",
      "404/404 [==============================] - 0s 119us/step - loss: 542.3739 - mean_absolute_percentage_error: 94.7443\n",
      "Epoch 22/30\n",
      "404/404 [==============================] - 0s 126us/step - loss: 542.3737 - mean_absolute_percentage_error: 94.7442\n",
      "Epoch 23/30\n",
      "404/404 [==============================] - 0s 99us/step - loss: 542.3736 - mean_absolute_percentage_error: 94.7442\n",
      "Epoch 24/30\n",
      "404/404 [==============================] - 0s 252us/step - loss: 542.3735 - mean_absolute_percentage_error: 94.7442\n",
      "Epoch 25/30\n",
      "404/404 [==============================] - 0s 205us/step - loss: 542.3734 - mean_absolute_percentage_error: 94.7442\n",
      "Epoch 26/30\n",
      "404/404 [==============================] - 0s 109us/step - loss: 542.3733 - mean_absolute_percentage_error: 94.7442\n",
      "Epoch 27/30\n",
      "404/404 [==============================] - 0s 96us/step - loss: 542.3731 - mean_absolute_percentage_error: 94.7442\n",
      "Epoch 28/30\n",
      "404/404 [==============================] - 0s 181us/step - loss: 542.3731 - mean_absolute_percentage_error: 94.7442\n",
      "Epoch 29/30\n",
      "404/404 [==============================] - 0s 181us/step - loss: 542.3730 - mean_absolute_percentage_error: 94.7442\n",
      "Epoch 30/30\n",
      "404/404 [==============================] - 0s 181us/step - loss: 542.3729 - mean_absolute_percentage_error: 94.7441\n"
     ]
    },
    {
     "output_type": "execute_result",
     "data": {
      "text/plain": [
       "<keras.callbacks.callbacks.History at 0x2447dad5240>"
      ]
     },
     "metadata": {},
     "execution_count": 23
    }
   ],
   "source": [
    "model.fit(x_train,y_train,batch_size=32,epochs=30)"
   ]
  },
  {
   "cell_type": "code",
   "execution_count": 24,
   "metadata": {},
   "outputs": [
    {
     "output_type": "stream",
     "name": "stdout",
     "text": [
      "Epoch 1/50\n",
      "404/404 [==============================] - 0s 163us/step - loss: 542.3728 - mean_absolute_percentage_error: 94.7441\n",
      "Epoch 2/50\n",
      "404/404 [==============================] - 0s 205us/step - loss: 542.3727 - mean_absolute_percentage_error: 94.7441\n",
      "Epoch 3/50\n",
      "404/404 [==============================] - 0s 114us/step - loss: 542.3726 - mean_absolute_percentage_error: 94.7441\n",
      "Epoch 4/50\n",
      "404/404 [==============================] - 0s 198us/step - loss: 542.3726 - mean_absolute_percentage_error: 94.7441\n",
      "Epoch 5/50\n",
      "404/404 [==============================] - 0s 260us/step - loss: 542.3725 - mean_absolute_percentage_error: 94.7441\n",
      "Epoch 6/50\n",
      "404/404 [==============================] - 0s 188us/step - loss: 542.3724 - mean_absolute_percentage_error: 94.7441\n",
      "Epoch 7/50\n",
      "404/404 [==============================] - 0s 129us/step - loss: 542.3724 - mean_absolute_percentage_error: 94.7441\n",
      "Epoch 8/50\n",
      "404/404 [==============================] - 0s 245us/step - loss: 542.3723 - mean_absolute_percentage_error: 94.7441\n",
      "Epoch 9/50\n",
      "404/404 [==============================] - 0s 188us/step - loss: 542.3723 - mean_absolute_percentage_error: 94.7441\n",
      "Epoch 10/50\n",
      "404/404 [==============================] - 0s 114us/step - loss: 542.3722 - mean_absolute_percentage_error: 94.7441\n",
      "Epoch 11/50\n",
      "404/404 [==============================] - 0s 104us/step - loss: 542.3722 - mean_absolute_percentage_error: 94.7441\n",
      "Epoch 12/50\n",
      "404/404 [==============================] - 0s 109us/step - loss: 542.3721 - mean_absolute_percentage_error: 94.7441\n",
      "Epoch 13/50\n",
      "404/404 [==============================] - 0s 124us/step - loss: 542.3721 - mean_absolute_percentage_error: 94.7441\n",
      "Epoch 14/50\n",
      "404/404 [==============================] - 0s 129us/step - loss: 542.3720 - mean_absolute_percentage_error: 94.7441\n",
      "Epoch 15/50\n",
      "404/404 [==============================] - 0s 146us/step - loss: 542.3720 - mean_absolute_percentage_error: 94.7440\n",
      "Epoch 16/50\n",
      "404/404 [==============================] - 0s 195us/step - loss: 542.3719 - mean_absolute_percentage_error: 94.7440\n",
      "Epoch 17/50\n",
      "404/404 [==============================] - 0s 198us/step - loss: 542.3719 - mean_absolute_percentage_error: 94.7440\n",
      "Epoch 18/50\n",
      "404/404 [==============================] - 0s 99us/step - loss: 542.3718 - mean_absolute_percentage_error: 94.7440\n",
      "Epoch 19/50\n",
      "404/404 [==============================] - 0s 270us/step - loss: 542.3718 - mean_absolute_percentage_error: 94.7440\n",
      "Epoch 20/50\n",
      "404/404 [==============================] - 0s 106us/step - loss: 542.3718 - mean_absolute_percentage_error: 94.7440\n",
      "Epoch 21/50\n",
      "404/404 [==============================] - 0s 124us/step - loss: 542.3717 - mean_absolute_percentage_error: 94.7440\n",
      "Epoch 22/50\n",
      "404/404 [==============================] - 0s 193us/step - loss: 542.3717 - mean_absolute_percentage_error: 94.7440\n",
      "Epoch 23/50\n",
      "404/404 [==============================] - 0s 151us/step - loss: 542.3717 - mean_absolute_percentage_error: 94.7440\n",
      "Epoch 24/50\n",
      "404/404 [==============================] - 0s 92us/step - loss: 542.3716 - mean_absolute_percentage_error: 94.7440\n",
      "Epoch 25/50\n",
      "404/404 [==============================] - 0s 111us/step - loss: 542.3716 - mean_absolute_percentage_error: 94.7440\n",
      "Epoch 26/50\n",
      "404/404 [==============================] - 0s 99us/step - loss: 542.3716 - mean_absolute_percentage_error: 94.7440\n",
      "Epoch 27/50\n",
      "404/404 [==============================] - 0s 129us/step - loss: 542.3716 - mean_absolute_percentage_error: 94.7440\n",
      "Epoch 28/50\n",
      "404/404 [==============================] - 0s 82us/step - loss: 542.3715 - mean_absolute_percentage_error: 94.7440\n",
      "Epoch 29/50\n",
      "404/404 [==============================] - 0s 195us/step - loss: 542.3715 - mean_absolute_percentage_error: 94.7440\n",
      "Epoch 30/50\n",
      "404/404 [==============================] - 0s 124us/step - loss: 542.3715 - mean_absolute_percentage_error: 94.7440\n",
      "Epoch 31/50\n",
      "404/404 [==============================] - 0s 124us/step - loss: 542.3714 - mean_absolute_percentage_error: 94.7440\n",
      "Epoch 32/50\n",
      "404/404 [==============================] - 0s 173us/step - loss: 542.3714 - mean_absolute_percentage_error: 94.7440\n",
      "Epoch 33/50\n",
      "404/404 [==============================] - 0s 203us/step - loss: 542.3714 - mean_absolute_percentage_error: 94.7440\n",
      "Epoch 34/50\n",
      "404/404 [==============================] - 0s 92us/step - loss: 542.3714 - mean_absolute_percentage_error: 94.7440\n",
      "Epoch 35/50\n",
      "404/404 [==============================] - 0s 218us/step - loss: 542.3714 - mean_absolute_percentage_error: 94.7440\n",
      "Epoch 36/50\n",
      "404/404 [==============================] - 0s 218us/step - loss: 542.3713 - mean_absolute_percentage_error: 94.7440\n",
      "Epoch 37/50\n",
      "404/404 [==============================] - 0s 84us/step - loss: 542.3713 - mean_absolute_percentage_error: 94.7440\n",
      "Epoch 38/50\n",
      "404/404 [==============================] - 0s 84us/step - loss: 542.3713 - mean_absolute_percentage_error: 94.7440\n",
      "Epoch 39/50\n",
      "404/404 [==============================] - 0s 129us/step - loss: 542.3713 - mean_absolute_percentage_error: 94.7440\n",
      "Epoch 40/50\n",
      "404/404 [==============================] - 0s 173us/step - loss: 542.3713 - mean_absolute_percentage_error: 94.7440\n",
      "Epoch 41/50\n",
      "404/404 [==============================] - 0s 99us/step - loss: 542.3712 - mean_absolute_percentage_error: 94.7440\n",
      "Epoch 42/50\n",
      "404/404 [==============================] - 0s 129us/step - loss: 542.3712 - mean_absolute_percentage_error: 94.7440\n",
      "Epoch 43/50\n",
      "404/404 [==============================] - 0s 109us/step - loss: 542.3712 - mean_absolute_percentage_error: 94.7440\n",
      "Epoch 44/50\n",
      "404/404 [==============================] - 0s 87us/step - loss: 542.3712 - mean_absolute_percentage_error: 94.7440\n",
      "Epoch 45/50\n",
      "404/404 [==============================] - 0s 99us/step - loss: 542.3712 - mean_absolute_percentage_error: 94.7440\n",
      "Epoch 46/50\n",
      "404/404 [==============================] - 0s 208us/step - loss: 542.3712 - mean_absolute_percentage_error: 94.7440\n",
      "Epoch 47/50\n",
      "404/404 [==============================] - 0s 126us/step - loss: 542.3711 - mean_absolute_percentage_error: 94.7440\n",
      "Epoch 48/50\n",
      "404/404 [==============================] - 0s 114us/step - loss: 542.3711 - mean_absolute_percentage_error: 94.7440\n",
      "Epoch 49/50\n",
      "404/404 [==============================] - 0s 173us/step - loss: 542.3711 - mean_absolute_percentage_error: 94.7440\n",
      "Epoch 50/50\n",
      "404/404 [==============================] - 0s 176us/step - loss: 542.3711 - mean_absolute_percentage_error: 94.7439\n"
     ]
    },
    {
     "output_type": "execute_result",
     "data": {
      "text/plain": [
       "<keras.callbacks.callbacks.History at 0x2447da8fcf8>"
      ]
     },
     "metadata": {},
     "execution_count": 24
    }
   ],
   "source": [
    "model.fit(x_train,y_train,batch_size=32,epochs=50)\n"
   ]
  },
  {
   "cell_type": "code",
   "execution_count": 25,
   "metadata": {},
   "outputs": [],
   "source": [
    "# have you noticed that although we have change epochs size but loss remain same why? because at the end we use sigmoid that the reason,\n",
    "model = Sequential()\n",
    "model.add(Dense(13,input_dim=13,kernel_initializer='normal',activation='relu'))\n",
    "model.add(Dense(6,kernel_initializer ='normal',activation='relu'))\n",
    "model.add(Dense(1,kernel_initializer = 'normal'))\n",
    "model.compile(loss='mean_squared_error',optimizer='adam',metrics=['mean_absolute_percentage_error'])\n"
   ]
  },
  {
   "cell_type": "code",
   "execution_count": 26,
   "metadata": {},
   "outputs": [
    {
     "output_type": "stream",
     "name": "stdout",
     "text": [
      "Train on 404 samples, validate on 104 samples\n",
      "Epoch 1/3\n",
      "404/404 [==============================] - 4s 10ms/step - loss: 580.8242 - mean_absolute_percentage_error: 99.2906 - val_loss: 649.9015 - val_mean_absolute_percentage_error: 96.5769\n",
      "Epoch 2/3\n",
      "404/404 [==============================] - 0s 195us/step - loss: 531.7707 - mean_absolute_percentage_error: 93.1446 - val_loss: 584.6235 - val_mean_absolute_percentage_error: 89.3949\n",
      "Epoch 3/3\n",
      "404/404 [==============================] - 0s 129us/step - loss: 457.2290 - mean_absolute_percentage_error: 82.3371 - val_loss: 472.3762 - val_mean_absolute_percentage_error: 75.2421\n"
     ]
    },
    {
     "output_type": "execute_result",
     "data": {
      "text/plain": [
       "<keras.callbacks.callbacks.History at 0x2447dafe908>"
      ]
     },
     "metadata": {},
     "execution_count": 26
    }
   ],
   "source": [
    "model.fit(x_train,y_train,batch_size=32,epochs=3,validation_data=(x_val,y_val))\n"
   ]
  },
  {
   "cell_type": "code",
   "execution_count": 27,
   "metadata": {},
   "outputs": [
    {
     "output_type": "stream",
     "name": "stdout",
     "text": [
      "Train on 404 samples, validate on 104 samples\n",
      "Epoch 1/10\n",
      "404/404 [==============================] - 0s 287us/step - loss: 327.5293 - mean_absolute_percentage_error: 62.8445 - val_loss: 295.9695 - val_mean_absolute_percentage_error: 50.7855\n",
      "Epoch 2/10\n",
      "404/404 [==============================] - 0s 299us/step - loss: 179.6183 - mean_absolute_percentage_error: 45.1118 - val_loss: 155.4276 - val_mean_absolute_percentage_error: 39.9582\n",
      "Epoch 3/10\n",
      "404/404 [==============================] - 0s 309us/step - loss: 130.0358 - mean_absolute_percentage_error: 47.9690 - val_loss: 137.5957 - val_mean_absolute_percentage_error: 42.6624\n",
      "Epoch 4/10\n",
      "404/404 [==============================] - 0s 354us/step - loss: 117.6778 - mean_absolute_percentage_error: 44.9111 - val_loss: 129.9482 - val_mean_absolute_percentage_error: 36.7527\n",
      "Epoch 5/10\n",
      "404/404 [==============================] - 0s 272us/step - loss: 107.2652 - mean_absolute_percentage_error: 38.7908 - val_loss: 125.3869 - val_mean_absolute_percentage_error: 33.7257\n",
      "Epoch 6/10\n",
      "404/404 [==============================] - 0s 203us/step - loss: 99.1304 - mean_absolute_percentage_error: 36.8708 - val_loss: 113.3117 - val_mean_absolute_percentage_error: 33.3444\n",
      "Epoch 7/10\n",
      "404/404 [==============================] - 0s 208us/step - loss: 92.5264 - mean_absolute_percentage_error: 37.1863 - val_loss: 106.0154 - val_mean_absolute_percentage_error: 32.7985\n",
      "Epoch 8/10\n",
      "404/404 [==============================] - 0s 173us/step - loss: 87.4189 - mean_absolute_percentage_error: 33.3809 - val_loss: 104.4509 - val_mean_absolute_percentage_error: 29.1544\n",
      "Epoch 9/10\n",
      "404/404 [==============================] - 0s 183us/step - loss: 80.4176 - mean_absolute_percentage_error: 32.4389 - val_loss: 96.1761 - val_mean_absolute_percentage_error: 29.7982\n",
      "Epoch 10/10\n",
      "404/404 [==============================] - 0s 166us/step - loss: 76.2131 - mean_absolute_percentage_error: 31.9517 - val_loss: 93.3281 - val_mean_absolute_percentage_error: 27.8161\n"
     ]
    },
    {
     "output_type": "execute_result",
     "data": {
      "text/plain": [
       "<keras.callbacks.callbacks.History at 0x2447f872cc0>"
      ]
     },
     "metadata": {},
     "execution_count": 27
    }
   ],
   "source": [
    "model.fit(x_train,y_train,batch_size=32,epochs=10,validation_data=(x_val,y_val))\n"
   ]
  },
  {
   "cell_type": "code",
   "execution_count": 28,
   "metadata": {},
   "outputs": [
    {
     "output_type": "stream",
     "name": "stdout",
     "text": [
      "Train on 404 samples, validate on 104 samples\n",
      "Epoch 1/15\n",
      "404/404 [==============================] - 0s 151us/step - loss: 72.3800 - mean_absolute_percentage_error: 30.7242 - val_loss: 89.5265 - val_mean_absolute_percentage_error: 27.3005\n",
      "Epoch 2/15\n",
      "404/404 [==============================] - 0s 181us/step - loss: 69.5953 - mean_absolute_percentage_error: 29.1686 - val_loss: 88.2993 - val_mean_absolute_percentage_error: 25.6163\n",
      "Epoch 3/15\n",
      "404/404 [==============================] - 0s 116us/step - loss: 66.6026 - mean_absolute_percentage_error: 28.6069 - val_loss: 85.9571 - val_mean_absolute_percentage_error: 25.2564\n",
      "Epoch 4/15\n",
      "404/404 [==============================] - 0s 176us/step - loss: 65.2830 - mean_absolute_percentage_error: 28.3988 - val_loss: 84.0845 - val_mean_absolute_percentage_error: 24.9246\n",
      "Epoch 5/15\n",
      "404/404 [==============================] - 0s 171us/step - loss: 63.8183 - mean_absolute_percentage_error: 27.1455 - val_loss: 84.8478 - val_mean_absolute_percentage_error: 23.6775\n",
      "Epoch 6/15\n",
      "404/404 [==============================] - 0s 289us/step - loss: 62.6444 - mean_absolute_percentage_error: 27.6407 - val_loss: 82.7638 - val_mean_absolute_percentage_error: 24.2172\n",
      "Epoch 7/15\n",
      "404/404 [==============================] - 0s 225us/step - loss: 61.4581 - mean_absolute_percentage_error: 27.3984 - val_loss: 82.5003 - val_mean_absolute_percentage_error: 23.9188\n",
      "Epoch 8/15\n",
      "404/404 [==============================] - 0s 178us/step - loss: 60.9106 - mean_absolute_percentage_error: 26.8295 - val_loss: 83.2378 - val_mean_absolute_percentage_error: 23.2273\n",
      "Epoch 9/15\n",
      "404/404 [==============================] - 0s 131us/step - loss: 60.4258 - mean_absolute_percentage_error: 26.6195 - val_loss: 80.7670 - val_mean_absolute_percentage_error: 24.5686\n",
      "Epoch 10/15\n",
      "404/404 [==============================] - 0s 141us/step - loss: 60.1529 - mean_absolute_percentage_error: 26.0799 - val_loss: 82.6808 - val_mean_absolute_percentage_error: 22.9672\n",
      "Epoch 11/15\n",
      "404/404 [==============================] - 0s 116us/step - loss: 59.6196 - mean_absolute_percentage_error: 27.0466 - val_loss: 80.0976 - val_mean_absolute_percentage_error: 24.4335\n",
      "Epoch 12/15\n",
      "404/404 [==============================] - 0s 203us/step - loss: 58.6092 - mean_absolute_percentage_error: 25.9507 - val_loss: 81.4254 - val_mean_absolute_percentage_error: 23.1149\n",
      "Epoch 13/15\n",
      "404/404 [==============================] - 0s 190us/step - loss: 58.4906 - mean_absolute_percentage_error: 25.4774 - val_loss: 81.0030 - val_mean_absolute_percentage_error: 23.1005\n",
      "Epoch 14/15\n",
      "404/404 [==============================] - 0s 131us/step - loss: 57.9200 - mean_absolute_percentage_error: 25.0076 - val_loss: 80.0870 - val_mean_absolute_percentage_error: 23.4283\n",
      "Epoch 15/15\n",
      "404/404 [==============================] - 0s 191us/step - loss: 57.4136 - mean_absolute_percentage_error: 25.9221 - val_loss: 79.3276 - val_mean_absolute_percentage_error: 23.7125\n"
     ]
    },
    {
     "output_type": "execute_result",
     "data": {
      "text/plain": [
       "<keras.callbacks.callbacks.History at 0x2447f872240>"
      ]
     },
     "metadata": {},
     "execution_count": 28
    }
   ],
   "source": [
    "model.fit(x_train,y_train,batch_size=32,epochs=15,validation_data=(x_val,y_val))\n"
   ]
  },
  {
   "cell_type": "code",
   "execution_count": 29,
   "metadata": {},
   "outputs": [
    {
     "output_type": "stream",
     "name": "stdout",
     "text": [
      "Train on 404 samples, validate on 104 samples\n",
      "Epoch 1/50\n",
      "404/404 [==============================] - 0s 193us/step - loss: 57.1293 - mean_absolute_percentage_error: 25.2285 - val_loss: 79.5410 - val_mean_absolute_percentage_error: 23.2187\n",
      "Epoch 2/50\n",
      "404/404 [==============================] - 0s 171us/step - loss: 56.7299 - mean_absolute_percentage_error: 24.7571 - val_loss: 79.7147 - val_mean_absolute_percentage_error: 22.8670\n",
      "Epoch 3/50\n",
      "404/404 [==============================] - 0s 218us/step - loss: 56.2913 - mean_absolute_percentage_error: 25.1461 - val_loss: 78.1594 - val_mean_absolute_percentage_error: 23.5464\n",
      "Epoch 4/50\n",
      "404/404 [==============================] - 0s 193us/step - loss: 56.1579 - mean_absolute_percentage_error: 25.3878 - val_loss: 78.2605 - val_mean_absolute_percentage_error: 23.1120\n",
      "Epoch 5/50\n",
      "404/404 [==============================] - 0s 223us/step - loss: 55.8294 - mean_absolute_percentage_error: 25.4172 - val_loss: 77.8350 - val_mean_absolute_percentage_error: 23.0381\n",
      "Epoch 6/50\n",
      "404/404 [==============================] - 0s 230us/step - loss: 55.5549 - mean_absolute_percentage_error: 24.2561 - val_loss: 77.4138 - val_mean_absolute_percentage_error: 23.0054\n",
      "Epoch 7/50\n",
      "404/404 [==============================] - 0s 371us/step - loss: 55.4417 - mean_absolute_percentage_error: 26.1793 - val_loss: 76.6339 - val_mean_absolute_percentage_error: 23.2693\n",
      "Epoch 8/50\n",
      "404/404 [==============================] - 0s 277us/step - loss: 54.8062 - mean_absolute_percentage_error: 24.7355 - val_loss: 77.3765 - val_mean_absolute_percentage_error: 22.5034\n",
      "Epoch 9/50\n",
      "404/404 [==============================] - 0s 193us/step - loss: 54.5643 - mean_absolute_percentage_error: 24.0498 - val_loss: 75.9980 - val_mean_absolute_percentage_error: 23.0143\n",
      "Epoch 10/50\n",
      "404/404 [==============================] - 0s 280us/step - loss: 54.1773 - mean_absolute_percentage_error: 24.5477 - val_loss: 75.5738 - val_mean_absolute_percentage_error: 22.9805\n",
      "Epoch 11/50\n",
      "404/404 [==============================] - 0s 250us/step - loss: 53.8138 - mean_absolute_percentage_error: 24.8334 - val_loss: 75.2186 - val_mean_absolute_percentage_error: 22.8683\n",
      "Epoch 12/50\n",
      "404/404 [==============================] - 0s 242us/step - loss: 53.5172 - mean_absolute_percentage_error: 24.5610 - val_loss: 74.8942 - val_mean_absolute_percentage_error: 22.7261\n",
      "Epoch 13/50\n",
      "404/404 [==============================] - 0s 240us/step - loss: 53.0976 - mean_absolute_percentage_error: 24.6510 - val_loss: 74.0470 - val_mean_absolute_percentage_error: 22.9808\n",
      "Epoch 14/50\n",
      "404/404 [==============================] - 0s 237us/step - loss: 52.7283 - mean_absolute_percentage_error: 24.8501 - val_loss: 74.6692 - val_mean_absolute_percentage_error: 22.1839\n",
      "Epoch 15/50\n",
      "404/404 [==============================] - 0s 200us/step - loss: 52.6572 - mean_absolute_percentage_error: 23.1325 - val_loss: 73.6774 - val_mean_absolute_percentage_error: 22.4381\n",
      "Epoch 16/50\n",
      "404/404 [==============================] - 0s 198us/step - loss: 52.5673 - mean_absolute_percentage_error: 24.9804 - val_loss: 72.3414 - val_mean_absolute_percentage_error: 23.0261\n",
      "Epoch 17/50\n",
      "404/404 [==============================] - 0s 178us/step - loss: 52.2055 - mean_absolute_percentage_error: 23.1574 - val_loss: 73.4576 - val_mean_absolute_percentage_error: 21.9163\n",
      "Epoch 18/50\n",
      "404/404 [==============================] - 0s 136us/step - loss: 52.2186 - mean_absolute_percentage_error: 25.7003 - val_loss: 71.7126 - val_mean_absolute_percentage_error: 22.6312\n",
      "Epoch 19/50\n",
      "404/404 [==============================] - 0s 240us/step - loss: 51.0071 - mean_absolute_percentage_error: 23.0315 - val_loss: 72.9334 - val_mean_absolute_percentage_error: 21.5657\n",
      "Epoch 20/50\n",
      "404/404 [==============================] - 0s 126us/step - loss: 50.8457 - mean_absolute_percentage_error: 24.0909 - val_loss: 70.1386 - val_mean_absolute_percentage_error: 23.0999\n",
      "Epoch 21/50\n",
      "404/404 [==============================] - 0s 146us/step - loss: 50.0124 - mean_absolute_percentage_error: 23.9443 - val_loss: 71.5592 - val_mean_absolute_percentage_error: 21.5577\n",
      "Epoch 22/50\n",
      "404/404 [==============================] - 0s 111us/step - loss: 49.9479 - mean_absolute_percentage_error: 22.9098 - val_loss: 70.3582 - val_mean_absolute_percentage_error: 21.8666\n",
      "Epoch 23/50\n",
      "404/404 [==============================] - 0s 143us/step - loss: 50.1187 - mean_absolute_percentage_error: 23.8231 - val_loss: 70.2003 - val_mean_absolute_percentage_error: 21.5724\n",
      "Epoch 24/50\n",
      "404/404 [==============================] - 0s 218us/step - loss: 49.0526 - mean_absolute_percentage_error: 23.4355 - val_loss: 68.5617 - val_mean_absolute_percentage_error: 22.3425\n",
      "Epoch 25/50\n",
      "404/404 [==============================] - 0s 106us/step - loss: 49.3741 - mean_absolute_percentage_error: 23.1305 - val_loss: 67.8088 - val_mean_absolute_percentage_error: 22.4518\n",
      "Epoch 26/50\n",
      "404/404 [==============================] - 0s 255us/step - loss: 49.0897 - mean_absolute_percentage_error: 22.8931 - val_loss: 67.7886 - val_mean_absolute_percentage_error: 21.9058\n",
      "Epoch 27/50\n",
      "404/404 [==============================] - 0s 193us/step - loss: 48.3355 - mean_absolute_percentage_error: 24.6409 - val_loss: 67.9625 - val_mean_absolute_percentage_error: 21.2547\n",
      "Epoch 28/50\n",
      "404/404 [==============================] - 0s 146us/step - loss: 48.1689 - mean_absolute_percentage_error: 22.0441 - val_loss: 66.4147 - val_mean_absolute_percentage_error: 21.9025\n",
      "Epoch 29/50\n",
      "404/404 [==============================] - 0s 148us/step - loss: 47.3066 - mean_absolute_percentage_error: 23.0758 - val_loss: 67.1205 - val_mean_absolute_percentage_error: 20.9308\n",
      "Epoch 30/50\n",
      "404/404 [==============================] - 0s 208us/step - loss: 47.0739 - mean_absolute_percentage_error: 23.0491 - val_loss: 66.8890 - val_mean_absolute_percentage_error: 20.6376\n",
      "Epoch 31/50\n",
      "404/404 [==============================] - 0s 176us/step - loss: 46.6926 - mean_absolute_percentage_error: 23.1237 - val_loss: 65.8647 - val_mean_absolute_percentage_error: 20.7739\n",
      "Epoch 32/50\n",
      "404/404 [==============================] - 0s 176us/step - loss: 46.7820 - mean_absolute_percentage_error: 20.9502 - val_loss: 63.9147 - val_mean_absolute_percentage_error: 21.7918\n",
      "Epoch 33/50\n",
      "404/404 [==============================] - 0s 228us/step - loss: 45.9054 - mean_absolute_percentage_error: 24.4473 - val_loss: 64.3505 - val_mean_absolute_percentage_error: 20.7818\n",
      "Epoch 34/50\n",
      "404/404 [==============================] - 0s 242us/step - loss: 44.8039 - mean_absolute_percentage_error: 21.3572 - val_loss: 64.3030 - val_mean_absolute_percentage_error: 20.3316\n",
      "Epoch 35/50\n",
      "404/404 [==============================] - 0s 156us/step - loss: 44.4006 - mean_absolute_percentage_error: 21.9882 - val_loss: 62.1483 - val_mean_absolute_percentage_error: 21.5156\n",
      "Epoch 36/50\n",
      "404/404 [==============================] - 0s 153us/step - loss: 44.4079 - mean_absolute_percentage_error: 22.4604 - val_loss: 63.1291 - val_mean_absolute_percentage_error: 20.0431\n",
      "Epoch 37/50\n",
      "404/404 [==============================] - 0s 139us/step - loss: 43.9841 - mean_absolute_percentage_error: 20.4809 - val_loss: 60.6678 - val_mean_absolute_percentage_error: 21.4818\n",
      "Epoch 38/50\n",
      "404/404 [==============================] - 0s 109us/step - loss: 43.4860 - mean_absolute_percentage_error: 23.2192 - val_loss: 61.9224 - val_mean_absolute_percentage_error: 19.7821\n",
      "Epoch 39/50\n",
      "404/404 [==============================] - 0s 158us/step - loss: 42.9534 - mean_absolute_percentage_error: 20.0766 - val_loss: 59.2827 - val_mean_absolute_percentage_error: 21.2568\n",
      "Epoch 40/50\n",
      "404/404 [==============================] - 0s 124us/step - loss: 42.4717 - mean_absolute_percentage_error: 22.8795 - val_loss: 60.2361 - val_mean_absolute_percentage_error: 19.7120\n",
      "Epoch 41/50\n",
      "404/404 [==============================] - 0s 151us/step - loss: 41.4632 - mean_absolute_percentage_error: 20.6921 - val_loss: 58.6925 - val_mean_absolute_percentage_error: 20.1555\n",
      "Epoch 42/50\n",
      "404/404 [==============================] - 0s 119us/step - loss: 40.9742 - mean_absolute_percentage_error: 21.1931 - val_loss: 57.7510 - val_mean_absolute_percentage_error: 20.2019\n",
      "Epoch 43/50\n",
      "404/404 [==============================] - 0s 121us/step - loss: 40.3780 - mean_absolute_percentage_error: 20.8415 - val_loss: 56.8233 - val_mean_absolute_percentage_error: 20.3188\n",
      "Epoch 44/50\n",
      "404/404 [==============================] - 0s 126us/step - loss: 40.6279 - mean_absolute_percentage_error: 22.0575 - val_loss: 59.6719 - val_mean_absolute_percentage_error: 18.3562\n",
      "Epoch 45/50\n",
      "404/404 [==============================] - 0s 126us/step - loss: 39.6836 - mean_absolute_percentage_error: 19.5486 - val_loss: 54.4677 - val_mean_absolute_percentage_error: 21.9945\n",
      "Epoch 46/50\n",
      "404/404 [==============================] - 0s 158us/step - loss: 39.7935 - mean_absolute_percentage_error: 21.2180 - val_loss: 56.7808 - val_mean_absolute_percentage_error: 18.5418\n",
      "Epoch 47/50\n",
      "404/404 [==============================] - 0s 158us/step - loss: 39.9928 - mean_absolute_percentage_error: 22.0070 - val_loss: 55.4809 - val_mean_absolute_percentage_error: 18.6085\n",
      "Epoch 48/50\n",
      "404/404 [==============================] - 0s 225us/step - loss: 39.2027 - mean_absolute_percentage_error: 19.0225 - val_loss: 52.2692 - val_mean_absolute_percentage_error: 21.7698\n",
      "Epoch 49/50\n",
      "404/404 [==============================] - 0s 215us/step - loss: 38.5796 - mean_absolute_percentage_error: 21.3309 - val_loss: 55.5092 - val_mean_absolute_percentage_error: 17.8093\n",
      "Epoch 50/50\n",
      "404/404 [==============================] - 0s 126us/step - loss: 37.9790 - mean_absolute_percentage_error: 21.2425 - val_loss: 52.9861 - val_mean_absolute_percentage_error: 18.4070\n"
     ]
    },
    {
     "output_type": "execute_result",
     "data": {
      "text/plain": [
       "<keras.callbacks.callbacks.History at 0x2447dafe4e0>"
      ]
     },
     "metadata": {},
     "execution_count": 29
    }
   ],
   "source": [
    "model.fit(x_train,y_train,batch_size=32,epochs=50,validation_data=(x_val,y_val))\n"
   ]
  },
  {
   "cell_type": "code",
   "execution_count": 30,
   "metadata": {},
   "outputs": [
    {
     "output_type": "stream",
     "name": "stdout",
     "text": [
      "Train on 404 samples, validate on 104 samples\n",
      "Epoch 1/100\n",
      "404/404 [==============================] - 0s 153us/step - loss: 36.6916 - mean_absolute_percentage_error: 18.5291 - val_loss: 50.4820 - val_mean_absolute_percentage_error: 19.7728\n",
      "Epoch 2/100\n",
      "404/404 [==============================] - 0s 153us/step - loss: 36.4321 - mean_absolute_percentage_error: 21.1516 - val_loss: 52.0982 - val_mean_absolute_percentage_error: 17.8494\n",
      "Epoch 3/100\n",
      "404/404 [==============================] - 0s 111us/step - loss: 36.3250 - mean_absolute_percentage_error: 19.1250 - val_loss: 48.8321 - val_mean_absolute_percentage_error: 21.6487\n",
      "Epoch 4/100\n",
      "404/404 [==============================] - 0s 129us/step - loss: 35.9211 - mean_absolute_percentage_error: 20.1780 - val_loss: 49.6650 - val_mean_absolute_percentage_error: 18.1025\n",
      "Epoch 5/100\n",
      "404/404 [==============================] - 0s 193us/step - loss: 34.8260 - mean_absolute_percentage_error: 20.2669 - val_loss: 49.3234 - val_mean_absolute_percentage_error: 17.7932\n",
      "Epoch 6/100\n",
      "404/404 [==============================] - 0s 228us/step - loss: 35.2132 - mean_absolute_percentage_error: 19.3462 - val_loss: 46.6323 - val_mean_absolute_percentage_error: 21.4693\n",
      "Epoch 7/100\n",
      "404/404 [==============================] - 0s 203us/step - loss: 34.5720 - mean_absolute_percentage_error: 19.9592 - val_loss: 47.3823 - val_mean_absolute_percentage_error: 17.9564\n",
      "Epoch 8/100\n",
      "404/404 [==============================] - 0s 141us/step - loss: 33.6559 - mean_absolute_percentage_error: 19.5789 - val_loss: 46.5596 - val_mean_absolute_percentage_error: 17.9349\n",
      "Epoch 9/100\n",
      "404/404 [==============================] - 0s 143us/step - loss: 33.3355 - mean_absolute_percentage_error: 18.9303 - val_loss: 44.5294 - val_mean_absolute_percentage_error: 20.5008\n",
      "Epoch 10/100\n",
      "404/404 [==============================] - 0s 198us/step - loss: 33.0915 - mean_absolute_percentage_error: 20.5197 - val_loss: 47.1230 - val_mean_absolute_percentage_error: 16.8487\n",
      "Epoch 11/100\n",
      "404/404 [==============================] - 0s 240us/step - loss: 32.8107 - mean_absolute_percentage_error: 18.7272 - val_loss: 43.3449 - val_mean_absolute_percentage_error: 20.4534\n",
      "Epoch 12/100\n",
      "404/404 [==============================] - 0s 245us/step - loss: 32.1528 - mean_absolute_percentage_error: 20.2781 - val_loss: 46.1473 - val_mean_absolute_percentage_error: 16.6904\n",
      "Epoch 13/100\n",
      "404/404 [==============================] - 0s 153us/step - loss: 32.5382 - mean_absolute_percentage_error: 18.7485 - val_loss: 42.0199 - val_mean_absolute_percentage_error: 19.1193\n",
      "Epoch 14/100\n",
      "404/404 [==============================] - 0s 121us/step - loss: 31.8740 - mean_absolute_percentage_error: 18.9349 - val_loss: 42.1467 - val_mean_absolute_percentage_error: 17.8877\n",
      "Epoch 15/100\n",
      "404/404 [==============================] - 0s 143us/step - loss: 32.9938 - mean_absolute_percentage_error: 21.0297 - val_loss: 46.1191 - val_mean_absolute_percentage_error: 16.5246\n",
      "Epoch 16/100\n",
      "404/404 [==============================] - 0s 188us/step - loss: 31.6468 - mean_absolute_percentage_error: 19.5431 - val_loss: 40.4738 - val_mean_absolute_percentage_error: 18.7162\n",
      "Epoch 17/100\n",
      "404/404 [==============================] - 0s 158us/step - loss: 31.4569 - mean_absolute_percentage_error: 18.4387 - val_loss: 40.0120 - val_mean_absolute_percentage_error: 18.2948\n",
      "Epoch 18/100\n",
      "404/404 [==============================] - 0s 186us/step - loss: 30.6249 - mean_absolute_percentage_error: 20.1308 - val_loss: 43.4077 - val_mean_absolute_percentage_error: 16.4812\n",
      "Epoch 19/100\n",
      "404/404 [==============================] - 0s 129us/step - loss: 30.9517 - mean_absolute_percentage_error: 19.0496 - val_loss: 38.9719 - val_mean_absolute_percentage_error: 18.8596\n",
      "Epoch 20/100\n",
      "404/404 [==============================] - 0s 193us/step - loss: 30.2683 - mean_absolute_percentage_error: 18.8991 - val_loss: 39.2541 - val_mean_absolute_percentage_error: 17.1900\n",
      "Epoch 21/100\n",
      "404/404 [==============================] - 0s 173us/step - loss: 29.7361 - mean_absolute_percentage_error: 18.9329 - val_loss: 38.9490 - val_mean_absolute_percentage_error: 17.0574\n",
      "Epoch 22/100\n",
      "404/404 [==============================] - 0s 131us/step - loss: 29.6774 - mean_absolute_percentage_error: 18.8336 - val_loss: 38.1627 - val_mean_absolute_percentage_error: 17.2980\n",
      "Epoch 23/100\n",
      "404/404 [==============================] - 0s 134us/step - loss: 29.0442 - mean_absolute_percentage_error: 18.6639 - val_loss: 38.1377 - val_mean_absolute_percentage_error: 16.9851\n",
      "Epoch 24/100\n",
      "404/404 [==============================] - 0s 210us/step - loss: 29.1614 - mean_absolute_percentage_error: 19.3464 - val_loss: 39.0404 - val_mean_absolute_percentage_error: 16.4567\n",
      "Epoch 25/100\n",
      "404/404 [==============================] - 0s 163us/step - loss: 28.7884 - mean_absolute_percentage_error: 18.2286 - val_loss: 36.2845 - val_mean_absolute_percentage_error: 18.8077\n",
      "Epoch 26/100\n",
      "404/404 [==============================] - 0s 168us/step - loss: 28.5359 - mean_absolute_percentage_error: 19.9396 - val_loss: 42.3229 - val_mean_absolute_percentage_error: 16.2157\n",
      "Epoch 27/100\n",
      "404/404 [==============================] - 0s 173us/step - loss: 29.4125 - mean_absolute_percentage_error: 18.7905 - val_loss: 35.8128 - val_mean_absolute_percentage_error: 17.3488\n",
      "Epoch 28/100\n",
      "404/404 [==============================] - 0s 111us/step - loss: 29.1996 - mean_absolute_percentage_error: 18.6371 - val_loss: 35.1186 - val_mean_absolute_percentage_error: 18.1156\n",
      "Epoch 29/100\n",
      "404/404 [==============================] - 0s 101us/step - loss: 28.4688 - mean_absolute_percentage_error: 19.1365 - val_loss: 35.1601 - val_mean_absolute_percentage_error: 17.1290\n",
      "Epoch 30/100\n",
      "404/404 [==============================] - 0s 205us/step - loss: 27.4548 - mean_absolute_percentage_error: 18.0402 - val_loss: 35.2618 - val_mean_absolute_percentage_error: 16.5424\n",
      "Epoch 31/100\n",
      "404/404 [==============================] - 0s 161us/step - loss: 27.4419 - mean_absolute_percentage_error: 18.5182 - val_loss: 35.3433 - val_mean_absolute_percentage_error: 16.2830\n",
      "Epoch 32/100\n",
      "404/404 [==============================] - 0s 114us/step - loss: 26.9480 - mean_absolute_percentage_error: 18.4502 - val_loss: 33.7493 - val_mean_absolute_percentage_error: 17.1126\n",
      "Epoch 33/100\n",
      "404/404 [==============================] - 0s 183us/step - loss: 26.8706 - mean_absolute_percentage_error: 18.5275 - val_loss: 34.3622 - val_mean_absolute_percentage_error: 16.2371\n",
      "Epoch 34/100\n",
      "404/404 [==============================] - 0s 198us/step - loss: 26.6422 - mean_absolute_percentage_error: 18.7975 - val_loss: 35.3171 - val_mean_absolute_percentage_error: 15.8106\n",
      "Epoch 35/100\n",
      "404/404 [==============================] - 0s 156us/step - loss: 26.9491 - mean_absolute_percentage_error: 18.7680 - val_loss: 36.0995 - val_mean_absolute_percentage_error: 15.7034\n",
      "Epoch 36/100\n",
      "404/404 [==============================] - 0s 136us/step - loss: 26.5620 - mean_absolute_percentage_error: 17.9142 - val_loss: 32.0860 - val_mean_absolute_percentage_error: 16.9861\n",
      "Epoch 37/100\n",
      "404/404 [==============================] - 0s 213us/step - loss: 26.0629 - mean_absolute_percentage_error: 17.8792 - val_loss: 31.8805 - val_mean_absolute_percentage_error: 16.6708\n",
      "Epoch 38/100\n",
      "404/404 [==============================] - 0s 237us/step - loss: 25.8893 - mean_absolute_percentage_error: 18.3491 - val_loss: 31.4716 - val_mean_absolute_percentage_error: 16.6440\n",
      "Epoch 39/100\n",
      "404/404 [==============================] - 0s 275us/step - loss: 25.4697 - mean_absolute_percentage_error: 18.1565 - val_loss: 32.5050 - val_mean_absolute_percentage_error: 15.6500\n",
      "Epoch 40/100\n",
      "404/404 [==============================] - 0s 215us/step - loss: 25.0560 - mean_absolute_percentage_error: 17.9234 - val_loss: 30.5805 - val_mean_absolute_percentage_error: 16.8878\n",
      "Epoch 41/100\n",
      "404/404 [==============================] - 0s 299us/step - loss: 25.2315 - mean_absolute_percentage_error: 18.1387 - val_loss: 30.4778 - val_mean_absolute_percentage_error: 16.2947\n",
      "Epoch 42/100\n",
      "404/404 [==============================] - 0s 242us/step - loss: 24.7357 - mean_absolute_percentage_error: 17.8308 - val_loss: 31.0935 - val_mean_absolute_percentage_error: 15.6084\n",
      "Epoch 43/100\n",
      "404/404 [==============================] - 0s 287us/step - loss: 24.7002 - mean_absolute_percentage_error: 18.0276 - val_loss: 30.2036 - val_mean_absolute_percentage_error: 15.8362\n",
      "Epoch 44/100\n",
      "404/404 [==============================] - 0s 282us/step - loss: 24.5175 - mean_absolute_percentage_error: 17.3178 - val_loss: 29.3980 - val_mean_absolute_percentage_error: 16.9400\n",
      "Epoch 45/100\n",
      "404/404 [==============================] - 0s 297us/step - loss: 24.3484 - mean_absolute_percentage_error: 18.2037 - val_loss: 34.1072 - val_mean_absolute_percentage_error: 15.1535\n",
      "Epoch 46/100\n",
      "404/404 [==============================] - 0s 190us/step - loss: 25.0495 - mean_absolute_percentage_error: 18.0876 - val_loss: 30.0420 - val_mean_absolute_percentage_error: 15.2600\n",
      "Epoch 47/100\n",
      "404/404 [==============================] - 0s 146us/step - loss: 24.2829 - mean_absolute_percentage_error: 17.4008 - val_loss: 28.4352 - val_mean_absolute_percentage_error: 16.4764\n",
      "Epoch 48/100\n",
      "404/404 [==============================] - 0s 233us/step - loss: 24.2013 - mean_absolute_percentage_error: 17.4754 - val_loss: 28.8879 - val_mean_absolute_percentage_error: 15.3093\n",
      "Epoch 49/100\n",
      "404/404 [==============================] - 0s 200us/step - loss: 23.4828 - mean_absolute_percentage_error: 18.3405 - val_loss: 29.4739 - val_mean_absolute_percentage_error: 14.9914\n",
      "Epoch 50/100\n",
      "404/404 [==============================] - 0s 116us/step - loss: 23.9753 - mean_absolute_percentage_error: 17.0080 - val_loss: 27.4064 - val_mean_absolute_percentage_error: 16.7701\n",
      "Epoch 51/100\n",
      "404/404 [==============================] - 0s 119us/step - loss: 23.5538 - mean_absolute_percentage_error: 17.5014 - val_loss: 27.6226 - val_mean_absolute_percentage_error: 15.5330\n",
      "Epoch 52/100\n",
      "404/404 [==============================] - 0s 287us/step - loss: 23.2376 - mean_absolute_percentage_error: 17.4023 - val_loss: 26.9696 - val_mean_absolute_percentage_error: 15.8328\n",
      "Epoch 53/100\n",
      "404/404 [==============================] - 0s 193us/step - loss: 22.8920 - mean_absolute_percentage_error: 17.4759 - val_loss: 27.5672 - val_mean_absolute_percentage_error: 14.9501\n",
      "Epoch 54/100\n",
      "404/404 [==============================] - 0s 344us/step - loss: 23.3214 - mean_absolute_percentage_error: 17.0308 - val_loss: 26.6368 - val_mean_absolute_percentage_error: 16.9105\n",
      "Epoch 55/100\n",
      "404/404 [==============================] - 0s 267us/step - loss: 23.2242 - mean_absolute_percentage_error: 16.9985 - val_loss: 26.3498 - val_mean_absolute_percentage_error: 15.6439\n",
      "Epoch 56/100\n",
      "404/404 [==============================] - 0s 210us/step - loss: 23.2674 - mean_absolute_percentage_error: 18.2138 - val_loss: 29.7905 - val_mean_absolute_percentage_error: 14.6151\n",
      "Epoch 57/100\n",
      "404/404 [==============================] - 0s 242us/step - loss: 22.7324 - mean_absolute_percentage_error: 17.3559 - val_loss: 27.1588 - val_mean_absolute_percentage_error: 14.6457\n",
      "Epoch 58/100\n",
      "404/404 [==============================] - 0s 250us/step - loss: 22.3609 - mean_absolute_percentage_error: 16.7234 - val_loss: 25.6182 - val_mean_absolute_percentage_error: 16.6184\n",
      "Epoch 59/100\n",
      "404/404 [==============================] - 0s 163us/step - loss: 21.7497 - mean_absolute_percentage_error: 17.2071 - val_loss: 28.3715 - val_mean_absolute_percentage_error: 14.4171\n",
      "Epoch 60/100\n",
      "404/404 [==============================] - 0s 178us/step - loss: 21.6047 - mean_absolute_percentage_error: 16.8483 - val_loss: 25.1662 - val_mean_absolute_percentage_error: 15.3660\n",
      "Epoch 61/100\n",
      "404/404 [==============================] - 0s 126us/step - loss: 21.4465 - mean_absolute_percentage_error: 16.7728 - val_loss: 26.1459 - val_mean_absolute_percentage_error: 14.3766\n",
      "Epoch 62/100\n",
      "404/404 [==============================] - 0s 146us/step - loss: 21.6973 - mean_absolute_percentage_error: 17.1862 - val_loss: 28.0423 - val_mean_absolute_percentage_error: 14.2391\n",
      "Epoch 63/100\n",
      "404/404 [==============================] - 0s 111us/step - loss: 21.6428 - mean_absolute_percentage_error: 16.9259 - val_loss: 24.3667 - val_mean_absolute_percentage_error: 15.9613\n",
      "Epoch 64/100\n",
      "404/404 [==============================] - 0s 139us/step - loss: 21.5681 - mean_absolute_percentage_error: 16.5478 - val_loss: 24.1382 - val_mean_absolute_percentage_error: 15.3517\n",
      "Epoch 65/100\n",
      "404/404 [==============================] - 0s 383us/step - loss: 20.8722 - mean_absolute_percentage_error: 16.8580 - val_loss: 26.0756 - val_mean_absolute_percentage_error: 14.0966\n",
      "Epoch 66/100\n",
      "404/404 [==============================] - 0s 242us/step - loss: 20.5741 - mean_absolute_percentage_error: 16.6409 - val_loss: 24.1940 - val_mean_absolute_percentage_error: 14.5725\n",
      "Epoch 67/100\n",
      "404/404 [==============================] - 0s 136us/step - loss: 20.3987 - mean_absolute_percentage_error: 16.1522 - val_loss: 23.9721 - val_mean_absolute_percentage_error: 14.3797\n",
      "Epoch 68/100\n",
      "404/404 [==============================] - 0s 181us/step - loss: 21.0259 - mean_absolute_percentage_error: 16.7824 - val_loss: 26.4700 - val_mean_absolute_percentage_error: 13.9056\n",
      "Epoch 69/100\n",
      "404/404 [==============================] - 0s 163us/step - loss: 22.0206 - mean_absolute_percentage_error: 17.4568 - val_loss: 31.4088 - val_mean_absolute_percentage_error: 14.7553\n",
      "Epoch 70/100\n",
      "404/404 [==============================] - 0s 124us/step - loss: 22.3744 - mean_absolute_percentage_error: 17.2629 - val_loss: 22.9700 - val_mean_absolute_percentage_error: 15.8978\n",
      "Epoch 71/100\n",
      "404/404 [==============================] - 0s 126us/step - loss: 21.5292 - mean_absolute_percentage_error: 16.3319 - val_loss: 22.6689 - val_mean_absolute_percentage_error: 15.5831\n",
      "Epoch 72/100\n",
      "404/404 [==============================] - 0s 146us/step - loss: 20.3936 - mean_absolute_percentage_error: 16.2851 - val_loss: 23.0696 - val_mean_absolute_percentage_error: 14.1637\n",
      "Epoch 73/100\n",
      "404/404 [==============================] - 0s 250us/step - loss: 20.1786 - mean_absolute_percentage_error: 16.5489 - val_loss: 25.9921 - val_mean_absolute_percentage_error: 13.7404\n",
      "Epoch 74/100\n",
      "404/404 [==============================] - 0s 96us/step - loss: 20.2976 - mean_absolute_percentage_error: 16.7625 - val_loss: 23.2216 - val_mean_absolute_percentage_error: 13.7662\n",
      "Epoch 75/100\n",
      "404/404 [==============================] - 0s 158us/step - loss: 20.2775 - mean_absolute_percentage_error: 15.7488 - val_loss: 22.0401 - val_mean_absolute_percentage_error: 15.1802\n",
      "Epoch 76/100\n",
      "404/404 [==============================] - 0s 151us/step - loss: 20.3665 - mean_absolute_percentage_error: 16.2101 - val_loss: 21.7885 - val_mean_absolute_percentage_error: 15.1309\n",
      "Epoch 77/100\n",
      "404/404 [==============================] - 0s 116us/step - loss: 20.5431 - mean_absolute_percentage_error: 16.8148 - val_loss: 23.8027 - val_mean_absolute_percentage_error: 13.4842\n",
      "Epoch 78/100\n",
      "404/404 [==============================] - 0s 186us/step - loss: 19.2739 - mean_absolute_percentage_error: 16.0689 - val_loss: 21.4006 - val_mean_absolute_percentage_error: 15.0383\n",
      "Epoch 79/100\n",
      "404/404 [==============================] - 0s 139us/step - loss: 18.7216 - mean_absolute_percentage_error: 15.8862 - val_loss: 23.6301 - val_mean_absolute_percentage_error: 13.4244\n",
      "Epoch 80/100\n",
      "404/404 [==============================] - 0s 252us/step - loss: 18.7849 - mean_absolute_percentage_error: 16.1038 - val_loss: 22.2131 - val_mean_absolute_percentage_error: 13.4237\n",
      "Epoch 81/100\n",
      "404/404 [==============================] - 0s 166us/step - loss: 18.8790 - mean_absolute_percentage_error: 15.4288 - val_loss: 21.3093 - val_mean_absolute_percentage_error: 15.5135\n",
      "Epoch 82/100\n",
      "404/404 [==============================] - 0s 146us/step - loss: 18.6550 - mean_absolute_percentage_error: 16.1518 - val_loss: 24.0687 - val_mean_absolute_percentage_error: 13.4477\n",
      "Epoch 83/100\n",
      "404/404 [==============================] - 0s 176us/step - loss: 19.2463 - mean_absolute_percentage_error: 16.0102 - val_loss: 24.5727 - val_mean_absolute_percentage_error: 13.2843\n",
      "Epoch 84/100\n",
      "404/404 [==============================] - 0s 208us/step - loss: 18.4681 - mean_absolute_percentage_error: 15.5402 - val_loss: 20.6137 - val_mean_absolute_percentage_error: 14.2525\n",
      "Epoch 85/100\n",
      "404/404 [==============================] - 0s 195us/step - loss: 18.8832 - mean_absolute_percentage_error: 15.7914 - val_loss: 20.6269 - val_mean_absolute_percentage_error: 13.7350\n",
      "Epoch 86/100\n",
      "404/404 [==============================] - 0s 171us/step - loss: 18.2907 - mean_absolute_percentage_error: 14.9338 - val_loss: 20.4583 - val_mean_absolute_percentage_error: 14.4509\n",
      "Epoch 87/100\n",
      "404/404 [==============================] - 0s 139us/step - loss: 18.0425 - mean_absolute_percentage_error: 15.6485 - val_loss: 20.6216 - val_mean_absolute_percentage_error: 13.5114\n",
      "Epoch 88/100\n",
      "404/404 [==============================] - 0s 168us/step - loss: 17.6973 - mean_absolute_percentage_error: 15.5026 - val_loss: 22.2343 - val_mean_absolute_percentage_error: 13.0613\n",
      "Epoch 89/100\n",
      "404/404 [==============================] - 0s 205us/step - loss: 17.5599 - mean_absolute_percentage_error: 14.9406 - val_loss: 19.8917 - val_mean_absolute_percentage_error: 14.3851\n",
      "Epoch 90/100\n",
      "404/404 [==============================] - 0s 198us/step - loss: 18.0113 - mean_absolute_percentage_error: 15.2076 - val_loss: 20.1876 - val_mean_absolute_percentage_error: 13.3864\n",
      "Epoch 91/100\n",
      "404/404 [==============================] - 0s 94us/step - loss: 17.6263 - mean_absolute_percentage_error: 15.2978 - val_loss: 21.2633 - val_mean_absolute_percentage_error: 13.0496\n",
      "Epoch 92/100\n",
      "404/404 [==============================] - 0s 96us/step - loss: 17.6760 - mean_absolute_percentage_error: 15.1920 - val_loss: 20.3934 - val_mean_absolute_percentage_error: 13.1526\n",
      "Epoch 93/100\n",
      "404/404 [==============================] - 0s 210us/step - loss: 18.0542 - mean_absolute_percentage_error: 15.5008 - val_loss: 19.6685 - val_mean_absolute_percentage_error: 13.4199\n",
      "Epoch 94/100\n",
      "404/404 [==============================] - 0s 200us/step - loss: 17.5505 - mean_absolute_percentage_error: 14.7916 - val_loss: 19.7214 - val_mean_absolute_percentage_error: 13.1715\n",
      "Epoch 95/100\n",
      "404/404 [==============================] - 0s 225us/step - loss: 17.1921 - mean_absolute_percentage_error: 15.2076 - val_loss: 20.3480 - val_mean_absolute_percentage_error: 12.9242\n",
      "Epoch 96/100\n",
      "404/404 [==============================] - 0s 156us/step - loss: 17.1303 - mean_absolute_percentage_error: 15.2302 - val_loss: 20.3181 - val_mean_absolute_percentage_error: 12.9376\n",
      "Epoch 97/100\n",
      "404/404 [==============================] - 0s 190us/step - loss: 16.9438 - mean_absolute_percentage_error: 14.6772 - val_loss: 19.0466 - val_mean_absolute_percentage_error: 14.2969\n",
      "Epoch 98/100\n",
      "404/404 [==============================] - 0s 200us/step - loss: 17.0217 - mean_absolute_percentage_error: 15.4991 - val_loss: 22.4532 - val_mean_absolute_percentage_error: 12.9844\n",
      "Epoch 99/100\n",
      "404/404 [==============================] - 0s 230us/step - loss: 17.7039 - mean_absolute_percentage_error: 15.6680 - val_loss: 19.6198 - val_mean_absolute_percentage_error: 13.0242\n",
      "Epoch 100/100\n",
      "404/404 [==============================] - 0s 143us/step - loss: 16.9144 - mean_absolute_percentage_error: 14.5892 - val_loss: 19.1905 - val_mean_absolute_percentage_error: 12.8354\n"
     ]
    },
    {
     "output_type": "execute_result",
     "data": {
      "text/plain": [
       "<keras.callbacks.callbacks.History at 0x2447f897390>"
      ]
     },
     "metadata": {},
     "execution_count": 30
    }
   ],
   "source": [
    "model.fit(x_train,y_train,batch_size=32,epochs=100,validation_data=(x_val,y_val))\n"
   ]
  },
  {
   "cell_type": "code",
   "execution_count": 31,
   "metadata": {},
   "outputs": [
    {
     "output_type": "stream",
     "name": "stdout",
     "text": [
      "Train on 404 samples, validate on 104 samples\n",
      "Epoch 1/135\n",
      "404/404 [==============================] - 0s 178us/step - loss: 16.7800 - mean_absolute_percentage_error: 14.9724 - val_loss: 21.1797 - val_mean_absolute_percentage_error: 12.7249\n",
      "Epoch 2/135\n",
      "404/404 [==============================] - 0s 173us/step - loss: 17.0041 - mean_absolute_percentage_error: 15.1196 - val_loss: 19.0539 - val_mean_absolute_percentage_error: 12.7594\n",
      "Epoch 3/135\n",
      "404/404 [==============================] - 0s 101us/step - loss: 16.5521 - mean_absolute_percentage_error: 14.7349 - val_loss: 18.3918 - val_mean_absolute_percentage_error: 13.1231\n",
      "Epoch 4/135\n",
      "404/404 [==============================] - 0s 114us/step - loss: 17.6415 - mean_absolute_percentage_error: 14.6965 - val_loss: 18.6394 - val_mean_absolute_percentage_error: 13.5581\n",
      "Epoch 5/135\n",
      "404/404 [==============================] - 0s 163us/step - loss: 18.1013 - mean_absolute_percentage_error: 15.7498 - val_loss: 20.6782 - val_mean_absolute_percentage_error: 12.6682\n",
      "Epoch 6/135\n",
      "404/404 [==============================] - 0s 233us/step - loss: 16.5983 - mean_absolute_percentage_error: 15.1768 - val_loss: 19.3048 - val_mean_absolute_percentage_error: 12.6607\n",
      "Epoch 7/135\n",
      "404/404 [==============================] - 0s 181us/step - loss: 16.5415 - mean_absolute_percentage_error: 14.5579 - val_loss: 19.6567 - val_mean_absolute_percentage_error: 12.5770\n",
      "Epoch 8/135\n",
      "404/404 [==============================] - 0s 205us/step - loss: 16.5204 - mean_absolute_percentage_error: 14.8590 - val_loss: 18.7294 - val_mean_absolute_percentage_error: 12.7542\n",
      "Epoch 9/135\n",
      "404/404 [==============================] - 0s 210us/step - loss: 16.4398 - mean_absolute_percentage_error: 14.7325 - val_loss: 19.6392 - val_mean_absolute_percentage_error: 12.5112\n",
      "Epoch 10/135\n",
      "404/404 [==============================] - 0s 156us/step - loss: 16.3057 - mean_absolute_percentage_error: 14.7095 - val_loss: 18.2906 - val_mean_absolute_percentage_error: 12.8497\n",
      "Epoch 11/135\n",
      "404/404 [==============================] - 0s 121us/step - loss: 16.1924 - mean_absolute_percentage_error: 14.6954 - val_loss: 18.1902 - val_mean_absolute_percentage_error: 12.8086\n",
      "Epoch 12/135\n",
      "404/404 [==============================] - 0s 141us/step - loss: 16.3922 - mean_absolute_percentage_error: 14.8636 - val_loss: 20.2199 - val_mean_absolute_percentage_error: 12.5479\n",
      "Epoch 13/135\n",
      "404/404 [==============================] - 0s 126us/step - loss: 16.9251 - mean_absolute_percentage_error: 15.1121 - val_loss: 20.3604 - val_mean_absolute_percentage_error: 12.6076\n",
      "Epoch 14/135\n",
      "404/404 [==============================] - 0s 153us/step - loss: 16.5311 - mean_absolute_percentage_error: 14.2048 - val_loss: 19.4744 - val_mean_absolute_percentage_error: 15.6060\n",
      "Epoch 15/135\n",
      "404/404 [==============================] - 0s 173us/step - loss: 16.4818 - mean_absolute_percentage_error: 15.0031 - val_loss: 20.8185 - val_mean_absolute_percentage_error: 12.6493\n",
      "Epoch 16/135\n",
      "404/404 [==============================] - 0s 153us/step - loss: 17.1212 - mean_absolute_percentage_error: 15.4667 - val_loss: 21.1983 - val_mean_absolute_percentage_error: 12.6167\n",
      "Epoch 17/135\n",
      "404/404 [==============================] - 0s 121us/step - loss: 16.8078 - mean_absolute_percentage_error: 14.9089 - val_loss: 17.8921 - val_mean_absolute_percentage_error: 12.6543\n",
      "Epoch 18/135\n",
      "404/404 [==============================] - 0s 225us/step - loss: 16.6227 - mean_absolute_percentage_error: 14.7930 - val_loss: 17.7179 - val_mean_absolute_percentage_error: 13.1088\n",
      "Epoch 19/135\n",
      "404/404 [==============================] - 0s 144us/step - loss: 15.8870 - mean_absolute_percentage_error: 14.2409 - val_loss: 18.0738 - val_mean_absolute_percentage_error: 12.5458\n",
      "Epoch 20/135\n",
      "404/404 [==============================] - 0s 200us/step - loss: 15.7847 - mean_absolute_percentage_error: 14.8696 - val_loss: 19.3097 - val_mean_absolute_percentage_error: 12.4212\n",
      "Epoch 21/135\n",
      "404/404 [==============================] - 0s 114us/step - loss: 16.6657 - mean_absolute_percentage_error: 14.6336 - val_loss: 17.9476 - val_mean_absolute_percentage_error: 14.4025\n",
      "Epoch 22/135\n",
      "404/404 [==============================] - 0s 156us/step - loss: 16.4587 - mean_absolute_percentage_error: 14.4509 - val_loss: 17.4831 - val_mean_absolute_percentage_error: 12.5253\n",
      "Epoch 23/135\n",
      "404/404 [==============================] - 0s 148us/step - loss: 15.6382 - mean_absolute_percentage_error: 14.6341 - val_loss: 18.8620 - val_mean_absolute_percentage_error: 12.3265\n",
      "Epoch 24/135\n",
      "404/404 [==============================] - 0s 151us/step - loss: 16.2911 - mean_absolute_percentage_error: 14.8116 - val_loss: 17.4407 - val_mean_absolute_percentage_error: 12.6417\n",
      "Epoch 25/135\n",
      "404/404 [==============================] - 0s 228us/step - loss: 16.7767 - mean_absolute_percentage_error: 14.4666 - val_loss: 17.7918 - val_mean_absolute_percentage_error: 14.1706\n",
      "Epoch 26/135\n",
      "404/404 [==============================] - 0s 210us/step - loss: 16.0618 - mean_absolute_percentage_error: 14.5182 - val_loss: 17.5115 - val_mean_absolute_percentage_error: 12.3878\n",
      "Epoch 27/135\n",
      "404/404 [==============================] - 0s 129us/step - loss: 16.3161 - mean_absolute_percentage_error: 14.7161 - val_loss: 18.8447 - val_mean_absolute_percentage_error: 12.2868\n",
      "Epoch 28/135\n",
      "404/404 [==============================] - 0s 134us/step - loss: 15.5572 - mean_absolute_percentage_error: 14.4987 - val_loss: 17.1648 - val_mean_absolute_percentage_error: 12.4412\n",
      "Epoch 29/135\n",
      "404/404 [==============================] - 0s 163us/step - loss: 15.6527 - mean_absolute_percentage_error: 14.2877 - val_loss: 16.8208 - val_mean_absolute_percentage_error: 12.9627\n",
      "Epoch 30/135\n",
      "404/404 [==============================] - 0s 131us/step - loss: 15.7590 - mean_absolute_percentage_error: 14.3205 - val_loss: 17.1272 - val_mean_absolute_percentage_error: 12.5768\n",
      "Epoch 31/135\n",
      "404/404 [==============================] - 0s 163us/step - loss: 15.3402 - mean_absolute_percentage_error: 14.3512 - val_loss: 17.7498 - val_mean_absolute_percentage_error: 12.3235\n",
      "Epoch 32/135\n",
      "404/404 [==============================] - 0s 166us/step - loss: 15.7511 - mean_absolute_percentage_error: 14.3813 - val_loss: 16.8300 - val_mean_absolute_percentage_error: 12.6251\n",
      "Epoch 33/135\n",
      "404/404 [==============================] - 0s 245us/step - loss: 15.5058 - mean_absolute_percentage_error: 14.1484 - val_loss: 16.6968 - val_mean_absolute_percentage_error: 12.6408\n",
      "Epoch 34/135\n",
      "404/404 [==============================] - 0s 213us/step - loss: 15.3527 - mean_absolute_percentage_error: 14.4330 - val_loss: 17.5334 - val_mean_absolute_percentage_error: 12.2264\n",
      "Epoch 35/135\n",
      "404/404 [==============================] - 0s 161us/step - loss: 15.4448 - mean_absolute_percentage_error: 14.3440 - val_loss: 16.7300 - val_mean_absolute_percentage_error: 13.0091\n",
      "Epoch 36/135\n",
      "404/404 [==============================] - 0s 156us/step - loss: 15.4265 - mean_absolute_percentage_error: 14.2281 - val_loss: 17.1152 - val_mean_absolute_percentage_error: 12.0677\n",
      "Epoch 37/135\n",
      "404/404 [==============================] - 0s 158us/step - loss: 15.1971 - mean_absolute_percentage_error: 14.3715 - val_loss: 16.5835 - val_mean_absolute_percentage_error: 12.7356\n",
      "Epoch 38/135\n",
      "404/404 [==============================] - 0s 116us/step - loss: 15.1409 - mean_absolute_percentage_error: 14.1357 - val_loss: 17.1592 - val_mean_absolute_percentage_error: 12.1223\n",
      "Epoch 39/135\n",
      "404/404 [==============================] - 0s 131us/step - loss: 15.9699 - mean_absolute_percentage_error: 14.5771 - val_loss: 17.5365 - val_mean_absolute_percentage_error: 12.1148\n",
      "Epoch 40/135\n",
      "404/404 [==============================] - 0s 195us/step - loss: 18.1627 - mean_absolute_percentage_error: 15.0842 - val_loss: 16.7193 - val_mean_absolute_percentage_error: 13.5881\n",
      "Epoch 41/135\n",
      "404/404 [==============================] - 0s 143us/step - loss: 15.7126 - mean_absolute_percentage_error: 14.1812 - val_loss: 16.8259 - val_mean_absolute_percentage_error: 12.4081\n",
      "Epoch 42/135\n",
      "404/404 [==============================] - 0s 126us/step - loss: 15.3399 - mean_absolute_percentage_error: 14.0181 - val_loss: 16.4482 - val_mean_absolute_percentage_error: 12.6757\n",
      "Epoch 43/135\n",
      "404/404 [==============================] - 0s 131us/step - loss: 15.1220 - mean_absolute_percentage_error: 14.1699 - val_loss: 16.6623 - val_mean_absolute_percentage_error: 12.2714\n",
      "Epoch 44/135\n",
      "404/404 [==============================] - 0s 245us/step - loss: 15.1119 - mean_absolute_percentage_error: 14.1103 - val_loss: 16.4288 - val_mean_absolute_percentage_error: 12.6096\n",
      "Epoch 45/135\n",
      "404/404 [==============================] - 0s 183us/step - loss: 14.8440 - mean_absolute_percentage_error: 13.8417 - val_loss: 16.2292 - val_mean_absolute_percentage_error: 12.3953\n",
      "Epoch 46/135\n",
      "404/404 [==============================] - 0s 146us/step - loss: 15.1843 - mean_absolute_percentage_error: 14.4565 - val_loss: 16.4299 - val_mean_absolute_percentage_error: 12.1854\n",
      "Epoch 47/135\n",
      "404/404 [==============================] - 0s 190us/step - loss: 14.8747 - mean_absolute_percentage_error: 13.8581 - val_loss: 16.1584 - val_mean_absolute_percentage_error: 12.3260\n",
      "Epoch 48/135\n",
      "404/404 [==============================] - 0s 148us/step - loss: 15.0549 - mean_absolute_percentage_error: 14.4101 - val_loss: 24.7096 - val_mean_absolute_percentage_error: 13.7100\n",
      "Epoch 49/135\n",
      "404/404 [==============================] - 0s 171us/step - loss: 17.7797 - mean_absolute_percentage_error: 15.3508 - val_loss: 17.1351 - val_mean_absolute_percentage_error: 14.6088\n",
      "Epoch 50/135\n",
      "404/404 [==============================] - 0s 124us/step - loss: 17.7017 - mean_absolute_percentage_error: 14.4526 - val_loss: 17.7416 - val_mean_absolute_percentage_error: 14.7633\n",
      "Epoch 51/135\n",
      "404/404 [==============================] - 0s 203us/step - loss: 16.4634 - mean_absolute_percentage_error: 14.4758 - val_loss: 16.2815 - val_mean_absolute_percentage_error: 12.4711\n",
      "Epoch 52/135\n",
      "404/404 [==============================] - 0s 208us/step - loss: 15.2276 - mean_absolute_percentage_error: 14.2099 - val_loss: 16.2711 - val_mean_absolute_percentage_error: 12.2438\n",
      "Epoch 53/135\n",
      "404/404 [==============================] - 0s 324us/step - loss: 14.8005 - mean_absolute_percentage_error: 14.4068 - val_loss: 17.9001 - val_mean_absolute_percentage_error: 11.8212\n",
      "Epoch 54/135\n",
      "404/404 [==============================] - 0s 121us/step - loss: 15.3668 - mean_absolute_percentage_error: 14.1599 - val_loss: 18.2449 - val_mean_absolute_percentage_error: 11.8574\n",
      "Epoch 55/135\n",
      "404/404 [==============================] - 0s 213us/step - loss: 15.2177 - mean_absolute_percentage_error: 13.8725 - val_loss: 16.4863 - val_mean_absolute_percentage_error: 13.7507\n",
      "Epoch 56/135\n",
      "404/404 [==============================] - 0s 230us/step - loss: 15.1440 - mean_absolute_percentage_error: 14.3133 - val_loss: 17.1695 - val_mean_absolute_percentage_error: 11.8973\n",
      "Epoch 57/135\n",
      "404/404 [==============================] - 0s 292us/step - loss: 14.7898 - mean_absolute_percentage_error: 13.9092 - val_loss: 15.9889 - val_mean_absolute_percentage_error: 12.4332\n",
      "Epoch 58/135\n",
      "404/404 [==============================] - 0s 208us/step - loss: 14.6254 - mean_absolute_percentage_error: 13.9435 - val_loss: 15.7459 - val_mean_absolute_percentage_error: 12.6157\n",
      "Epoch 59/135\n",
      "404/404 [==============================] - 0s 247us/step - loss: 15.1005 - mean_absolute_percentage_error: 13.9547 - val_loss: 17.4053 - val_mean_absolute_percentage_error: 11.8648\n",
      "Epoch 60/135\n",
      "404/404 [==============================] - 0s 151us/step - loss: 14.7225 - mean_absolute_percentage_error: 14.2714 - val_loss: 16.2995 - val_mean_absolute_percentage_error: 12.0623\n",
      "Epoch 61/135\n",
      "404/404 [==============================] - 0s 131us/step - loss: 14.4438 - mean_absolute_percentage_error: 13.9085 - val_loss: 16.0870 - val_mean_absolute_percentage_error: 11.8523\n",
      "Epoch 62/135\n",
      "404/404 [==============================] - 0s 245us/step - loss: 14.7684 - mean_absolute_percentage_error: 13.8045 - val_loss: 15.8684 - val_mean_absolute_percentage_error: 11.8679\n",
      "Epoch 63/135\n",
      "404/404 [==============================] - 0s 213us/step - loss: 14.6803 - mean_absolute_percentage_error: 13.8121 - val_loss: 17.9038 - val_mean_absolute_percentage_error: 11.7940\n",
      "Epoch 64/135\n",
      "404/404 [==============================] - 0s 186us/step - loss: 14.8492 - mean_absolute_percentage_error: 14.1539 - val_loss: 16.6866 - val_mean_absolute_percentage_error: 11.8016\n",
      "Epoch 65/135\n",
      "404/404 [==============================] - 0s 173us/step - loss: 14.5305 - mean_absolute_percentage_error: 13.8762 - val_loss: 16.0204 - val_mean_absolute_percentage_error: 11.8095\n",
      "Epoch 66/135\n",
      "404/404 [==============================] - 0s 215us/step - loss: 14.3626 - mean_absolute_percentage_error: 13.5016 - val_loss: 15.5685 - val_mean_absolute_percentage_error: 12.3425\n",
      "Epoch 67/135\n",
      "404/404 [==============================] - 0s 168us/step - loss: 14.7353 - mean_absolute_percentage_error: 14.2119 - val_loss: 15.9677 - val_mean_absolute_percentage_error: 11.9609\n",
      "Epoch 68/135\n",
      "404/404 [==============================] - 0s 203us/step - loss: 14.5692 - mean_absolute_percentage_error: 13.6956 - val_loss: 15.2699 - val_mean_absolute_percentage_error: 11.9951\n",
      "Epoch 69/135\n",
      "404/404 [==============================] - 0s 151us/step - loss: 14.4483 - mean_absolute_percentage_error: 13.7743 - val_loss: 15.3831 - val_mean_absolute_percentage_error: 12.1073\n",
      "Epoch 70/135\n",
      "404/404 [==============================] - 0s 195us/step - loss: 14.1418 - mean_absolute_percentage_error: 13.7761 - val_loss: 16.2563 - val_mean_absolute_percentage_error: 11.6728\n",
      "Epoch 71/135\n",
      "404/404 [==============================] - 0s 220us/step - loss: 14.8055 - mean_absolute_percentage_error: 13.8705 - val_loss: 17.1961 - val_mean_absolute_percentage_error: 11.6415\n",
      "Epoch 72/135\n",
      "404/404 [==============================] - 0s 124us/step - loss: 15.4423 - mean_absolute_percentage_error: 13.8675 - val_loss: 15.3707 - val_mean_absolute_percentage_error: 12.0514\n",
      "Epoch 73/135\n",
      "404/404 [==============================] - 0s 111us/step - loss: 14.7188 - mean_absolute_percentage_error: 13.9138 - val_loss: 15.4017 - val_mean_absolute_percentage_error: 11.8051\n",
      "Epoch 74/135\n",
      "404/404 [==============================] - 0s 104us/step - loss: 16.1476 - mean_absolute_percentage_error: 14.3656 - val_loss: 15.9429 - val_mean_absolute_percentage_error: 13.4797\n",
      "Epoch 75/135\n",
      "404/404 [==============================] - 0s 131us/step - loss: 14.5905 - mean_absolute_percentage_error: 13.6678 - val_loss: 15.6758 - val_mean_absolute_percentage_error: 11.7879\n",
      "Epoch 76/135\n",
      "404/404 [==============================] - 0s 245us/step - loss: 14.7252 - mean_absolute_percentage_error: 14.2590 - val_loss: 15.7739 - val_mean_absolute_percentage_error: 11.7614\n",
      "Epoch 77/135\n",
      "404/404 [==============================] - 0s 406us/step - loss: 15.1191 - mean_absolute_percentage_error: 14.2836 - val_loss: 19.3587 - val_mean_absolute_percentage_error: 11.9230\n",
      "Epoch 78/135\n",
      "404/404 [==============================] - 0s 208us/step - loss: 14.6025 - mean_absolute_percentage_error: 14.1897 - val_loss: 15.4075 - val_mean_absolute_percentage_error: 11.9562\n",
      "Epoch 79/135\n",
      "404/404 [==============================] - 0s 245us/step - loss: 14.0284 - mean_absolute_percentage_error: 13.5712 - val_loss: 15.1291 - val_mean_absolute_percentage_error: 11.7188\n",
      "Epoch 80/135\n",
      "404/404 [==============================] - 0s 161us/step - loss: 14.4183 - mean_absolute_percentage_error: 13.7042 - val_loss: 15.3210 - val_mean_absolute_percentage_error: 11.8381\n",
      "Epoch 81/135\n",
      "404/404 [==============================] - 0s 146us/step - loss: 14.0699 - mean_absolute_percentage_error: 13.6008 - val_loss: 17.1397 - val_mean_absolute_percentage_error: 11.5971\n",
      "Epoch 82/135\n",
      "404/404 [==============================] - 0s 198us/step - loss: 15.1227 - mean_absolute_percentage_error: 14.3024 - val_loss: 14.9545 - val_mean_absolute_percentage_error: 12.0628\n",
      "Epoch 83/135\n",
      "404/404 [==============================] - 0s 186us/step - loss: 14.4021 - mean_absolute_percentage_error: 13.6496 - val_loss: 15.6884 - val_mean_absolute_percentage_error: 11.6202\n",
      "Epoch 84/135\n",
      "404/404 [==============================] - 0s 141us/step - loss: 14.1768 - mean_absolute_percentage_error: 13.6717 - val_loss: 16.6283 - val_mean_absolute_percentage_error: 11.4811\n",
      "Epoch 85/135\n",
      "404/404 [==============================] - 0s 247us/step - loss: 15.1977 - mean_absolute_percentage_error: 14.1099 - val_loss: 15.0045 - val_mean_absolute_percentage_error: 12.1881\n",
      "Epoch 86/135\n",
      "404/404 [==============================] - 0s 156us/step - loss: 14.9340 - mean_absolute_percentage_error: 13.6925 - val_loss: 16.3046 - val_mean_absolute_percentage_error: 14.1390\n",
      "Epoch 87/135\n",
      "404/404 [==============================] - 0s 161us/step - loss: 14.9221 - mean_absolute_percentage_error: 14.4112 - val_loss: 17.7316 - val_mean_absolute_percentage_error: 11.6887\n",
      "Epoch 88/135\n",
      "404/404 [==============================] - 0s 124us/step - loss: 14.3159 - mean_absolute_percentage_error: 14.1475 - val_loss: 15.1159 - val_mean_absolute_percentage_error: 11.7888\n",
      "Epoch 89/135\n",
      "404/404 [==============================] - 0s 131us/step - loss: 14.0066 - mean_absolute_percentage_error: 13.2286 - val_loss: 14.8713 - val_mean_absolute_percentage_error: 11.7332\n",
      "Epoch 90/135\n",
      "404/404 [==============================] - 0s 129us/step - loss: 14.1842 - mean_absolute_percentage_error: 13.7135 - val_loss: 15.1683 - val_mean_absolute_percentage_error: 11.7326\n",
      "Epoch 91/135\n",
      "404/404 [==============================] - 0s 106us/step - loss: 13.8609 - mean_absolute_percentage_error: 13.1907 - val_loss: 14.8319 - val_mean_absolute_percentage_error: 12.4914\n",
      "Epoch 92/135\n",
      "404/404 [==============================] - 0s 176us/step - loss: 14.2513 - mean_absolute_percentage_error: 14.0599 - val_loss: 16.9137 - val_mean_absolute_percentage_error: 11.5123\n",
      "Epoch 93/135\n",
      "404/404 [==============================] - 0s 250us/step - loss: 13.9001 - mean_absolute_percentage_error: 13.6530 - val_loss: 15.5857 - val_mean_absolute_percentage_error: 13.2854\n",
      "Epoch 94/135\n",
      "404/404 [==============================] - 0s 136us/step - loss: 14.5248 - mean_absolute_percentage_error: 13.6258 - val_loss: 14.9466 - val_mean_absolute_percentage_error: 11.7946\n",
      "Epoch 95/135\n",
      "404/404 [==============================] - 0s 146us/step - loss: 13.9287 - mean_absolute_percentage_error: 13.6485 - val_loss: 16.9674 - val_mean_absolute_percentage_error: 11.4279\n",
      "Epoch 96/135\n",
      "404/404 [==============================] - 0s 148us/step - loss: 14.0526 - mean_absolute_percentage_error: 13.3820 - val_loss: 14.8595 - val_mean_absolute_percentage_error: 12.2647\n",
      "Epoch 97/135\n",
      "404/404 [==============================] - 0s 158us/step - loss: 13.7178 - mean_absolute_percentage_error: 13.5868 - val_loss: 16.6985 - val_mean_absolute_percentage_error: 11.4083\n",
      "Epoch 98/135\n",
      "404/404 [==============================] - 0s 200us/step - loss: 14.2080 - mean_absolute_percentage_error: 13.4028 - val_loss: 14.9650 - val_mean_absolute_percentage_error: 11.6735\n",
      "Epoch 99/135\n",
      "404/404 [==============================] - 0s 161us/step - loss: 13.7424 - mean_absolute_percentage_error: 13.4109 - val_loss: 14.7822 - val_mean_absolute_percentage_error: 11.8307\n",
      "Epoch 100/135\n",
      "404/404 [==============================] - 0s 126us/step - loss: 14.1291 - mean_absolute_percentage_error: 13.4916 - val_loss: 16.0029 - val_mean_absolute_percentage_error: 11.3467\n",
      "Epoch 101/135\n",
      "404/404 [==============================] - 0s 178us/step - loss: 13.6533 - mean_absolute_percentage_error: 13.5751 - val_loss: 14.5495 - val_mean_absolute_percentage_error: 11.6407\n",
      "Epoch 102/135\n",
      "404/404 [==============================] - 0s 208us/step - loss: 14.2300 - mean_absolute_percentage_error: 13.2744 - val_loss: 14.7822 - val_mean_absolute_percentage_error: 12.1763\n",
      "Epoch 103/135\n",
      "404/404 [==============================] - 0s 356us/step - loss: 13.8431 - mean_absolute_percentage_error: 13.4533 - val_loss: 15.5517 - val_mean_absolute_percentage_error: 11.4816\n",
      "Epoch 104/135\n",
      "404/404 [==============================] - 0s 205us/step - loss: 13.8003 - mean_absolute_percentage_error: 13.7539 - val_loss: 16.1613 - val_mean_absolute_percentage_error: 11.3901\n",
      "Epoch 105/135\n",
      "404/404 [==============================] - 0s 153us/step - loss: 14.1224 - mean_absolute_percentage_error: 13.3189 - val_loss: 14.6460 - val_mean_absolute_percentage_error: 11.8896\n",
      "Epoch 106/135\n",
      "404/404 [==============================] - 0s 143us/step - loss: 13.7513 - mean_absolute_percentage_error: 13.2387 - val_loss: 14.3959 - val_mean_absolute_percentage_error: 11.7489\n",
      "Epoch 107/135\n",
      "404/404 [==============================] - 0s 151us/step - loss: 14.0344 - mean_absolute_percentage_error: 13.2665 - val_loss: 15.1192 - val_mean_absolute_percentage_error: 11.4766\n",
      "Epoch 108/135\n",
      "404/404 [==============================] - 0s 124us/step - loss: 14.1264 - mean_absolute_percentage_error: 13.3748 - val_loss: 15.0980 - val_mean_absolute_percentage_error: 11.3546\n",
      "Epoch 109/135\n",
      "404/404 [==============================] - 0s 148us/step - loss: 13.7490 - mean_absolute_percentage_error: 13.4339 - val_loss: 15.5303 - val_mean_absolute_percentage_error: 11.3414\n",
      "Epoch 110/135\n",
      "404/404 [==============================] - 0s 203us/step - loss: 13.7548 - mean_absolute_percentage_error: 13.2683 - val_loss: 15.0969 - val_mean_absolute_percentage_error: 11.5684\n",
      "Epoch 111/135\n",
      "404/404 [==============================] - 0s 314us/step - loss: 13.4947 - mean_absolute_percentage_error: 13.0317 - val_loss: 14.4193 - val_mean_absolute_percentage_error: 11.9618\n",
      "Epoch 112/135\n",
      "404/404 [==============================] - 0s 116us/step - loss: 14.0513 - mean_absolute_percentage_error: 13.4190 - val_loss: 15.4914 - val_mean_absolute_percentage_error: 11.3468\n",
      "Epoch 113/135\n",
      "404/404 [==============================] - 0s 131us/step - loss: 13.4605 - mean_absolute_percentage_error: 13.6673 - val_loss: 14.3643 - val_mean_absolute_percentage_error: 11.5538\n",
      "Epoch 114/135\n",
      "404/404 [==============================] - 0s 188us/step - loss: 13.8830 - mean_absolute_percentage_error: 13.2397 - val_loss: 14.2545 - val_mean_absolute_percentage_error: 11.6097\n",
      "Epoch 115/135\n",
      "404/404 [==============================] - 0s 146us/step - loss: 13.5760 - mean_absolute_percentage_error: 13.3182 - val_loss: 14.2820 - val_mean_absolute_percentage_error: 11.6070\n",
      "Epoch 116/135\n",
      "404/404 [==============================] - 0s 101us/step - loss: 13.8409 - mean_absolute_percentage_error: 13.5709 - val_loss: 15.0175 - val_mean_absolute_percentage_error: 11.3660\n",
      "Epoch 117/135\n",
      "404/404 [==============================] - 0s 109us/step - loss: 13.6796 - mean_absolute_percentage_error: 12.9582 - val_loss: 14.1741 - val_mean_absolute_percentage_error: 11.8487\n",
      "Epoch 118/135\n",
      "404/404 [==============================] - 0s 153us/step - loss: 13.3959 - mean_absolute_percentage_error: 13.7835 - val_loss: 15.5929 - val_mean_absolute_percentage_error: 11.2922\n",
      "Epoch 119/135\n",
      "404/404 [==============================] - 0s 183us/step - loss: 14.2556 - mean_absolute_percentage_error: 13.5207 - val_loss: 15.8060 - val_mean_absolute_percentage_error: 11.3355\n",
      "Epoch 120/135\n",
      "404/404 [==============================] - 0s 200us/step - loss: 13.9033 - mean_absolute_percentage_error: 13.5523 - val_loss: 14.2028 - val_mean_absolute_percentage_error: 12.1301\n",
      "Epoch 121/135\n",
      "404/404 [==============================] - 0s 124us/step - loss: 13.9746 - mean_absolute_percentage_error: 13.4034 - val_loss: 14.3617 - val_mean_absolute_percentage_error: 12.2689\n",
      "Epoch 122/135\n",
      "404/404 [==============================] - 0s 215us/step - loss: 12.9882 - mean_absolute_percentage_error: 13.2514 - val_loss: 16.3780 - val_mean_absolute_percentage_error: 11.3529\n",
      "Epoch 123/135\n",
      "404/404 [==============================] - 0s 171us/step - loss: 14.2356 - mean_absolute_percentage_error: 13.8024 - val_loss: 15.3879 - val_mean_absolute_percentage_error: 11.3892\n",
      "Epoch 124/135\n",
      "404/404 [==============================] - 0s 257us/step - loss: 14.6471 - mean_absolute_percentage_error: 13.4969 - val_loss: 14.0513 - val_mean_absolute_percentage_error: 11.5221\n",
      "Epoch 125/135\n",
      "404/404 [==============================] - 0s 200us/step - loss: 13.4747 - mean_absolute_percentage_error: 13.4293 - val_loss: 14.4524 - val_mean_absolute_percentage_error: 11.5333\n",
      "Epoch 126/135\n",
      "404/404 [==============================] - 0s 99us/step - loss: 13.3086 - mean_absolute_percentage_error: 13.1555 - val_loss: 13.9300 - val_mean_absolute_percentage_error: 11.5697\n",
      "Epoch 127/135\n",
      "404/404 [==============================] - 0s 163us/step - loss: 13.2547 - mean_absolute_percentage_error: 13.1195 - val_loss: 14.0625 - val_mean_absolute_percentage_error: 11.3140\n",
      "Epoch 128/135\n",
      "404/404 [==============================] - 0s 131us/step - loss: 13.3191 - mean_absolute_percentage_error: 13.3348 - val_loss: 13.8443 - val_mean_absolute_percentage_error: 11.8628\n",
      "Epoch 129/135\n",
      "404/404 [==============================] - 0s 176us/step - loss: 14.0900 - mean_absolute_percentage_error: 13.5760 - val_loss: 14.1626 - val_mean_absolute_percentage_error: 11.3031\n",
      "Epoch 130/135\n",
      "404/404 [==============================] - 0s 143us/step - loss: 13.6435 - mean_absolute_percentage_error: 13.6592 - val_loss: 15.0797 - val_mean_absolute_percentage_error: 11.2627\n",
      "Epoch 131/135\n",
      "404/404 [==============================] - 0s 126us/step - loss: 13.6564 - mean_absolute_percentage_error: 13.3944 - val_loss: 14.3127 - val_mean_absolute_percentage_error: 11.3734\n",
      "Epoch 132/135\n",
      "404/404 [==============================] - 0s 148us/step - loss: 13.3273 - mean_absolute_percentage_error: 13.3647 - val_loss: 15.3807 - val_mean_absolute_percentage_error: 11.2218\n",
      "Epoch 133/135\n",
      "404/404 [==============================] - 0s 119us/step - loss: 13.6194 - mean_absolute_percentage_error: 13.3200 - val_loss: 13.8609 - val_mean_absolute_percentage_error: 11.9146\n",
      "Epoch 134/135\n",
      "404/404 [==============================] - 0s 163us/step - loss: 13.5113 - mean_absolute_percentage_error: 13.1488 - val_loss: 13.9278 - val_mean_absolute_percentage_error: 12.1080\n",
      "Epoch 135/135\n",
      "404/404 [==============================] - 0s 136us/step - loss: 13.8339 - mean_absolute_percentage_error: 13.9450 - val_loss: 19.7679 - val_mean_absolute_percentage_error: 12.1039\n"
     ]
    }
   ],
   "source": [
    "history = model.fit(x_train,y_train,batch_size=32,epochs=135,validation_data=(x_val,y_val))\n"
   ]
  },
  {
   "cell_type": "code",
   "execution_count": 32,
   "metadata": {},
   "outputs": [
    {
     "output_type": "stream",
     "name": "stdout",
     "text": [
      "102/102 [==============================] - 0s 108us/step\n",
      "loss  :::  35.69209872975069\n",
      "mean_absolute_percentage_error  :::  19.46942901611328\n"
     ]
    }
   ],
   "source": [
    "# model evalationu\n",
    "result = model.evaluate(x_test,y_test)\n",
    "for i in range(len(model.metrics_names)):\n",
    "    print(model.metrics_names[i],\" ::: \", result[i])"
   ]
  },
  {
   "cell_type": "code",
   "execution_count": 33,
   "metadata": {},
   "outputs": [
    {
     "output_type": "stream",
     "name": "stdout",
     "text": [
      "Model: \"sequential_3\"\n_________________________________________________________________\nLayer (type)                 Output Shape              Param #   \n=================================================================\ndense_7 (Dense)              (None, 13)                182       \n_________________________________________________________________\ndense_8 (Dense)              (None, 6)                 84        \n_________________________________________________________________\ndense_9 (Dense)              (None, 1)                 7         \n=================================================================\nTotal params: 273\nTrainable params: 273\nNon-trainable params: 0\n_________________________________________________________________\n"
     ]
    }
   ],
   "source": [
    "model.summary()"
   ]
  },
  {
   "cell_type": "code",
   "execution_count": 34,
   "metadata": {},
   "outputs": [
    {
     "output_type": "execute_result",
     "data": {
      "text/plain": [
       "'mean_squared_error'"
      ]
     },
     "metadata": {},
     "execution_count": 34
    }
   ],
   "source": [
    "model.loss"
   ]
  },
  {
   "cell_type": "code",
   "execution_count": 35,
   "metadata": {},
   "outputs": [],
   "source": [
    "history_dict = history.history"
   ]
  },
  {
   "cell_type": "code",
   "execution_count": 36,
   "metadata": {},
   "outputs": [
    {
     "output_type": "execute_result",
     "data": {
      "text/plain": [
       "dict_keys(['val_loss', 'val_mean_absolute_percentage_error', 'loss', 'mean_absolute_percentage_error'])"
      ]
     },
     "metadata": {},
     "execution_count": 36
    }
   ],
   "source": [
    "history_dict.keys()"
   ]
  },
  {
   "cell_type": "code",
   "execution_count": 37,
   "metadata": {},
   "outputs": [],
   "source": [
    "#his"
   ]
  },
  {
   "cell_type": "code",
   "execution_count": 38,
   "metadata": {},
   "outputs": [],
   "source": [
    "import matplotlib.pyplot as plt\n",
    "loss_value = history_dict['loss']\n",
    "val_loss_values = history_dict['val_loss']\n"
   ]
  },
  {
   "cell_type": "code",
   "execution_count": 39,
   "metadata": {},
   "outputs": [
    {
     "output_type": "execute_result",
     "data": {
      "text/plain": [
       "range(1, 136)"
      ]
     },
     "metadata": {},
     "execution_count": 39
    }
   ],
   "source": [
    "epochs = range(1,len('mean_absolute_percentage_error')+106)\n",
    "epochs"
   ]
  },
  {
   "cell_type": "code",
   "execution_count": 40,
   "metadata": {},
   "outputs": [
    {
     "output_type": "display_data",
     "data": {
      "text/plain": "<Figure size 432x288 with 1 Axes>",
      "image/svg+xml": "<?xml version=\"1.0\" encoding=\"utf-8\" standalone=\"no\"?>\r\n<!DOCTYPE svg PUBLIC \"-//W3C//DTD SVG 1.1//EN\"\r\n  \"http://www.w3.org/Graphics/SVG/1.1/DTD/svg11.dtd\">\r\n<!-- Created with matplotlib (https://matplotlib.org/) -->\r\n<svg height=\"277.314375pt\" version=\"1.1\" viewBox=\"0 0 388.285545 277.314375\" width=\"388.285545pt\" xmlns=\"http://www.w3.org/2000/svg\" xmlns:xlink=\"http://www.w3.org/1999/xlink\">\r\n <defs>\r\n  <style type=\"text/css\">\r\n*{stroke-linecap:butt;stroke-linejoin:round;}\r\n  </style>\r\n </defs>\r\n <g id=\"figure_1\">\r\n  <g id=\"patch_1\">\r\n   <path d=\"M 0 277.314375 \r\nL 388.285545 277.314375 \r\nL 388.285545 0 \r\nL 0 0 \r\nz\r\n\" style=\"fill:none;\"/>\r\n  </g>\r\n  <g id=\"axes_1\">\r\n   <g id=\"patch_2\">\r\n    <path d=\"M 40.603125 239.758125 \r\nL 375.403125 239.758125 \r\nL 375.403125 22.318125 \r\nL 40.603125 22.318125 \r\nz\r\n\" style=\"fill:#ffffff;\"/>\r\n   </g>\r\n   <g id=\"matplotlib.axis_1\">\r\n    <g id=\"xtick_1\">\r\n     <g id=\"line2d_1\">\r\n      <defs>\r\n       <path d=\"M 0 0 \r\nL 0 3.5 \r\n\" id=\"mdc73a43583\" style=\"stroke:#000000;stroke-width:0.8;\"/>\r\n      </defs>\r\n      <g>\r\n       <use style=\"stroke:#000000;stroke-width:0.8;\" x=\"53.549936\" xlink:href=\"#mdc73a43583\" y=\"239.758125\"/>\r\n      </g>\r\n     </g>\r\n     <g id=\"text_1\">\r\n      <!-- 0 -->\r\n      <defs>\r\n       <path d=\"M 31.78125 66.40625 \r\nQ 24.171875 66.40625 20.328125 58.90625 \r\nQ 16.5 51.421875 16.5 36.375 \r\nQ 16.5 21.390625 20.328125 13.890625 \r\nQ 24.171875 6.390625 31.78125 6.390625 \r\nQ 39.453125 6.390625 43.28125 13.890625 \r\nQ 47.125 21.390625 47.125 36.375 \r\nQ 47.125 51.421875 43.28125 58.90625 \r\nQ 39.453125 66.40625 31.78125 66.40625 \r\nz\r\nM 31.78125 74.21875 \r\nQ 44.046875 74.21875 50.515625 64.515625 \r\nQ 56.984375 54.828125 56.984375 36.375 \r\nQ 56.984375 17.96875 50.515625 8.265625 \r\nQ 44.046875 -1.421875 31.78125 -1.421875 \r\nQ 19.53125 -1.421875 13.0625 8.265625 \r\nQ 6.59375 17.96875 6.59375 36.375 \r\nQ 6.59375 54.828125 13.0625 64.515625 \r\nQ 19.53125 74.21875 31.78125 74.21875 \r\nz\r\n\" id=\"DejaVuSans-48\"/>\r\n      </defs>\r\n      <g transform=\"translate(50.368686 254.356562)scale(0.1 -0.1)\">\r\n       <use xlink:href=\"#DejaVuSans-48\"/>\r\n      </g>\r\n     </g>\r\n    </g>\r\n    <g id=\"xtick_2\">\r\n     <g id=\"line2d_2\">\r\n      <g>\r\n       <use style=\"stroke:#000000;stroke-width:0.8;\" x=\"98.977345\" xlink:href=\"#mdc73a43583\" y=\"239.758125\"/>\r\n      </g>\r\n     </g>\r\n     <g id=\"text_2\">\r\n      <!-- 20 -->\r\n      <defs>\r\n       <path d=\"M 19.1875 8.296875 \r\nL 53.609375 8.296875 \r\nL 53.609375 0 \r\nL 7.328125 0 \r\nL 7.328125 8.296875 \r\nQ 12.9375 14.109375 22.625 23.890625 \r\nQ 32.328125 33.6875 34.8125 36.53125 \r\nQ 39.546875 41.84375 41.421875 45.53125 \r\nQ 43.3125 49.21875 43.3125 52.78125 \r\nQ 43.3125 58.59375 39.234375 62.25 \r\nQ 35.15625 65.921875 28.609375 65.921875 \r\nQ 23.96875 65.921875 18.8125 64.3125 \r\nQ 13.671875 62.703125 7.8125 59.421875 \r\nL 7.8125 69.390625 \r\nQ 13.765625 71.78125 18.9375 73 \r\nQ 24.125 74.21875 28.421875 74.21875 \r\nQ 39.75 74.21875 46.484375 68.546875 \r\nQ 53.21875 62.890625 53.21875 53.421875 \r\nQ 53.21875 48.921875 51.53125 44.890625 \r\nQ 49.859375 40.875 45.40625 35.40625 \r\nQ 44.1875 33.984375 37.640625 27.21875 \r\nQ 31.109375 20.453125 19.1875 8.296875 \r\nz\r\n\" id=\"DejaVuSans-50\"/>\r\n      </defs>\r\n      <g transform=\"translate(92.614845 254.356562)scale(0.1 -0.1)\">\r\n       <use xlink:href=\"#DejaVuSans-50\"/>\r\n       <use x=\"63.623047\" xlink:href=\"#DejaVuSans-48\"/>\r\n      </g>\r\n     </g>\r\n    </g>\r\n    <g id=\"xtick_3\">\r\n     <g id=\"line2d_3\">\r\n      <g>\r\n       <use style=\"stroke:#000000;stroke-width:0.8;\" x=\"144.404753\" xlink:href=\"#mdc73a43583\" y=\"239.758125\"/>\r\n      </g>\r\n     </g>\r\n     <g id=\"text_3\">\r\n      <!-- 40 -->\r\n      <defs>\r\n       <path d=\"M 37.796875 64.3125 \r\nL 12.890625 25.390625 \r\nL 37.796875 25.390625 \r\nz\r\nM 35.203125 72.90625 \r\nL 47.609375 72.90625 \r\nL 47.609375 25.390625 \r\nL 58.015625 25.390625 \r\nL 58.015625 17.1875 \r\nL 47.609375 17.1875 \r\nL 47.609375 0 \r\nL 37.796875 0 \r\nL 37.796875 17.1875 \r\nL 4.890625 17.1875 \r\nL 4.890625 26.703125 \r\nz\r\n\" id=\"DejaVuSans-52\"/>\r\n      </defs>\r\n      <g transform=\"translate(138.042253 254.356562)scale(0.1 -0.1)\">\r\n       <use xlink:href=\"#DejaVuSans-52\"/>\r\n       <use x=\"63.623047\" xlink:href=\"#DejaVuSans-48\"/>\r\n      </g>\r\n     </g>\r\n    </g>\r\n    <g id=\"xtick_4\">\r\n     <g id=\"line2d_4\">\r\n      <g>\r\n       <use style=\"stroke:#000000;stroke-width:0.8;\" x=\"189.832162\" xlink:href=\"#mdc73a43583\" y=\"239.758125\"/>\r\n      </g>\r\n     </g>\r\n     <g id=\"text_4\">\r\n      <!-- 60 -->\r\n      <defs>\r\n       <path d=\"M 33.015625 40.375 \r\nQ 26.375 40.375 22.484375 35.828125 \r\nQ 18.609375 31.296875 18.609375 23.390625 \r\nQ 18.609375 15.53125 22.484375 10.953125 \r\nQ 26.375 6.390625 33.015625 6.390625 \r\nQ 39.65625 6.390625 43.53125 10.953125 \r\nQ 47.40625 15.53125 47.40625 23.390625 \r\nQ 47.40625 31.296875 43.53125 35.828125 \r\nQ 39.65625 40.375 33.015625 40.375 \r\nz\r\nM 52.59375 71.296875 \r\nL 52.59375 62.3125 \r\nQ 48.875 64.0625 45.09375 64.984375 \r\nQ 41.3125 65.921875 37.59375 65.921875 \r\nQ 27.828125 65.921875 22.671875 59.328125 \r\nQ 17.53125 52.734375 16.796875 39.40625 \r\nQ 19.671875 43.65625 24.015625 45.921875 \r\nQ 28.375 48.1875 33.59375 48.1875 \r\nQ 44.578125 48.1875 50.953125 41.515625 \r\nQ 57.328125 34.859375 57.328125 23.390625 \r\nQ 57.328125 12.15625 50.6875 5.359375 \r\nQ 44.046875 -1.421875 33.015625 -1.421875 \r\nQ 20.359375 -1.421875 13.671875 8.265625 \r\nQ 6.984375 17.96875 6.984375 36.375 \r\nQ 6.984375 53.65625 15.1875 63.9375 \r\nQ 23.390625 74.21875 37.203125 74.21875 \r\nQ 40.921875 74.21875 44.703125 73.484375 \r\nQ 48.484375 72.75 52.59375 71.296875 \r\nz\r\n\" id=\"DejaVuSans-54\"/>\r\n      </defs>\r\n      <g transform=\"translate(183.469662 254.356562)scale(0.1 -0.1)\">\r\n       <use xlink:href=\"#DejaVuSans-54\"/>\r\n       <use x=\"63.623047\" xlink:href=\"#DejaVuSans-48\"/>\r\n      </g>\r\n     </g>\r\n    </g>\r\n    <g id=\"xtick_5\">\r\n     <g id=\"line2d_5\">\r\n      <g>\r\n       <use style=\"stroke:#000000;stroke-width:0.8;\" x=\"235.25957\" xlink:href=\"#mdc73a43583\" y=\"239.758125\"/>\r\n      </g>\r\n     </g>\r\n     <g id=\"text_5\">\r\n      <!-- 80 -->\r\n      <defs>\r\n       <path d=\"M 31.78125 34.625 \r\nQ 24.75 34.625 20.71875 30.859375 \r\nQ 16.703125 27.09375 16.703125 20.515625 \r\nQ 16.703125 13.921875 20.71875 10.15625 \r\nQ 24.75 6.390625 31.78125 6.390625 \r\nQ 38.8125 6.390625 42.859375 10.171875 \r\nQ 46.921875 13.96875 46.921875 20.515625 \r\nQ 46.921875 27.09375 42.890625 30.859375 \r\nQ 38.875 34.625 31.78125 34.625 \r\nz\r\nM 21.921875 38.8125 \r\nQ 15.578125 40.375 12.03125 44.71875 \r\nQ 8.5 49.078125 8.5 55.328125 \r\nQ 8.5 64.0625 14.71875 69.140625 \r\nQ 20.953125 74.21875 31.78125 74.21875 \r\nQ 42.671875 74.21875 48.875 69.140625 \r\nQ 55.078125 64.0625 55.078125 55.328125 \r\nQ 55.078125 49.078125 51.53125 44.71875 \r\nQ 48 40.375 41.703125 38.8125 \r\nQ 48.828125 37.15625 52.796875 32.3125 \r\nQ 56.78125 27.484375 56.78125 20.515625 \r\nQ 56.78125 9.90625 50.3125 4.234375 \r\nQ 43.84375 -1.421875 31.78125 -1.421875 \r\nQ 19.734375 -1.421875 13.25 4.234375 \r\nQ 6.78125 9.90625 6.78125 20.515625 \r\nQ 6.78125 27.484375 10.78125 32.3125 \r\nQ 14.796875 37.15625 21.921875 38.8125 \r\nz\r\nM 18.3125 54.390625 \r\nQ 18.3125 48.734375 21.84375 45.5625 \r\nQ 25.390625 42.390625 31.78125 42.390625 \r\nQ 38.140625 42.390625 41.71875 45.5625 \r\nQ 45.3125 48.734375 45.3125 54.390625 \r\nQ 45.3125 60.0625 41.71875 63.234375 \r\nQ 38.140625 66.40625 31.78125 66.40625 \r\nQ 25.390625 66.40625 21.84375 63.234375 \r\nQ 18.3125 60.0625 18.3125 54.390625 \r\nz\r\n\" id=\"DejaVuSans-56\"/>\r\n      </defs>\r\n      <g transform=\"translate(228.89707 254.356562)scale(0.1 -0.1)\">\r\n       <use xlink:href=\"#DejaVuSans-56\"/>\r\n       <use x=\"63.623047\" xlink:href=\"#DejaVuSans-48\"/>\r\n      </g>\r\n     </g>\r\n    </g>\r\n    <g id=\"xtick_6\">\r\n     <g id=\"line2d_6\">\r\n      <g>\r\n       <use style=\"stroke:#000000;stroke-width:0.8;\" x=\"280.686978\" xlink:href=\"#mdc73a43583\" y=\"239.758125\"/>\r\n      </g>\r\n     </g>\r\n     <g id=\"text_6\">\r\n      <!-- 100 -->\r\n      <defs>\r\n       <path d=\"M 12.40625 8.296875 \r\nL 28.515625 8.296875 \r\nL 28.515625 63.921875 \r\nL 10.984375 60.40625 \r\nL 10.984375 69.390625 \r\nL 28.421875 72.90625 \r\nL 38.28125 72.90625 \r\nL 38.28125 8.296875 \r\nL 54.390625 8.296875 \r\nL 54.390625 0 \r\nL 12.40625 0 \r\nz\r\n\" id=\"DejaVuSans-49\"/>\r\n      </defs>\r\n      <g transform=\"translate(271.143228 254.356562)scale(0.1 -0.1)\">\r\n       <use xlink:href=\"#DejaVuSans-49\"/>\r\n       <use x=\"63.623047\" xlink:href=\"#DejaVuSans-48\"/>\r\n       <use x=\"127.246094\" xlink:href=\"#DejaVuSans-48\"/>\r\n      </g>\r\n     </g>\r\n    </g>\r\n    <g id=\"xtick_7\">\r\n     <g id=\"line2d_7\">\r\n      <g>\r\n       <use style=\"stroke:#000000;stroke-width:0.8;\" x=\"326.114387\" xlink:href=\"#mdc73a43583\" y=\"239.758125\"/>\r\n      </g>\r\n     </g>\r\n     <g id=\"text_7\">\r\n      <!-- 120 -->\r\n      <g transform=\"translate(316.570637 254.356562)scale(0.1 -0.1)\">\r\n       <use xlink:href=\"#DejaVuSans-49\"/>\r\n       <use x=\"63.623047\" xlink:href=\"#DejaVuSans-50\"/>\r\n       <use x=\"127.246094\" xlink:href=\"#DejaVuSans-48\"/>\r\n      </g>\r\n     </g>\r\n    </g>\r\n    <g id=\"xtick_8\">\r\n     <g id=\"line2d_8\">\r\n      <g>\r\n       <use style=\"stroke:#000000;stroke-width:0.8;\" x=\"371.541795\" xlink:href=\"#mdc73a43583\" y=\"239.758125\"/>\r\n      </g>\r\n     </g>\r\n     <g id=\"text_8\">\r\n      <!-- 140 -->\r\n      <g transform=\"translate(361.998045 254.356562)scale(0.1 -0.1)\">\r\n       <use xlink:href=\"#DejaVuSans-49\"/>\r\n       <use x=\"63.623047\" xlink:href=\"#DejaVuSans-52\"/>\r\n       <use x=\"127.246094\" xlink:href=\"#DejaVuSans-48\"/>\r\n      </g>\r\n     </g>\r\n    </g>\r\n    <g id=\"text_9\">\r\n     <!-- Epochs -->\r\n     <defs>\r\n      <path d=\"M 9.8125 72.90625 \r\nL 55.90625 72.90625 \r\nL 55.90625 64.59375 \r\nL 19.671875 64.59375 \r\nL 19.671875 43.015625 \r\nL 54.390625 43.015625 \r\nL 54.390625 34.71875 \r\nL 19.671875 34.71875 \r\nL 19.671875 8.296875 \r\nL 56.78125 8.296875 \r\nL 56.78125 0 \r\nL 9.8125 0 \r\nz\r\n\" id=\"DejaVuSans-69\"/>\r\n      <path d=\"M 18.109375 8.203125 \r\nL 18.109375 -20.796875 \r\nL 9.078125 -20.796875 \r\nL 9.078125 54.6875 \r\nL 18.109375 54.6875 \r\nL 18.109375 46.390625 \r\nQ 20.953125 51.265625 25.265625 53.625 \r\nQ 29.59375 56 35.59375 56 \r\nQ 45.5625 56 51.78125 48.09375 \r\nQ 58.015625 40.1875 58.015625 27.296875 \r\nQ 58.015625 14.40625 51.78125 6.484375 \r\nQ 45.5625 -1.421875 35.59375 -1.421875 \r\nQ 29.59375 -1.421875 25.265625 0.953125 \r\nQ 20.953125 3.328125 18.109375 8.203125 \r\nz\r\nM 48.6875 27.296875 \r\nQ 48.6875 37.203125 44.609375 42.84375 \r\nQ 40.53125 48.484375 33.40625 48.484375 \r\nQ 26.265625 48.484375 22.1875 42.84375 \r\nQ 18.109375 37.203125 18.109375 27.296875 \r\nQ 18.109375 17.390625 22.1875 11.75 \r\nQ 26.265625 6.109375 33.40625 6.109375 \r\nQ 40.53125 6.109375 44.609375 11.75 \r\nQ 48.6875 17.390625 48.6875 27.296875 \r\nz\r\n\" id=\"DejaVuSans-112\"/>\r\n      <path d=\"M 30.609375 48.390625 \r\nQ 23.390625 48.390625 19.1875 42.75 \r\nQ 14.984375 37.109375 14.984375 27.296875 \r\nQ 14.984375 17.484375 19.15625 11.84375 \r\nQ 23.34375 6.203125 30.609375 6.203125 \r\nQ 37.796875 6.203125 41.984375 11.859375 \r\nQ 46.1875 17.53125 46.1875 27.296875 \r\nQ 46.1875 37.015625 41.984375 42.703125 \r\nQ 37.796875 48.390625 30.609375 48.390625 \r\nz\r\nM 30.609375 56 \r\nQ 42.328125 56 49.015625 48.375 \r\nQ 55.71875 40.765625 55.71875 27.296875 \r\nQ 55.71875 13.875 49.015625 6.21875 \r\nQ 42.328125 -1.421875 30.609375 -1.421875 \r\nQ 18.84375 -1.421875 12.171875 6.21875 \r\nQ 5.515625 13.875 5.515625 27.296875 \r\nQ 5.515625 40.765625 12.171875 48.375 \r\nQ 18.84375 56 30.609375 56 \r\nz\r\n\" id=\"DejaVuSans-111\"/>\r\n      <path d=\"M 48.78125 52.59375 \r\nL 48.78125 44.1875 \r\nQ 44.96875 46.296875 41.140625 47.34375 \r\nQ 37.3125 48.390625 33.40625 48.390625 \r\nQ 24.65625 48.390625 19.8125 42.84375 \r\nQ 14.984375 37.3125 14.984375 27.296875 \r\nQ 14.984375 17.28125 19.8125 11.734375 \r\nQ 24.65625 6.203125 33.40625 6.203125 \r\nQ 37.3125 6.203125 41.140625 7.25 \r\nQ 44.96875 8.296875 48.78125 10.40625 \r\nL 48.78125 2.09375 \r\nQ 45.015625 0.34375 40.984375 -0.53125 \r\nQ 36.96875 -1.421875 32.421875 -1.421875 \r\nQ 20.0625 -1.421875 12.78125 6.34375 \r\nQ 5.515625 14.109375 5.515625 27.296875 \r\nQ 5.515625 40.671875 12.859375 48.328125 \r\nQ 20.21875 56 33.015625 56 \r\nQ 37.15625 56 41.109375 55.140625 \r\nQ 45.0625 54.296875 48.78125 52.59375 \r\nz\r\n\" id=\"DejaVuSans-99\"/>\r\n      <path d=\"M 54.890625 33.015625 \r\nL 54.890625 0 \r\nL 45.90625 0 \r\nL 45.90625 32.71875 \r\nQ 45.90625 40.484375 42.875 44.328125 \r\nQ 39.84375 48.1875 33.796875 48.1875 \r\nQ 26.515625 48.1875 22.3125 43.546875 \r\nQ 18.109375 38.921875 18.109375 30.90625 \r\nL 18.109375 0 \r\nL 9.078125 0 \r\nL 9.078125 75.984375 \r\nL 18.109375 75.984375 \r\nL 18.109375 46.1875 \r\nQ 21.34375 51.125 25.703125 53.5625 \r\nQ 30.078125 56 35.796875 56 \r\nQ 45.21875 56 50.046875 50.171875 \r\nQ 54.890625 44.34375 54.890625 33.015625 \r\nz\r\n\" id=\"DejaVuSans-104\"/>\r\n      <path d=\"M 44.28125 53.078125 \r\nL 44.28125 44.578125 \r\nQ 40.484375 46.53125 36.375 47.5 \r\nQ 32.28125 48.484375 27.875 48.484375 \r\nQ 21.1875 48.484375 17.84375 46.4375 \r\nQ 14.5 44.390625 14.5 40.28125 \r\nQ 14.5 37.15625 16.890625 35.375 \r\nQ 19.28125 33.59375 26.515625 31.984375 \r\nL 29.59375 31.296875 \r\nQ 39.15625 29.25 43.1875 25.515625 \r\nQ 47.21875 21.78125 47.21875 15.09375 \r\nQ 47.21875 7.46875 41.1875 3.015625 \r\nQ 35.15625 -1.421875 24.609375 -1.421875 \r\nQ 20.21875 -1.421875 15.453125 -0.5625 \r\nQ 10.6875 0.296875 5.421875 2 \r\nL 5.421875 11.28125 \r\nQ 10.40625 8.6875 15.234375 7.390625 \r\nQ 20.0625 6.109375 24.8125 6.109375 \r\nQ 31.15625 6.109375 34.5625 8.28125 \r\nQ 37.984375 10.453125 37.984375 14.40625 \r\nQ 37.984375 18.0625 35.515625 20.015625 \r\nQ 33.0625 21.96875 24.703125 23.78125 \r\nL 21.578125 24.515625 \r\nQ 13.234375 26.265625 9.515625 29.90625 \r\nQ 5.8125 33.546875 5.8125 39.890625 \r\nQ 5.8125 47.609375 11.28125 51.796875 \r\nQ 16.75 56 26.8125 56 \r\nQ 31.78125 56 36.171875 55.265625 \r\nQ 40.578125 54.546875 44.28125 53.078125 \r\nz\r\n\" id=\"DejaVuSans-115\"/>\r\n     </defs>\r\n     <g transform=\"translate(190.0875 268.034687)scale(0.1 -0.1)\">\r\n      <use xlink:href=\"#DejaVuSans-69\"/>\r\n      <use x=\"63.183594\" xlink:href=\"#DejaVuSans-112\"/>\r\n      <use x=\"126.660156\" xlink:href=\"#DejaVuSans-111\"/>\r\n      <use x=\"187.841797\" xlink:href=\"#DejaVuSans-99\"/>\r\n      <use x=\"242.822266\" xlink:href=\"#DejaVuSans-104\"/>\r\n      <use x=\"306.201172\" xlink:href=\"#DejaVuSans-115\"/>\r\n     </g>\r\n    </g>\r\n   </g>\r\n   <g id=\"matplotlib.axis_2\">\r\n    <g id=\"ytick_1\">\r\n     <g id=\"line2d_9\">\r\n      <defs>\r\n       <path d=\"M 0 0 \r\nL -3.5 0 \r\n\" id=\"m88f5a10372\" style=\"stroke:#000000;stroke-width:0.8;\"/>\r\n      </defs>\r\n      <g>\r\n       <use style=\"stroke:#000000;stroke-width:0.8;\" x=\"40.603125\" xlink:href=\"#m88f5a10372\" y=\"212.811945\"/>\r\n      </g>\r\n     </g>\r\n     <g id=\"text_10\">\r\n      <!-- 14 -->\r\n      <g transform=\"translate(20.878125 216.611164)scale(0.1 -0.1)\">\r\n       <use xlink:href=\"#DejaVuSans-49\"/>\r\n       <use x=\"63.623047\" xlink:href=\"#DejaVuSans-52\"/>\r\n      </g>\r\n     </g>\r\n    </g>\r\n    <g id=\"ytick_2\">\r\n     <g id=\"line2d_10\">\r\n      <g>\r\n       <use style=\"stroke:#000000;stroke-width:0.8;\" x=\"40.603125\" xlink:href=\"#m88f5a10372\" y=\"179.083185\"/>\r\n      </g>\r\n     </g>\r\n     <g id=\"text_11\">\r\n      <!-- 16 -->\r\n      <g transform=\"translate(20.878125 182.882404)scale(0.1 -0.1)\">\r\n       <use xlink:href=\"#DejaVuSans-49\"/>\r\n       <use x=\"63.623047\" xlink:href=\"#DejaVuSans-54\"/>\r\n      </g>\r\n     </g>\r\n    </g>\r\n    <g id=\"ytick_3\">\r\n     <g id=\"line2d_11\">\r\n      <g>\r\n       <use style=\"stroke:#000000;stroke-width:0.8;\" x=\"40.603125\" xlink:href=\"#m88f5a10372\" y=\"145.354426\"/>\r\n      </g>\r\n     </g>\r\n     <g id=\"text_12\">\r\n      <!-- 18 -->\r\n      <g transform=\"translate(20.878125 149.153644)scale(0.1 -0.1)\">\r\n       <use xlink:href=\"#DejaVuSans-49\"/>\r\n       <use x=\"63.623047\" xlink:href=\"#DejaVuSans-56\"/>\r\n      </g>\r\n     </g>\r\n    </g>\r\n    <g id=\"ytick_4\">\r\n     <g id=\"line2d_12\">\r\n      <g>\r\n       <use style=\"stroke:#000000;stroke-width:0.8;\" x=\"40.603125\" xlink:href=\"#m88f5a10372\" y=\"111.625666\"/>\r\n      </g>\r\n     </g>\r\n     <g id=\"text_13\">\r\n      <!-- 20 -->\r\n      <g transform=\"translate(20.878125 115.424885)scale(0.1 -0.1)\">\r\n       <use xlink:href=\"#DejaVuSans-50\"/>\r\n       <use x=\"63.623047\" xlink:href=\"#DejaVuSans-48\"/>\r\n      </g>\r\n     </g>\r\n    </g>\r\n    <g id=\"ytick_5\">\r\n     <g id=\"line2d_13\">\r\n      <g>\r\n       <use style=\"stroke:#000000;stroke-width:0.8;\" x=\"40.603125\" xlink:href=\"#m88f5a10372\" y=\"77.896906\"/>\r\n      </g>\r\n     </g>\r\n     <g id=\"text_14\">\r\n      <!-- 22 -->\r\n      <g transform=\"translate(20.878125 81.696125)scale(0.1 -0.1)\">\r\n       <use xlink:href=\"#DejaVuSans-50\"/>\r\n       <use x=\"63.623047\" xlink:href=\"#DejaVuSans-50\"/>\r\n      </g>\r\n     </g>\r\n    </g>\r\n    <g id=\"ytick_6\">\r\n     <g id=\"line2d_14\">\r\n      <g>\r\n       <use style=\"stroke:#000000;stroke-width:0.8;\" x=\"40.603125\" xlink:href=\"#m88f5a10372\" y=\"44.168146\"/>\r\n      </g>\r\n     </g>\r\n     <g id=\"text_15\">\r\n      <!-- 24 -->\r\n      <g transform=\"translate(20.878125 47.967365)scale(0.1 -0.1)\">\r\n       <use xlink:href=\"#DejaVuSans-50\"/>\r\n       <use x=\"63.623047\" xlink:href=\"#DejaVuSans-52\"/>\r\n      </g>\r\n     </g>\r\n    </g>\r\n    <g id=\"text_16\">\r\n     <!-- Loss -->\r\n     <defs>\r\n      <path d=\"M 9.8125 72.90625 \r\nL 19.671875 72.90625 \r\nL 19.671875 8.296875 \r\nL 55.171875 8.296875 \r\nL 55.171875 0 \r\nL 9.8125 0 \r\nz\r\n\" id=\"DejaVuSans-76\"/>\r\n     </defs>\r\n     <g transform=\"translate(14.798438 142.092031)rotate(-90)scale(0.1 -0.1)\">\r\n      <use xlink:href=\"#DejaVuSans-76\"/>\r\n      <use x=\"55.697266\" xlink:href=\"#DejaVuSans-111\"/>\r\n      <use x=\"116.878906\" xlink:href=\"#DejaVuSans-115\"/>\r\n      <use x=\"168.978516\" xlink:href=\"#DejaVuSans-115\"/>\r\n     </g>\r\n    </g>\r\n   </g>\r\n   <g id=\"line2d_15\">\r\n    <defs>\r\n     <path d=\"M 0 3 \r\nC 0.795609 3 1.55874 2.683901 2.12132 2.12132 \r\nC 2.683901 1.55874 3 0.795609 3 0 \r\nC 3 -0.795609 2.683901 -1.55874 2.12132 -2.12132 \r\nC 1.55874 -2.683901 0.795609 -3 0 -3 \r\nC -0.795609 -3 -1.55874 -2.683901 -2.12132 -2.12132 \r\nC -2.683901 -1.55874 -3 -0.795609 -3 0 \r\nC -3 0.795609 -2.683901 1.55874 -2.12132 2.12132 \r\nC -1.55874 2.683901 -0.795609 3 0 3 \r\nz\r\n\" id=\"me4d229d6a4\" style=\"stroke:#0000ff;\"/>\r\n    </defs>\r\n    <g clip-path=\"url(#p96dc709aed)\">\r\n     <use style=\"fill:#0000ff;stroke:#0000ff;\" x=\"55.821307\" xlink:href=\"#me4d229d6a4\" y=\"165.928767\"/>\r\n     <use style=\"fill:#0000ff;stroke:#0000ff;\" x=\"58.092677\" xlink:href=\"#me4d229d6a4\" y=\"162.149443\"/>\r\n     <use style=\"fill:#0000ff;stroke:#0000ff;\" x=\"60.364048\" xlink:href=\"#me4d229d6a4\" y=\"169.772575\"/>\r\n     <use style=\"fill:#0000ff;stroke:#0000ff;\" x=\"62.635418\" xlink:href=\"#me4d229d6a4\" y=\"151.40113\"/>\r\n     <use style=\"fill:#0000ff;stroke:#0000ff;\" x=\"64.906789\" xlink:href=\"#me4d229d6a4\" y=\"143.646789\"/>\r\n     <use style=\"fill:#0000ff;stroke:#0000ff;\" x=\"67.178159\" xlink:href=\"#me4d229d6a4\" y=\"168.992624\"/>\r\n     <use style=\"fill:#0000ff;stroke:#0000ff;\" x=\"69.449529\" xlink:href=\"#me4d229d6a4\" y=\"169.951148\"/>\r\n     <use style=\"fill:#0000ff;stroke:#0000ff;\" x=\"71.7209\" xlink:href=\"#me4d229d6a4\" y=\"170.306986\"/>\r\n     <use style=\"fill:#0000ff;stroke:#0000ff;\" x=\"73.99227\" xlink:href=\"#me4d229d6a4\" y=\"171.665558\"/>\r\n     <use style=\"fill:#0000ff;stroke:#0000ff;\" x=\"76.263641\" xlink:href=\"#me4d229d6a4\" y=\"173.927699\"/>\r\n     <use style=\"fill:#0000ff;stroke:#0000ff;\" x=\"78.535011\" xlink:href=\"#me4d229d6a4\" y=\"175.838808\"/>\r\n     <use style=\"fill:#0000ff;stroke:#0000ff;\" x=\"80.806381\" xlink:href=\"#me4d229d6a4\" y=\"172.469285\"/>\r\n     <use style=\"fill:#0000ff;stroke:#0000ff;\" x=\"83.077752\" xlink:href=\"#me4d229d6a4\" y=\"163.481222\"/>\r\n     <use style=\"fill:#0000ff;stroke:#0000ff;\" x=\"85.349122\" xlink:href=\"#me4d229d6a4\" y=\"170.125881\"/>\r\n     <use style=\"fill:#0000ff;stroke:#0000ff;\" x=\"87.620493\" xlink:href=\"#me4d229d6a4\" y=\"170.958563\"/>\r\n     <use style=\"fill:#0000ff;stroke:#0000ff;\" x=\"89.891863\" xlink:href=\"#me4d229d6a4\" y=\"160.17478\"/>\r\n     <use style=\"fill:#0000ff;stroke:#0000ff;\" x=\"92.163234\" xlink:href=\"#me4d229d6a4\" y=\"165.460681\"/>\r\n     <use style=\"fill:#0000ff;stroke:#0000ff;\" x=\"94.434604\" xlink:href=\"#me4d229d6a4\" y=\"168.580986\"/>\r\n     <use style=\"fill:#0000ff;stroke:#0000ff;\" x=\"96.705974\" xlink:href=\"#me4d229d6a4\" y=\"180.988532\"/>\r\n     <use style=\"fill:#0000ff;stroke:#0000ff;\" x=\"98.977345\" xlink:href=\"#me4d229d6a4\" y=\"182.714161\"/>\r\n     <use style=\"fill:#0000ff;stroke:#0000ff;\" x=\"101.248715\" xlink:href=\"#me4d229d6a4\" y=\"167.856383\"/>\r\n     <use style=\"fill:#0000ff;stroke:#0000ff;\" x=\"103.520086\" xlink:href=\"#me4d229d6a4\" y=\"171.346684\"/>\r\n     <use style=\"fill:#0000ff;stroke:#0000ff;\" x=\"105.791456\" xlink:href=\"#me4d229d6a4\" y=\"185.184573\"/>\r\n     <use style=\"fill:#0000ff;stroke:#0000ff;\" x=\"108.062826\" xlink:href=\"#me4d229d6a4\" y=\"174.173724\"/>\r\n     <use style=\"fill:#0000ff;stroke:#0000ff;\" x=\"110.334197\" xlink:href=\"#me4d229d6a4\" y=\"165.984175\"/>\r\n     <use style=\"fill:#0000ff;stroke:#0000ff;\" x=\"112.605567\" xlink:href=\"#me4d229d6a4\" y=\"178.040833\"/>\r\n     <use style=\"fill:#0000ff;stroke:#0000ff;\" x=\"114.876938\" xlink:href=\"#me4d229d6a4\" y=\"173.752636\"/>\r\n     <use style=\"fill:#0000ff;stroke:#0000ff;\" x=\"117.148308\" xlink:href=\"#me4d229d6a4\" y=\"186.550298\"/>\r\n     <use style=\"fill:#0000ff;stroke:#0000ff;\" x=\"119.419679\" xlink:href=\"#me4d229d6a4\" y=\"184.940688\"/>\r\n     <use style=\"fill:#0000ff;stroke:#0000ff;\" x=\"121.691049\" xlink:href=\"#me4d229d6a4\" y=\"183.148021\"/>\r\n     <use style=\"fill:#0000ff;stroke:#0000ff;\" x=\"123.962419\" xlink:href=\"#me4d229d6a4\" y=\"190.210671\"/>\r\n     <use style=\"fill:#0000ff;stroke:#0000ff;\" x=\"126.23379\" xlink:href=\"#me4d229d6a4\" y=\"183.279949\"/>\r\n     <use style=\"fill:#0000ff;stroke:#0000ff;\" x=\"128.50516\" xlink:href=\"#me4d229d6a4\" y=\"187.417561\"/>\r\n     <use style=\"fill:#0000ff;stroke:#0000ff;\" x=\"130.776531\" xlink:href=\"#me4d229d6a4\" y=\"189.999983\"/>\r\n     <use style=\"fill:#0000ff;stroke:#0000ff;\" x=\"133.047901\" xlink:href=\"#me4d229d6a4\" y=\"188.446312\"/>\r\n     <use style=\"fill:#0000ff;stroke:#0000ff;\" x=\"135.319272\" xlink:href=\"#me4d229d6a4\" y=\"188.754109\"/>\r\n     <use style=\"fill:#0000ff;stroke:#0000ff;\" x=\"137.590642\" xlink:href=\"#me4d229d6a4\" y=\"192.623433\"/>\r\n     <use style=\"fill:#0000ff;stroke:#0000ff;\" x=\"139.862012\" xlink:href=\"#me4d229d6a4\" y=\"193.570772\"/>\r\n     <use style=\"fill:#0000ff;stroke:#0000ff;\" x=\"142.133383\" xlink:href=\"#me4d229d6a4\" y=\"179.590483\"/>\r\n     <use style=\"fill:#0000ff;stroke:#0000ff;\" x=\"144.404753\" xlink:href=\"#me4d229d6a4\" y=\"142.611391\"/>\r\n     <use style=\"fill:#0000ff;stroke:#0000ff;\" x=\"146.676124\" xlink:href=\"#me4d229d6a4\" y=\"183.929184\"/>\r\n     <use style=\"fill:#0000ff;stroke:#0000ff;\" x=\"148.947494\" xlink:href=\"#me4d229d6a4\" y=\"190.215611\"/>\r\n     <use style=\"fill:#0000ff;stroke:#0000ff;\" x=\"151.218864\" xlink:href=\"#me4d229d6a4\" y=\"193.889931\"/>\r\n     <use style=\"fill:#0000ff;stroke:#0000ff;\" x=\"153.490235\" xlink:href=\"#me4d229d6a4\" y=\"194.060972\"/>\r\n     <use style=\"fill:#0000ff;stroke:#0000ff;\" x=\"155.761605\" xlink:href=\"#me4d229d6a4\" y=\"198.579093\"/>\r\n     <use style=\"fill:#0000ff;stroke:#0000ff;\" x=\"158.032976\" xlink:href=\"#me4d229d6a4\" y=\"192.839679\"/>\r\n     <use style=\"fill:#0000ff;stroke:#0000ff;\" x=\"160.304346\" xlink:href=\"#me4d229d6a4\" y=\"198.06103\"/>\r\n     <use style=\"fill:#0000ff;stroke:#0000ff;\" x=\"162.575717\" xlink:href=\"#me4d229d6a4\" y=\"195.022141\"/>\r\n     <use style=\"fill:#0000ff;stroke:#0000ff;\" x=\"164.847087\" xlink:href=\"#me4d229d6a4\" y=\"149.06914\"/>\r\n     <use style=\"fill:#0000ff;stroke:#0000ff;\" x=\"167.118457\" xlink:href=\"#me4d229d6a4\" y=\"150.38504\"/>\r\n     <use style=\"fill:#0000ff;stroke:#0000ff;\" x=\"169.389828\" xlink:href=\"#me4d229d6a4\" y=\"171.268894\"/>\r\n     <use style=\"fill:#0000ff;stroke:#0000ff;\" x=\"171.661198\" xlink:href=\"#me4d229d6a4\" y=\"192.108447\"/>\r\n     <use style=\"fill:#0000ff;stroke:#0000ff;\" x=\"173.932569\" xlink:href=\"#me4d229d6a4\" y=\"199.312628\"/>\r\n     <use style=\"fill:#0000ff;stroke:#0000ff;\" x=\"176.203939\" xlink:href=\"#me4d229d6a4\" y=\"189.762233\"/>\r\n     <use style=\"fill:#0000ff;stroke:#0000ff;\" x=\"178.47531\" xlink:href=\"#me4d229d6a4\" y=\"192.276815\"/>\r\n     <use style=\"fill:#0000ff;stroke:#0000ff;\" x=\"180.74668\" xlink:href=\"#me4d229d6a4\" y=\"193.519907\"/>\r\n     <use style=\"fill:#0000ff;stroke:#0000ff;\" x=\"183.01805\" xlink:href=\"#me4d229d6a4\" y=\"199.491674\"/>\r\n     <use style=\"fill:#0000ff;stroke:#0000ff;\" x=\"185.289421\" xlink:href=\"#me4d229d6a4\" y=\"202.265761\"/>\r\n     <use style=\"fill:#0000ff;stroke:#0000ff;\" x=\"187.560791\" xlink:href=\"#me4d229d6a4\" y=\"194.252852\"/>\r\n     <use style=\"fill:#0000ff;stroke:#0000ff;\" x=\"189.832162\" xlink:href=\"#me4d229d6a4\" y=\"200.626915\"/>\r\n     <use style=\"fill:#0000ff;stroke:#0000ff;\" x=\"192.103532\" xlink:href=\"#me4d229d6a4\" y=\"205.327392\"/>\r\n     <use style=\"fill:#0000ff;stroke:#0000ff;\" x=\"194.374902\" xlink:href=\"#me4d229d6a4\" y=\"199.853416\"/>\r\n     <use style=\"fill:#0000ff;stroke:#0000ff;\" x=\"196.646273\" xlink:href=\"#me4d229d6a4\" y=\"201.33935\"/>\r\n     <use style=\"fill:#0000ff;stroke:#0000ff;\" x=\"198.917643\" xlink:href=\"#me4d229d6a4\" y=\"198.491309\"/>\r\n     <use style=\"fill:#0000ff;stroke:#0000ff;\" x=\"201.189014\" xlink:href=\"#me4d229d6a4\" y=\"203.864644\"/>\r\n     <use style=\"fill:#0000ff;stroke:#0000ff;\" x=\"203.460384\" xlink:href=\"#me4d229d6a4\" y=\"206.697748\"/>\r\n     <use style=\"fill:#0000ff;stroke:#0000ff;\" x=\"205.731755\" xlink:href=\"#me4d229d6a4\" y=\"200.4109\"/>\r\n     <use style=\"fill:#0000ff;stroke:#0000ff;\" x=\"208.003125\" xlink:href=\"#me4d229d6a4\" y=\"203.212092\"/>\r\n     <use style=\"fill:#0000ff;stroke:#0000ff;\" x=\"210.274495\" xlink:href=\"#me4d229d6a4\" y=\"205.250824\"/>\r\n     <use style=\"fill:#0000ff;stroke:#0000ff;\" x=\"212.545866\" xlink:href=\"#me4d229d6a4\" y=\"210.419932\"/>\r\n     <use style=\"fill:#0000ff;stroke:#0000ff;\" x=\"214.817236\" xlink:href=\"#me4d229d6a4\" y=\"199.228522\"/>\r\n     <use style=\"fill:#0000ff;stroke:#0000ff;\" x=\"217.088607\" xlink:href=\"#me4d229d6a4\" y=\"188.488177\"/>\r\n     <use style=\"fill:#0000ff;stroke:#0000ff;\" x=\"219.359977\" xlink:href=\"#me4d229d6a4\" y=\"200.68916\"/>\r\n     <use style=\"fill:#0000ff;stroke:#0000ff;\" x=\"221.631348\" xlink:href=\"#me4d229d6a4\" y=\"176.593518\"/>\r\n     <use style=\"fill:#0000ff;stroke:#0000ff;\" x=\"223.902718\" xlink:href=\"#me4d229d6a4\" y=\"202.852822\"/>\r\n     <use style=\"fill:#0000ff;stroke:#0000ff;\" x=\"226.174088\" xlink:href=\"#me4d229d6a4\" y=\"200.582547\"/>\r\n     <use style=\"fill:#0000ff;stroke:#0000ff;\" x=\"228.445459\" xlink:href=\"#me4d229d6a4\" y=\"193.939431\"/>\r\n     <use style=\"fill:#0000ff;stroke:#0000ff;\" x=\"230.716829\" xlink:href=\"#me4d229d6a4\" y=\"202.651488\"/>\r\n     <use style=\"fill:#0000ff;stroke:#0000ff;\" x=\"232.9882\" xlink:href=\"#me4d229d6a4\" y=\"212.333407\"/>\r\n     <use style=\"fill:#0000ff;stroke:#0000ff;\" x=\"235.25957\" xlink:href=\"#me4d229d6a4\" y=\"205.756974\"/>\r\n     <use style=\"fill:#0000ff;stroke:#0000ff;\" x=\"237.53094\" xlink:href=\"#me4d229d6a4\" y=\"211.633859\"/>\r\n     <use style=\"fill:#0000ff;stroke:#0000ff;\" x=\"239.802311\" xlink:href=\"#me4d229d6a4\" y=\"193.878275\"/>\r\n     <use style=\"fill:#0000ff;stroke:#0000ff;\" x=\"242.073681\" xlink:href=\"#me4d229d6a4\" y=\"206.031466\"/>\r\n     <use style=\"fill:#0000ff;stroke:#0000ff;\" x=\"244.345052\" xlink:href=\"#me4d229d6a4\" y=\"209.830063\"/>\r\n     <use style=\"fill:#0000ff;stroke:#0000ff;\" x=\"246.616422\" xlink:href=\"#me4d229d6a4\" y=\"192.613238\"/>\r\n     <use style=\"fill:#0000ff;stroke:#0000ff;\" x=\"248.887793\" xlink:href=\"#me4d229d6a4\" y=\"197.059773\"/>\r\n     <use style=\"fill:#0000ff;stroke:#0000ff;\" x=\"251.159163\" xlink:href=\"#me4d229d6a4\" y=\"197.261897\"/>\r\n     <use style=\"fill:#0000ff;stroke:#0000ff;\" x=\"253.430533\" xlink:href=\"#me4d229d6a4\" y=\"207.484482\"/>\r\n     <use style=\"fill:#0000ff;stroke:#0000ff;\" x=\"255.701904\" xlink:href=\"#me4d229d6a4\" y=\"212.701376\"/>\r\n     <use style=\"fill:#0000ff;stroke:#0000ff;\" x=\"257.973274\" xlink:href=\"#me4d229d6a4\" y=\"209.704879\"/>\r\n     <use style=\"fill:#0000ff;stroke:#0000ff;\" x=\"260.244645\" xlink:href=\"#me4d229d6a4\" y=\"215.157437\"/>\r\n     <use style=\"fill:#0000ff;stroke:#0000ff;\" x=\"262.516015\" xlink:href=\"#me4d229d6a4\" y=\"208.573204\"/>\r\n     <use style=\"fill:#0000ff;stroke:#0000ff;\" x=\"264.787386\" xlink:href=\"#me4d229d6a4\" y=\"214.497021\"/>\r\n     <use style=\"fill:#0000ff;stroke:#0000ff;\" x=\"267.058756\" xlink:href=\"#me4d229d6a4\" y=\"203.962134\"/>\r\n     <use style=\"fill:#0000ff;stroke:#0000ff;\" x=\"269.330126\" xlink:href=\"#me4d229d6a4\" y=\"214.01454\"/>\r\n     <use style=\"fill:#0000ff;stroke:#0000ff;\" x=\"271.601497\" xlink:href=\"#me4d229d6a4\" y=\"211.925151\"/>\r\n     <use style=\"fill:#0000ff;stroke:#0000ff;\" x=\"273.872867\" xlink:href=\"#me4d229d6a4\" y=\"217.570736\"/>\r\n     <use style=\"fill:#0000ff;stroke:#0000ff;\" x=\"276.144238\" xlink:href=\"#me4d229d6a4\" y=\"209.303734\"/>\r\n     <use style=\"fill:#0000ff;stroke:#0000ff;\" x=\"278.415608\" xlink:href=\"#me4d229d6a4\" y=\"217.156908\"/>\r\n     <use style=\"fill:#0000ff;stroke:#0000ff;\" x=\"280.686978\" xlink:href=\"#me4d229d6a4\" y=\"210.634445\"/>\r\n     <use style=\"fill:#0000ff;stroke:#0000ff;\" x=\"282.958349\" xlink:href=\"#me4d229d6a4\" y=\"218.659604\"/>\r\n     <use style=\"fill:#0000ff;stroke:#0000ff;\" x=\"285.229719\" xlink:href=\"#me4d229d6a4\" y=\"208.932489\"/>\r\n     <use style=\"fill:#0000ff;stroke:#0000ff;\" x=\"287.50109\" xlink:href=\"#me4d229d6a4\" y=\"215.457156\"/>\r\n     <use style=\"fill:#0000ff;stroke:#0000ff;\" x=\"289.77246\" xlink:href=\"#me4d229d6a4\" y=\"216.178971\"/>\r\n     <use style=\"fill:#0000ff;stroke:#0000ff;\" x=\"292.043831\" xlink:href=\"#me4d229d6a4\" y=\"210.747621\"/>\r\n     <use style=\"fill:#0000ff;stroke:#0000ff;\" x=\"294.315201\" xlink:href=\"#me4d229d6a4\" y=\"217.005963\"/>\r\n     <use style=\"fill:#0000ff;stroke:#0000ff;\" x=\"296.586571\" xlink:href=\"#me4d229d6a4\" y=\"212.231597\"/>\r\n     <use style=\"fill:#0000ff;stroke:#0000ff;\" x=\"298.857942\" xlink:href=\"#me4d229d6a4\" y=\"210.679975\"/>\r\n     <use style=\"fill:#0000ff;stroke:#0000ff;\" x=\"301.129312\" xlink:href=\"#me4d229d6a4\" y=\"217.045659\"/>\r\n     <use style=\"fill:#0000ff;stroke:#0000ff;\" x=\"303.400683\" xlink:href=\"#me4d229d6a4\" y=\"216.947299\"/>\r\n     <use style=\"fill:#0000ff;stroke:#0000ff;\" x=\"305.672053\" xlink:href=\"#me4d229d6a4\" y=\"221.333551\"/>\r\n     <use style=\"fill:#0000ff;stroke:#0000ff;\" x=\"307.943424\" xlink:href=\"#me4d229d6a4\" y=\"211.947057\"/>\r\n     <use style=\"fill:#0000ff;stroke:#0000ff;\" x=\"310.214794\" xlink:href=\"#me4d229d6a4\" y=\"221.910035\"/>\r\n     <use style=\"fill:#0000ff;stroke:#0000ff;\" x=\"312.486164\" xlink:href=\"#me4d229d6a4\" y=\"214.784477\"/>\r\n     <use style=\"fill:#0000ff;stroke:#0000ff;\" x=\"314.757535\" xlink:href=\"#me4d229d6a4\" y=\"219.963256\"/>\r\n     <use style=\"fill:#0000ff;stroke:#0000ff;\" x=\"317.028905\" xlink:href=\"#me4d229d6a4\" y=\"215.494415\"/>\r\n     <use style=\"fill:#0000ff;stroke:#0000ff;\" x=\"319.300276\" xlink:href=\"#me4d229d6a4\" y=\"218.215484\"/>\r\n     <use style=\"fill:#0000ff;stroke:#0000ff;\" x=\"321.571646\" xlink:href=\"#me4d229d6a4\" y=\"223.000019\"/>\r\n     <use style=\"fill:#0000ff;stroke:#0000ff;\" x=\"323.843016\" xlink:href=\"#me4d229d6a4\" y=\"208.5016\"/>\r\n     <use style=\"fill:#0000ff;stroke:#0000ff;\" x=\"326.114387\" xlink:href=\"#me4d229d6a4\" y=\"214.44313\"/>\r\n     <use style=\"fill:#0000ff;stroke:#0000ff;\" x=\"328.385757\" xlink:href=\"#me4d229d6a4\" y=\"213.24079\"/>\r\n     <use style=\"fill:#0000ff;stroke:#0000ff;\" x=\"330.657128\" xlink:href=\"#me4d229d6a4\" y=\"229.874489\"/>\r\n     <use style=\"fill:#0000ff;stroke:#0000ff;\" x=\"332.928498\" xlink:href=\"#me4d229d6a4\" y=\"208.837976\"/>\r\n     <use style=\"fill:#0000ff;stroke:#0000ff;\" x=\"335.199869\" xlink:href=\"#me4d229d6a4\" y=\"201.899217\"/>\r\n     <use style=\"fill:#0000ff;stroke:#0000ff;\" x=\"337.471239\" xlink:href=\"#me4d229d6a4\" y=\"221.671502\"/>\r\n     <use style=\"fill:#0000ff;stroke:#0000ff;\" x=\"339.742609\" xlink:href=\"#me4d229d6a4\" y=\"224.471339\"/>\r\n     <use style=\"fill:#0000ff;stroke:#0000ff;\" x=\"342.01398\" xlink:href=\"#me4d229d6a4\" y=\"225.380693\"/>\r\n     <use style=\"fill:#0000ff;stroke:#0000ff;\" x=\"344.28535\" xlink:href=\"#me4d229d6a4\" y=\"224.2956\"/>\r\n     <use style=\"fill:#0000ff;stroke:#0000ff;\" x=\"346.556721\" xlink:href=\"#me4d229d6a4\" y=\"211.293849\"/>\r\n     <use style=\"fill:#0000ff;stroke:#0000ff;\" x=\"348.828091\" xlink:href=\"#me4d229d6a4\" y=\"218.824801\"/>\r\n     <use style=\"fill:#0000ff;stroke:#0000ff;\" x=\"351.099461\" xlink:href=\"#me4d229d6a4\" y=\"218.606904\"/>\r\n     <use style=\"fill:#0000ff;stroke:#0000ff;\" x=\"353.370832\" xlink:href=\"#me4d229d6a4\" y=\"224.156726\"/>\r\n     <use style=\"fill:#0000ff;stroke:#0000ff;\" x=\"355.642202\" xlink:href=\"#me4d229d6a4\" y=\"219.230816\"/>\r\n     <use style=\"fill:#0000ff;stroke:#0000ff;\" x=\"357.913573\" xlink:href=\"#me4d229d6a4\" y=\"221.053361\"/>\r\n     <use style=\"fill:#0000ff;stroke:#0000ff;\" x=\"360.184943\" xlink:href=\"#me4d229d6a4\" y=\"215.612347\"/>\r\n    </g>\r\n   </g>\r\n   <g id=\"line2d_16\">\r\n    <path clip-path=\"url(#p96dc709aed)\" d=\"M 55.821307 91.731184 \r\nL 58.092677 127.581292 \r\nL 60.364048 138.747133 \r\nL 62.635418 134.571511 \r\nL 64.906789 100.189021 \r\nL 67.178159 123.349704 \r\nL 69.449529 117.415699 \r\nL 71.7209 133.052939 \r\nL 73.99227 117.710115 \r\nL 76.263641 140.454169 \r\nL 78.535011 142.146473 \r\nL 80.806381 107.917984 \r\nL 83.077752 105.548002 \r\nL 85.349122 120.489183 \r\nL 87.620493 97.821938 \r\nL 89.891863 91.417146 \r\nL 92.163234 147.173567 \r\nL 94.434604 150.111102 \r\nL 96.705974 144.110138 \r\nL 98.977345 123.267618 \r\nL 101.248715 146.238901 \r\nL 103.520086 154.071286 \r\nL 105.791456 130.818006 \r\nL 108.062826 154.786571 \r\nL 110.334197 148.86555 \r\nL 112.605567 153.593512 \r\nL 114.876938 131.109743 \r\nL 117.148308 159.439576 \r\nL 119.419679 165.240196 \r\nL 121.691049 160.073337 \r\nL 123.962419 149.573406 \r\nL 126.23379 165.086585 \r\nL 128.50516 167.331932 \r\nL 130.776531 153.224066 \r\nL 133.047901 166.77163 \r\nL 135.319272 160.27521 \r\nL 137.590642 169.243171 \r\nL 139.862012 159.533504 \r\nL 142.133383 153.171631 \r\nL 144.404753 166.952379 \r\nL 146.676124 165.154945 \r\nL 148.947494 171.524977 \r\nL 151.218864 167.913468 \r\nL 153.490235 171.852291 \r\nL 155.761605 175.218177 \r\nL 158.032976 171.833372 \r\nL 160.304346 176.411236 \r\nL 162.575717 32.201761 \r\nL 164.847087 159.940735 \r\nL 167.118457 149.71292 \r\nL 169.389828 174.335261 \r\nL 171.661198 174.510769 \r\nL 173.932569 147.039957 \r\nL 176.203939 141.224391 \r\nL 178.47531 170.881316 \r\nL 180.74668 159.360016 \r\nL 183.01805 179.269711 \r\nL 185.289421 183.367689 \r\nL 187.560791 155.384384 \r\nL 189.832162 174.032996 \r\nL 194.374902 181.303003 \r\nL 196.646273 146.977596 \r\nL 198.917643 167.504249 \r\nL 201.189014 178.739944 \r\nL 203.460384 186.359486 \r\nL 205.731755 179.628442 \r\nL 208.003125 191.396567 \r\nL 210.274495 189.487233 \r\nL 212.545866 174.761632 \r\nL 214.817236 158.9122 \r\nL 217.088607 189.695433 \r\nL 219.359977 189.173921 \r\nL 221.631348 180.046723 \r\nL 223.902718 184.550472 \r\nL 226.174088 182.895547 \r\nL 228.445459 122.441104 \r\nL 230.716829 189.076145 \r\nL 232.9882 193.770321 \r\nL 235.25957 190.534106 \r\nL 237.53094 159.862804 \r\nL 239.802311 196.714262 \r\nL 242.073681 184.33777 \r\nL 244.345052 168.487988 \r\nL 246.616422 195.871098 \r\nL 248.887793 173.946616 \r\nL 251.159163 149.880646 \r\nL 253.430533 193.992886 \r\nL 255.701904 198.118098 \r\nL 257.973274 193.109842 \r\nL 260.244645 198.781709 \r\nL 262.516015 163.673687 \r\nL 264.787386 186.070484 \r\nL 267.058756 196.847284 \r\nL 269.330126 162.768106 \r\nL 271.601497 198.31716 \r\nL 273.872867 167.303205 \r\nL 276.144238 196.53783 \r\nL 278.415608 199.620137 \r\nL 280.686978 179.03391 \r\nL 282.958349 203.545739 \r\nL 285.229719 199.620995 \r\nL 287.50109 186.643051 \r\nL 289.77246 176.363287 \r\nL 292.043831 201.91682 \r\nL 294.315201 206.135588 \r\nL 296.586571 193.937689 \r\nL 298.857942 194.294293 \r\nL 301.129312 187.003783 \r\nL 303.400683 194.313567 \r\nL 305.672053 205.741531 \r\nL 307.943424 187.659888 \r\nL 310.214794 206.668028 \r\nL 312.486164 208.519813 \r\nL 314.757535 208.055471 \r\nL 317.028905 195.6528 \r\nL 319.300276 209.876625 \r\nL 321.571646 185.948448 \r\nL 323.843016 182.354244 \r\nL 326.114387 209.391284 \r\nL 328.385757 206.712765 \r\nL 330.657128 172.708314 \r\nL 332.928498 189.405473 \r\nL 335.199869 211.947468 \r\nL 337.471239 205.182123 \r\nL 339.742609 213.991841 \r\nL 342.01398 211.757687 \r\nL 344.28535 215.437141 \r\nL 346.556721 210.069448 \r\nL 348.828091 194.604309 \r\nL 351.099461 207.538813 \r\nL 353.370832 189.526722 \r\nL 355.642202 215.157215 \r\nL 357.913573 214.029326 \r\nL 360.184943 115.539047 \r\nL 360.184943 115.539047 \r\n\" style=\"fill:none;stroke:#0000ff;stroke-linecap:square;stroke-width:1.5;\"/>\r\n   </g>\r\n   <g id=\"patch_3\">\r\n    <path d=\"M 40.603125 239.758125 \r\nL 40.603125 22.318125 \r\n\" style=\"fill:none;stroke:#000000;stroke-linecap:square;stroke-linejoin:miter;stroke-width:0.8;\"/>\r\n   </g>\r\n   <g id=\"patch_4\">\r\n    <path d=\"M 375.403125 239.758125 \r\nL 375.403125 22.318125 \r\n\" style=\"fill:none;stroke:#000000;stroke-linecap:square;stroke-linejoin:miter;stroke-width:0.8;\"/>\r\n   </g>\r\n   <g id=\"patch_5\">\r\n    <path d=\"M 40.603125 239.758125 \r\nL 375.403125 239.758125 \r\n\" style=\"fill:none;stroke:#000000;stroke-linecap:square;stroke-linejoin:miter;stroke-width:0.8;\"/>\r\n   </g>\r\n   <g id=\"patch_6\">\r\n    <path d=\"M 40.603125 22.318125 \r\nL 375.403125 22.318125 \r\n\" style=\"fill:none;stroke:#000000;stroke-linecap:square;stroke-linejoin:miter;stroke-width:0.8;\"/>\r\n   </g>\r\n   <g id=\"text_17\">\r\n    <!-- Training and Validation loss -->\r\n    <defs>\r\n     <path d=\"M -0.296875 72.90625 \r\nL 61.375 72.90625 \r\nL 61.375 64.59375 \r\nL 35.5 64.59375 \r\nL 35.5 0 \r\nL 25.59375 0 \r\nL 25.59375 64.59375 \r\nL -0.296875 64.59375 \r\nz\r\n\" id=\"DejaVuSans-84\"/>\r\n     <path d=\"M 41.109375 46.296875 \r\nQ 39.59375 47.171875 37.8125 47.578125 \r\nQ 36.03125 48 33.890625 48 \r\nQ 26.265625 48 22.1875 43.046875 \r\nQ 18.109375 38.09375 18.109375 28.8125 \r\nL 18.109375 0 \r\nL 9.078125 0 \r\nL 9.078125 54.6875 \r\nL 18.109375 54.6875 \r\nL 18.109375 46.1875 \r\nQ 20.953125 51.171875 25.484375 53.578125 \r\nQ 30.03125 56 36.53125 56 \r\nQ 37.453125 56 38.578125 55.875 \r\nQ 39.703125 55.765625 41.0625 55.515625 \r\nz\r\n\" id=\"DejaVuSans-114\"/>\r\n     <path d=\"M 34.28125 27.484375 \r\nQ 23.390625 27.484375 19.1875 25 \r\nQ 14.984375 22.515625 14.984375 16.5 \r\nQ 14.984375 11.71875 18.140625 8.90625 \r\nQ 21.296875 6.109375 26.703125 6.109375 \r\nQ 34.1875 6.109375 38.703125 11.40625 \r\nQ 43.21875 16.703125 43.21875 25.484375 \r\nL 43.21875 27.484375 \r\nz\r\nM 52.203125 31.203125 \r\nL 52.203125 0 \r\nL 43.21875 0 \r\nL 43.21875 8.296875 \r\nQ 40.140625 3.328125 35.546875 0.953125 \r\nQ 30.953125 -1.421875 24.3125 -1.421875 \r\nQ 15.921875 -1.421875 10.953125 3.296875 \r\nQ 6 8.015625 6 15.921875 \r\nQ 6 25.140625 12.171875 29.828125 \r\nQ 18.359375 34.515625 30.609375 34.515625 \r\nL 43.21875 34.515625 \r\nL 43.21875 35.40625 \r\nQ 43.21875 41.609375 39.140625 45 \r\nQ 35.0625 48.390625 27.6875 48.390625 \r\nQ 23 48.390625 18.546875 47.265625 \r\nQ 14.109375 46.140625 10.015625 43.890625 \r\nL 10.015625 52.203125 \r\nQ 14.9375 54.109375 19.578125 55.046875 \r\nQ 24.21875 56 28.609375 56 \r\nQ 40.484375 56 46.34375 49.84375 \r\nQ 52.203125 43.703125 52.203125 31.203125 \r\nz\r\n\" id=\"DejaVuSans-97\"/>\r\n     <path d=\"M 9.421875 54.6875 \r\nL 18.40625 54.6875 \r\nL 18.40625 0 \r\nL 9.421875 0 \r\nz\r\nM 9.421875 75.984375 \r\nL 18.40625 75.984375 \r\nL 18.40625 64.59375 \r\nL 9.421875 64.59375 \r\nz\r\n\" id=\"DejaVuSans-105\"/>\r\n     <path d=\"M 54.890625 33.015625 \r\nL 54.890625 0 \r\nL 45.90625 0 \r\nL 45.90625 32.71875 \r\nQ 45.90625 40.484375 42.875 44.328125 \r\nQ 39.84375 48.1875 33.796875 48.1875 \r\nQ 26.515625 48.1875 22.3125 43.546875 \r\nQ 18.109375 38.921875 18.109375 30.90625 \r\nL 18.109375 0 \r\nL 9.078125 0 \r\nL 9.078125 54.6875 \r\nL 18.109375 54.6875 \r\nL 18.109375 46.1875 \r\nQ 21.34375 51.125 25.703125 53.5625 \r\nQ 30.078125 56 35.796875 56 \r\nQ 45.21875 56 50.046875 50.171875 \r\nQ 54.890625 44.34375 54.890625 33.015625 \r\nz\r\n\" id=\"DejaVuSans-110\"/>\r\n     <path d=\"M 45.40625 27.984375 \r\nQ 45.40625 37.75 41.375 43.109375 \r\nQ 37.359375 48.484375 30.078125 48.484375 \r\nQ 22.859375 48.484375 18.828125 43.109375 \r\nQ 14.796875 37.75 14.796875 27.984375 \r\nQ 14.796875 18.265625 18.828125 12.890625 \r\nQ 22.859375 7.515625 30.078125 7.515625 \r\nQ 37.359375 7.515625 41.375 12.890625 \r\nQ 45.40625 18.265625 45.40625 27.984375 \r\nz\r\nM 54.390625 6.78125 \r\nQ 54.390625 -7.171875 48.1875 -13.984375 \r\nQ 42 -20.796875 29.203125 -20.796875 \r\nQ 24.46875 -20.796875 20.265625 -20.09375 \r\nQ 16.0625 -19.390625 12.109375 -17.921875 \r\nL 12.109375 -9.1875 \r\nQ 16.0625 -11.328125 19.921875 -12.34375 \r\nQ 23.78125 -13.375 27.78125 -13.375 \r\nQ 36.625 -13.375 41.015625 -8.765625 \r\nQ 45.40625 -4.15625 45.40625 5.171875 \r\nL 45.40625 9.625 \r\nQ 42.625 4.78125 38.28125 2.390625 \r\nQ 33.9375 0 27.875 0 \r\nQ 17.828125 0 11.671875 7.65625 \r\nQ 5.515625 15.328125 5.515625 27.984375 \r\nQ 5.515625 40.671875 11.671875 48.328125 \r\nQ 17.828125 56 27.875 56 \r\nQ 33.9375 56 38.28125 53.609375 \r\nQ 42.625 51.21875 45.40625 46.390625 \r\nL 45.40625 54.6875 \r\nL 54.390625 54.6875 \r\nz\r\n\" id=\"DejaVuSans-103\"/>\r\n     <path id=\"DejaVuSans-32\"/>\r\n     <path d=\"M 45.40625 46.390625 \r\nL 45.40625 75.984375 \r\nL 54.390625 75.984375 \r\nL 54.390625 0 \r\nL 45.40625 0 \r\nL 45.40625 8.203125 \r\nQ 42.578125 3.328125 38.25 0.953125 \r\nQ 33.9375 -1.421875 27.875 -1.421875 \r\nQ 17.96875 -1.421875 11.734375 6.484375 \r\nQ 5.515625 14.40625 5.515625 27.296875 \r\nQ 5.515625 40.1875 11.734375 48.09375 \r\nQ 17.96875 56 27.875 56 \r\nQ 33.9375 56 38.25 53.625 \r\nQ 42.578125 51.265625 45.40625 46.390625 \r\nz\r\nM 14.796875 27.296875 \r\nQ 14.796875 17.390625 18.875 11.75 \r\nQ 22.953125 6.109375 30.078125 6.109375 \r\nQ 37.203125 6.109375 41.296875 11.75 \r\nQ 45.40625 17.390625 45.40625 27.296875 \r\nQ 45.40625 37.203125 41.296875 42.84375 \r\nQ 37.203125 48.484375 30.078125 48.484375 \r\nQ 22.953125 48.484375 18.875 42.84375 \r\nQ 14.796875 37.203125 14.796875 27.296875 \r\nz\r\n\" id=\"DejaVuSans-100\"/>\r\n     <path d=\"M 28.609375 0 \r\nL 0.78125 72.90625 \r\nL 11.078125 72.90625 \r\nL 34.1875 11.53125 \r\nL 57.328125 72.90625 \r\nL 67.578125 72.90625 \r\nL 39.796875 0 \r\nz\r\n\" id=\"DejaVuSans-86\"/>\r\n     <path d=\"M 9.421875 75.984375 \r\nL 18.40625 75.984375 \r\nL 18.40625 0 \r\nL 9.421875 0 \r\nz\r\n\" id=\"DejaVuSans-108\"/>\r\n     <path d=\"M 18.3125 70.21875 \r\nL 18.3125 54.6875 \r\nL 36.8125 54.6875 \r\nL 36.8125 47.703125 \r\nL 18.3125 47.703125 \r\nL 18.3125 18.015625 \r\nQ 18.3125 11.328125 20.140625 9.421875 \r\nQ 21.96875 7.515625 27.59375 7.515625 \r\nL 36.8125 7.515625 \r\nL 36.8125 0 \r\nL 27.59375 0 \r\nQ 17.1875 0 13.234375 3.875 \r\nQ 9.28125 7.765625 9.28125 18.015625 \r\nL 9.28125 47.703125 \r\nL 2.6875 47.703125 \r\nL 2.6875 54.6875 \r\nL 9.28125 54.6875 \r\nL 9.28125 70.21875 \r\nz\r\n\" id=\"DejaVuSans-116\"/>\r\n    </defs>\r\n    <g transform=\"translate(124.774687 16.318125)scale(0.12 -0.12)\">\r\n     <use xlink:href=\"#DejaVuSans-84\"/>\r\n     <use x=\"60.865234\" xlink:href=\"#DejaVuSans-114\"/>\r\n     <use x=\"101.978516\" xlink:href=\"#DejaVuSans-97\"/>\r\n     <use x=\"163.257812\" xlink:href=\"#DejaVuSans-105\"/>\r\n     <use x=\"191.041016\" xlink:href=\"#DejaVuSans-110\"/>\r\n     <use x=\"254.419922\" xlink:href=\"#DejaVuSans-105\"/>\r\n     <use x=\"282.203125\" xlink:href=\"#DejaVuSans-110\"/>\r\n     <use x=\"345.582031\" xlink:href=\"#DejaVuSans-103\"/>\r\n     <use x=\"409.058594\" xlink:href=\"#DejaVuSans-32\"/>\r\n     <use x=\"440.845703\" xlink:href=\"#DejaVuSans-97\"/>\r\n     <use x=\"502.125\" xlink:href=\"#DejaVuSans-110\"/>\r\n     <use x=\"565.503906\" xlink:href=\"#DejaVuSans-100\"/>\r\n     <use x=\"628.980469\" xlink:href=\"#DejaVuSans-32\"/>\r\n     <use x=\"660.767578\" xlink:href=\"#DejaVuSans-86\"/>\r\n     <use x=\"729.066406\" xlink:href=\"#DejaVuSans-97\"/>\r\n     <use x=\"790.345703\" xlink:href=\"#DejaVuSans-108\"/>\r\n     <use x=\"818.128906\" xlink:href=\"#DejaVuSans-105\"/>\r\n     <use x=\"845.912109\" xlink:href=\"#DejaVuSans-100\"/>\r\n     <use x=\"909.388672\" xlink:href=\"#DejaVuSans-97\"/>\r\n     <use x=\"970.667969\" xlink:href=\"#DejaVuSans-116\"/>\r\n     <use x=\"1009.876953\" xlink:href=\"#DejaVuSans-105\"/>\r\n     <use x=\"1037.660156\" xlink:href=\"#DejaVuSans-111\"/>\r\n     <use x=\"1098.841797\" xlink:href=\"#DejaVuSans-110\"/>\r\n     <use x=\"1162.220703\" xlink:href=\"#DejaVuSans-32\"/>\r\n     <use x=\"1194.007812\" xlink:href=\"#DejaVuSans-108\"/>\r\n     <use x=\"1221.791016\" xlink:href=\"#DejaVuSans-111\"/>\r\n     <use x=\"1282.972656\" xlink:href=\"#DejaVuSans-115\"/>\r\n     <use x=\"1335.072266\" xlink:href=\"#DejaVuSans-115\"/>\r\n    </g>\r\n   </g>\r\n   <g id=\"legend_1\">\r\n    <g id=\"patch_7\">\r\n     <path d=\"M 260.971875 59.674375 \r\nL 368.403125 59.674375 \r\nQ 370.403125 59.674375 370.403125 57.674375 \r\nL 370.403125 29.318125 \r\nQ 370.403125 27.318125 368.403125 27.318125 \r\nL 260.971875 27.318125 \r\nQ 258.971875 27.318125 258.971875 29.318125 \r\nL 258.971875 57.674375 \r\nQ 258.971875 59.674375 260.971875 59.674375 \r\nz\r\n\" style=\"fill:#ffffff;opacity:0.8;stroke:#cccccc;stroke-linejoin:miter;\"/>\r\n    </g>\r\n    <g id=\"line2d_17\"/>\r\n    <g id=\"line2d_18\">\r\n     <g>\r\n      <use style=\"fill:#0000ff;stroke:#0000ff;\" x=\"272.971875\" xlink:href=\"#me4d229d6a4\" y=\"35.416562\"/>\r\n     </g>\r\n    </g>\r\n    <g id=\"text_18\">\r\n     <!-- Training Loss -->\r\n     <g transform=\"translate(290.971875 38.916562)scale(0.1 -0.1)\">\r\n      <use xlink:href=\"#DejaVuSans-84\"/>\r\n      <use x=\"60.865234\" xlink:href=\"#DejaVuSans-114\"/>\r\n      <use x=\"101.978516\" xlink:href=\"#DejaVuSans-97\"/>\r\n      <use x=\"163.257812\" xlink:href=\"#DejaVuSans-105\"/>\r\n      <use x=\"191.041016\" xlink:href=\"#DejaVuSans-110\"/>\r\n      <use x=\"254.419922\" xlink:href=\"#DejaVuSans-105\"/>\r\n      <use x=\"282.203125\" xlink:href=\"#DejaVuSans-110\"/>\r\n      <use x=\"345.582031\" xlink:href=\"#DejaVuSans-103\"/>\r\n      <use x=\"409.058594\" xlink:href=\"#DejaVuSans-32\"/>\r\n      <use x=\"440.845703\" xlink:href=\"#DejaVuSans-76\"/>\r\n      <use x=\"496.542969\" xlink:href=\"#DejaVuSans-111\"/>\r\n      <use x=\"557.724609\" xlink:href=\"#DejaVuSans-115\"/>\r\n      <use x=\"609.824219\" xlink:href=\"#DejaVuSans-115\"/>\r\n     </g>\r\n    </g>\r\n    <g id=\"line2d_19\">\r\n     <path d=\"M 262.971875 50.094687 \r\nL 282.971875 50.094687 \r\n\" style=\"fill:none;stroke:#0000ff;stroke-linecap:square;stroke-width:1.5;\"/>\r\n    </g>\r\n    <g id=\"line2d_20\"/>\r\n    <g id=\"text_19\">\r\n     <!-- Validation Loss -->\r\n     <g transform=\"translate(290.971875 53.594687)scale(0.1 -0.1)\">\r\n      <use xlink:href=\"#DejaVuSans-86\"/>\r\n      <use x=\"68.298828\" xlink:href=\"#DejaVuSans-97\"/>\r\n      <use x=\"129.578125\" xlink:href=\"#DejaVuSans-108\"/>\r\n      <use x=\"157.361328\" xlink:href=\"#DejaVuSans-105\"/>\r\n      <use x=\"185.144531\" xlink:href=\"#DejaVuSans-100\"/>\r\n      <use x=\"248.621094\" xlink:href=\"#DejaVuSans-97\"/>\r\n      <use x=\"309.900391\" xlink:href=\"#DejaVuSans-116\"/>\r\n      <use x=\"349.109375\" xlink:href=\"#DejaVuSans-105\"/>\r\n      <use x=\"376.892578\" xlink:href=\"#DejaVuSans-111\"/>\r\n      <use x=\"438.074219\" xlink:href=\"#DejaVuSans-110\"/>\r\n      <use x=\"501.453125\" xlink:href=\"#DejaVuSans-32\"/>\r\n      <use x=\"533.240234\" xlink:href=\"#DejaVuSans-76\"/>\r\n      <use x=\"588.9375\" xlink:href=\"#DejaVuSans-111\"/>\r\n      <use x=\"650.119141\" xlink:href=\"#DejaVuSans-115\"/>\r\n      <use x=\"702.21875\" xlink:href=\"#DejaVuSans-115\"/>\r\n     </g>\r\n    </g>\r\n   </g>\r\n  </g>\r\n </g>\r\n <defs>\r\n  <clipPath id=\"p96dc709aed\">\r\n   <rect height=\"217.44\" width=\"334.8\" x=\"40.603125\" y=\"22.318125\"/>\r\n  </clipPath>\r\n </defs>\r\n</svg>\r\n",
      "image/png": "[encoded data removed]"
     },
     "metadata": {
      "needs_background": "light"
     }
    }
   ],
   "source": [
    "plt.plot(epochs,loss_value,'bo',label='Training Loss')\n",
    "plt.plot(epochs,val_loss_values,'b',label='Validation Loss')\n",
    "plt.title('Training and Validation loss')\n",
    "plt.xlabel('Epochs')\n",
    "plt.ylabel('Loss')\n",
    "plt.legend()\n",
    "plt.show()\n"
   ]
  }
 ]
}