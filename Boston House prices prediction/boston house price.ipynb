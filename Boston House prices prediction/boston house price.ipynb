{
 "metadata": {
  "language_info": {
   "codemirror_mode": {
    "name": "ipython",
    "version": 3
   },
   "file_extension": ".py",
   "mimetype": "text/x-python",
   "name": "python",
   "nbconvert_exporter": "python",
   "pygments_lexer": "ipython3",
   "version": "3.7.3-final"
  },
  "orig_nbformat": 2,
  "kernelspec": {
   "name": "Python 3.7.3 64-bit ('base': conda)",
   "display_name": "Python 3.7.3 64-bit ('base': conda)",
   "metadata": {
    "interpreter": {
     "hash": "2f9fbfe4749d0089818a674644891712019826e89c7f10430ca576b75f464ce7"
    }
   }
  }
 },
 "nbformat": 4,
 "nbformat_minor": 2,
 "cells": [
  {
   "cell_type": "code",
   "execution_count": 1,
   "metadata": {},
   "outputs": [
    {
     "output_type": "stream",
     "name": "stderr",
     "text": [
      "Using TensorFlow backend.\n"
     ]
    }
   ],
   "source": [
    "# loading data of pre-loaded at keras\n",
    "from keras.datasets import boston_housing"
   ]
  },
  {
   "cell_type": "code",
   "execution_count": 2,
   "metadata": {},
   "outputs": [],
   "source": [
    "# break data into test and train. always try to split data 60:40, if data is messy you should do it 90:5:5 train,test and validation respectively\n",
    "(x_train,y_train),(x_test,y_test) = boston_housing.load_data()"
   ]
  },
  {
   "cell_type": "code",
   "execution_count": 3,
   "metadata": {},
   "outputs": [
    {
     "output_type": "stream",
     "name": "stdout",
     "text": [
      "Shape of training data:  (404, 13)\nShape of training label:  (404,)\nShape of test label:  (102, 13)\nShape of test label:  (102,)\n"
     ]
    }
   ],
   "source": [
    "print('Shape of training data: ',x_train.shape)\n",
    "print('Shape of training label: ',y_train.shape)\n",
    "print('Shape of test label: ',x_test.shape)\n",
    "print('Shape of test label: ',y_test.shape)\n"
   ]
  },
  {
   "cell_type": "code",
   "execution_count": 4,
   "metadata": {},
   "outputs": [
    {
     "output_type": "stream",
     "name": "stdout",
     "text": [
      "(104, 13)\n"
     ]
    }
   ],
   "source": [
    "# split data for validation\n",
    "x_val = x_train[300:,]\n",
    "y_val = y_train[300:,]\n",
    "print(x_val.shape)"
   ]
  },
  {
   "cell_type": "code",
   "execution_count": 5,
   "metadata": {},
   "outputs": [],
   "source": [
    "# importing numpy, keras sequential model and layer \n",
    "import numpy as np\n",
    "from keras.models import Sequential\n",
    "from keras.layers import Dense,Activation"
   ]
  },
  {
   "cell_type": "code",
   "execution_count": 6,
   "metadata": {},
   "outputs": [],
   "source": [
    "# Define model architecture\n",
    "model = Sequential()\n",
    "model.add(Dense(13,input_dim=13,kernel_initializer='normal',activation='relu'))\n",
    "model.add(Dense(6,kernel_initializer ='normal',activation='relu'))\n",
    "model.add(Dense(1,kernel_initializer = 'normal',activation='sigmoid'))"
   ]
  },
  {
   "cell_type": "code",
   "execution_count": 7,
   "metadata": {},
   "outputs": [],
   "source": [
    "# Compile Model\n",
    "model.compile(loss='mean_squared_error',optimizer='adam',metrics=['mean_absolute_percentage_error'])\n"
   ]
  },
  {
   "cell_type": "code",
   "execution_count": 8,
   "metadata": {},
   "outputs": [
    {
     "output_type": "stream",
     "name": "stdout",
     "text": [
      "WARNING:tensorflow:From C:\\Users\\shariq\\Anaconda3\\lib\\site-packages\\keras\\backend\\tensorflow_backend.py:422: The name tf.global_variables is deprecated. Please use tf.compat.v1.global_variables instead.\n",
      "\n",
      "Train on 404 samples, validate on 104 samples\n",
      "Epoch 1/3\n",
      "404/404 [==============================] - 1s 2ms/step - loss: 563.3808 - mean_absolute_percentage_error: 97.2921 - val_loss: 655.2726 - val_mean_absolute_percentage_error: 97.2949\n",
      "Epoch 2/3\n",
      "404/404 [==============================] - 0s 131us/step - loss: 559.3530 - mean_absolute_percentage_error: 96.7230 - val_loss: 648.6335 - val_mean_absolute_percentage_error: 96.5549\n",
      "Epoch 3/3\n",
      "404/404 [==============================] - 0s 188us/step - loss: 551.5480 - mean_absolute_percentage_error: 95.6959 - val_loss: 638.8584 - val_mean_absolute_percentage_error: 95.5670\n"
     ]
    },
    {
     "output_type": "execute_result",
     "data": {
      "text/plain": [
       "<keras.callbacks.callbacks.History at 0x264182adf28>"
      ]
     },
     "metadata": {},
     "execution_count": 8
    }
   ],
   "source": [
    "# train the model\n",
    "model.fit(x_train,y_train,batch_size=32,epochs=3,validation_data=(x_val,y_val))\n"
   ]
  },
  {
   "cell_type": "code",
   "execution_count": 9,
   "metadata": {},
   "outputs": [
    {
     "output_type": "stream",
     "name": "stdout",
     "text": [
      "Epoch 1/10\n",
      "404/404 [==============================] - 0s 119us/step - loss: 544.4944 - mean_absolute_percentage_error: 94.9454\n",
      "Epoch 2/10\n",
      "404/404 [==============================] - 0s 401us/step - loss: 542.7574 - mean_absolute_percentage_error: 94.7779\n",
      "Epoch 3/10\n",
      "404/404 [==============================] - 0s 223us/step - loss: 542.4948 - mean_absolute_percentage_error: 94.7546\n",
      "Epoch 4/10\n",
      "404/404 [==============================] - 0s 208us/step - loss: 542.4428 - mean_absolute_percentage_error: 94.7502\n",
      "Epoch 5/10\n",
      "404/404 [==============================] - 0s 104us/step - loss: 542.4239 - mean_absolute_percentage_error: 94.7485\n",
      "Epoch 6/10\n",
      "404/404 [==============================] - 0s 97us/step - loss: 542.4141 - mean_absolute_percentage_error: 94.7476\n",
      "Epoch 7/10\n",
      "404/404 [==============================] - 0s 79us/step - loss: 542.4072 - mean_absolute_percentage_error: 94.7470\n",
      "Epoch 8/10\n",
      "404/404 [==============================] - 0s 87us/step - loss: 542.4022 - mean_absolute_percentage_error: 94.7466\n",
      "Epoch 9/10\n",
      "404/404 [==============================] - 0s 228us/step - loss: 542.3981 - mean_absolute_percentage_error: 94.7462\n",
      "Epoch 10/10\n",
      "404/404 [==============================] - 0s 92us/step - loss: 542.3948 - mean_absolute_percentage_error: 94.7460\n"
     ]
    },
    {
     "output_type": "execute_result",
     "data": {
      "text/plain": [
       "<keras.callbacks.callbacks.History at 0x2641869b550>"
      ]
     },
     "metadata": {},
     "execution_count": 9
    }
   ],
   "source": [
    "# our losses goes to 95 % due to underfitting, so we should increase epoch size 3 to 10,15,30 and so on... with repect to loss\n",
    "\n",
    "model.fit(x_train,y_train,batch_size=32,epochs=10) "
   ]
  },
  {
   "cell_type": "code",
   "execution_count": 10,
   "metadata": {},
   "outputs": [
    {
     "output_type": "stream",
     "name": "stdout",
     "text": [
      "Epoch 1/15\n",
      "404/404 [==============================] - 0s 171us/step - loss: 542.3920 - mean_absolute_percentage_error: 94.7457\n",
      "Epoch 2/15\n",
      "404/404 [==============================] - 0s 109us/step - loss: 542.3898 - mean_absolute_percentage_error: 94.7455\n",
      "Epoch 3/15\n",
      "404/404 [==============================] - 0s 106us/step - loss: 542.3878 - mean_absolute_percentage_error: 94.7454\n",
      "Epoch 4/15\n",
      "404/404 [==============================] - 0s 106us/step - loss: 542.3861 - mean_absolute_percentage_error: 94.7452\n",
      "Epoch 5/15\n",
      "404/404 [==============================] - 0s 106us/step - loss: 542.3847 - mean_absolute_percentage_error: 94.7451\n",
      "Epoch 6/15\n",
      "404/404 [==============================] - 0s 84us/step - loss: 542.3834 - mean_absolute_percentage_error: 94.7450\n",
      "Epoch 7/15\n",
      "404/404 [==============================] - 0s 220us/step - loss: 542.3823 - mean_absolute_percentage_error: 94.7449\n",
      "Epoch 8/15\n",
      "404/404 [==============================] - 0s 101us/step - loss: 542.3814 - mean_absolute_percentage_error: 94.7448\n",
      "Epoch 9/15\n",
      "404/404 [==============================] - 0s 84us/step - loss: 542.3805 - mean_absolute_percentage_error: 94.7447\n",
      "Epoch 10/15\n",
      "404/404 [==============================] - 0s 92us/step - loss: 542.3798 - mean_absolute_percentage_error: 94.7447\n",
      "Epoch 11/15\n",
      "404/404 [==============================] - 0s 84us/step - loss: 542.3791 - mean_absolute_percentage_error: 94.7446\n",
      "Epoch 12/15\n",
      "404/404 [==============================] - 0s 124us/step - loss: 542.3785 - mean_absolute_percentage_error: 94.7446\n",
      "Epoch 13/15\n",
      "404/404 [==============================] - 0s 163us/step - loss: 542.3780 - mean_absolute_percentage_error: 94.7445\n",
      "Epoch 14/15\n",
      "404/404 [==============================] - 0s 109us/step - loss: 542.3775 - mean_absolute_percentage_error: 94.7445\n",
      "Epoch 15/15\n",
      "404/404 [==============================] - 0s 101us/step - loss: 542.3771 - mean_absolute_percentage_error: 94.7444\n"
     ]
    },
    {
     "output_type": "execute_result",
     "data": {
      "text/plain": [
       "<keras.callbacks.callbacks.History at 0x2641869bd30>"
      ]
     },
     "metadata": {},
     "execution_count": 10
    }
   ],
   "source": [
    "model.fit(x_train,y_train,batch_size=32,epochs=15)"
   ]
  },
  {
   "cell_type": "code",
   "execution_count": 11,
   "metadata": {},
   "outputs": [
    {
     "output_type": "stream",
     "name": "stdout",
     "text": [
      "Epoch 1/30\n",
      "404/404 [==============================] - 0s 178us/step - loss: 542.3767 - mean_absolute_percentage_error: 94.7444\n",
      "Epoch 2/30\n",
      "404/404 [==============================] - 0s 99us/step - loss: 542.3763 - mean_absolute_percentage_error: 94.7444\n",
      "Epoch 3/30\n",
      "404/404 [==============================] - 0s 92us/step - loss: 542.3759 - mean_absolute_percentage_error: 94.7444\n",
      "Epoch 4/30\n",
      "404/404 [==============================] - 0s 101us/step - loss: 542.3756 - mean_absolute_percentage_error: 94.7443\n",
      "Epoch 5/30\n",
      "404/404 [==============================] - 0s 205us/step - loss: 542.3754 - mean_absolute_percentage_error: 94.7443\n",
      "Epoch 6/30\n",
      "404/404 [==============================] - 0s 87us/step - loss: 542.3751 - mean_absolute_percentage_error: 94.7443\n",
      "Epoch 7/30\n",
      "404/404 [==============================] - 0s 99us/step - loss: 542.3749 - mean_absolute_percentage_error: 94.7443\n",
      "Epoch 8/30\n",
      "404/404 [==============================] - 0s 101us/step - loss: 542.3746 - mean_absolute_percentage_error: 94.7442\n",
      "Epoch 9/30\n",
      "404/404 [==============================] - 0s 84us/step - loss: 542.3744 - mean_absolute_percentage_error: 94.7442\n",
      "Epoch 10/30\n",
      "404/404 [==============================] - 0s 92us/step - loss: 542.3742 - mean_absolute_percentage_error: 94.7442\n",
      "Epoch 11/30\n",
      "404/404 [==============================] - 0s 84us/step - loss: 542.3741 - mean_absolute_percentage_error: 94.7442\n",
      "Epoch 12/30\n",
      "404/404 [==============================] - 0s 84us/step - loss: 542.3739 - mean_absolute_percentage_error: 94.7442\n",
      "Epoch 13/30\n",
      "404/404 [==============================] - 0s 114us/step - loss: 542.3737 - mean_absolute_percentage_error: 94.7442\n",
      "Epoch 14/30\n",
      "404/404 [==============================] - 0s 116us/step - loss: 542.3736 - mean_absolute_percentage_error: 94.7442\n",
      "Epoch 15/30\n",
      "404/404 [==============================] - 0s 87us/step - loss: 542.3735 - mean_absolute_percentage_error: 94.7441\n",
      "Epoch 16/30\n",
      "404/404 [==============================] - 0s 101us/step - loss: 542.3733 - mean_absolute_percentage_error: 94.7441\n",
      "Epoch 17/30\n",
      "404/404 [==============================] - 0s 84us/step - loss: 542.3732 - mean_absolute_percentage_error: 94.7441\n",
      "Epoch 18/30\n",
      "404/404 [==============================] - 0s 96us/step - loss: 542.3731 - mean_absolute_percentage_error: 94.7441\n",
      "Epoch 19/30\n",
      "404/404 [==============================] - 0s 89us/step - loss: 542.3730 - mean_absolute_percentage_error: 94.7441\n",
      "Epoch 20/30\n",
      "404/404 [==============================] - 0s 84us/step - loss: 542.3729 - mean_absolute_percentage_error: 94.7441\n",
      "Epoch 21/30\n",
      "404/404 [==============================] - 0s 67us/step - loss: 542.3728 - mean_absolute_percentage_error: 94.7441\n",
      "Epoch 22/30\n",
      "404/404 [==============================] - 0s 119us/step - loss: 542.3727 - mean_absolute_percentage_error: 94.7441\n",
      "Epoch 23/30\n",
      "404/404 [==============================] - 0s 124us/step - loss: 542.3726 - mean_absolute_percentage_error: 94.7441\n",
      "Epoch 24/30\n",
      "404/404 [==============================] - 0s 82us/step - loss: 542.3726 - mean_absolute_percentage_error: 94.7441\n",
      "Epoch 25/30\n",
      "404/404 [==============================] - 0s 94us/step - loss: 542.3725 - mean_absolute_percentage_error: 94.7441\n",
      "Epoch 26/30\n",
      "404/404 [==============================] - 0s 94us/step - loss: 542.3724 - mean_absolute_percentage_error: 94.7440\n",
      "Epoch 27/30\n",
      "404/404 [==============================] - 0s 94us/step - loss: 542.3723 - mean_absolute_percentage_error: 94.7440\n",
      "Epoch 28/30\n",
      "404/404 [==============================] - 0s 161us/step - loss: 542.3723 - mean_absolute_percentage_error: 94.7440\n",
      "Epoch 29/30\n",
      "404/404 [==============================] - 0s 136us/step - loss: 542.3722 - mean_absolute_percentage_error: 94.7440\n",
      "Epoch 30/30\n",
      "404/404 [==============================] - 0s 104us/step - loss: 542.3722 - mean_absolute_percentage_error: 94.7440\n"
     ]
    },
    {
     "output_type": "execute_result",
     "data": {
      "text/plain": [
       "<keras.callbacks.callbacks.History at 0x2641992f7b8>"
      ]
     },
     "metadata": {},
     "execution_count": 11
    }
   ],
   "source": [
    "model.fit(x_train,y_train,batch_size=32,epochs=30)"
   ]
  },
  {
   "cell_type": "code",
   "execution_count": 12,
   "metadata": {},
   "outputs": [
    {
     "output_type": "stream",
     "name": "stdout",
     "text": [
      "Epoch 1/50\n",
      "404/404 [==============================] - 0s 96us/step - loss: 542.3721 - mean_absolute_percentage_error: 94.7440\n",
      "Epoch 2/50\n",
      "404/404 [==============================] - 0s 178us/step - loss: 542.3721 - mean_absolute_percentage_error: 94.7440\n",
      "Epoch 3/50\n",
      "404/404 [==============================] - 0s 139us/step - loss: 542.3720 - mean_absolute_percentage_error: 94.7440\n",
      "Epoch 4/50\n",
      "404/404 [==============================] - 0s 208us/step - loss: 542.3720 - mean_absolute_percentage_error: 94.7440\n",
      "Epoch 5/50\n",
      "404/404 [==============================] - 0s 220us/step - loss: 542.3719 - mean_absolute_percentage_error: 94.7440\n",
      "Epoch 6/50\n",
      "404/404 [==============================] - 0s 129us/step - loss: 542.3719 - mean_absolute_percentage_error: 94.7440\n",
      "Epoch 7/50\n",
      "404/404 [==============================] - 0s 156us/step - loss: 542.3718 - mean_absolute_percentage_error: 94.7440\n",
      "Epoch 8/50\n",
      "404/404 [==============================] - 0s 129us/step - loss: 542.3718 - mean_absolute_percentage_error: 94.7440\n",
      "Epoch 9/50\n",
      "404/404 [==============================] - 0s 161us/step - loss: 542.3717 - mean_absolute_percentage_error: 94.7440\n",
      "Epoch 10/50\n",
      "404/404 [==============================] - 0s 126us/step - loss: 542.3717 - mean_absolute_percentage_error: 94.7440\n",
      "Epoch 11/50\n",
      "404/404 [==============================] - 0s 139us/step - loss: 542.3717 - mean_absolute_percentage_error: 94.7440\n",
      "Epoch 12/50\n",
      "404/404 [==============================] - 0s 168us/step - loss: 542.3716 - mean_absolute_percentage_error: 94.7440\n",
      "Epoch 13/50\n",
      "404/404 [==============================] - 0s 119us/step - loss: 542.3716 - mean_absolute_percentage_error: 94.7440\n",
      "Epoch 14/50\n",
      "404/404 [==============================] - 0s 136us/step - loss: 542.3716 - mean_absolute_percentage_error: 94.7440\n",
      "Epoch 15/50\n",
      "404/404 [==============================] - 0s 181us/step - loss: 542.3715 - mean_absolute_percentage_error: 94.7440\n",
      "Epoch 16/50\n",
      "404/404 [==============================] - 0s 171us/step - loss: 542.3715 - mean_absolute_percentage_error: 94.7440\n",
      "Epoch 17/50\n",
      "404/404 [==============================] - 0s 183us/step - loss: 542.3715 - mean_absolute_percentage_error: 94.7440\n",
      "Epoch 18/50\n",
      "404/404 [==============================] - 0s 119us/step - loss: 542.3715 - mean_absolute_percentage_error: 94.7440\n",
      "Epoch 19/50\n",
      "404/404 [==============================] - 0s 116us/step - loss: 542.3714 - mean_absolute_percentage_error: 94.7440\n",
      "Epoch 20/50\n",
      "404/404 [==============================] - 0s 126us/step - loss: 542.3714 - mean_absolute_percentage_error: 94.7440\n",
      "Epoch 21/50\n",
      "404/404 [==============================] - 0s 129us/step - loss: 542.3714 - mean_absolute_percentage_error: 94.7440\n",
      "Epoch 22/50\n",
      "404/404 [==============================] - 0s 173us/step - loss: 542.3713 - mean_absolute_percentage_error: 94.7440\n",
      "Epoch 23/50\n",
      "404/404 [==============================] - 0s 94us/step - loss: 542.3713 - mean_absolute_percentage_error: 94.7440\n",
      "Epoch 24/50\n",
      "404/404 [==============================] - 0s 186us/step - loss: 542.3713 - mean_absolute_percentage_error: 94.7439\n",
      "Epoch 25/50\n",
      "404/404 [==============================] - 0s 121us/step - loss: 542.3713 - mean_absolute_percentage_error: 94.7439\n",
      "Epoch 26/50\n",
      "404/404 [==============================] - 0s 119us/step - loss: 542.3713 - mean_absolute_percentage_error: 94.7439\n",
      "Epoch 27/50\n",
      "404/404 [==============================] - 0s 89us/step - loss: 542.3712 - mean_absolute_percentage_error: 94.7440\n",
      "Epoch 28/50\n",
      "404/404 [==============================] - 0s 156us/step - loss: 542.3712 - mean_absolute_percentage_error: 94.7439\n",
      "Epoch 29/50\n",
      "404/404 [==============================] - 0s 99us/step - loss: 542.3712 - mean_absolute_percentage_error: 94.7439\n",
      "Epoch 30/50\n",
      "404/404 [==============================] - 0s 92us/step - loss: 542.3712 - mean_absolute_percentage_error: 94.7439\n",
      "Epoch 31/50\n",
      "404/404 [==============================] - 0s 87us/step - loss: 542.3712 - mean_absolute_percentage_error: 94.7439\n",
      "Epoch 32/50\n",
      "404/404 [==============================] - 0s 158us/step - loss: 542.3712 - mean_absolute_percentage_error: 94.7439\n",
      "Epoch 33/50\n",
      "404/404 [==============================] - 0s 82us/step - loss: 542.3711 - mean_absolute_percentage_error: 94.7439\n",
      "Epoch 34/50\n",
      "404/404 [==============================] - 0s 188us/step - loss: 542.3711 - mean_absolute_percentage_error: 94.7439\n",
      "Epoch 35/50\n",
      "404/404 [==============================] - 0s 163us/step - loss: 542.3711 - mean_absolute_percentage_error: 94.7439\n",
      "Epoch 36/50\n",
      "404/404 [==============================] - 0s 106us/step - loss: 542.3711 - mean_absolute_percentage_error: 94.7439\n",
      "Epoch 37/50\n",
      "404/404 [==============================] - 0s 119us/step - loss: 542.3711 - mean_absolute_percentage_error: 94.7439\n",
      "Epoch 38/50\n",
      "404/404 [==============================] - 0s 84us/step - loss: 542.3711 - mean_absolute_percentage_error: 94.7439\n",
      "Epoch 39/50\n",
      "404/404 [==============================] - 0s 94us/step - loss: 542.3711 - mean_absolute_percentage_error: 94.7439\n",
      "Epoch 40/50\n",
      "404/404 [==============================] - 0s 99us/step - loss: 542.3710 - mean_absolute_percentage_error: 94.7439\n",
      "Epoch 41/50\n",
      "404/404 [==============================] - 0s 87us/step - loss: 542.3710 - mean_absolute_percentage_error: 94.7439\n",
      "Epoch 42/50\n",
      "404/404 [==============================] - 0s 87us/step - loss: 542.3710 - mean_absolute_percentage_error: 94.7439\n",
      "Epoch 43/50\n",
      "404/404 [==============================] - 0s 87us/step - loss: 542.3710 - mean_absolute_percentage_error: 94.7439\n",
      "Epoch 44/50\n",
      "404/404 [==============================] - 0s 104us/step - loss: 542.3710 - mean_absolute_percentage_error: 94.7439\n",
      "Epoch 45/50\n",
      "404/404 [==============================] - 0s 104us/step - loss: 542.3710 - mean_absolute_percentage_error: 94.7439\n",
      "Epoch 46/50\n",
      "404/404 [==============================] - 0s 92us/step - loss: 542.3710 - mean_absolute_percentage_error: 94.7439\n",
      "Epoch 47/50\n",
      "404/404 [==============================] - 0s 92us/step - loss: 542.3710 - mean_absolute_percentage_error: 94.7439\n",
      "Epoch 48/50\n",
      "404/404 [==============================] - 0s 109us/step - loss: 542.3709 - mean_absolute_percentage_error: 94.7439\n",
      "Epoch 49/50\n",
      "404/404 [==============================] - 0s 141us/step - loss: 542.3709 - mean_absolute_percentage_error: 94.7439\n",
      "Epoch 50/50\n",
      "404/404 [==============================] - 0s 111us/step - loss: 542.3709 - mean_absolute_percentage_error: 94.7439\n"
     ]
    },
    {
     "output_type": "execute_result",
     "data": {
      "text/plain": [
       "<keras.callbacks.callbacks.History at 0x2641992fe10>"
      ]
     },
     "metadata": {},
     "execution_count": 12
    }
   ],
   "source": [
    "model.fit(x_train,y_train,batch_size=32,epochs=50)\n"
   ]
  },
  {
   "cell_type": "code",
   "execution_count": 13,
   "metadata": {},
   "outputs": [],
   "source": [
    "# have you noticed that although we have change epochs size but loss remain same why? because at the end we use sigmoid that the reason,\n",
    "model = Sequential()\n",
    "model.add(Dense(13,input_dim=13,kernel_initializer='normal',activation='relu'))\n",
    "model.add(Dense(6,kernel_initializer ='normal',activation='relu'))\n",
    "model.add(Dense(1,kernel_initializer = 'normal'))\n",
    "model.compile(loss='mean_squared_error',optimizer='adam',metrics=['mean_absolute_percentage_error'])\n"
   ]
  },
  {
   "cell_type": "code",
   "execution_count": 14,
   "metadata": {},
   "outputs": [
    {
     "output_type": "stream",
     "name": "stdout",
     "text": [
      "Train on 404 samples, validate on 104 samples\n",
      "Epoch 1/3\n",
      "404/404 [==============================] - 1s 2ms/step - loss: 585.5767 - mean_absolute_percentage_error: 99.7534 - val_loss: 671.6397 - val_mean_absolute_percentage_error: 98.7989\n",
      "Epoch 2/3\n",
      "404/404 [==============================] - 0s 114us/step - loss: 567.1326 - mean_absolute_percentage_error: 97.4003 - val_loss: 645.7598 - val_mean_absolute_percentage_error: 95.9924\n",
      "Epoch 3/3\n",
      "404/404 [==============================] - 0s 131us/step - loss: 535.9121 - mean_absolute_percentage_error: 93.1756 - val_loss: 596.2421 - val_mean_absolute_percentage_error: 90.4368\n"
     ]
    },
    {
     "output_type": "execute_result",
     "data": {
      "text/plain": [
       "<keras.callbacks.callbacks.History at 0x26419c6d0b8>"
      ]
     },
     "metadata": {},
     "execution_count": 14
    }
   ],
   "source": [
    "model.fit(x_train,y_train,batch_size=32,epochs=3,validation_data=(x_val,y_val))\n"
   ]
  },
  {
   "cell_type": "code",
   "execution_count": 15,
   "metadata": {},
   "outputs": [
    {
     "output_type": "stream",
     "name": "stdout",
     "text": [
      "Train on 404 samples, validate on 104 samples\n",
      "Epoch 1/10\n",
      "404/404 [==============================] - 0s 166us/step - loss: 470.0300 - mean_absolute_percentage_error: 84.0836 - val_loss: 493.8842 - val_mean_absolute_percentage_error: 77.9533\n",
      "Epoch 2/10\n",
      "404/404 [==============================] - 0s 144us/step - loss: 354.8356 - mean_absolute_percentage_error: 67.0348 - val_loss: 338.9002 - val_mean_absolute_percentage_error: 56.1573\n",
      "Epoch 3/10\n",
      "404/404 [==============================] - 0s 129us/step - loss: 215.4790 - mean_absolute_percentage_error: 47.2104 - val_loss: 190.8105 - val_mean_absolute_percentage_error: 38.9461\n",
      "Epoch 4/10\n",
      "404/404 [==============================] - 0s 153us/step - loss: 131.0361 - mean_absolute_percentage_error: 41.8114 - val_loss: 140.5535 - val_mean_absolute_percentage_error: 41.3221\n",
      "Epoch 5/10\n",
      "404/404 [==============================] - 0s 200us/step - loss: 126.5026 - mean_absolute_percentage_error: 48.0284 - val_loss: 134.8761 - val_mean_absolute_percentage_error: 41.1645\n",
      "Epoch 6/10\n",
      "404/404 [==============================] - 0s 119us/step - loss: 119.3363 - mean_absolute_percentage_error: 44.4949 - val_loss: 133.6465 - val_mean_absolute_percentage_error: 37.2990\n",
      "Epoch 7/10\n",
      "404/404 [==============================] - 0s 131us/step - loss: 112.5013 - mean_absolute_percentage_error: 41.1636 - val_loss: 128.6932 - val_mean_absolute_percentage_error: 36.2913\n",
      "Epoch 8/10\n",
      "404/404 [==============================] - 0s 139us/step - loss: 107.8534 - mean_absolute_percentage_error: 40.3625 - val_loss: 122.6743 - val_mean_absolute_percentage_error: 35.9174\n",
      "Epoch 9/10\n",
      "404/404 [==============================] - 0s 111us/step - loss: 103.0399 - mean_absolute_percentage_error: 39.0766 - val_loss: 119.4043 - val_mean_absolute_percentage_error: 34.4147\n",
      "Epoch 10/10\n",
      "404/404 [==============================] - 0s 131us/step - loss: 99.0283 - mean_absolute_percentage_error: 37.3720 - val_loss: 115.1204 - val_mean_absolute_percentage_error: 33.3962\n"
     ]
    },
    {
     "output_type": "execute_result",
     "data": {
      "text/plain": [
       "<keras.callbacks.callbacks.History at 0x26419dd2d30>"
      ]
     },
     "metadata": {},
     "execution_count": 15
    }
   ],
   "source": [
    "model.fit(x_train,y_train,batch_size=32,epochs=10,validation_data=(x_val,y_val))\n"
   ]
  },
  {
   "cell_type": "code",
   "execution_count": 16,
   "metadata": {},
   "outputs": [
    {
     "output_type": "stream",
     "name": "stdout",
     "text": [
      "Train on 404 samples, validate on 104 samples\n",
      "Epoch 1/15\n",
      "404/404 [==============================] - 0s 171us/step - loss: 94.8053 - mean_absolute_percentage_error: 36.2845 - val_loss: 110.6536 - val_mean_absolute_percentage_error: 32.8981\n",
      "Epoch 2/15\n",
      "404/404 [==============================] - 0s 143us/step - loss: 91.4145 - mean_absolute_percentage_error: 36.2866 - val_loss: 106.4064 - val_mean_absolute_percentage_error: 32.3700\n",
      "Epoch 3/15\n",
      "404/404 [==============================] - 0s 252us/step - loss: 87.8911 - mean_absolute_percentage_error: 34.5016 - val_loss: 105.0115 - val_mean_absolute_percentage_error: 30.3429\n",
      "Epoch 4/15\n",
      "404/404 [==============================] - 0s 141us/step - loss: 84.6397 - mean_absolute_percentage_error: 33.7547 - val_loss: 100.2636 - val_mean_absolute_percentage_error: 30.4067\n",
      "Epoch 5/15\n",
      "404/404 [==============================] - 0s 208us/step - loss: 81.5762 - mean_absolute_percentage_error: 33.4319 - val_loss: 97.9274 - val_mean_absolute_percentage_error: 29.4745\n",
      "Epoch 6/15\n",
      "404/404 [==============================] - 0s 156us/step - loss: 79.8529 - mean_absolute_percentage_error: 31.9487 - val_loss: 97.2001 - val_mean_absolute_percentage_error: 27.8234\n",
      "Epoch 7/15\n",
      "404/404 [==============================] - 0s 148us/step - loss: 76.7859 - mean_absolute_percentage_error: 31.4325 - val_loss: 93.4796 - val_mean_absolute_percentage_error: 28.1340\n",
      "Epoch 8/15\n",
      "404/404 [==============================] - 0s 275us/step - loss: 74.9867 - mean_absolute_percentage_error: 32.1402 - val_loss: 91.2906 - val_mean_absolute_percentage_error: 27.7909\n",
      "Epoch 9/15\n",
      "404/404 [==============================] - 0s 134us/step - loss: 73.0680 - mean_absolute_percentage_error: 31.6187 - val_loss: 90.3092 - val_mean_absolute_percentage_error: 26.6273\n",
      "Epoch 10/15\n",
      "404/404 [==============================] - 0s 161us/step - loss: 71.3598 - mean_absolute_percentage_error: 29.9820 - val_loss: 89.7535 - val_mean_absolute_percentage_error: 25.6873\n",
      "Epoch 11/15\n",
      "404/404 [==============================] - 0s 136us/step - loss: 69.7044 - mean_absolute_percentage_error: 29.7722 - val_loss: 87.3612 - val_mean_absolute_percentage_error: 25.9124\n",
      "Epoch 12/15\n",
      "404/404 [==============================] - 0s 168us/step - loss: 68.5371 - mean_absolute_percentage_error: 29.6809 - val_loss: 86.3991 - val_mean_absolute_percentage_error: 25.4650\n",
      "Epoch 13/15\n",
      "404/404 [==============================] - 0s 141us/step - loss: 67.0792 - mean_absolute_percentage_error: 29.5431 - val_loss: 85.8445 - val_mean_absolute_percentage_error: 24.8796\n",
      "Epoch 14/15\n",
      "404/404 [==============================] - 0s 129us/step - loss: 65.7478 - mean_absolute_percentage_error: 28.7452 - val_loss: 85.0820 - val_mean_absolute_percentage_error: 24.6813\n",
      "Epoch 15/15\n",
      "404/404 [==============================] - 0s 183us/step - loss: 64.8791 - mean_absolute_percentage_error: 28.7231 - val_loss: 84.1210 - val_mean_absolute_percentage_error: 24.7389\n"
     ]
    },
    {
     "output_type": "execute_result",
     "data": {
      "text/plain": [
       "<keras.callbacks.callbacks.History at 0x2641869bbe0>"
      ]
     },
     "metadata": {},
     "execution_count": 16
    }
   ],
   "source": [
    "model.fit(x_train,y_train,batch_size=32,epochs=15,validation_data=(x_val,y_val))\n"
   ]
  },
  {
   "cell_type": "code",
   "execution_count": 17,
   "metadata": {},
   "outputs": [
    {
     "output_type": "stream",
     "name": "stdout",
     "text": [
      "Train on 404 samples, validate on 104 samples\n",
      "Epoch 1/50\n",
      "404/404 [==============================] - 0s 223us/step - loss: 64.0722 - mean_absolute_percentage_error: 28.2271 - val_loss: 84.1278 - val_mean_absolute_percentage_error: 24.2632\n",
      "Epoch 2/50\n",
      "404/404 [==============================] - 0s 272us/step - loss: 63.2855 - mean_absolute_percentage_error: 28.1481 - val_loss: 83.4814 - val_mean_absolute_percentage_error: 24.2350\n",
      "Epoch 3/50\n",
      "404/404 [==============================] - 0s 151us/step - loss: 62.7344 - mean_absolute_percentage_error: 27.8747 - val_loss: 83.1802 - val_mean_absolute_percentage_error: 24.0777\n",
      "Epoch 4/50\n",
      "404/404 [==============================] - 0s 193us/step - loss: 62.2011 - mean_absolute_percentage_error: 27.8453 - val_loss: 82.3618 - val_mean_absolute_percentage_error: 24.2690\n",
      "Epoch 5/50\n",
      "404/404 [==============================] - 0s 158us/step - loss: 61.9939 - mean_absolute_percentage_error: 27.1293 - val_loss: 83.0998 - val_mean_absolute_percentage_error: 23.5468\n",
      "Epoch 6/50\n",
      "404/404 [==============================] - 0s 141us/step - loss: 61.2641 - mean_absolute_percentage_error: 27.5383 - val_loss: 81.5713 - val_mean_absolute_percentage_error: 24.2037\n",
      "Epoch 7/50\n",
      "404/404 [==============================] - 0s 141us/step - loss: 60.9776 - mean_absolute_percentage_error: 26.9991 - val_loss: 82.1177 - val_mean_absolute_percentage_error: 23.5900\n",
      "Epoch 8/50\n",
      "404/404 [==============================] - 0s 220us/step - loss: 60.5178 - mean_absolute_percentage_error: 26.8754 - val_loss: 81.5547 - val_mean_absolute_percentage_error: 23.6912\n",
      "Epoch 9/50\n",
      "404/404 [==============================] - 0s 139us/step - loss: 60.3304 - mean_absolute_percentage_error: 27.1369 - val_loss: 81.3788 - val_mean_absolute_percentage_error: 23.5604\n",
      "Epoch 10/50\n",
      "404/404 [==============================] - 0s 139us/step - loss: 59.9633 - mean_absolute_percentage_error: 26.7863 - val_loss: 81.2229 - val_mean_absolute_percentage_error: 23.4549\n",
      "Epoch 11/50\n",
      "404/404 [==============================] - 0s 156us/step - loss: 59.7055 - mean_absolute_percentage_error: 26.6236 - val_loss: 81.2695 - val_mean_absolute_percentage_error: 23.2338\n",
      "Epoch 12/50\n",
      "404/404 [==============================] - 0s 126us/step - loss: 59.3425 - mean_absolute_percentage_error: 26.3454 - val_loss: 80.6853 - val_mean_absolute_percentage_error: 23.3709\n",
      "Epoch 13/50\n",
      "404/404 [==============================] - 0s 126us/step - loss: 59.2550 - mean_absolute_percentage_error: 26.2538 - val_loss: 80.6302 - val_mean_absolute_percentage_error: 23.2123\n",
      "Epoch 14/50\n",
      "404/404 [==============================] - 0s 106us/step - loss: 58.9716 - mean_absolute_percentage_error: 26.0378 - val_loss: 80.4057 - val_mean_absolute_percentage_error: 23.1916\n",
      "Epoch 15/50\n",
      "404/404 [==============================] - 0s 151us/step - loss: 59.1586 - mean_absolute_percentage_error: 27.3871 - val_loss: 79.4308 - val_mean_absolute_percentage_error: 23.7450\n",
      "Epoch 16/50\n",
      "404/404 [==============================] - 0s 129us/step - loss: 58.9244 - mean_absolute_percentage_error: 25.6537 - val_loss: 80.5815 - val_mean_absolute_percentage_error: 22.7632\n",
      "Epoch 17/50\n",
      "404/404 [==============================] - 0s 114us/step - loss: 58.4963 - mean_absolute_percentage_error: 26.8882 - val_loss: 78.6967 - val_mean_absolute_percentage_error: 23.9660\n",
      "Epoch 18/50\n",
      "404/404 [==============================] - 0s 129us/step - loss: 57.9638 - mean_absolute_percentage_error: 26.1756 - val_loss: 79.8192 - val_mean_absolute_percentage_error: 22.8439\n",
      "Epoch 19/50\n",
      "404/404 [==============================] - 0s 124us/step - loss: 57.8306 - mean_absolute_percentage_error: 25.4587 - val_loss: 78.9700 - val_mean_absolute_percentage_error: 23.2074\n",
      "Epoch 20/50\n",
      "404/404 [==============================] - 0s 111us/step - loss: 57.5631 - mean_absolute_percentage_error: 26.4011 - val_loss: 78.6274 - val_mean_absolute_percentage_error: 23.2567\n",
      "Epoch 21/50\n",
      "404/404 [==============================] - 0s 203us/step - loss: 57.2213 - mean_absolute_percentage_error: 25.7470 - val_loss: 79.3233 - val_mean_absolute_percentage_error: 22.6003\n",
      "Epoch 22/50\n",
      "404/404 [==============================] - 0s 129us/step - loss: 57.0340 - mean_absolute_percentage_error: 25.3326 - val_loss: 78.8452 - val_mean_absolute_percentage_error: 22.6796\n",
      "Epoch 23/50\n",
      "404/404 [==============================] - 0s 111us/step - loss: 56.9545 - mean_absolute_percentage_error: 26.0736 - val_loss: 77.5064 - val_mean_absolute_percentage_error: 23.4846\n",
      "Epoch 24/50\n",
      "404/404 [==============================] - 0s 114us/step - loss: 56.5305 - mean_absolute_percentage_error: 25.5216 - val_loss: 78.4440 - val_mean_absolute_percentage_error: 22.5694\n",
      "Epoch 25/50\n",
      "404/404 [==============================] - 0s 109us/step - loss: 56.4759 - mean_absolute_percentage_error: 25.0027 - val_loss: 78.0184 - val_mean_absolute_percentage_error: 22.6312\n",
      "Epoch 26/50\n",
      "404/404 [==============================] - 0s 139us/step - loss: 56.2062 - mean_absolute_percentage_error: 25.4753 - val_loss: 76.9517 - val_mean_absolute_percentage_error: 23.2054\n",
      "Epoch 27/50\n",
      "404/404 [==============================] - 0s 168us/step - loss: 55.8805 - mean_absolute_percentage_error: 26.0076 - val_loss: 76.8710 - val_mean_absolute_percentage_error: 22.9922\n",
      "Epoch 28/50\n",
      "404/404 [==============================] - 0s 114us/step - loss: 55.6227 - mean_absolute_percentage_error: 24.7466 - val_loss: 77.8563 - val_mean_absolute_percentage_error: 22.1890\n",
      "Epoch 29/50\n",
      "404/404 [==============================] - 0s 114us/step - loss: 55.3726 - mean_absolute_percentage_error: 24.7029 - val_loss: 76.3717 - val_mean_absolute_percentage_error: 22.9046\n",
      "Epoch 30/50\n",
      "404/404 [==============================] - 0s 121us/step - loss: 55.2698 - mean_absolute_percentage_error: 26.0907 - val_loss: 75.7075 - val_mean_absolute_percentage_error: 23.1468\n",
      "Epoch 31/50\n",
      "404/404 [==============================] - 0s 151us/step - loss: 54.7292 - mean_absolute_percentage_error: 25.1865 - val_loss: 76.9114 - val_mean_absolute_percentage_error: 22.1367\n",
      "Epoch 32/50\n",
      "404/404 [==============================] - 0s 148us/step - loss: 54.6822 - mean_absolute_percentage_error: 24.3172 - val_loss: 76.1129 - val_mean_absolute_percentage_error: 22.3602\n",
      "Epoch 33/50\n",
      "404/404 [==============================] - 0s 126us/step - loss: 54.3036 - mean_absolute_percentage_error: 25.0627 - val_loss: 75.0959 - val_mean_absolute_percentage_error: 22.8085\n",
      "Epoch 34/50\n",
      "404/404 [==============================] - 0s 225us/step - loss: 54.0258 - mean_absolute_percentage_error: 25.0271 - val_loss: 75.3688 - val_mean_absolute_percentage_error: 22.3656\n",
      "Epoch 35/50\n",
      "404/404 [==============================] - 0s 99us/step - loss: 54.3740 - mean_absolute_percentage_error: 24.6178 - val_loss: 74.2437 - val_mean_absolute_percentage_error: 22.9378\n",
      "Epoch 36/50\n",
      "404/404 [==============================] - 0s 106us/step - loss: 53.7471 - mean_absolute_percentage_error: 24.5218 - val_loss: 74.7567 - val_mean_absolute_percentage_error: 22.2730\n",
      "Epoch 37/50\n",
      "404/404 [==============================] - 0s 158us/step - loss: 53.2439 - mean_absolute_percentage_error: 24.5270 - val_loss: 74.2188 - val_mean_absolute_percentage_error: 22.3953\n",
      "Epoch 38/50\n",
      "404/404 [==============================] - 0s 146us/step - loss: 53.2947 - mean_absolute_percentage_error: 24.4068 - val_loss: 74.1521 - val_mean_absolute_percentage_error: 22.2022\n",
      "Epoch 39/50\n",
      "404/404 [==============================] - 0s 121us/step - loss: 53.1758 - mean_absolute_percentage_error: 25.4591 - val_loss: 73.2786 - val_mean_absolute_percentage_error: 22.5805\n",
      "Epoch 40/50\n",
      "404/404 [==============================] - 0s 109us/step - loss: 52.9115 - mean_absolute_percentage_error: 23.9135 - val_loss: 73.0248 - val_mean_absolute_percentage_error: 22.3877\n",
      "Epoch 41/50\n",
      "404/404 [==============================] - 0s 101us/step - loss: 52.3307 - mean_absolute_percentage_error: 24.4278 - val_loss: 72.7559 - val_mean_absolute_percentage_error: 22.2978\n",
      "Epoch 42/50\n",
      "404/404 [==============================] - 0s 111us/step - loss: 51.8905 - mean_absolute_percentage_error: 23.9250 - val_loss: 72.4853 - val_mean_absolute_percentage_error: 22.2305\n",
      "Epoch 43/50\n",
      "404/404 [==============================] - 0s 136us/step - loss: 52.1030 - mean_absolute_percentage_error: 25.0227 - val_loss: 72.4201 - val_mean_absolute_percentage_error: 22.0409\n",
      "Epoch 44/50\n",
      "404/404 [==============================] - 0s 129us/step - loss: 51.7532 - mean_absolute_percentage_error: 22.9328 - val_loss: 72.4848 - val_mean_absolute_percentage_error: 21.7079\n",
      "Epoch 45/50\n",
      "404/404 [==============================] - 0s 126us/step - loss: 51.1517 - mean_absolute_percentage_error: 24.4155 - val_loss: 70.6827 - val_mean_absolute_percentage_error: 22.8451\n",
      "Epoch 46/50\n",
      "404/404 [==============================] - 0s 129us/step - loss: 51.2340 - mean_absolute_percentage_error: 23.3290 - val_loss: 71.7906 - val_mean_absolute_percentage_error: 21.6588\n",
      "Epoch 47/50\n",
      "404/404 [==============================] - 0s 104us/step - loss: 50.4573 - mean_absolute_percentage_error: 23.9038 - val_loss: 70.4142 - val_mean_absolute_percentage_error: 22.2734\n",
      "Epoch 48/50\n",
      "404/404 [==============================] - 0s 143us/step - loss: 50.3990 - mean_absolute_percentage_error: 23.9443 - val_loss: 71.6931 - val_mean_absolute_percentage_error: 21.2910\n",
      "Epoch 49/50\n",
      "404/404 [==============================] - 0s 129us/step - loss: 50.1860 - mean_absolute_percentage_error: 23.2113 - val_loss: 69.5570 - val_mean_absolute_percentage_error: 22.4085\n",
      "Epoch 50/50\n",
      "404/404 [==============================] - 0s 121us/step - loss: 49.5623 - mean_absolute_percentage_error: 23.9082 - val_loss: 70.1941 - val_mean_absolute_percentage_error: 21.6102\n"
     ]
    },
    {
     "output_type": "execute_result",
     "data": {
      "text/plain": [
       "<keras.callbacks.callbacks.History at 0x2641992f5c0>"
      ]
     },
     "metadata": {},
     "execution_count": 17
    }
   ],
   "source": [
    "model.fit(x_train,y_train,batch_size=32,epochs=50,validation_data=(x_val,y_val))\n"
   ]
  },
  {
   "cell_type": "code",
   "execution_count": 18,
   "metadata": {},
   "outputs": [
    {
     "output_type": "stream",
     "name": "stdout",
     "text": [
      "Train on 404 samples, validate on 104 samples\n",
      "Epoch 1/100\n",
      "404/404 [==============================] - 0s 223us/step - loss: 49.4871 - mean_absolute_percentage_error: 22.6944 - val_loss: 69.3252 - val_mean_absolute_percentage_error: 21.8218\n",
      "Epoch 2/100\n",
      "404/404 [==============================] - 0s 143us/step - loss: 49.1766 - mean_absolute_percentage_error: 23.9871 - val_loss: 69.1130 - val_mean_absolute_percentage_error: 21.7593\n",
      "Epoch 3/100\n",
      "404/404 [==============================] - 0s 141us/step - loss: 48.8259 - mean_absolute_percentage_error: 22.7608 - val_loss: 69.1882 - val_mean_absolute_percentage_error: 21.3541\n",
      "Epoch 4/100\n",
      "404/404 [==============================] - 0s 129us/step - loss: 48.8988 - mean_absolute_percentage_error: 23.5881 - val_loss: 68.9302 - val_mean_absolute_percentage_error: 21.1899\n",
      "Epoch 5/100\n",
      "404/404 [==============================] - 0s 186us/step - loss: 48.4689 - mean_absolute_percentage_error: 23.6766 - val_loss: 67.2231 - val_mean_absolute_percentage_error: 22.1544\n",
      "Epoch 6/100\n",
      "404/404 [==============================] - 0s 121us/step - loss: 48.0050 - mean_absolute_percentage_error: 22.5879 - val_loss: 68.0373 - val_mean_absolute_percentage_error: 21.1356\n",
      "Epoch 7/100\n",
      "404/404 [==============================] - 0s 106us/step - loss: 47.8356 - mean_absolute_percentage_error: 21.9148 - val_loss: 66.7077 - val_mean_absolute_percentage_error: 21.8723\n",
      "Epoch 8/100\n",
      "404/404 [==============================] - 0s 109us/step - loss: 47.7048 - mean_absolute_percentage_error: 24.4219 - val_loss: 66.4072 - val_mean_absolute_percentage_error: 21.7131\n",
      "Epoch 9/100\n",
      "404/404 [==============================] - 0s 96us/step - loss: 47.5956 - mean_absolute_percentage_error: 21.5062 - val_loss: 67.4171 - val_mean_absolute_percentage_error: 20.6410\n",
      "Epoch 10/100\n",
      "404/404 [==============================] - 0s 220us/step - loss: 46.9512 - mean_absolute_percentage_error: 23.5760 - val_loss: 65.5410 - val_mean_absolute_percentage_error: 21.7726\n",
      "Epoch 11/100\n",
      "404/404 [==============================] - 0s 136us/step - loss: 47.1757 - mean_absolute_percentage_error: 21.4413 - val_loss: 66.7333 - val_mean_absolute_percentage_error: 20.5194\n",
      "Epoch 12/100\n",
      "404/404 [==============================] - 0s 104us/step - loss: 47.6796 - mean_absolute_percentage_error: 24.1450 - val_loss: 65.0280 - val_mean_absolute_percentage_error: 21.3826\n",
      "Epoch 13/100\n",
      "404/404 [==============================] - 0s 119us/step - loss: 46.5421 - mean_absolute_percentage_error: 20.7749 - val_loss: 66.3202 - val_mean_absolute_percentage_error: 20.2487\n",
      "Epoch 14/100\n",
      "404/404 [==============================] - 0s 178us/step - loss: 47.6060 - mean_absolute_percentage_error: 24.5508 - val_loss: 64.2492 - val_mean_absolute_percentage_error: 21.2556\n",
      "Epoch 15/100\n",
      "404/404 [==============================] - 0s 153us/step - loss: 45.2639 - mean_absolute_percentage_error: 21.0505 - val_loss: 65.4117 - val_mean_absolute_percentage_error: 20.1223\n",
      "Epoch 16/100\n",
      "404/404 [==============================] - 0s 136us/step - loss: 45.4869 - mean_absolute_percentage_error: 22.4639 - val_loss: 63.1175 - val_mean_absolute_percentage_error: 21.4433\n",
      "Epoch 17/100\n",
      "404/404 [==============================] - 0s 139us/step - loss: 45.9463 - mean_absolute_percentage_error: 20.7312 - val_loss: 63.7829 - val_mean_absolute_percentage_error: 20.4746\n",
      "Epoch 18/100\n",
      "404/404 [==============================] - 0s 131us/step - loss: 44.8595 - mean_absolute_percentage_error: 23.3486 - val_loss: 62.0200 - val_mean_absolute_percentage_error: 21.6900\n",
      "Epoch 19/100\n",
      "404/404 [==============================] - 0s 161us/step - loss: 43.7301 - mean_absolute_percentage_error: 21.5151 - val_loss: 63.5360 - val_mean_absolute_percentage_error: 20.0381\n",
      "Epoch 20/100\n",
      "404/404 [==============================] - 0s 101us/step - loss: 43.8201 - mean_absolute_percentage_error: 21.3762 - val_loss: 62.1071 - val_mean_absolute_percentage_error: 20.6054\n",
      "Epoch 21/100\n",
      "404/404 [==============================] - 0s 96us/step - loss: 43.6029 - mean_absolute_percentage_error: 20.8985 - val_loss: 62.7614 - val_mean_absolute_percentage_error: 19.9002\n",
      "Epoch 22/100\n",
      "404/404 [==============================] - 0s 129us/step - loss: 43.2531 - mean_absolute_percentage_error: 22.2934 - val_loss: 60.7145 - val_mean_absolute_percentage_error: 21.0955\n",
      "Epoch 23/100\n",
      "404/404 [==============================] - 0s 156us/step - loss: 42.4245 - mean_absolute_percentage_error: 21.4075 - val_loss: 61.7495 - val_mean_absolute_percentage_error: 19.9103\n",
      "Epoch 24/100\n",
      "404/404 [==============================] - 0s 101us/step - loss: 42.4448 - mean_absolute_percentage_error: 20.5374 - val_loss: 61.3137 - val_mean_absolute_percentage_error: 19.9281\n",
      "Epoch 25/100\n",
      "404/404 [==============================] - 0s 99us/step - loss: 41.8949 - mean_absolute_percentage_error: 21.1213 - val_loss: 59.4826 - val_mean_absolute_percentage_error: 20.8635\n",
      "Epoch 26/100\n",
      "404/404 [==============================] - 0s 183us/step - loss: 41.7286 - mean_absolute_percentage_error: 21.8794 - val_loss: 59.3012 - val_mean_absolute_percentage_error: 20.5465\n",
      "Epoch 27/100\n",
      "404/404 [==============================] - 0s 111us/step - loss: 41.3714 - mean_absolute_percentage_error: 21.2098 - val_loss: 59.3202 - val_mean_absolute_percentage_error: 20.1193\n",
      "Epoch 28/100\n",
      "404/404 [==============================] - 0s 109us/step - loss: 41.8273 - mean_absolute_percentage_error: 19.9069 - val_loss: 58.2834 - val_mean_absolute_percentage_error: 20.6719\n",
      "Epoch 29/100\n",
      "404/404 [==============================] - 0s 143us/step - loss: 42.0411 - mean_absolute_percentage_error: 23.1349 - val_loss: 59.1697 - val_mean_absolute_percentage_error: 19.6499\n",
      "Epoch 30/100\n",
      "404/404 [==============================] - 0s 119us/step - loss: 41.2746 - mean_absolute_percentage_error: 19.2363 - val_loss: 58.5349 - val_mean_absolute_percentage_error: 19.7770\n",
      "Epoch 31/100\n",
      "404/404 [==============================] - 0s 124us/step - loss: 40.9967 - mean_absolute_percentage_error: 22.0005 - val_loss: 57.8701 - val_mean_absolute_percentage_error: 19.9063\n",
      "Epoch 32/100\n",
      "404/404 [==============================] - 0s 143us/step - loss: 40.1401 - mean_absolute_percentage_error: 19.7510 - val_loss: 57.1186 - val_mean_absolute_percentage_error: 20.0825\n",
      "Epoch 33/100\n",
      "404/404 [==============================] - 0s 131us/step - loss: 39.5161 - mean_absolute_percentage_error: 20.6512 - val_loss: 56.9069 - val_mean_absolute_percentage_error: 19.9381\n",
      "Epoch 34/100\n",
      "404/404 [==============================] - 0s 143us/step - loss: 39.2741 - mean_absolute_percentage_error: 20.4010 - val_loss: 55.9200 - val_mean_absolute_percentage_error: 20.3545\n",
      "Epoch 35/100\n",
      "404/404 [==============================] - 0s 156us/step - loss: 38.9479 - mean_absolute_percentage_error: 20.6581 - val_loss: 55.9810 - val_mean_absolute_percentage_error: 19.8788\n",
      "Epoch 36/100\n",
      "404/404 [==============================] - 0s 141us/step - loss: 38.6501 - mean_absolute_percentage_error: 19.8693 - val_loss: 55.8267 - val_mean_absolute_percentage_error: 19.6132\n",
      "Epoch 37/100\n",
      "404/404 [==============================] - 0s 186us/step - loss: 38.6077 - mean_absolute_percentage_error: 20.6051 - val_loss: 54.5531 - val_mean_absolute_percentage_error: 20.3164\n",
      "Epoch 38/100\n",
      "404/404 [==============================] - 0s 134us/step - loss: 38.0216 - mean_absolute_percentage_error: 19.7928 - val_loss: 55.5187 - val_mean_absolute_percentage_error: 19.1504\n",
      "Epoch 39/100\n",
      "404/404 [==============================] - 0s 139us/step - loss: 38.0630 - mean_absolute_percentage_error: 20.0634 - val_loss: 53.6962 - val_mean_absolute_percentage_error: 20.1377\n",
      "Epoch 40/100\n",
      "404/404 [==============================] - 0s 156us/step - loss: 37.9624 - mean_absolute_percentage_error: 19.5600 - val_loss: 53.2207 - val_mean_absolute_percentage_error: 20.0429\n",
      "Epoch 41/100\n",
      "404/404 [==============================] - 0s 203us/step - loss: 37.4443 - mean_absolute_percentage_error: 20.5793 - val_loss: 54.1169 - val_mean_absolute_percentage_error: 18.8842\n",
      "Epoch 42/100\n",
      "404/404 [==============================] - 0s 173us/step - loss: 37.0585 - mean_absolute_percentage_error: 19.9808 - val_loss: 52.8963 - val_mean_absolute_percentage_error: 19.2716\n",
      "Epoch 43/100\n",
      "404/404 [==============================] - 0s 161us/step - loss: 36.8664 - mean_absolute_percentage_error: 19.3113 - val_loss: 51.6898 - val_mean_absolute_percentage_error: 20.0293\n",
      "Epoch 44/100\n",
      "404/404 [==============================] - 0s 168us/step - loss: 36.5849 - mean_absolute_percentage_error: 20.1520 - val_loss: 51.8260 - val_mean_absolute_percentage_error: 19.3907\n",
      "Epoch 45/100\n",
      "404/404 [==============================] - 0s 158us/step - loss: 36.2866 - mean_absolute_percentage_error: 20.0726 - val_loss: 52.1735 - val_mean_absolute_percentage_error: 18.6359\n",
      "Epoch 46/100\n",
      "404/404 [==============================] - 0s 195us/step - loss: 35.9398 - mean_absolute_percentage_error: 19.3238 - val_loss: 50.2397 - val_mean_absolute_percentage_error: 19.8675\n",
      "Epoch 47/100\n",
      "404/404 [==============================] - 0s 153us/step - loss: 35.6722 - mean_absolute_percentage_error: 19.7807 - val_loss: 50.4447 - val_mean_absolute_percentage_error: 19.0324\n",
      "Epoch 48/100\n",
      "404/404 [==============================] - 0s 143us/step - loss: 35.3929 - mean_absolute_percentage_error: 19.6930 - val_loss: 49.7847 - val_mean_absolute_percentage_error: 19.2365\n",
      "Epoch 49/100\n",
      "404/404 [==============================] - 0s 208us/step - loss: 35.3315 - mean_absolute_percentage_error: 19.9183 - val_loss: 51.0749 - val_mean_absolute_percentage_error: 17.8832\n",
      "Epoch 50/100\n",
      "404/404 [==============================] - 0s 156us/step - loss: 34.8097 - mean_absolute_percentage_error: 18.7322 - val_loss: 48.7848 - val_mean_absolute_percentage_error: 19.1912\n",
      "Epoch 51/100\n",
      "404/404 [==============================] - 0s 195us/step - loss: 34.6311 - mean_absolute_percentage_error: 20.0980 - val_loss: 48.6850 - val_mean_absolute_percentage_error: 18.8692\n",
      "Epoch 52/100\n",
      "404/404 [==============================] - 0s 153us/step - loss: 34.5742 - mean_absolute_percentage_error: 18.8681 - val_loss: 48.1325 - val_mean_absolute_percentage_error: 18.7813\n",
      "Epoch 53/100\n",
      "404/404 [==============================] - 0s 145us/step - loss: 35.2791 - mean_absolute_percentage_error: 21.1988 - val_loss: 49.4336 - val_mean_absolute_percentage_error: 17.5616\n",
      "Epoch 54/100\n",
      "404/404 [==============================] - 0s 146us/step - loss: 34.4427 - mean_absolute_percentage_error: 18.1958 - val_loss: 46.8396 - val_mean_absolute_percentage_error: 19.4988\n",
      "Epoch 55/100\n",
      "404/404 [==============================] - 0s 146us/step - loss: 34.6738 - mean_absolute_percentage_error: 21.3747 - val_loss: 50.1610 - val_mean_absolute_percentage_error: 17.2143\n",
      "Epoch 56/100\n",
      "404/404 [==============================] - 0s 146us/step - loss: 34.1597 - mean_absolute_percentage_error: 18.3977 - val_loss: 45.7122 - val_mean_absolute_percentage_error: 19.5872\n",
      "Epoch 57/100\n",
      "404/404 [==============================] - 0s 210us/step - loss: 33.5354 - mean_absolute_percentage_error: 20.3496 - val_loss: 46.1389 - val_mean_absolute_percentage_error: 18.2270\n",
      "Epoch 58/100\n",
      "404/404 [==============================] - 0s 156us/step - loss: 33.5528 - mean_absolute_percentage_error: 19.1954 - val_loss: 45.1389 - val_mean_absolute_percentage_error: 18.9520\n",
      "Epoch 59/100\n",
      "404/404 [==============================] - 0s 124us/step - loss: 32.8694 - mean_absolute_percentage_error: 19.0190 - val_loss: 45.3971 - val_mean_absolute_percentage_error: 17.9641\n",
      "Epoch 60/100\n",
      "404/404 [==============================] - 0s 124us/step - loss: 32.4450 - mean_absolute_percentage_error: 18.9488 - val_loss: 45.0089 - val_mean_absolute_percentage_error: 17.9362\n",
      "Epoch 61/100\n",
      "404/404 [==============================] - 0s 131us/step - loss: 32.1872 - mean_absolute_percentage_error: 19.4572 - val_loss: 44.4077 - val_mean_absolute_percentage_error: 18.0520\n",
      "Epoch 62/100\n",
      "404/404 [==============================] - 0s 161us/step - loss: 32.0388 - mean_absolute_percentage_error: 18.9884 - val_loss: 43.9229 - val_mean_absolute_percentage_error: 18.0346\n",
      "Epoch 63/100\n",
      "404/404 [==============================] - 0s 131us/step - loss: 32.0258 - mean_absolute_percentage_error: 19.8922 - val_loss: 44.0696 - val_mean_absolute_percentage_error: 17.5112\n",
      "Epoch 64/100\n",
      "404/404 [==============================] - 0s 116us/step - loss: 32.3907 - mean_absolute_percentage_error: 18.6818 - val_loss: 42.4214 - val_mean_absolute_percentage_error: 19.0665\n",
      "Epoch 65/100\n",
      "404/404 [==============================] - 0s 148us/step - loss: 31.5381 - mean_absolute_percentage_error: 19.0133 - val_loss: 44.1093 - val_mean_absolute_percentage_error: 17.0209\n",
      "Epoch 66/100\n",
      "404/404 [==============================] - 0s 131us/step - loss: 31.2149 - mean_absolute_percentage_error: 18.8452 - val_loss: 42.1564 - val_mean_absolute_percentage_error: 18.0094\n",
      "Epoch 67/100\n",
      "404/404 [==============================] - 0s 116us/step - loss: 31.0205 - mean_absolute_percentage_error: 19.0833 - val_loss: 41.6998 - val_mean_absolute_percentage_error: 18.0207\n",
      "Epoch 68/100\n",
      "404/404 [==============================] - 0s 124us/step - loss: 30.8228 - mean_absolute_percentage_error: 18.9973 - val_loss: 41.6521 - val_mean_absolute_percentage_error: 17.6821\n",
      "Epoch 69/100\n",
      "404/404 [==============================] - 0s 139us/step - loss: 30.6205 - mean_absolute_percentage_error: 19.0544 - val_loss: 42.3267 - val_mean_absolute_percentage_error: 17.0840\n",
      "Epoch 70/100\n",
      "404/404 [==============================] - 0s 119us/step - loss: 30.4777 - mean_absolute_percentage_error: 18.5631 - val_loss: 41.1674 - val_mean_absolute_percentage_error: 17.3801\n",
      "Epoch 71/100\n",
      "404/404 [==============================] - 0s 136us/step - loss: 30.2762 - mean_absolute_percentage_error: 18.7636 - val_loss: 40.0223 - val_mean_absolute_percentage_error: 18.0636\n",
      "Epoch 72/100\n",
      "404/404 [==============================] - 0s 126us/step - loss: 30.2847 - mean_absolute_percentage_error: 19.0172 - val_loss: 40.6216 - val_mean_absolute_percentage_error: 17.1340\n",
      "Epoch 73/100\n",
      "404/404 [==============================] - 0s 156us/step - loss: 30.2279 - mean_absolute_percentage_error: 19.5512 - val_loss: 40.8300 - val_mean_absolute_percentage_error: 16.7831\n",
      "Epoch 74/100\n",
      "404/404 [==============================] - 0s 153us/step - loss: 29.9192 - mean_absolute_percentage_error: 18.2212 - val_loss: 39.1812 - val_mean_absolute_percentage_error: 17.5112\n",
      "Epoch 75/100\n",
      "404/404 [==============================] - 0s 136us/step - loss: 29.5960 - mean_absolute_percentage_error: 19.1491 - val_loss: 39.7632 - val_mean_absolute_percentage_error: 16.8269\n",
      "Epoch 76/100\n",
      "404/404 [==============================] - 0s 111us/step - loss: 29.3873 - mean_absolute_percentage_error: 18.5036 - val_loss: 38.4795 - val_mean_absolute_percentage_error: 17.3347\n",
      "Epoch 77/100\n",
      "404/404 [==============================] - 0s 272us/step - loss: 29.2311 - mean_absolute_percentage_error: 18.6421 - val_loss: 38.9001 - val_mean_absolute_percentage_error: 16.6710\n",
      "Epoch 78/100\n",
      "404/404 [==============================] - 0s 92us/step - loss: 29.4110 - mean_absolute_percentage_error: 18.2981 - val_loss: 37.1629 - val_mean_absolute_percentage_error: 18.2371\n",
      "Epoch 79/100\n",
      "404/404 [==============================] - 0s 141us/step - loss: 28.8140 - mean_absolute_percentage_error: 18.5991 - val_loss: 38.0424 - val_mean_absolute_percentage_error: 16.7162\n",
      "Epoch 80/100\n",
      "404/404 [==============================] - 0s 220us/step - loss: 28.5543 - mean_absolute_percentage_error: 18.4144 - val_loss: 37.2842 - val_mean_absolute_percentage_error: 16.9831\n",
      "Epoch 81/100\n",
      "404/404 [==============================] - 0s 111us/step - loss: 28.4500 - mean_absolute_percentage_error: 18.1984 - val_loss: 36.3388 - val_mean_absolute_percentage_error: 17.9176\n",
      "Epoch 82/100\n",
      "404/404 [==============================] - 0s 136us/step - loss: 28.5005 - mean_absolute_percentage_error: 19.1933 - val_loss: 37.0111 - val_mean_absolute_percentage_error: 16.6483\n",
      "Epoch 83/100\n",
      "404/404 [==============================] - 0s 126us/step - loss: 28.2058 - mean_absolute_percentage_error: 18.5807 - val_loss: 36.4632 - val_mean_absolute_percentage_error: 16.7646\n",
      "Epoch 84/100\n",
      "404/404 [==============================] - 0s 153us/step - loss: 27.9956 - mean_absolute_percentage_error: 18.1296 - val_loss: 35.6973 - val_mean_absolute_percentage_error: 17.0286\n",
      "Epoch 85/100\n",
      "404/404 [==============================] - 0s 104us/step - loss: 27.6939 - mean_absolute_percentage_error: 18.5161 - val_loss: 36.4937 - val_mean_absolute_percentage_error: 16.2850\n",
      "Epoch 86/100\n",
      "404/404 [==============================] - 0s 119us/step - loss: 27.6825 - mean_absolute_percentage_error: 17.9329 - val_loss: 34.6219 - val_mean_absolute_percentage_error: 17.9533\n",
      "Epoch 87/100\n",
      "404/404 [==============================] - 0s 121us/step - loss: 29.1625 - mean_absolute_percentage_error: 19.8254 - val_loss: 38.2729 - val_mean_absolute_percentage_error: 16.0009\n",
      "Epoch 88/100\n",
      "404/404 [==============================] - 0s 235us/step - loss: 27.8876 - mean_absolute_percentage_error: 18.3516 - val_loss: 34.5247 - val_mean_absolute_percentage_error: 17.2014\n",
      "Epoch 89/100\n",
      "404/404 [==============================] - 0s 119us/step - loss: 27.1023 - mean_absolute_percentage_error: 18.2548 - val_loss: 36.0052 - val_mean_absolute_percentage_error: 16.1335\n",
      "Epoch 90/100\n",
      "404/404 [==============================] - 0s 104us/step - loss: 28.0571 - mean_absolute_percentage_error: 18.8389 - val_loss: 34.0697 - val_mean_absolute_percentage_error: 17.1024\n",
      "Epoch 91/100\n",
      "404/404 [==============================] - 0s 178us/step - loss: 27.5990 - mean_absolute_percentage_error: 17.7613 - val_loss: 33.7554 - val_mean_absolute_percentage_error: 17.3927\n",
      "Epoch 92/100\n",
      "404/404 [==============================] - 0s 116us/step - loss: 26.9871 - mean_absolute_percentage_error: 18.8540 - val_loss: 33.9334 - val_mean_absolute_percentage_error: 16.7425\n",
      "Epoch 93/100\n",
      "404/404 [==============================] - 0s 134us/step - loss: 26.6542 - mean_absolute_percentage_error: 17.9340 - val_loss: 33.5633 - val_mean_absolute_percentage_error: 16.5985\n",
      "Epoch 94/100\n",
      "404/404 [==============================] - 0s 106us/step - loss: 26.5926 - mean_absolute_percentage_error: 18.5643 - val_loss: 34.2406 - val_mean_absolute_percentage_error: 16.1052\n",
      "Epoch 95/100\n",
      "404/404 [==============================] - 0s 148us/step - loss: 26.3733 - mean_absolute_percentage_error: 17.8173 - val_loss: 32.8881 - val_mean_absolute_percentage_error: 16.8606\n",
      "Epoch 96/100\n",
      "404/404 [==============================] - 0s 124us/step - loss: 26.1528 - mean_absolute_percentage_error: 18.5694 - val_loss: 33.8442 - val_mean_absolute_percentage_error: 16.0318\n",
      "Epoch 97/100\n",
      "404/404 [==============================] - 0s 106us/step - loss: 26.6460 - mean_absolute_percentage_error: 17.5350 - val_loss: 32.1710 - val_mean_absolute_percentage_error: 18.2009\n",
      "Epoch 98/100\n",
      "404/404 [==============================] - 0s 129us/step - loss: 26.7348 - mean_absolute_percentage_error: 19.1049 - val_loss: 33.5237 - val_mean_absolute_percentage_error: 15.9654\n",
      "Epoch 99/100\n",
      "404/404 [==============================] - 0s 186us/step - loss: 25.8100 - mean_absolute_percentage_error: 17.7342 - val_loss: 31.6077 - val_mean_absolute_percentage_error: 17.5943\n",
      "Epoch 100/100\n",
      "404/404 [==============================] - 0s 111us/step - loss: 26.4412 - mean_absolute_percentage_error: 18.7239 - val_loss: 32.9175 - val_mean_absolute_percentage_error: 16.0175\n"
     ]
    },
    {
     "output_type": "execute_result",
     "data": {
      "text/plain": [
       "<keras.callbacks.callbacks.History at 0x26419dbd5f8>"
      ]
     },
     "metadata": {},
     "execution_count": 18
    }
   ],
   "source": [
    "model.fit(x_train,y_train,batch_size=32,epochs=100,validation_data=(x_val,y_val))\n"
   ]
  },
  {
   "cell_type": "code",
   "execution_count": 19,
   "metadata": {},
   "outputs": [
    {
     "output_type": "stream",
     "name": "stdout",
     "text": [
      "Train on 404 samples, validate on 104 samples\n",
      "Epoch 1/135\n",
      "404/404 [==============================] - 0s 153us/step - loss: 25.9231 - mean_absolute_percentage_error: 18.5816 - val_loss: 32.9325 - val_mean_absolute_percentage_error: 15.8593\n",
      "Epoch 2/135\n",
      "404/404 [==============================] - 0s 141us/step - loss: 26.2234 - mean_absolute_percentage_error: 17.3802 - val_loss: 30.9436 - val_mean_absolute_percentage_error: 17.9327\n",
      "Epoch 3/135\n",
      "404/404 [==============================] - 0s 139us/step - loss: 26.8068 - mean_absolute_percentage_error: 19.3407 - val_loss: 34.9806 - val_mean_absolute_percentage_error: 15.6933\n",
      "Epoch 4/135\n",
      "404/404 [==============================] - 0s 101us/step - loss: 25.1106 - mean_absolute_percentage_error: 17.8983 - val_loss: 30.7209 - val_mean_absolute_percentage_error: 18.0749\n",
      "Epoch 5/135\n",
      "404/404 [==============================] - 0s 129us/step - loss: 25.3948 - mean_absolute_percentage_error: 18.3843 - val_loss: 32.0852 - val_mean_absolute_percentage_error: 15.8091\n",
      "Epoch 6/135\n",
      "404/404 [==============================] - 0s 237us/step - loss: 25.1143 - mean_absolute_percentage_error: 17.3202 - val_loss: 30.5909 - val_mean_absolute_percentage_error: 16.3437\n",
      "Epoch 7/135\n",
      "404/404 [==============================] - 0s 121us/step - loss: 25.2589 - mean_absolute_percentage_error: 18.6112 - val_loss: 32.2689 - val_mean_absolute_percentage_error: 15.6982\n",
      "Epoch 8/135\n",
      "404/404 [==============================] - 0s 121us/step - loss: 25.0875 - mean_absolute_percentage_error: 17.7394 - val_loss: 30.2117 - val_mean_absolute_percentage_error: 16.4386\n",
      "Epoch 9/135\n",
      "404/404 [==============================] - 0s 104us/step - loss: 24.7662 - mean_absolute_percentage_error: 17.5733 - val_loss: 30.2592 - val_mean_absolute_percentage_error: 16.1120\n",
      "Epoch 10/135\n",
      "404/404 [==============================] - 0s 116us/step - loss: 24.6438 - mean_absolute_percentage_error: 17.5234 - val_loss: 29.7521 - val_mean_absolute_percentage_error: 16.3514\n",
      "Epoch 11/135\n",
      "404/404 [==============================] - 0s 297us/step - loss: 24.9152 - mean_absolute_percentage_error: 17.8714 - val_loss: 29.9938 - val_mean_absolute_percentage_error: 16.0049\n",
      "Epoch 12/135\n",
      "404/404 [==============================] - 0s 124us/step - loss: 24.2630 - mean_absolute_percentage_error: 17.7528 - val_loss: 29.4981 - val_mean_absolute_percentage_error: 16.1673\n",
      "Epoch 13/135\n",
      "404/404 [==============================] - 0s 111us/step - loss: 24.1824 - mean_absolute_percentage_error: 17.8761 - val_loss: 29.5365 - val_mean_absolute_percentage_error: 15.9911\n",
      "Epoch 14/135\n",
      "404/404 [==============================] - 0s 134us/step - loss: 24.2639 - mean_absolute_percentage_error: 17.6032 - val_loss: 29.0387 - val_mean_absolute_percentage_error: 16.1909\n",
      "Epoch 15/135\n",
      "404/404 [==============================] - 0s 168us/step - loss: 24.1129 - mean_absolute_percentage_error: 17.8859 - val_loss: 29.1211 - val_mean_absolute_percentage_error: 15.9850\n",
      "Epoch 16/135\n",
      "404/404 [==============================] - 0s 114us/step - loss: 23.8689 - mean_absolute_percentage_error: 17.3363 - val_loss: 28.9658 - val_mean_absolute_percentage_error: 15.9021\n",
      "Epoch 17/135\n",
      "404/404 [==============================] - 0s 104us/step - loss: 23.7496 - mean_absolute_percentage_error: 17.4431 - val_loss: 28.1581 - val_mean_absolute_percentage_error: 16.6323\n",
      "Epoch 18/135\n",
      "404/404 [==============================] - 0s 163us/step - loss: 23.9642 - mean_absolute_percentage_error: 18.1454 - val_loss: 30.2394 - val_mean_absolute_percentage_error: 15.3569\n",
      "Epoch 19/135\n",
      "404/404 [==============================] - 0s 223us/step - loss: 23.6136 - mean_absolute_percentage_error: 17.2956 - val_loss: 27.7016 - val_mean_absolute_percentage_error: 16.2387\n",
      "Epoch 20/135\n",
      "404/404 [==============================] - 0s 119us/step - loss: 23.5549 - mean_absolute_percentage_error: 17.3997 - val_loss: 29.1537 - val_mean_absolute_percentage_error: 15.4037\n",
      "Epoch 21/135\n",
      "404/404 [==============================] - 0s 121us/step - loss: 23.4245 - mean_absolute_percentage_error: 17.6962 - val_loss: 29.1821 - val_mean_absolute_percentage_error: 15.3229\n",
      "Epoch 22/135\n",
      "404/404 [==============================] - 0s 151us/step - loss: 23.2843 - mean_absolute_percentage_error: 17.2307 - val_loss: 28.0451 - val_mean_absolute_percentage_error: 15.5648\n",
      "Epoch 23/135\n",
      "404/404 [==============================] - 0s 134us/step - loss: 23.1759 - mean_absolute_percentage_error: 16.9391 - val_loss: 27.5022 - val_mean_absolute_percentage_error: 15.7613\n",
      "Epoch 24/135\n",
      "404/404 [==============================] - 0s 148us/step - loss: 23.1513 - mean_absolute_percentage_error: 17.9591 - val_loss: 28.8174 - val_mean_absolute_percentage_error: 15.2440\n",
      "Epoch 25/135\n",
      "404/404 [==============================] - 0s 134us/step - loss: 23.5843 - mean_absolute_percentage_error: 17.7404 - val_loss: 28.8592 - val_mean_absolute_percentage_error: 15.1682\n",
      "Epoch 26/135\n",
      "404/404 [==============================] - 0s 163us/step - loss: 23.1184 - mean_absolute_percentage_error: 17.4159 - val_loss: 26.9383 - val_mean_absolute_percentage_error: 15.7620\n",
      "Epoch 27/135\n",
      "404/404 [==============================] - 0s 161us/step - loss: 23.3709 - mean_absolute_percentage_error: 16.8833 - val_loss: 26.4531 - val_mean_absolute_percentage_error: 16.1206\n",
      "Epoch 28/135\n",
      "404/404 [==============================] - 0s 205us/step - loss: 22.7592 - mean_absolute_percentage_error: 18.0898 - val_loss: 29.0479 - val_mean_absolute_percentage_error: 15.0798\n",
      "Epoch 29/135\n",
      "404/404 [==============================] - 0s 195us/step - loss: 22.8016 - mean_absolute_percentage_error: 16.9008 - val_loss: 26.8648 - val_mean_absolute_percentage_error: 15.4773\n",
      "Epoch 30/135\n",
      "404/404 [==============================] - 0s 208us/step - loss: 22.1711 - mean_absolute_percentage_error: 17.3695 - val_loss: 27.2575 - val_mean_absolute_percentage_error: 15.1727\n",
      "Epoch 31/135\n",
      "404/404 [==============================] - 0s 181us/step - loss: 22.2431 - mean_absolute_percentage_error: 16.4999 - val_loss: 25.9370 - val_mean_absolute_percentage_error: 15.7802\n",
      "Epoch 32/135\n",
      "404/404 [==============================] - 0s 161us/step - loss: 21.9762 - mean_absolute_percentage_error: 17.3733 - val_loss: 27.1319 - val_mean_absolute_percentage_error: 15.1137\n",
      "Epoch 33/135\n",
      "404/404 [==============================] - 0s 168us/step - loss: 22.0507 - mean_absolute_percentage_error: 16.5499 - val_loss: 26.2890 - val_mean_absolute_percentage_error: 15.3855\n",
      "Epoch 34/135\n",
      "404/404 [==============================] - 0s 210us/step - loss: 21.9487 - mean_absolute_percentage_error: 17.7094 - val_loss: 27.3354 - val_mean_absolute_percentage_error: 14.9388\n",
      "Epoch 35/135\n",
      "404/404 [==============================] - 0s 153us/step - loss: 22.1952 - mean_absolute_percentage_error: 16.9790 - val_loss: 25.9423 - val_mean_absolute_percentage_error: 15.2594\n",
      "Epoch 36/135\n",
      "404/404 [==============================] - 0s 156us/step - loss: 21.3840 - mean_absolute_percentage_error: 16.7981 - val_loss: 26.3930 - val_mean_absolute_percentage_error: 15.0973\n",
      "Epoch 37/135\n",
      "404/404 [==============================] - 0s 163us/step - loss: 21.5646 - mean_absolute_percentage_error: 16.6804 - val_loss: 25.4035 - val_mean_absolute_percentage_error: 15.4761\n",
      "Epoch 38/135\n",
      "404/404 [==============================] - 0s 176us/step - loss: 21.2684 - mean_absolute_percentage_error: 16.6991 - val_loss: 26.4187 - val_mean_absolute_percentage_error: 14.7741\n",
      "Epoch 39/135\n",
      "404/404 [==============================] - 0s 218us/step - loss: 21.6771 - mean_absolute_percentage_error: 17.3009 - val_loss: 27.4233 - val_mean_absolute_percentage_error: 14.5539\n",
      "Epoch 40/135\n",
      "404/404 [==============================] - 0s 230us/step - loss: 21.1415 - mean_absolute_percentage_error: 16.0554 - val_loss: 24.5954 - val_mean_absolute_percentage_error: 15.7942\n",
      "Epoch 41/135\n",
      "404/404 [==============================] - 0s 158us/step - loss: 20.6146 - mean_absolute_percentage_error: 16.9203 - val_loss: 26.6188 - val_mean_absolute_percentage_error: 14.4163\n",
      "Epoch 42/135\n",
      "404/404 [==============================] - 0s 171us/step - loss: 21.6490 - mean_absolute_percentage_error: 16.6500 - val_loss: 24.2980 - val_mean_absolute_percentage_error: 16.4538\n",
      "Epoch 43/135\n",
      "404/404 [==============================] - 0s 205us/step - loss: 20.8913 - mean_absolute_percentage_error: 16.8871 - val_loss: 27.3892 - val_mean_absolute_percentage_error: 13.9524\n",
      "Epoch 44/135\n",
      "404/404 [==============================] - 0s 153us/step - loss: 20.8320 - mean_absolute_percentage_error: 16.6118 - val_loss: 24.5965 - val_mean_absolute_percentage_error: 14.5808\n",
      "Epoch 45/135\n",
      "404/404 [==============================] - 0s 148us/step - loss: 20.3589 - mean_absolute_percentage_error: 15.8052 - val_loss: 23.5629 - val_mean_absolute_percentage_error: 15.5320\n",
      "Epoch 46/135\n",
      "404/404 [==============================] - 0s 161us/step - loss: 20.4090 - mean_absolute_percentage_error: 16.4094 - val_loss: 23.7831 - val_mean_absolute_percentage_error: 14.8649\n",
      "Epoch 47/135\n",
      "404/404 [==============================] - 0s 139us/step - loss: 19.9445 - mean_absolute_percentage_error: 16.2315 - val_loss: 23.4363 - val_mean_absolute_percentage_error: 14.8606\n",
      "Epoch 48/135\n",
      "404/404 [==============================] - 0s 198us/step - loss: 19.7796 - mean_absolute_percentage_error: 15.8482 - val_loss: 23.3471 - val_mean_absolute_percentage_error: 14.8157\n",
      "Epoch 49/135\n",
      "404/404 [==============================] - 0s 134us/step - loss: 19.8288 - mean_absolute_percentage_error: 16.2871 - val_loss: 23.8046 - val_mean_absolute_percentage_error: 14.2347\n",
      "Epoch 50/135\n",
      "404/404 [==============================] - 0s 124us/step - loss: 19.9374 - mean_absolute_percentage_error: 15.8594 - val_loss: 22.3686 - val_mean_absolute_percentage_error: 15.3985\n",
      "Epoch 51/135\n",
      "404/404 [==============================] - 0s 173us/step - loss: 19.6187 - mean_absolute_percentage_error: 15.9044 - val_loss: 22.8528 - val_mean_absolute_percentage_error: 14.2799\n",
      "Epoch 52/135\n",
      "404/404 [==============================] - 0s 153us/step - loss: 19.7686 - mean_absolute_percentage_error: 16.3823 - val_loss: 25.4004 - val_mean_absolute_percentage_error: 13.5310\n",
      "Epoch 53/135\n",
      "404/404 [==============================] - 0s 111us/step - loss: 20.2061 - mean_absolute_percentage_error: 16.0939 - val_loss: 23.0664 - val_mean_absolute_percentage_error: 14.0634\n",
      "Epoch 54/135\n",
      "404/404 [==============================] - 0s 116us/step - loss: 19.0812 - mean_absolute_percentage_error: 15.5490 - val_loss: 21.8605 - val_mean_absolute_percentage_error: 14.5764\n",
      "Epoch 55/135\n",
      "404/404 [==============================] - 0s 121us/step - loss: 18.8233 - mean_absolute_percentage_error: 15.4488 - val_loss: 21.8063 - val_mean_absolute_percentage_error: 14.4236\n",
      "Epoch 56/135\n",
      "404/404 [==============================] - 0s 158us/step - loss: 18.6913 - mean_absolute_percentage_error: 15.8854 - val_loss: 22.6284 - val_mean_absolute_percentage_error: 13.8490\n",
      "Epoch 57/135\n",
      "404/404 [==============================] - 0s 139us/step - loss: 19.1068 - mean_absolute_percentage_error: 15.6922 - val_loss: 21.7335 - val_mean_absolute_percentage_error: 14.1832\n",
      "Epoch 58/135\n",
      "404/404 [==============================] - 0s 124us/step - loss: 18.7917 - mean_absolute_percentage_error: 15.4097 - val_loss: 21.0953 - val_mean_absolute_percentage_error: 14.6823\n",
      "Epoch 59/135\n",
      "404/404 [==============================] - 0s 116us/step - loss: 18.2753 - mean_absolute_percentage_error: 15.8744 - val_loss: 22.9836 - val_mean_absolute_percentage_error: 13.5694\n",
      "Epoch 60/135\n",
      "404/404 [==============================] - 0s 200us/step - loss: 18.5560 - mean_absolute_percentage_error: 15.6882 - val_loss: 20.9598 - val_mean_absolute_percentage_error: 14.6618\n",
      "Epoch 61/135\n",
      "404/404 [==============================] - 0s 129us/step - loss: 18.0054 - mean_absolute_percentage_error: 15.4671 - val_loss: 21.3468 - val_mean_absolute_percentage_error: 13.8842\n",
      "Epoch 62/135\n",
      "404/404 [==============================] - 0s 126us/step - loss: 17.9208 - mean_absolute_percentage_error: 15.2709 - val_loss: 21.3295 - val_mean_absolute_percentage_error: 13.8678\n",
      "Epoch 63/135\n",
      "404/404 [==============================] - 0s 116us/step - loss: 17.9319 - mean_absolute_percentage_error: 15.3780 - val_loss: 20.7600 - val_mean_absolute_percentage_error: 14.4734\n",
      "Epoch 64/135\n",
      "404/404 [==============================] - 0s 158us/step - loss: 17.7780 - mean_absolute_percentage_error: 15.5552 - val_loss: 22.0124 - val_mean_absolute_percentage_error: 13.5157\n",
      "Epoch 65/135\n",
      "404/404 [==============================] - 0s 131us/step - loss: 17.6894 - mean_absolute_percentage_error: 15.0014 - val_loss: 20.3901 - val_mean_absolute_percentage_error: 14.1728\n",
      "Epoch 66/135\n",
      "404/404 [==============================] - 0s 131us/step - loss: 17.7717 - mean_absolute_percentage_error: 15.7330 - val_loss: 21.8560 - val_mean_absolute_percentage_error: 13.4120\n",
      "Epoch 67/135\n",
      "404/404 [==============================] - 0s 161us/step - loss: 17.7138 - mean_absolute_percentage_error: 15.3092 - val_loss: 20.8141 - val_mean_absolute_percentage_error: 13.6800\n",
      "Epoch 68/135\n",
      "404/404 [==============================] - 0s 114us/step - loss: 17.7160 - mean_absolute_percentage_error: 15.2001 - val_loss: 20.9704 - val_mean_absolute_percentage_error: 13.7946\n",
      "Epoch 69/135\n",
      "404/404 [==============================] - 0s 148us/step - loss: 17.9020 - mean_absolute_percentage_error: 15.2272 - val_loss: 21.0838 - val_mean_absolute_percentage_error: 13.4897\n",
      "Epoch 70/135\n",
      "404/404 [==============================] - 0s 124us/step - loss: 17.8364 - mean_absolute_percentage_error: 15.9597 - val_loss: 20.4295 - val_mean_absolute_percentage_error: 13.2820\n",
      "Epoch 71/135\n",
      "404/404 [==============================] - 0s 104us/step - loss: 18.0468 - mean_absolute_percentage_error: 14.7209 - val_loss: 19.2972 - val_mean_absolute_percentage_error: 14.6702\n",
      "Epoch 72/135\n",
      "404/404 [==============================] - 0s 139us/step - loss: 17.5189 - mean_absolute_percentage_error: 15.7962 - val_loss: 21.5433 - val_mean_absolute_percentage_error: 13.3307\n",
      "Epoch 73/135\n",
      "404/404 [==============================] - 0s 151us/step - loss: 17.8637 - mean_absolute_percentage_error: 15.2020 - val_loss: 19.3403 - val_mean_absolute_percentage_error: 13.6657\n",
      "Epoch 74/135\n",
      "404/404 [==============================] - 0s 139us/step - loss: 17.0860 - mean_absolute_percentage_error: 15.2216 - val_loss: 20.6572 - val_mean_absolute_percentage_error: 13.1960\n",
      "Epoch 75/135\n",
      "404/404 [==============================] - 0s 166us/step - loss: 17.5082 - mean_absolute_percentage_error: 15.3931 - val_loss: 19.5619 - val_mean_absolute_percentage_error: 13.4170\n",
      "Epoch 76/135\n",
      "404/404 [==============================] - 0s 101us/step - loss: 17.1753 - mean_absolute_percentage_error: 15.0240 - val_loss: 19.2820 - val_mean_absolute_percentage_error: 13.5047\n",
      "Epoch 77/135\n",
      "404/404 [==============================] - 0s 171us/step - loss: 16.8596 - mean_absolute_percentage_error: 14.9503 - val_loss: 19.9529 - val_mean_absolute_percentage_error: 13.1864\n",
      "Epoch 78/135\n",
      "404/404 [==============================] - 0s 121us/step - loss: 17.0543 - mean_absolute_percentage_error: 15.3831 - val_loss: 19.4344 - val_mean_absolute_percentage_error: 13.2752\n",
      "Epoch 79/135\n",
      "404/404 [==============================] - 0s 94us/step - loss: 16.9780 - mean_absolute_percentage_error: 14.7073 - val_loss: 18.6056 - val_mean_absolute_percentage_error: 14.1177\n",
      "Epoch 80/135\n",
      "404/404 [==============================] - 0s 148us/step - loss: 16.9647 - mean_absolute_percentage_error: 15.2099 - val_loss: 20.5908 - val_mean_absolute_percentage_error: 13.0033\n",
      "Epoch 81/135\n",
      "404/404 [==============================] - 0s 114us/step - loss: 17.0165 - mean_absolute_percentage_error: 15.3892 - val_loss: 19.5486 - val_mean_absolute_percentage_error: 13.0657\n",
      "Epoch 82/135\n",
      "404/404 [==============================] - 0s 116us/step - loss: 16.6562 - mean_absolute_percentage_error: 14.6959 - val_loss: 18.8903 - val_mean_absolute_percentage_error: 13.3624\n",
      "Epoch 83/135\n",
      "404/404 [==============================] - 0s 158us/step - loss: 16.9003 - mean_absolute_percentage_error: 14.7882 - val_loss: 18.7454 - val_mean_absolute_percentage_error: 13.4895\n",
      "Epoch 84/135\n",
      "404/404 [==============================] - 0s 114us/step - loss: 17.9812 - mean_absolute_percentage_error: 15.8477 - val_loss: 21.2799 - val_mean_absolute_percentage_error: 12.9679\n",
      "Epoch 85/135\n",
      "404/404 [==============================] - 0s 121us/step - loss: 17.3893 - mean_absolute_percentage_error: 15.1913 - val_loss: 18.8241 - val_mean_absolute_percentage_error: 13.0941\n",
      "Epoch 86/135\n",
      "404/404 [==============================] - 0s 136us/step - loss: 16.3762 - mean_absolute_percentage_error: 14.6208 - val_loss: 18.5543 - val_mean_absolute_percentage_error: 13.4536\n",
      "Epoch 87/135\n",
      "404/404 [==============================] - 0s 148us/step - loss: 16.2857 - mean_absolute_percentage_error: 15.0669 - val_loss: 19.0827 - val_mean_absolute_percentage_error: 13.0553\n",
      "Epoch 88/135\n",
      "404/404 [==============================] - 0s 134us/step - loss: 16.4430 - mean_absolute_percentage_error: 14.3985 - val_loss: 18.0431 - val_mean_absolute_percentage_error: 13.7456\n",
      "Epoch 89/135\n",
      "404/404 [==============================] - 0s 129us/step - loss: 17.1951 - mean_absolute_percentage_error: 14.9107 - val_loss: 17.8274 - val_mean_absolute_percentage_error: 13.8127\n",
      "Epoch 90/135\n",
      "404/404 [==============================] - 0s 121us/step - loss: 17.1502 - mean_absolute_percentage_error: 15.1129 - val_loss: 18.8753 - val_mean_absolute_percentage_error: 12.8169\n",
      "Epoch 91/135\n",
      "404/404 [==============================] - 0s 151us/step - loss: 16.4036 - mean_absolute_percentage_error: 14.8438 - val_loss: 18.0569 - val_mean_absolute_percentage_error: 13.1497\n",
      "Epoch 92/135\n",
      "404/404 [==============================] - 0s 141us/step - loss: 16.1484 - mean_absolute_percentage_error: 14.7159 - val_loss: 17.8983 - val_mean_absolute_percentage_error: 13.2474\n",
      "Epoch 93/135\n",
      "404/404 [==============================] - 0s 183us/step - loss: 16.1928 - mean_absolute_percentage_error: 14.8531 - val_loss: 19.2659 - val_mean_absolute_percentage_error: 12.8186\n",
      "Epoch 94/135\n",
      "404/404 [==============================] - 0s 188us/step - loss: 15.8579 - mean_absolute_percentage_error: 14.5585 - val_loss: 17.5862 - val_mean_absolute_percentage_error: 13.6969\n",
      "Epoch 95/135\n",
      "404/404 [==============================] - 0s 131us/step - loss: 16.4058 - mean_absolute_percentage_error: 14.5601 - val_loss: 17.6547 - val_mean_absolute_percentage_error: 13.3093\n",
      "Epoch 96/135\n",
      "404/404 [==============================] - 0s 124us/step - loss: 16.2018 - mean_absolute_percentage_error: 15.0336 - val_loss: 20.1561 - val_mean_absolute_percentage_error: 12.7613\n",
      "Epoch 97/135\n",
      "404/404 [==============================] - 0s 101us/step - loss: 16.5803 - mean_absolute_percentage_error: 14.5118 - val_loss: 17.4001 - val_mean_absolute_percentage_error: 13.5980\n",
      "Epoch 98/135\n",
      "404/404 [==============================] - 0s 144us/step - loss: 15.8420 - mean_absolute_percentage_error: 14.7700 - val_loss: 19.9091 - val_mean_absolute_percentage_error: 12.7315\n",
      "Epoch 99/135\n",
      "404/404 [==============================] - 0s 126us/step - loss: 16.1167 - mean_absolute_percentage_error: 14.3085 - val_loss: 17.5149 - val_mean_absolute_percentage_error: 14.3105\n",
      "Epoch 100/135\n",
      "404/404 [==============================] - 0s 126us/step - loss: 16.2612 - mean_absolute_percentage_error: 14.9710 - val_loss: 18.2313 - val_mean_absolute_percentage_error: 12.7497\n",
      "Epoch 101/135\n",
      "404/404 [==============================] - 0s 106us/step - loss: 16.1691 - mean_absolute_percentage_error: 14.4975 - val_loss: 17.3144 - val_mean_absolute_percentage_error: 13.1892\n",
      "Epoch 102/135\n",
      "404/404 [==============================] - 0s 153us/step - loss: 16.2916 - mean_absolute_percentage_error: 15.3708 - val_loss: 20.1020 - val_mean_absolute_percentage_error: 12.7179\n",
      "Epoch 103/135\n",
      "404/404 [==============================] - 0s 106us/step - loss: 16.0738 - mean_absolute_percentage_error: 14.2902 - val_loss: 17.2919 - val_mean_absolute_percentage_error: 13.1522\n",
      "Epoch 104/135\n",
      "404/404 [==============================] - 0s 116us/step - loss: 15.6362 - mean_absolute_percentage_error: 14.6963 - val_loss: 17.7046 - val_mean_absolute_percentage_error: 12.9307\n",
      "Epoch 105/135\n",
      "404/404 [==============================] - 0s 126us/step - loss: 16.0644 - mean_absolute_percentage_error: 14.3103 - val_loss: 17.0826 - val_mean_absolute_percentage_error: 13.8044\n",
      "Epoch 106/135\n",
      "404/404 [==============================] - 0s 153us/step - loss: 16.0537 - mean_absolute_percentage_error: 14.6124 - val_loss: 17.3173 - val_mean_absolute_percentage_error: 12.8733\n",
      "Epoch 107/135\n",
      "404/404 [==============================] - 0s 163us/step - loss: 15.6617 - mean_absolute_percentage_error: 14.8539 - val_loss: 17.7100 - val_mean_absolute_percentage_error: 12.5819\n",
      "Epoch 108/135\n",
      "404/404 [==============================] - 0s 121us/step - loss: 15.5958 - mean_absolute_percentage_error: 14.2709 - val_loss: 17.1241 - val_mean_absolute_percentage_error: 13.3037\n",
      "Epoch 109/135\n",
      "404/404 [==============================] - 0s 136us/step - loss: 16.3574 - mean_absolute_percentage_error: 14.9549 - val_loss: 20.4066 - val_mean_absolute_percentage_error: 12.6629\n",
      "Epoch 110/135\n",
      "404/404 [==============================] - 0s 116us/step - loss: 16.1543 - mean_absolute_percentage_error: 14.9786 - val_loss: 17.0223 - val_mean_absolute_percentage_error: 12.9286\n",
      "Epoch 111/135\n",
      "404/404 [==============================] - 0s 178us/step - loss: 15.6310 - mean_absolute_percentage_error: 13.9671 - val_loss: 16.9615 - val_mean_absolute_percentage_error: 13.2477\n",
      "Epoch 112/135\n",
      "404/404 [==============================] - 0s 116us/step - loss: 16.1332 - mean_absolute_percentage_error: 15.4708 - val_loss: 20.0074 - val_mean_absolute_percentage_error: 12.6493\n",
      "Epoch 113/135\n",
      "404/404 [==============================] - 0s 119us/step - loss: 15.1435 - mean_absolute_percentage_error: 13.8193 - val_loss: 17.8827 - val_mean_absolute_percentage_error: 14.8914\n",
      "Epoch 114/135\n",
      "404/404 [==============================] - 0s 139us/step - loss: 16.6438 - mean_absolute_percentage_error: 15.5385 - val_loss: 19.5060 - val_mean_absolute_percentage_error: 12.6806\n",
      "Epoch 115/135\n",
      "404/404 [==============================] - 0s 146us/step - loss: 16.8623 - mean_absolute_percentage_error: 14.9211 - val_loss: 17.7161 - val_mean_absolute_percentage_error: 12.4455\n",
      "Epoch 116/135\n",
      "404/404 [==============================] - 0s 116us/step - loss: 16.6910 - mean_absolute_percentage_error: 14.3751 - val_loss: 16.8603 - val_mean_absolute_percentage_error: 14.0996\n",
      "Epoch 117/135\n",
      "404/404 [==============================] - 0s 153us/step - loss: 16.4834 - mean_absolute_percentage_error: 14.6389 - val_loss: 16.6685 - val_mean_absolute_percentage_error: 13.1510\n",
      "Epoch 118/135\n",
      "404/404 [==============================] - 0s 319us/step - loss: 15.9195 - mean_absolute_percentage_error: 15.1436 - val_loss: 18.6967 - val_mean_absolute_percentage_error: 12.5619\n",
      "Epoch 119/135\n",
      "404/404 [==============================] - 0s 198us/step - loss: 15.3427 - mean_absolute_percentage_error: 13.9244 - val_loss: 16.6231 - val_mean_absolute_percentage_error: 13.5263\n",
      "Epoch 120/135\n",
      "404/404 [==============================] - 0s 141us/step - loss: 15.5409 - mean_absolute_percentage_error: 14.7420 - val_loss: 16.9606 - val_mean_absolute_percentage_error: 12.5698\n",
      "Epoch 121/135\n",
      "404/404 [==============================] - 0s 158us/step - loss: 15.1107 - mean_absolute_percentage_error: 14.2135 - val_loss: 16.6978 - val_mean_absolute_percentage_error: 13.2261\n",
      "Epoch 122/135\n",
      "404/404 [==============================] - 0s 141us/step - loss: 15.5959 - mean_absolute_percentage_error: 14.7080 - val_loss: 20.0887 - val_mean_absolute_percentage_error: 12.6614\n",
      "Epoch 123/135\n",
      "404/404 [==============================] - 0s 156us/step - loss: 15.4039 - mean_absolute_percentage_error: 14.1283 - val_loss: 16.3038 - val_mean_absolute_percentage_error: 12.8654\n",
      "Epoch 124/135\n",
      "404/404 [==============================] - 0s 237us/step - loss: 15.0388 - mean_absolute_percentage_error: 14.2433 - val_loss: 16.7678 - val_mean_absolute_percentage_error: 12.6931\n",
      "Epoch 125/135\n",
      "404/404 [==============================] - 0s 141us/step - loss: 15.3534 - mean_absolute_percentage_error: 14.3611 - val_loss: 17.2375 - val_mean_absolute_percentage_error: 12.6239\n",
      "Epoch 126/135\n",
      "404/404 [==============================] - 0s 186us/step - loss: 15.7828 - mean_absolute_percentage_error: 14.7820 - val_loss: 17.8715 - val_mean_absolute_percentage_error: 12.3805\n",
      "Epoch 127/135\n",
      "404/404 [==============================] - 0s 151us/step - loss: 15.7647 - mean_absolute_percentage_error: 13.9368 - val_loss: 16.3167 - val_mean_absolute_percentage_error: 13.7698\n",
      "Epoch 128/135\n",
      "404/404 [==============================] - 0s 166us/step - loss: 15.2559 - mean_absolute_percentage_error: 14.7463 - val_loss: 18.0041 - val_mean_absolute_percentage_error: 12.4194\n",
      "Epoch 129/135\n",
      "404/404 [==============================] - 0s 153us/step - loss: 15.1685 - mean_absolute_percentage_error: 13.9981 - val_loss: 16.1982 - val_mean_absolute_percentage_error: 13.0712\n",
      "Epoch 130/135\n",
      "404/404 [==============================] - 0s 171us/step - loss: 15.3939 - mean_absolute_percentage_error: 14.4547 - val_loss: 17.4189 - val_mean_absolute_percentage_error: 12.3131\n",
      "Epoch 131/135\n",
      "404/404 [==============================] - 0s 163us/step - loss: 14.9933 - mean_absolute_percentage_error: 14.3463 - val_loss: 16.0773 - val_mean_absolute_percentage_error: 12.6140\n",
      "Epoch 132/135\n",
      "404/404 [==============================] - 0s 168us/step - loss: 14.8314 - mean_absolute_percentage_error: 14.0884 - val_loss: 16.7437 - val_mean_absolute_percentage_error: 12.4620\n",
      "Epoch 133/135\n",
      "404/404 [==============================] - 0s 153us/step - loss: 14.8959 - mean_absolute_percentage_error: 14.3131 - val_loss: 16.2047 - val_mean_absolute_percentage_error: 12.8071\n",
      "Epoch 134/135\n",
      "404/404 [==============================] - 0s 198us/step - loss: 14.8196 - mean_absolute_percentage_error: 14.1372 - val_loss: 16.5954 - val_mean_absolute_percentage_error: 12.4013\n",
      "Epoch 135/135\n",
      "404/404 [==============================] - 0s 190us/step - loss: 14.7799 - mean_absolute_percentage_error: 14.0622 - val_loss: 16.5066 - val_mean_absolute_percentage_error: 12.5207\n"
     ]
    }
   ],
   "source": [
    "history = model.fit(x_train,y_train,batch_size=32,epochs=135,validation_data=(x_val,y_val))\n"
   ]
  },
  {
   "cell_type": "code",
   "execution_count": 20,
   "metadata": {},
   "outputs": [
    {
     "output_type": "stream",
     "name": "stdout",
     "text": [
      "102/102 [==============================] - 0s 108us/step\n",
      "loss  :::  31.169556561638327\n",
      "mean_absolute_percentage_error  :::  18.296018600463867\n"
     ]
    }
   ],
   "source": [
    "# model evalationu\n",
    "result = model.evaluate(x_test,y_test)\n",
    "for i in range(len(model.metrics_names)):\n",
    "    print(model.metrics_names[i],\" ::: \", result[i])"
   ]
  },
  {
   "cell_type": "code",
   "execution_count": 21,
   "metadata": {},
   "outputs": [
    {
     "output_type": "stream",
     "name": "stdout",
     "text": [
      "Model: \"sequential_2\"\n_________________________________________________________________\nLayer (type)                 Output Shape              Param #   \n=================================================================\ndense_4 (Dense)              (None, 13)                182       \n_________________________________________________________________\ndense_5 (Dense)              (None, 6)                 84        \n_________________________________________________________________\ndense_6 (Dense)              (None, 1)                 7         \n=================================================================\nTotal params: 273\nTrainable params: 273\nNon-trainable params: 0\n_________________________________________________________________\n"
     ]
    }
   ],
   "source": [
    "model.summary()"
   ]
  },
  {
   "cell_type": "code",
   "execution_count": 22,
   "metadata": {},
   "outputs": [
    {
     "output_type": "execute_result",
     "data": {
      "text/plain": [
       "'mean_squared_error'"
      ]
     },
     "metadata": {},
     "execution_count": 22
    }
   ],
   "source": [
    "model.loss"
   ]
  },
  {
   "cell_type": "code",
   "execution_count": 23,
   "metadata": {},
   "outputs": [],
   "source": [
    "history_dict = history.history"
   ]
  },
  {
   "cell_type": "code",
   "execution_count": 24,
   "metadata": {},
   "outputs": [
    {
     "output_type": "execute_result",
     "data": {
      "text/plain": [
       "dict_keys(['val_loss', 'val_mean_absolute_percentage_error', 'loss', 'mean_absolute_percentage_error'])"
      ]
     },
     "metadata": {},
     "execution_count": 24
    }
   ],
   "source": [
    "history_dict.keys()"
   ]
  },
  {
   "cell_type": "code",
   "execution_count": 25,
   "metadata": {},
   "outputs": [],
   "source": [
    "#his"
   ]
  },
  {
   "cell_type": "code",
   "execution_count": 26,
   "metadata": {},
   "outputs": [],
   "source": [
    "import matplotlib.pyplot as plt\n",
    "loss_value = history_dict['loss']\n",
    "val_loss_values = history_dict['val_loss']\n"
   ]
  },
  {
   "cell_type": "code",
   "execution_count": 27,
   "metadata": {},
   "outputs": [
    {
     "output_type": "execute_result",
     "data": {
      "text/plain": [
       "range(1, 136)"
      ]
     },
     "metadata": {},
     "execution_count": 27
    }
   ],
   "source": [
    "epochs = range(1,len('mean_absolute_percentage_error')+106)\n",
    "epochs"
   ]
  },
  {
   "cell_type": "code",
   "execution_count": 28,
   "metadata": {},
   "outputs": [
    {
     "output_type": "display_data",
     "data": {
      "text/plain": "<Figure size 432x288 with 1 Axes>",
      "image/svg+xml": "<?xml version=\"1.0\" encoding=\"utf-8\" standalone=\"no\"?>\r\n<!DOCTYPE svg PUBLIC \"-//W3C//DTD SVG 1.1//EN\"\r\n  \"http://www.w3.org/Graphics/SVG/1.1/DTD/svg11.dtd\">\r\n<!-- Created with matplotlib (https://matplotlib.org/) -->\r\n<svg height=\"277.314375pt\" version=\"1.1\" viewBox=\"0 0 397.82617 277.314375\" width=\"397.82617pt\" xmlns=\"http://www.w3.org/2000/svg\" xmlns:xlink=\"http://www.w3.org/1999/xlink\">\r\n <defs>\r\n  <style type=\"text/css\">\r\n*{stroke-linecap:butt;stroke-linejoin:round;}\r\n  </style>\r\n </defs>\r\n <g id=\"figure_1\">\r\n  <g id=\"patch_1\">\r\n   <path d=\"M 0 277.314375 \r\nL 397.82617 277.314375 \r\nL 397.82617 0 \r\nL 0 0 \r\nz\r\n\" style=\"fill:none;\"/>\r\n  </g>\r\n  <g id=\"axes_1\">\r\n   <g id=\"patch_2\">\r\n    <path d=\"M 50.14375 239.758125 \r\nL 384.94375 239.758125 \r\nL 384.94375 22.318125 \r\nL 50.14375 22.318125 \r\nz\r\n\" style=\"fill:#ffffff;\"/>\r\n   </g>\r\n   <g id=\"matplotlib.axis_1\">\r\n    <g id=\"xtick_1\">\r\n     <g id=\"line2d_1\">\r\n      <defs>\r\n       <path d=\"M 0 0 \r\nL 0 3.5 \r\n\" id=\"m03bb75f550\" style=\"stroke:#000000;stroke-width:0.8;\"/>\r\n      </defs>\r\n      <g>\r\n       <use style=\"stroke:#000000;stroke-width:0.8;\" x=\"63.090561\" xlink:href=\"#m03bb75f550\" y=\"239.758125\"/>\r\n      </g>\r\n     </g>\r\n     <g id=\"text_1\">\r\n      <!-- 0 -->\r\n      <defs>\r\n       <path d=\"M 31.78125 66.40625 \r\nQ 24.171875 66.40625 20.328125 58.90625 \r\nQ 16.5 51.421875 16.5 36.375 \r\nQ 16.5 21.390625 20.328125 13.890625 \r\nQ 24.171875 6.390625 31.78125 6.390625 \r\nQ 39.453125 6.390625 43.28125 13.890625 \r\nQ 47.125 21.390625 47.125 36.375 \r\nQ 47.125 51.421875 43.28125 58.90625 \r\nQ 39.453125 66.40625 31.78125 66.40625 \r\nz\r\nM 31.78125 74.21875 \r\nQ 44.046875 74.21875 50.515625 64.515625 \r\nQ 56.984375 54.828125 56.984375 36.375 \r\nQ 56.984375 17.96875 50.515625 8.265625 \r\nQ 44.046875 -1.421875 31.78125 -1.421875 \r\nQ 19.53125 -1.421875 13.0625 8.265625 \r\nQ 6.59375 17.96875 6.59375 36.375 \r\nQ 6.59375 54.828125 13.0625 64.515625 \r\nQ 19.53125 74.21875 31.78125 74.21875 \r\nz\r\n\" id=\"DejaVuSans-48\"/>\r\n      </defs>\r\n      <g transform=\"translate(59.909311 254.356562)scale(0.1 -0.1)\">\r\n       <use xlink:href=\"#DejaVuSans-48\"/>\r\n      </g>\r\n     </g>\r\n    </g>\r\n    <g id=\"xtick_2\">\r\n     <g id=\"line2d_2\">\r\n      <g>\r\n       <use style=\"stroke:#000000;stroke-width:0.8;\" x=\"108.51797\" xlink:href=\"#m03bb75f550\" y=\"239.758125\"/>\r\n      </g>\r\n     </g>\r\n     <g id=\"text_2\">\r\n      <!-- 20 -->\r\n      <defs>\r\n       <path d=\"M 19.1875 8.296875 \r\nL 53.609375 8.296875 \r\nL 53.609375 0 \r\nL 7.328125 0 \r\nL 7.328125 8.296875 \r\nQ 12.9375 14.109375 22.625 23.890625 \r\nQ 32.328125 33.6875 34.8125 36.53125 \r\nQ 39.546875 41.84375 41.421875 45.53125 \r\nQ 43.3125 49.21875 43.3125 52.78125 \r\nQ 43.3125 58.59375 39.234375 62.25 \r\nQ 35.15625 65.921875 28.609375 65.921875 \r\nQ 23.96875 65.921875 18.8125 64.3125 \r\nQ 13.671875 62.703125 7.8125 59.421875 \r\nL 7.8125 69.390625 \r\nQ 13.765625 71.78125 18.9375 73 \r\nQ 24.125 74.21875 28.421875 74.21875 \r\nQ 39.75 74.21875 46.484375 68.546875 \r\nQ 53.21875 62.890625 53.21875 53.421875 \r\nQ 53.21875 48.921875 51.53125 44.890625 \r\nQ 49.859375 40.875 45.40625 35.40625 \r\nQ 44.1875 33.984375 37.640625 27.21875 \r\nQ 31.109375 20.453125 19.1875 8.296875 \r\nz\r\n\" id=\"DejaVuSans-50\"/>\r\n      </defs>\r\n      <g transform=\"translate(102.15547 254.356562)scale(0.1 -0.1)\">\r\n       <use xlink:href=\"#DejaVuSans-50\"/>\r\n       <use x=\"63.623047\" xlink:href=\"#DejaVuSans-48\"/>\r\n      </g>\r\n     </g>\r\n    </g>\r\n    <g id=\"xtick_3\">\r\n     <g id=\"line2d_3\">\r\n      <g>\r\n       <use style=\"stroke:#000000;stroke-width:0.8;\" x=\"153.945378\" xlink:href=\"#m03bb75f550\" y=\"239.758125\"/>\r\n      </g>\r\n     </g>\r\n     <g id=\"text_3\">\r\n      <!-- 40 -->\r\n      <defs>\r\n       <path d=\"M 37.796875 64.3125 \r\nL 12.890625 25.390625 \r\nL 37.796875 25.390625 \r\nz\r\nM 35.203125 72.90625 \r\nL 47.609375 72.90625 \r\nL 47.609375 25.390625 \r\nL 58.015625 25.390625 \r\nL 58.015625 17.1875 \r\nL 47.609375 17.1875 \r\nL 47.609375 0 \r\nL 37.796875 0 \r\nL 37.796875 17.1875 \r\nL 4.890625 17.1875 \r\nL 4.890625 26.703125 \r\nz\r\n\" id=\"DejaVuSans-52\"/>\r\n      </defs>\r\n      <g transform=\"translate(147.582878 254.356562)scale(0.1 -0.1)\">\r\n       <use xlink:href=\"#DejaVuSans-52\"/>\r\n       <use x=\"63.623047\" xlink:href=\"#DejaVuSans-48\"/>\r\n      </g>\r\n     </g>\r\n    </g>\r\n    <g id=\"xtick_4\">\r\n     <g id=\"line2d_4\">\r\n      <g>\r\n       <use style=\"stroke:#000000;stroke-width:0.8;\" x=\"199.372787\" xlink:href=\"#m03bb75f550\" y=\"239.758125\"/>\r\n      </g>\r\n     </g>\r\n     <g id=\"text_4\">\r\n      <!-- 60 -->\r\n      <defs>\r\n       <path d=\"M 33.015625 40.375 \r\nQ 26.375 40.375 22.484375 35.828125 \r\nQ 18.609375 31.296875 18.609375 23.390625 \r\nQ 18.609375 15.53125 22.484375 10.953125 \r\nQ 26.375 6.390625 33.015625 6.390625 \r\nQ 39.65625 6.390625 43.53125 10.953125 \r\nQ 47.40625 15.53125 47.40625 23.390625 \r\nQ 47.40625 31.296875 43.53125 35.828125 \r\nQ 39.65625 40.375 33.015625 40.375 \r\nz\r\nM 52.59375 71.296875 \r\nL 52.59375 62.3125 \r\nQ 48.875 64.0625 45.09375 64.984375 \r\nQ 41.3125 65.921875 37.59375 65.921875 \r\nQ 27.828125 65.921875 22.671875 59.328125 \r\nQ 17.53125 52.734375 16.796875 39.40625 \r\nQ 19.671875 43.65625 24.015625 45.921875 \r\nQ 28.375 48.1875 33.59375 48.1875 \r\nQ 44.578125 48.1875 50.953125 41.515625 \r\nQ 57.328125 34.859375 57.328125 23.390625 \r\nQ 57.328125 12.15625 50.6875 5.359375 \r\nQ 44.046875 -1.421875 33.015625 -1.421875 \r\nQ 20.359375 -1.421875 13.671875 8.265625 \r\nQ 6.984375 17.96875 6.984375 36.375 \r\nQ 6.984375 53.65625 15.1875 63.9375 \r\nQ 23.390625 74.21875 37.203125 74.21875 \r\nQ 40.921875 74.21875 44.703125 73.484375 \r\nQ 48.484375 72.75 52.59375 71.296875 \r\nz\r\n\" id=\"DejaVuSans-54\"/>\r\n      </defs>\r\n      <g transform=\"translate(193.010287 254.356562)scale(0.1 -0.1)\">\r\n       <use xlink:href=\"#DejaVuSans-54\"/>\r\n       <use x=\"63.623047\" xlink:href=\"#DejaVuSans-48\"/>\r\n      </g>\r\n     </g>\r\n    </g>\r\n    <g id=\"xtick_5\">\r\n     <g id=\"line2d_5\">\r\n      <g>\r\n       <use style=\"stroke:#000000;stroke-width:0.8;\" x=\"244.800195\" xlink:href=\"#m03bb75f550\" y=\"239.758125\"/>\r\n      </g>\r\n     </g>\r\n     <g id=\"text_5\">\r\n      <!-- 80 -->\r\n      <defs>\r\n       <path d=\"M 31.78125 34.625 \r\nQ 24.75 34.625 20.71875 30.859375 \r\nQ 16.703125 27.09375 16.703125 20.515625 \r\nQ 16.703125 13.921875 20.71875 10.15625 \r\nQ 24.75 6.390625 31.78125 6.390625 \r\nQ 38.8125 6.390625 42.859375 10.171875 \r\nQ 46.921875 13.96875 46.921875 20.515625 \r\nQ 46.921875 27.09375 42.890625 30.859375 \r\nQ 38.875 34.625 31.78125 34.625 \r\nz\r\nM 21.921875 38.8125 \r\nQ 15.578125 40.375 12.03125 44.71875 \r\nQ 8.5 49.078125 8.5 55.328125 \r\nQ 8.5 64.0625 14.71875 69.140625 \r\nQ 20.953125 74.21875 31.78125 74.21875 \r\nQ 42.671875 74.21875 48.875 69.140625 \r\nQ 55.078125 64.0625 55.078125 55.328125 \r\nQ 55.078125 49.078125 51.53125 44.71875 \r\nQ 48 40.375 41.703125 38.8125 \r\nQ 48.828125 37.15625 52.796875 32.3125 \r\nQ 56.78125 27.484375 56.78125 20.515625 \r\nQ 56.78125 9.90625 50.3125 4.234375 \r\nQ 43.84375 -1.421875 31.78125 -1.421875 \r\nQ 19.734375 -1.421875 13.25 4.234375 \r\nQ 6.78125 9.90625 6.78125 20.515625 \r\nQ 6.78125 27.484375 10.78125 32.3125 \r\nQ 14.796875 37.15625 21.921875 38.8125 \r\nz\r\nM 18.3125 54.390625 \r\nQ 18.3125 48.734375 21.84375 45.5625 \r\nQ 25.390625 42.390625 31.78125 42.390625 \r\nQ 38.140625 42.390625 41.71875 45.5625 \r\nQ 45.3125 48.734375 45.3125 54.390625 \r\nQ 45.3125 60.0625 41.71875 63.234375 \r\nQ 38.140625 66.40625 31.78125 66.40625 \r\nQ 25.390625 66.40625 21.84375 63.234375 \r\nQ 18.3125 60.0625 18.3125 54.390625 \r\nz\r\n\" id=\"DejaVuSans-56\"/>\r\n      </defs>\r\n      <g transform=\"translate(238.437695 254.356562)scale(0.1 -0.1)\">\r\n       <use xlink:href=\"#DejaVuSans-56\"/>\r\n       <use x=\"63.623047\" xlink:href=\"#DejaVuSans-48\"/>\r\n      </g>\r\n     </g>\r\n    </g>\r\n    <g id=\"xtick_6\">\r\n     <g id=\"line2d_6\">\r\n      <g>\r\n       <use style=\"stroke:#000000;stroke-width:0.8;\" x=\"290.227603\" xlink:href=\"#m03bb75f550\" y=\"239.758125\"/>\r\n      </g>\r\n     </g>\r\n     <g id=\"text_6\">\r\n      <!-- 100 -->\r\n      <defs>\r\n       <path d=\"M 12.40625 8.296875 \r\nL 28.515625 8.296875 \r\nL 28.515625 63.921875 \r\nL 10.984375 60.40625 \r\nL 10.984375 69.390625 \r\nL 28.421875 72.90625 \r\nL 38.28125 72.90625 \r\nL 38.28125 8.296875 \r\nL 54.390625 8.296875 \r\nL 54.390625 0 \r\nL 12.40625 0 \r\nz\r\n\" id=\"DejaVuSans-49\"/>\r\n      </defs>\r\n      <g transform=\"translate(280.683853 254.356562)scale(0.1 -0.1)\">\r\n       <use xlink:href=\"#DejaVuSans-49\"/>\r\n       <use x=\"63.623047\" xlink:href=\"#DejaVuSans-48\"/>\r\n       <use x=\"127.246094\" xlink:href=\"#DejaVuSans-48\"/>\r\n      </g>\r\n     </g>\r\n    </g>\r\n    <g id=\"xtick_7\">\r\n     <g id=\"line2d_7\">\r\n      <g>\r\n       <use style=\"stroke:#000000;stroke-width:0.8;\" x=\"335.655012\" xlink:href=\"#m03bb75f550\" y=\"239.758125\"/>\r\n      </g>\r\n     </g>\r\n     <g id=\"text_7\">\r\n      <!-- 120 -->\r\n      <g transform=\"translate(326.111262 254.356562)scale(0.1 -0.1)\">\r\n       <use xlink:href=\"#DejaVuSans-49\"/>\r\n       <use x=\"63.623047\" xlink:href=\"#DejaVuSans-50\"/>\r\n       <use x=\"127.246094\" xlink:href=\"#DejaVuSans-48\"/>\r\n      </g>\r\n     </g>\r\n    </g>\r\n    <g id=\"xtick_8\">\r\n     <g id=\"line2d_8\">\r\n      <g>\r\n       <use style=\"stroke:#000000;stroke-width:0.8;\" x=\"381.08242\" xlink:href=\"#m03bb75f550\" y=\"239.758125\"/>\r\n      </g>\r\n     </g>\r\n     <g id=\"text_8\">\r\n      <!-- 140 -->\r\n      <g transform=\"translate(371.53867 254.356562)scale(0.1 -0.1)\">\r\n       <use xlink:href=\"#DejaVuSans-49\"/>\r\n       <use x=\"63.623047\" xlink:href=\"#DejaVuSans-52\"/>\r\n       <use x=\"127.246094\" xlink:href=\"#DejaVuSans-48\"/>\r\n      </g>\r\n     </g>\r\n    </g>\r\n    <g id=\"text_9\">\r\n     <!-- Epochs -->\r\n     <defs>\r\n      <path d=\"M 9.8125 72.90625 \r\nL 55.90625 72.90625 \r\nL 55.90625 64.59375 \r\nL 19.671875 64.59375 \r\nL 19.671875 43.015625 \r\nL 54.390625 43.015625 \r\nL 54.390625 34.71875 \r\nL 19.671875 34.71875 \r\nL 19.671875 8.296875 \r\nL 56.78125 8.296875 \r\nL 56.78125 0 \r\nL 9.8125 0 \r\nz\r\n\" id=\"DejaVuSans-69\"/>\r\n      <path d=\"M 18.109375 8.203125 \r\nL 18.109375 -20.796875 \r\nL 9.078125 -20.796875 \r\nL 9.078125 54.6875 \r\nL 18.109375 54.6875 \r\nL 18.109375 46.390625 \r\nQ 20.953125 51.265625 25.265625 53.625 \r\nQ 29.59375 56 35.59375 56 \r\nQ 45.5625 56 51.78125 48.09375 \r\nQ 58.015625 40.1875 58.015625 27.296875 \r\nQ 58.015625 14.40625 51.78125 6.484375 \r\nQ 45.5625 -1.421875 35.59375 -1.421875 \r\nQ 29.59375 -1.421875 25.265625 0.953125 \r\nQ 20.953125 3.328125 18.109375 8.203125 \r\nz\r\nM 48.6875 27.296875 \r\nQ 48.6875 37.203125 44.609375 42.84375 \r\nQ 40.53125 48.484375 33.40625 48.484375 \r\nQ 26.265625 48.484375 22.1875 42.84375 \r\nQ 18.109375 37.203125 18.109375 27.296875 \r\nQ 18.109375 17.390625 22.1875 11.75 \r\nQ 26.265625 6.109375 33.40625 6.109375 \r\nQ 40.53125 6.109375 44.609375 11.75 \r\nQ 48.6875 17.390625 48.6875 27.296875 \r\nz\r\n\" id=\"DejaVuSans-112\"/>\r\n      <path d=\"M 30.609375 48.390625 \r\nQ 23.390625 48.390625 19.1875 42.75 \r\nQ 14.984375 37.109375 14.984375 27.296875 \r\nQ 14.984375 17.484375 19.15625 11.84375 \r\nQ 23.34375 6.203125 30.609375 6.203125 \r\nQ 37.796875 6.203125 41.984375 11.859375 \r\nQ 46.1875 17.53125 46.1875 27.296875 \r\nQ 46.1875 37.015625 41.984375 42.703125 \r\nQ 37.796875 48.390625 30.609375 48.390625 \r\nz\r\nM 30.609375 56 \r\nQ 42.328125 56 49.015625 48.375 \r\nQ 55.71875 40.765625 55.71875 27.296875 \r\nQ 55.71875 13.875 49.015625 6.21875 \r\nQ 42.328125 -1.421875 30.609375 -1.421875 \r\nQ 18.84375 -1.421875 12.171875 6.21875 \r\nQ 5.515625 13.875 5.515625 27.296875 \r\nQ 5.515625 40.765625 12.171875 48.375 \r\nQ 18.84375 56 30.609375 56 \r\nz\r\n\" id=\"DejaVuSans-111\"/>\r\n      <path d=\"M 48.78125 52.59375 \r\nL 48.78125 44.1875 \r\nQ 44.96875 46.296875 41.140625 47.34375 \r\nQ 37.3125 48.390625 33.40625 48.390625 \r\nQ 24.65625 48.390625 19.8125 42.84375 \r\nQ 14.984375 37.3125 14.984375 27.296875 \r\nQ 14.984375 17.28125 19.8125 11.734375 \r\nQ 24.65625 6.203125 33.40625 6.203125 \r\nQ 37.3125 6.203125 41.140625 7.25 \r\nQ 44.96875 8.296875 48.78125 10.40625 \r\nL 48.78125 2.09375 \r\nQ 45.015625 0.34375 40.984375 -0.53125 \r\nQ 36.96875 -1.421875 32.421875 -1.421875 \r\nQ 20.0625 -1.421875 12.78125 6.34375 \r\nQ 5.515625 14.109375 5.515625 27.296875 \r\nQ 5.515625 40.671875 12.859375 48.328125 \r\nQ 20.21875 56 33.015625 56 \r\nQ 37.15625 56 41.109375 55.140625 \r\nQ 45.0625 54.296875 48.78125 52.59375 \r\nz\r\n\" id=\"DejaVuSans-99\"/>\r\n      <path d=\"M 54.890625 33.015625 \r\nL 54.890625 0 \r\nL 45.90625 0 \r\nL 45.90625 32.71875 \r\nQ 45.90625 40.484375 42.875 44.328125 \r\nQ 39.84375 48.1875 33.796875 48.1875 \r\nQ 26.515625 48.1875 22.3125 43.546875 \r\nQ 18.109375 38.921875 18.109375 30.90625 \r\nL 18.109375 0 \r\nL 9.078125 0 \r\nL 9.078125 75.984375 \r\nL 18.109375 75.984375 \r\nL 18.109375 46.1875 \r\nQ 21.34375 51.125 25.703125 53.5625 \r\nQ 30.078125 56 35.796875 56 \r\nQ 45.21875 56 50.046875 50.171875 \r\nQ 54.890625 44.34375 54.890625 33.015625 \r\nz\r\n\" id=\"DejaVuSans-104\"/>\r\n      <path d=\"M 44.28125 53.078125 \r\nL 44.28125 44.578125 \r\nQ 40.484375 46.53125 36.375 47.5 \r\nQ 32.28125 48.484375 27.875 48.484375 \r\nQ 21.1875 48.484375 17.84375 46.4375 \r\nQ 14.5 44.390625 14.5 40.28125 \r\nQ 14.5 37.15625 16.890625 35.375 \r\nQ 19.28125 33.59375 26.515625 31.984375 \r\nL 29.59375 31.296875 \r\nQ 39.15625 29.25 43.1875 25.515625 \r\nQ 47.21875 21.78125 47.21875 15.09375 \r\nQ 47.21875 7.46875 41.1875 3.015625 \r\nQ 35.15625 -1.421875 24.609375 -1.421875 \r\nQ 20.21875 -1.421875 15.453125 -0.5625 \r\nQ 10.6875 0.296875 5.421875 2 \r\nL 5.421875 11.28125 \r\nQ 10.40625 8.6875 15.234375 7.390625 \r\nQ 20.0625 6.109375 24.8125 6.109375 \r\nQ 31.15625 6.109375 34.5625 8.28125 \r\nQ 37.984375 10.453125 37.984375 14.40625 \r\nQ 37.984375 18.0625 35.515625 20.015625 \r\nQ 33.0625 21.96875 24.703125 23.78125 \r\nL 21.578125 24.515625 \r\nQ 13.234375 26.265625 9.515625 29.90625 \r\nQ 5.8125 33.546875 5.8125 39.890625 \r\nQ 5.8125 47.609375 11.28125 51.796875 \r\nQ 16.75 56 26.8125 56 \r\nQ 31.78125 56 36.171875 55.265625 \r\nQ 40.578125 54.546875 44.28125 53.078125 \r\nz\r\n\" id=\"DejaVuSans-115\"/>\r\n     </defs>\r\n     <g transform=\"translate(199.628125 268.034687)scale(0.1 -0.1)\">\r\n      <use xlink:href=\"#DejaVuSans-69\"/>\r\n      <use x=\"63.183594\" xlink:href=\"#DejaVuSans-112\"/>\r\n      <use x=\"126.660156\" xlink:href=\"#DejaVuSans-111\"/>\r\n      <use x=\"187.841797\" xlink:href=\"#DejaVuSans-99\"/>\r\n      <use x=\"242.822266\" xlink:href=\"#DejaVuSans-104\"/>\r\n      <use x=\"306.201172\" xlink:href=\"#DejaVuSans-115\"/>\r\n     </g>\r\n    </g>\r\n   </g>\r\n   <g id=\"matplotlib.axis_2\">\r\n    <g id=\"ytick_1\">\r\n     <g id=\"line2d_9\">\r\n      <defs>\r\n       <path d=\"M 0 0 \r\nL -3.5 0 \r\n\" id=\"m6084a7e1a1\" style=\"stroke:#000000;stroke-width:0.8;\"/>\r\n      </defs>\r\n      <g>\r\n       <use style=\"stroke:#000000;stroke-width:0.8;\" x=\"50.14375\" xlink:href=\"#m6084a7e1a1\" y=\"227.720994\"/>\r\n      </g>\r\n     </g>\r\n     <g id=\"text_10\">\r\n      <!-- 15.0 -->\r\n      <defs>\r\n       <path d=\"M 10.796875 72.90625 \r\nL 49.515625 72.90625 \r\nL 49.515625 64.59375 \r\nL 19.828125 64.59375 \r\nL 19.828125 46.734375 \r\nQ 21.96875 47.46875 24.109375 47.828125 \r\nQ 26.265625 48.1875 28.421875 48.1875 \r\nQ 40.625 48.1875 47.75 41.5 \r\nQ 54.890625 34.8125 54.890625 23.390625 \r\nQ 54.890625 11.625 47.5625 5.09375 \r\nQ 40.234375 -1.421875 26.90625 -1.421875 \r\nQ 22.3125 -1.421875 17.546875 -0.640625 \r\nQ 12.796875 0.140625 7.71875 1.703125 \r\nL 7.71875 11.625 \r\nQ 12.109375 9.234375 16.796875 8.0625 \r\nQ 21.484375 6.890625 26.703125 6.890625 \r\nQ 35.15625 6.890625 40.078125 11.328125 \r\nQ 45.015625 15.765625 45.015625 23.390625 \r\nQ 45.015625 31 40.078125 35.4375 \r\nQ 35.15625 39.890625 26.703125 39.890625 \r\nQ 22.75 39.890625 18.8125 39.015625 \r\nQ 14.890625 38.140625 10.796875 36.28125 \r\nz\r\n\" id=\"DejaVuSans-53\"/>\r\n       <path d=\"M 10.6875 12.40625 \r\nL 21 12.40625 \r\nL 21 0 \r\nL 10.6875 0 \r\nz\r\n\" id=\"DejaVuSans-46\"/>\r\n      </defs>\r\n      <g transform=\"translate(20.878125 231.520213)scale(0.1 -0.1)\">\r\n       <use xlink:href=\"#DejaVuSans-49\"/>\r\n       <use x=\"63.623047\" xlink:href=\"#DejaVuSans-53\"/>\r\n       <use x=\"127.246094\" xlink:href=\"#DejaVuSans-46\"/>\r\n       <use x=\"159.033203\" xlink:href=\"#DejaVuSans-48\"/>\r\n      </g>\r\n     </g>\r\n    </g>\r\n    <g id=\"ytick_2\">\r\n     <g id=\"line2d_10\">\r\n      <g>\r\n       <use style=\"stroke:#000000;stroke-width:0.8;\" x=\"50.14375\" xlink:href=\"#m6084a7e1a1\" y=\"203.257369\"/>\r\n      </g>\r\n     </g>\r\n     <g id=\"text_11\">\r\n      <!-- 17.5 -->\r\n      <defs>\r\n       <path d=\"M 8.203125 72.90625 \r\nL 55.078125 72.90625 \r\nL 55.078125 68.703125 \r\nL 28.609375 0 \r\nL 18.3125 0 \r\nL 43.21875 64.59375 \r\nL 8.203125 64.59375 \r\nz\r\n\" id=\"DejaVuSans-55\"/>\r\n      </defs>\r\n      <g transform=\"translate(20.878125 207.056588)scale(0.1 -0.1)\">\r\n       <use xlink:href=\"#DejaVuSans-49\"/>\r\n       <use x=\"63.623047\" xlink:href=\"#DejaVuSans-55\"/>\r\n       <use x=\"127.246094\" xlink:href=\"#DejaVuSans-46\"/>\r\n       <use x=\"159.033203\" xlink:href=\"#DejaVuSans-53\"/>\r\n      </g>\r\n     </g>\r\n    </g>\r\n    <g id=\"ytick_3\">\r\n     <g id=\"line2d_11\">\r\n      <g>\r\n       <use style=\"stroke:#000000;stroke-width:0.8;\" x=\"50.14375\" xlink:href=\"#m6084a7e1a1\" y=\"178.793744\"/>\r\n      </g>\r\n     </g>\r\n     <g id=\"text_12\">\r\n      <!-- 20.0 -->\r\n      <g transform=\"translate(20.878125 182.592963)scale(0.1 -0.1)\">\r\n       <use xlink:href=\"#DejaVuSans-50\"/>\r\n       <use x=\"63.623047\" xlink:href=\"#DejaVuSans-48\"/>\r\n       <use x=\"127.246094\" xlink:href=\"#DejaVuSans-46\"/>\r\n       <use x=\"159.033203\" xlink:href=\"#DejaVuSans-48\"/>\r\n      </g>\r\n     </g>\r\n    </g>\r\n    <g id=\"ytick_4\">\r\n     <g id=\"line2d_12\">\r\n      <g>\r\n       <use style=\"stroke:#000000;stroke-width:0.8;\" x=\"50.14375\" xlink:href=\"#m6084a7e1a1\" y=\"154.33012\"/>\r\n      </g>\r\n     </g>\r\n     <g id=\"text_13\">\r\n      <!-- 22.5 -->\r\n      <g transform=\"translate(20.878125 158.129338)scale(0.1 -0.1)\">\r\n       <use xlink:href=\"#DejaVuSans-50\"/>\r\n       <use x=\"63.623047\" xlink:href=\"#DejaVuSans-50\"/>\r\n       <use x=\"127.246094\" xlink:href=\"#DejaVuSans-46\"/>\r\n       <use x=\"159.033203\" xlink:href=\"#DejaVuSans-53\"/>\r\n      </g>\r\n     </g>\r\n    </g>\r\n    <g id=\"ytick_5\">\r\n     <g id=\"line2d_13\">\r\n      <g>\r\n       <use style=\"stroke:#000000;stroke-width:0.8;\" x=\"50.14375\" xlink:href=\"#m6084a7e1a1\" y=\"129.866495\"/>\r\n      </g>\r\n     </g>\r\n     <g id=\"text_14\">\r\n      <!-- 25.0 -->\r\n      <g transform=\"translate(20.878125 133.665714)scale(0.1 -0.1)\">\r\n       <use xlink:href=\"#DejaVuSans-50\"/>\r\n       <use x=\"63.623047\" xlink:href=\"#DejaVuSans-53\"/>\r\n       <use x=\"127.246094\" xlink:href=\"#DejaVuSans-46\"/>\r\n       <use x=\"159.033203\" xlink:href=\"#DejaVuSans-48\"/>\r\n      </g>\r\n     </g>\r\n    </g>\r\n    <g id=\"ytick_6\">\r\n     <g id=\"line2d_14\">\r\n      <g>\r\n       <use style=\"stroke:#000000;stroke-width:0.8;\" x=\"50.14375\" xlink:href=\"#m6084a7e1a1\" y=\"105.40287\"/>\r\n      </g>\r\n     </g>\r\n     <g id=\"text_15\">\r\n      <!-- 27.5 -->\r\n      <g transform=\"translate(20.878125 109.202089)scale(0.1 -0.1)\">\r\n       <use xlink:href=\"#DejaVuSans-50\"/>\r\n       <use x=\"63.623047\" xlink:href=\"#DejaVuSans-55\"/>\r\n       <use x=\"127.246094\" xlink:href=\"#DejaVuSans-46\"/>\r\n       <use x=\"159.033203\" xlink:href=\"#DejaVuSans-53\"/>\r\n      </g>\r\n     </g>\r\n    </g>\r\n    <g id=\"ytick_7\">\r\n     <g id=\"line2d_15\">\r\n      <g>\r\n       <use style=\"stroke:#000000;stroke-width:0.8;\" x=\"50.14375\" xlink:href=\"#m6084a7e1a1\" y=\"80.939246\"/>\r\n      </g>\r\n     </g>\r\n     <g id=\"text_16\">\r\n      <!-- 30.0 -->\r\n      <defs>\r\n       <path d=\"M 40.578125 39.3125 \r\nQ 47.65625 37.796875 51.625 33 \r\nQ 55.609375 28.21875 55.609375 21.1875 \r\nQ 55.609375 10.40625 48.1875 4.484375 \r\nQ 40.765625 -1.421875 27.09375 -1.421875 \r\nQ 22.515625 -1.421875 17.65625 -0.515625 \r\nQ 12.796875 0.390625 7.625 2.203125 \r\nL 7.625 11.71875 \r\nQ 11.71875 9.328125 16.59375 8.109375 \r\nQ 21.484375 6.890625 26.8125 6.890625 \r\nQ 36.078125 6.890625 40.9375 10.546875 \r\nQ 45.796875 14.203125 45.796875 21.1875 \r\nQ 45.796875 27.640625 41.28125 31.265625 \r\nQ 36.765625 34.90625 28.71875 34.90625 \r\nL 20.21875 34.90625 \r\nL 20.21875 43.015625 \r\nL 29.109375 43.015625 \r\nQ 36.375 43.015625 40.234375 45.921875 \r\nQ 44.09375 48.828125 44.09375 54.296875 \r\nQ 44.09375 59.90625 40.109375 62.90625 \r\nQ 36.140625 65.921875 28.71875 65.921875 \r\nQ 24.65625 65.921875 20.015625 65.03125 \r\nQ 15.375 64.15625 9.8125 62.3125 \r\nL 9.8125 71.09375 \r\nQ 15.4375 72.65625 20.34375 73.4375 \r\nQ 25.25 74.21875 29.59375 74.21875 \r\nQ 40.828125 74.21875 47.359375 69.109375 \r\nQ 53.90625 64.015625 53.90625 55.328125 \r\nQ 53.90625 49.265625 50.4375 45.09375 \r\nQ 46.96875 40.921875 40.578125 39.3125 \r\nz\r\n\" id=\"DejaVuSans-51\"/>\r\n      </defs>\r\n      <g transform=\"translate(20.878125 84.738464)scale(0.1 -0.1)\">\r\n       <use xlink:href=\"#DejaVuSans-51\"/>\r\n       <use x=\"63.623047\" xlink:href=\"#DejaVuSans-48\"/>\r\n       <use x=\"127.246094\" xlink:href=\"#DejaVuSans-46\"/>\r\n       <use x=\"159.033203\" xlink:href=\"#DejaVuSans-48\"/>\r\n      </g>\r\n     </g>\r\n    </g>\r\n    <g id=\"ytick_8\">\r\n     <g id=\"line2d_16\">\r\n      <g>\r\n       <use style=\"stroke:#000000;stroke-width:0.8;\" x=\"50.14375\" xlink:href=\"#m6084a7e1a1\" y=\"56.475621\"/>\r\n      </g>\r\n     </g>\r\n     <g id=\"text_17\">\r\n      <!-- 32.5 -->\r\n      <g transform=\"translate(20.878125 60.27484)scale(0.1 -0.1)\">\r\n       <use xlink:href=\"#DejaVuSans-51\"/>\r\n       <use x=\"63.623047\" xlink:href=\"#DejaVuSans-50\"/>\r\n       <use x=\"127.246094\" xlink:href=\"#DejaVuSans-46\"/>\r\n       <use x=\"159.033203\" xlink:href=\"#DejaVuSans-53\"/>\r\n      </g>\r\n     </g>\r\n    </g>\r\n    <g id=\"ytick_9\">\r\n     <g id=\"line2d_17\">\r\n      <g>\r\n       <use style=\"stroke:#000000;stroke-width:0.8;\" x=\"50.14375\" xlink:href=\"#m6084a7e1a1\" y=\"32.011996\"/>\r\n      </g>\r\n     </g>\r\n     <g id=\"text_18\">\r\n      <!-- 35.0 -->\r\n      <g transform=\"translate(20.878125 35.811215)scale(0.1 -0.1)\">\r\n       <use xlink:href=\"#DejaVuSans-51\"/>\r\n       <use x=\"63.623047\" xlink:href=\"#DejaVuSans-53\"/>\r\n       <use x=\"127.246094\" xlink:href=\"#DejaVuSans-46\"/>\r\n       <use x=\"159.033203\" xlink:href=\"#DejaVuSans-48\"/>\r\n      </g>\r\n     </g>\r\n    </g>\r\n    <g id=\"text_19\">\r\n     <!-- Loss -->\r\n     <defs>\r\n      <path d=\"M 9.8125 72.90625 \r\nL 19.671875 72.90625 \r\nL 19.671875 8.296875 \r\nL 55.171875 8.296875 \r\nL 55.171875 0 \r\nL 9.8125 0 \r\nz\r\n\" id=\"DejaVuSans-76\"/>\r\n     </defs>\r\n     <g transform=\"translate(14.798438 142.092031)rotate(-90)scale(0.1 -0.1)\">\r\n      <use xlink:href=\"#DejaVuSans-76\"/>\r\n      <use x=\"55.697266\" xlink:href=\"#DejaVuSans-111\"/>\r\n      <use x=\"116.878906\" xlink:href=\"#DejaVuSans-115\"/>\r\n      <use x=\"168.978516\" xlink:href=\"#DejaVuSans-115\"/>\r\n     </g>\r\n    </g>\r\n   </g>\r\n   <g id=\"line2d_18\">\r\n    <defs>\r\n     <path d=\"M 0 3 \r\nC 0.795609 3 1.55874 2.683901 2.12132 2.12132 \r\nC 2.683901 1.55874 3 0.795609 3 0 \r\nC 3 -0.795609 2.683901 -1.55874 2.12132 -2.12132 \r\nC 1.55874 -2.683901 0.795609 -3 0 -3 \r\nC -0.795609 -3 -1.55874 -2.683901 -2.12132 -2.12132 \r\nC -2.683901 -1.55874 -3 -0.795609 -3 0 \r\nC -3 0.795609 -2.683901 1.55874 -2.12132 2.12132 \r\nC -1.55874 2.683901 -0.795609 3 0 3 \r\nz\r\n\" id=\"m78fa0b4a1f\" style=\"stroke:#0000ff;\"/>\r\n    </defs>\r\n    <g clip-path=\"url(#pcef6e71d25)\">\r\n     <use style=\"fill:#0000ff;stroke:#0000ff;\" x=\"65.361932\" xlink:href=\"#m78fa0b4a1f\" y=\"120.833694\"/>\r\n     <use style=\"fill:#0000ff;stroke:#0000ff;\" x=\"67.633302\" xlink:href=\"#m78fa0b4a1f\" y=\"117.894771\"/>\r\n     <use style=\"fill:#0000ff;stroke:#0000ff;\" x=\"69.904673\" xlink:href=\"#m78fa0b4a1f\" y=\"112.186012\"/>\r\n     <use style=\"fill:#0000ff;stroke:#0000ff;\" x=\"72.176043\" xlink:href=\"#m78fa0b4a1f\" y=\"128.784391\"/>\r\n     <use style=\"fill:#0000ff;stroke:#0000ff;\" x=\"74.447414\" xlink:href=\"#m78fa0b4a1f\" y=\"126.002957\"/>\r\n     <use style=\"fill:#0000ff;stroke:#0000ff;\" x=\"76.718784\" xlink:href=\"#m78fa0b4a1f\" y=\"128.74843\"/>\r\n     <use style=\"fill:#0000ff;stroke:#0000ff;\" x=\"78.990154\" xlink:href=\"#m78fa0b4a1f\" y=\"127.333417\"/>\r\n     <use style=\"fill:#0000ff;stroke:#0000ff;\" x=\"81.261525\" xlink:href=\"#m78fa0b4a1f\" y=\"129.010374\"/>\r\n     <use style=\"fill:#0000ff;stroke:#0000ff;\" x=\"83.532895\" xlink:href=\"#m78fa0b4a1f\" y=\"132.154625\"/>\r\n     <use style=\"fill:#0000ff;stroke:#0000ff;\" x=\"85.804266\" xlink:href=\"#m78fa0b4a1f\" y=\"133.351975\"/>\r\n     <use style=\"fill:#0000ff;stroke:#0000ff;\" x=\"88.075636\" xlink:href=\"#m78fa0b4a1f\" y=\"130.696562\"/>\r\n     <use style=\"fill:#0000ff;stroke:#0000ff;\" x=\"90.347006\" xlink:href=\"#m78fa0b4a1f\" y=\"137.078118\"/>\r\n     <use style=\"fill:#0000ff;stroke:#0000ff;\" x=\"92.618377\" xlink:href=\"#m78fa0b4a1f\" y=\"137.866888\"/>\r\n     <use style=\"fill:#0000ff;stroke:#0000ff;\" x=\"94.889747\" xlink:href=\"#m78fa0b4a1f\" y=\"137.069263\"/>\r\n     <use style=\"fill:#0000ff;stroke:#0000ff;\" x=\"97.161118\" xlink:href=\"#m78fa0b4a1f\" y=\"138.54676\"/>\r\n     <use style=\"fill:#0000ff;stroke:#0000ff;\" x=\"99.432488\" xlink:href=\"#m78fa0b4a1f\" y=\"140.934678\"/>\r\n     <use style=\"fill:#0000ff;stroke:#0000ff;\" x=\"101.703859\" xlink:href=\"#m78fa0b4a1f\" y=\"142.102477\"/>\r\n     <use style=\"fill:#0000ff;stroke:#0000ff;\" x=\"103.975229\" xlink:href=\"#m78fa0b4a1f\" y=\"140.002753\"/>\r\n     <use style=\"fill:#0000ff;stroke:#0000ff;\" x=\"106.246599\" xlink:href=\"#m78fa0b4a1f\" y=\"143.432996\"/>\r\n     <use style=\"fill:#0000ff;stroke:#0000ff;\" x=\"108.51797\" xlink:href=\"#m78fa0b4a1f\" y=\"144.007309\"/>\r\n     <use style=\"fill:#0000ff;stroke:#0000ff;\" x=\"110.78934\" xlink:href=\"#m78fa0b4a1f\" y=\"145.283007\"/>\r\n     <use style=\"fill:#0000ff;stroke:#0000ff;\" x=\"113.060711\" xlink:href=\"#m78fa0b4a1f\" y=\"146.65509\"/>\r\n     <use style=\"fill:#0000ff;stroke:#0000ff;\" x=\"115.332081\" xlink:href=\"#m78fa0b4a1f\" y=\"147.716456\"/>\r\n     <use style=\"fill:#0000ff;stroke:#0000ff;\" x=\"117.603451\" xlink:href=\"#m78fa0b4a1f\" y=\"147.956457\"/>\r\n     <use style=\"fill:#0000ff;stroke:#0000ff;\" x=\"119.874822\" xlink:href=\"#m78fa0b4a1f\" y=\"143.720224\"/>\r\n     <use style=\"fill:#0000ff;stroke:#0000ff;\" x=\"122.146192\" xlink:href=\"#m78fa0b4a1f\" y=\"148.278942\"/>\r\n     <use style=\"fill:#0000ff;stroke:#0000ff;\" x=\"124.417563\" xlink:href=\"#m78fa0b4a1f\" y=\"145.808149\"/>\r\n     <use style=\"fill:#0000ff;stroke:#0000ff;\" x=\"126.688933\" xlink:href=\"#m78fa0b4a1f\" y=\"151.793403\"/>\r\n     <use style=\"fill:#0000ff;stroke:#0000ff;\" x=\"128.960304\" xlink:href=\"#m78fa0b4a1f\" y=\"151.378832\"/>\r\n     <use style=\"fill:#0000ff;stroke:#0000ff;\" x=\"131.231674\" xlink:href=\"#m78fa0b4a1f\" y=\"157.54847\"/>\r\n     <use style=\"fill:#0000ff;stroke:#0000ff;\" x=\"133.503044\" xlink:href=\"#m78fa0b4a1f\" y=\"156.844212\"/>\r\n     <use style=\"fill:#0000ff;stroke:#0000ff;\" x=\"135.774415\" xlink:href=\"#m78fa0b4a1f\" y=\"159.45569\"/>\r\n     <use style=\"fill:#0000ff;stroke:#0000ff;\" x=\"138.045785\" xlink:href=\"#m78fa0b4a1f\" y=\"158.726423\"/>\r\n     <use style=\"fill:#0000ff;stroke:#0000ff;\" x=\"140.317156\" xlink:href=\"#m78fa0b4a1f\" y=\"159.724994\"/>\r\n     <use style=\"fill:#0000ff;stroke:#0000ff;\" x=\"142.588526\" xlink:href=\"#m78fa0b4a1f\" y=\"157.312539\"/>\r\n     <use style=\"fill:#0000ff;stroke:#0000ff;\" x=\"144.859897\" xlink:href=\"#m78fa0b4a1f\" y=\"165.25037\"/>\r\n     <use style=\"fill:#0000ff;stroke:#0000ff;\" x=\"147.131267\" xlink:href=\"#m78fa0b4a1f\" y=\"163.483517\"/>\r\n     <use style=\"fill:#0000ff;stroke:#0000ff;\" x=\"149.402637\" xlink:href=\"#m78fa0b4a1f\" y=\"166.382299\"/>\r\n     <use style=\"fill:#0000ff;stroke:#0000ff;\" x=\"151.674008\" xlink:href=\"#m78fa0b4a1f\" y=\"162.382512\"/>\r\n     <use style=\"fill:#0000ff;stroke:#0000ff;\" x=\"153.945378\" xlink:href=\"#m78fa0b4a1f\" y=\"167.623219\"/>\r\n     <use style=\"fill:#0000ff;stroke:#0000ff;\" x=\"156.216749\" xlink:href=\"#m78fa0b4a1f\" y=\"172.779897\"/>\r\n     <use style=\"fill:#0000ff;stroke:#0000ff;\" x=\"158.488119\" xlink:href=\"#m78fa0b4a1f\" y=\"162.6571\"/>\r\n     <use style=\"fill:#0000ff;stroke:#0000ff;\" x=\"160.759489\" xlink:href=\"#m78fa0b4a1f\" y=\"170.071935\"/>\r\n     <use style=\"fill:#0000ff;stroke:#0000ff;\" x=\"163.03086\" xlink:href=\"#m78fa0b4a1f\" y=\"170.652357\"/>\r\n     <use style=\"fill:#0000ff;stroke:#0000ff;\" x=\"165.30223\" xlink:href=\"#m78fa0b4a1f\" y=\"175.281789\"/>\r\n     <use style=\"fill:#0000ff;stroke:#0000ff;\" x=\"167.573601\" xlink:href=\"#m78fa0b4a1f\" y=\"174.79121\"/>\r\n     <use style=\"fill:#0000ff;stroke:#0000ff;\" x=\"169.844971\" xlink:href=\"#m78fa0b4a1f\" y=\"179.337093\"/>\r\n     <use style=\"fill:#0000ff;stroke:#0000ff;\" x=\"172.116342\" xlink:href=\"#m78fa0b4a1f\" y=\"180.950167\"/>\r\n     <use style=\"fill:#0000ff;stroke:#0000ff;\" x=\"174.387712\" xlink:href=\"#m78fa0b4a1f\" y=\"180.469076\"/>\r\n     <use style=\"fill:#0000ff;stroke:#0000ff;\" x=\"176.659082\" xlink:href=\"#m78fa0b4a1f\" y=\"179.406692\"/>\r\n     <use style=\"fill:#0000ff;stroke:#0000ff;\" x=\"178.930453\" xlink:href=\"#m78fa0b4a1f\" y=\"182.525072\"/>\r\n     <use style=\"fill:#0000ff;stroke:#0000ff;\" x=\"181.201823\" xlink:href=\"#m78fa0b4a1f\" y=\"181.058124\"/>\r\n     <use style=\"fill:#0000ff;stroke:#0000ff;\" x=\"183.473194\" xlink:href=\"#m78fa0b4a1f\" y=\"176.777277\"/>\r\n     <use style=\"fill:#0000ff;stroke:#0000ff;\" x=\"185.744564\" xlink:href=\"#m78fa0b4a1f\" y=\"187.784771\"/>\r\n     <use style=\"fill:#0000ff;stroke:#0000ff;\" x=\"188.015935\" xlink:href=\"#m78fa0b4a1f\" y=\"190.308019\"/>\r\n     <use style=\"fill:#0000ff;stroke:#0000ff;\" x=\"190.287305\" xlink:href=\"#m78fa0b4a1f\" y=\"191.600192\"/>\r\n     <use style=\"fill:#0000ff;stroke:#0000ff;\" x=\"192.558675\" xlink:href=\"#m78fa0b4a1f\" y=\"187.534565\"/>\r\n     <use style=\"fill:#0000ff;stroke:#0000ff;\" x=\"194.830046\" xlink:href=\"#m78fa0b4a1f\" y=\"190.617174\"/>\r\n     <use style=\"fill:#0000ff;stroke:#0000ff;\" x=\"197.101416\" xlink:href=\"#m78fa0b4a1f\" y=\"195.671165\"/>\r\n     <use style=\"fill:#0000ff;stroke:#0000ff;\" x=\"199.372787\" xlink:href=\"#m78fa0b4a1f\" y=\"192.923974\"/>\r\n     <use style=\"fill:#0000ff;stroke:#0000ff;\" x=\"201.644157\" xlink:href=\"#m78fa0b4a1f\" y=\"198.311343\"/>\r\n     <use style=\"fill:#0000ff;stroke:#0000ff;\" x=\"203.915527\" xlink:href=\"#m78fa0b4a1f\" y=\"199.140004\"/>\r\n     <use style=\"fill:#0000ff;stroke:#0000ff;\" x=\"206.186898\" xlink:href=\"#m78fa0b4a1f\" y=\"199.030828\"/>\r\n     <use style=\"fill:#0000ff;stroke:#0000ff;\" x=\"208.458268\" xlink:href=\"#m78fa0b4a1f\" y=\"200.53653\"/>\r\n     <use style=\"fill:#0000ff;stroke:#0000ff;\" x=\"210.729639\" xlink:href=\"#m78fa0b4a1f\" y=\"201.403629\"/>\r\n     <use style=\"fill:#0000ff;stroke:#0000ff;\" x=\"213.001009\" xlink:href=\"#m78fa0b4a1f\" y=\"200.598781\"/>\r\n     <use style=\"fill:#0000ff;stroke:#0000ff;\" x=\"215.27238\" xlink:href=\"#m78fa0b4a1f\" y=\"201.165343\"/>\r\n     <use style=\"fill:#0000ff;stroke:#0000ff;\" x=\"217.54375\" xlink:href=\"#m78fa0b4a1f\" y=\"201.143565\"/>\r\n     <use style=\"fill:#0000ff;stroke:#0000ff;\" x=\"219.81512\" xlink:href=\"#m78fa0b4a1f\" y=\"199.323332\"/>\r\n     <use style=\"fill:#0000ff;stroke:#0000ff;\" x=\"222.086491\" xlink:href=\"#m78fa0b4a1f\" y=\"199.965958\"/>\r\n     <use style=\"fill:#0000ff;stroke:#0000ff;\" x=\"224.357861\" xlink:href=\"#m78fa0b4a1f\" y=\"197.906254\"/>\r\n     <use style=\"fill:#0000ff;stroke:#0000ff;\" x=\"226.629232\" xlink:href=\"#m78fa0b4a1f\" y=\"203.072819\"/>\r\n     <use style=\"fill:#0000ff;stroke:#0000ff;\" x=\"228.900602\" xlink:href=\"#m78fa0b4a1f\" y=\"199.698726\"/>\r\n     <use style=\"fill:#0000ff;stroke:#0000ff;\" x=\"231.171973\" xlink:href=\"#m78fa0b4a1f\" y=\"207.308796\"/>\r\n     <use style=\"fill:#0000ff;stroke:#0000ff;\" x=\"233.443343\" xlink:href=\"#m78fa0b4a1f\" y=\"203.177011\"/>\r\n     <use style=\"fill:#0000ff;stroke:#0000ff;\" x=\"235.714713\" xlink:href=\"#m78fa0b4a1f\" y=\"206.435067\"/>\r\n     <use style=\"fill:#0000ff;stroke:#0000ff;\" x=\"237.986084\" xlink:href=\"#m78fa0b4a1f\" y=\"209.523788\"/>\r\n     <use style=\"fill:#0000ff;stroke:#0000ff;\" x=\"240.257454\" xlink:href=\"#m78fa0b4a1f\" y=\"207.618358\"/>\r\n     <use style=\"fill:#0000ff;stroke:#0000ff;\" x=\"242.528825\" xlink:href=\"#m78fa0b4a1f\" y=\"208.365049\"/>\r\n     <use style=\"fill:#0000ff;stroke:#0000ff;\" x=\"244.800195\" xlink:href=\"#m78fa0b4a1f\" y=\"208.495219\"/>\r\n     <use style=\"fill:#0000ff;stroke:#0000ff;\" x=\"247.071565\" xlink:href=\"#m78fa0b4a1f\" y=\"207.988905\"/>\r\n     <use style=\"fill:#0000ff;stroke:#0000ff;\" x=\"249.342936\" xlink:href=\"#m78fa0b4a1f\" y=\"211.514252\"/>\r\n     <use style=\"fill:#0000ff;stroke:#0000ff;\" x=\"251.614306\" xlink:href=\"#m78fa0b4a1f\" y=\"209.125744\"/>\r\n     <use style=\"fill:#0000ff;stroke:#0000ff;\" x=\"253.885677\" xlink:href=\"#m78fa0b4a1f\" y=\"198.54832\"/>\r\n     <use style=\"fill:#0000ff;stroke:#0000ff;\" x=\"256.157047\" xlink:href=\"#m78fa0b4a1f\" y=\"204.340355\"/>\r\n     <use style=\"fill:#0000ff;stroke:#0000ff;\" x=\"258.428418\" xlink:href=\"#m78fa0b4a1f\" y=\"214.254068\"/>\r\n     <use style=\"fill:#0000ff;stroke:#0000ff;\" x=\"260.699788\" xlink:href=\"#m78fa0b4a1f\" y=\"215.140044\"/>\r\n     <use style=\"fill:#0000ff;stroke:#0000ff;\" x=\"262.971158\" xlink:href=\"#m78fa0b4a1f\" y=\"213.600606\"/>\r\n     <use style=\"fill:#0000ff;stroke:#0000ff;\" x=\"265.242529\" xlink:href=\"#m78fa0b4a1f\" y=\"206.240815\"/>\r\n     <use style=\"fill:#0000ff;stroke:#0000ff;\" x=\"267.513899\" xlink:href=\"#m78fa0b4a1f\" y=\"206.680346\"/>\r\n     <use style=\"fill:#0000ff;stroke:#0000ff;\" x=\"269.78527\" xlink:href=\"#m78fa0b4a1f\" y=\"213.986277\"/>\r\n     <use style=\"fill:#0000ff;stroke:#0000ff;\" x=\"272.05664\" xlink:href=\"#m78fa0b4a1f\" y=\"216.48378\"/>\r\n     <use style=\"fill:#0000ff;stroke:#0000ff;\" x=\"274.328011\" xlink:href=\"#m78fa0b4a1f\" y=\"216.048445\"/>\r\n     <use style=\"fill:#0000ff;stroke:#0000ff;\" x=\"276.599381\" xlink:href=\"#m78fa0b4a1f\" y=\"219.326134\"/>\r\n     <use style=\"fill:#0000ff;stroke:#0000ff;\" x=\"278.870751\" xlink:href=\"#m78fa0b4a1f\" y=\"213.964711\"/>\r\n     <use style=\"fill:#0000ff;stroke:#0000ff;\" x=\"281.142122\" xlink:href=\"#m78fa0b4a1f\" y=\"215.96122\"/>\r\n     <use style=\"fill:#0000ff;stroke:#0000ff;\" x=\"283.413492\" xlink:href=\"#m78fa0b4a1f\" y=\"212.257095\"/>\r\n     <use style=\"fill:#0000ff;stroke:#0000ff;\" x=\"285.684863\" xlink:href=\"#m78fa0b4a1f\" y=\"219.481647\"/>\r\n     <use style=\"fill:#0000ff;stroke:#0000ff;\" x=\"287.956233\" xlink:href=\"#m78fa0b4a1f\" y=\"216.794054\"/>\r\n     <use style=\"fill:#0000ff;stroke:#0000ff;\" x=\"290.227603\" xlink:href=\"#m78fa0b4a1f\" y=\"215.379556\"/>\r\n     <use style=\"fill:#0000ff;stroke:#0000ff;\" x=\"292.498974\" xlink:href=\"#m78fa0b4a1f\" y=\"216.280371\"/>\r\n     <use style=\"fill:#0000ff;stroke:#0000ff;\" x=\"294.770344\" xlink:href=\"#m78fa0b4a1f\" y=\"215.082392\"/>\r\n     <use style=\"fill:#0000ff;stroke:#0000ff;\" x=\"297.041715\" xlink:href=\"#m78fa0b4a1f\" y=\"217.213793\"/>\r\n     <use style=\"fill:#0000ff;stroke:#0000ff;\" x=\"299.313085\" xlink:href=\"#m78fa0b4a1f\" y=\"221.495701\"/>\r\n     <use style=\"fill:#0000ff;stroke:#0000ff;\" x=\"301.584456\" xlink:href=\"#m78fa0b4a1f\" y=\"217.305005\"/>\r\n     <use style=\"fill:#0000ff;stroke:#0000ff;\" x=\"303.855826\" xlink:href=\"#m78fa0b4a1f\" y=\"217.410102\"/>\r\n     <use style=\"fill:#0000ff;stroke:#0000ff;\" x=\"306.127196\" xlink:href=\"#m78fa0b4a1f\" y=\"221.245656\"/>\r\n     <use style=\"fill:#0000ff;stroke:#0000ff;\" x=\"308.398567\" xlink:href=\"#m78fa0b4a1f\" y=\"221.891123\"/>\r\n     <use style=\"fill:#0000ff;stroke:#0000ff;\" x=\"310.669937\" xlink:href=\"#m78fa0b4a1f\" y=\"214.438255\"/>\r\n     <use style=\"fill:#0000ff;stroke:#0000ff;\" x=\"312.941308\" xlink:href=\"#m78fa0b4a1f\" y=\"216.42533\"/>\r\n     <use style=\"fill:#0000ff;stroke:#0000ff;\" x=\"315.212678\" xlink:href=\"#m78fa0b4a1f\" y=\"221.54617\"/>\r\n     <use style=\"fill:#0000ff;stroke:#0000ff;\" x=\"317.484049\" xlink:href=\"#m78fa0b4a1f\" y=\"216.632317\"/>\r\n     <use style=\"fill:#0000ff;stroke:#0000ff;\" x=\"319.755419\" xlink:href=\"#m78fa0b4a1f\" y=\"226.316567\"/>\r\n     <use style=\"fill:#0000ff;stroke:#0000ff;\" x=\"322.026789\" xlink:href=\"#m78fa0b4a1f\" y=\"211.635275\"/>\r\n     <use style=\"fill:#0000ff;stroke:#0000ff;\" x=\"324.29816\" xlink:href=\"#m78fa0b4a1f\" y=\"209.497491\"/>\r\n     <use style=\"fill:#0000ff;stroke:#0000ff;\" x=\"326.56953\" xlink:href=\"#m78fa0b4a1f\" y=\"211.174036\"/>\r\n     <use style=\"fill:#0000ff;stroke:#0000ff;\" x=\"328.840901\" xlink:href=\"#m78fa0b4a1f\" y=\"213.204984\"/>\r\n     <use style=\"fill:#0000ff;stroke:#0000ff;\" x=\"331.112271\" xlink:href=\"#m78fa0b4a1f\" y=\"218.723235\"/>\r\n     <use style=\"fill:#0000ff;stroke:#0000ff;\" x=\"333.383641\" xlink:href=\"#m78fa0b4a1f\" y=\"224.367305\"/>\r\n     <use style=\"fill:#0000ff;stroke:#0000ff;\" x=\"335.655012\" xlink:href=\"#m78fa0b4a1f\" y=\"222.427985\"/>\r\n     <use style=\"fill:#0000ff;stroke:#0000ff;\" x=\"337.926382\" xlink:href=\"#m78fa0b4a1f\" y=\"226.6379\"/>\r\n     <use style=\"fill:#0000ff;stroke:#0000ff;\" x=\"340.197753\" xlink:href=\"#m78fa0b4a1f\" y=\"221.889889\"/>\r\n     <use style=\"fill:#0000ff;stroke:#0000ff;\" x=\"342.469123\" xlink:href=\"#m78fa0b4a1f\" y=\"223.768623\"/>\r\n     <use style=\"fill:#0000ff;stroke:#0000ff;\" x=\"344.740494\" xlink:href=\"#m78fa0b4a1f\" y=\"227.341568\"/>\r\n     <use style=\"fill:#0000ff;stroke:#0000ff;\" x=\"347.011864\" xlink:href=\"#m78fa0b4a1f\" y=\"224.262385\"/>\r\n     <use style=\"fill:#0000ff;stroke:#0000ff;\" x=\"349.283234\" xlink:href=\"#m78fa0b4a1f\" y=\"220.060693\"/>\r\n     <use style=\"fill:#0000ff;stroke:#0000ff;\" x=\"351.554605\" xlink:href=\"#m78fa0b4a1f\" y=\"220.238366\"/>\r\n     <use style=\"fill:#0000ff;stroke:#0000ff;\" x=\"353.825975\" xlink:href=\"#m78fa0b4a1f\" y=\"225.216604\"/>\r\n     <use style=\"fill:#0000ff;stroke:#0000ff;\" x=\"356.097346\" xlink:href=\"#m78fa0b4a1f\" y=\"226.071761\"/>\r\n     <use style=\"fill:#0000ff;stroke:#0000ff;\" x=\"358.368716\" xlink:href=\"#m78fa0b4a1f\" y=\"223.866272\"/>\r\n     <use style=\"fill:#0000ff;stroke:#0000ff;\" x=\"360.640086\" xlink:href=\"#m78fa0b4a1f\" y=\"227.786598\"/>\r\n     <use style=\"fill:#0000ff;stroke:#0000ff;\" x=\"362.911457\" xlink:href=\"#m78fa0b4a1f\" y=\"229.370732\"/>\r\n     <use style=\"fill:#0000ff;stroke:#0000ff;\" x=\"365.182827\" xlink:href=\"#m78fa0b4a1f\" y=\"228.739923\"/>\r\n     <use style=\"fill:#0000ff;stroke:#0000ff;\" x=\"367.454198\" xlink:href=\"#m78fa0b4a1f\" y=\"229.486075\"/>\r\n     <use style=\"fill:#0000ff;stroke:#0000ff;\" x=\"369.725568\" xlink:href=\"#m78fa0b4a1f\" y=\"229.874489\"/>\r\n    </g>\r\n   </g>\r\n   <g id=\"line2d_19\">\r\n    <path clip-path=\"url(#pcef6e71d25)\" d=\"M 65.361932 52.243164 \r\nL 67.633302 71.705433 \r\nL 69.904673 32.201761 \r\nL 72.176043 73.885039 \r\nL 74.447414 60.534627 \r\nL 76.718784 75.157328 \r\nL 78.990154 58.736669 \r\nL 81.261525 78.867862 \r\nL 83.532895 78.403046 \r\nL 85.804266 83.365438 \r\nL 88.075636 80.999556 \r\nL 90.347006 85.850788 \r\nL 92.618377 85.47462 \r\nL 94.889747 90.345774 \r\nL 97.161118 89.5396 \r\nL 99.432488 91.059527 \r\nL 101.703859 98.963449 \r\nL 103.975229 78.596515 \r\nL 106.246599 103.429807 \r\nL 108.51797 89.22037 \r\nL 110.78934 88.942849 \r\nL 113.060711 100.068842 \r\nL 115.332081 105.380946 \r\nL 117.603451 92.511134 \r\nL 119.874822 92.102895 \r\nL 122.146192 110.89902 \r\nL 124.417563 115.647431 \r\nL 126.688933 90.255614 \r\nL 128.960304 111.618653 \r\nL 131.231674 107.775976 \r\nL 133.503044 120.697456 \r\nL 135.774415 109.004469 \r\nL 138.045785 117.253061 \r\nL 140.317156 107.013641 \r\nL 142.588526 120.645896 \r\nL 144.859897 116.235128 \r\nL 147.131267 125.918047 \r\nL 151.674008 106.153096 \r\nL 153.945378 133.825478 \r\nL 156.216749 114.025944 \r\nL 158.488119 136.736137 \r\nL 160.759489 106.486789 \r\nL 163.03086 133.814545 \r\nL 165.30223 143.92956 \r\nL 167.573601 141.77448 \r\nL 169.844971 145.168334 \r\nL 172.116342 146.040842 \r\nL 174.387712 141.564218 \r\nL 176.659082 155.616198 \r\nL 178.930453 150.877784 \r\nL 181.201823 125.948817 \r\nL 183.473194 148.787565 \r\nL 185.744564 160.587874 \r\nL 188.015935 161.118077 \r\nL 190.287305 153.073612 \r\nL 192.558675 161.830673 \r\nL 194.830046 168.075992 \r\nL 197.101416 149.59822 \r\nL 199.372787 169.401533 \r\nL 201.644157 165.614461 \r\nL 203.915527 165.784408 \r\nL 206.186898 171.357 \r\nL 208.458268 159.101038 \r\nL 210.729639 174.976508 \r\nL 213.001009 160.631999 \r\nL 215.27238 170.827378 \r\nL 217.54375 169.297638 \r\nL 219.81512 168.188048 \r\nL 222.086491 174.5909 \r\nL 224.357861 185.670637 \r\nL 226.629232 163.692189 \r\nL 228.900602 185.248803 \r\nL 231.171973 172.362757 \r\nL 233.443343 183.08068 \r\nL 235.714713 185.819547 \r\nL 237.986084 179.255013 \r\nL 240.257454 184.328318 \r\nL 242.528825 192.438819 \r\nL 244.800195 173.012335 \r\nL 247.071565 183.210736 \r\nL 249.342936 189.652703 \r\nL 251.614306 191.070134 \r\nL 253.885677 166.268942 \r\nL 256.157047 190.300269 \r\nL 258.428418 192.940281 \r\nL 260.699788 187.769705 \r\nL 262.971158 197.943265 \r\nL 265.242529 200.053673 \r\nL 267.513899 189.799297 \r\nL 269.78527 197.807906 \r\nL 272.05664 199.359994 \r\nL 274.328011 185.977267 \r\nL 276.599381 202.413635 \r\nL 278.870751 201.743807 \r\nL 281.142122 177.266499 \r\nL 283.413492 204.234508 \r\nL 285.684863 179.683526 \r\nL 287.956233 203.1114 \r\nL 290.227603 196.101451 \r\nL 292.498974 205.073638 \r\nL 294.770344 177.7956 \r\nL 297.041715 205.29346 \r\nL 299.313085 201.255404 \r\nL 301.584456 207.341385 \r\nL 303.855826 205.045465 \r\nL 306.127196 201.202867 \r\nL 308.398567 206.935535 \r\nL 310.669937 174.815029 \r\nL 312.941308 207.931592 \r\nL 315.212678 208.527101 \r\nL 317.484049 178.721772 \r\nL 319.755419 199.512092 \r\nL 322.026789 183.627635 \r\nL 324.29816 201.143119 \r\nL 326.56953 209.517477 \r\nL 328.840901 211.393799 \r\nL 331.112271 191.547178 \r\nL 333.383641 211.837803 \r\nL 335.655012 208.536122 \r\nL 337.926382 211.107655 \r\nL 340.197753 177.92602 \r\nL 342.469123 214.96242 \r\nL 347.011864 205.826215 \r\nL 349.283234 199.622301 \r\nL 351.554605 214.836329 \r\nL 353.825975 198.324944 \r\nL 356.097346 215.99574 \r\nL 358.368716 204.050925 \r\nL 360.640086 217.178868 \r\nL 362.911457 210.658008 \r\nL 365.182827 215.932791 \r\nL 367.454198 212.109322 \r\nL 369.725568 212.977913 \r\nL 369.725568 212.977913 \r\n\" style=\"fill:none;stroke:#0000ff;stroke-linecap:square;stroke-width:1.5;\"/>\r\n   </g>\r\n   <g id=\"patch_3\">\r\n    <path d=\"M 50.14375 239.758125 \r\nL 50.14375 22.318125 \r\n\" style=\"fill:none;stroke:#000000;stroke-linecap:square;stroke-linejoin:miter;stroke-width:0.8;\"/>\r\n   </g>\r\n   <g id=\"patch_4\">\r\n    <path d=\"M 384.94375 239.758125 \r\nL 384.94375 22.318125 \r\n\" style=\"fill:none;stroke:#000000;stroke-linecap:square;stroke-linejoin:miter;stroke-width:0.8;\"/>\r\n   </g>\r\n   <g id=\"patch_5\">\r\n    <path d=\"M 50.14375 239.758125 \r\nL 384.94375 239.758125 \r\n\" style=\"fill:none;stroke:#000000;stroke-linecap:square;stroke-linejoin:miter;stroke-width:0.8;\"/>\r\n   </g>\r\n   <g id=\"patch_6\">\r\n    <path d=\"M 50.14375 22.318125 \r\nL 384.94375 22.318125 \r\n\" style=\"fill:none;stroke:#000000;stroke-linecap:square;stroke-linejoin:miter;stroke-width:0.8;\"/>\r\n   </g>\r\n   <g id=\"text_20\">\r\n    <!-- Training and Validation loss -->\r\n    <defs>\r\n     <path d=\"M -0.296875 72.90625 \r\nL 61.375 72.90625 \r\nL 61.375 64.59375 \r\nL 35.5 64.59375 \r\nL 35.5 0 \r\nL 25.59375 0 \r\nL 25.59375 64.59375 \r\nL -0.296875 64.59375 \r\nz\r\n\" id=\"DejaVuSans-84\"/>\r\n     <path d=\"M 41.109375 46.296875 \r\nQ 39.59375 47.171875 37.8125 47.578125 \r\nQ 36.03125 48 33.890625 48 \r\nQ 26.265625 48 22.1875 43.046875 \r\nQ 18.109375 38.09375 18.109375 28.8125 \r\nL 18.109375 0 \r\nL 9.078125 0 \r\nL 9.078125 54.6875 \r\nL 18.109375 54.6875 \r\nL 18.109375 46.1875 \r\nQ 20.953125 51.171875 25.484375 53.578125 \r\nQ 30.03125 56 36.53125 56 \r\nQ 37.453125 56 38.578125 55.875 \r\nQ 39.703125 55.765625 41.0625 55.515625 \r\nz\r\n\" id=\"DejaVuSans-114\"/>\r\n     <path d=\"M 34.28125 27.484375 \r\nQ 23.390625 27.484375 19.1875 25 \r\nQ 14.984375 22.515625 14.984375 16.5 \r\nQ 14.984375 11.71875 18.140625 8.90625 \r\nQ 21.296875 6.109375 26.703125 6.109375 \r\nQ 34.1875 6.109375 38.703125 11.40625 \r\nQ 43.21875 16.703125 43.21875 25.484375 \r\nL 43.21875 27.484375 \r\nz\r\nM 52.203125 31.203125 \r\nL 52.203125 0 \r\nL 43.21875 0 \r\nL 43.21875 8.296875 \r\nQ 40.140625 3.328125 35.546875 0.953125 \r\nQ 30.953125 -1.421875 24.3125 -1.421875 \r\nQ 15.921875 -1.421875 10.953125 3.296875 \r\nQ 6 8.015625 6 15.921875 \r\nQ 6 25.140625 12.171875 29.828125 \r\nQ 18.359375 34.515625 30.609375 34.515625 \r\nL 43.21875 34.515625 \r\nL 43.21875 35.40625 \r\nQ 43.21875 41.609375 39.140625 45 \r\nQ 35.0625 48.390625 27.6875 48.390625 \r\nQ 23 48.390625 18.546875 47.265625 \r\nQ 14.109375 46.140625 10.015625 43.890625 \r\nL 10.015625 52.203125 \r\nQ 14.9375 54.109375 19.578125 55.046875 \r\nQ 24.21875 56 28.609375 56 \r\nQ 40.484375 56 46.34375 49.84375 \r\nQ 52.203125 43.703125 52.203125 31.203125 \r\nz\r\n\" id=\"DejaVuSans-97\"/>\r\n     <path d=\"M 9.421875 54.6875 \r\nL 18.40625 54.6875 \r\nL 18.40625 0 \r\nL 9.421875 0 \r\nz\r\nM 9.421875 75.984375 \r\nL 18.40625 75.984375 \r\nL 18.40625 64.59375 \r\nL 9.421875 64.59375 \r\nz\r\n\" id=\"DejaVuSans-105\"/>\r\n     <path d=\"M 54.890625 33.015625 \r\nL 54.890625 0 \r\nL 45.90625 0 \r\nL 45.90625 32.71875 \r\nQ 45.90625 40.484375 42.875 44.328125 \r\nQ 39.84375 48.1875 33.796875 48.1875 \r\nQ 26.515625 48.1875 22.3125 43.546875 \r\nQ 18.109375 38.921875 18.109375 30.90625 \r\nL 18.109375 0 \r\nL 9.078125 0 \r\nL 9.078125 54.6875 \r\nL 18.109375 54.6875 \r\nL 18.109375 46.1875 \r\nQ 21.34375 51.125 25.703125 53.5625 \r\nQ 30.078125 56 35.796875 56 \r\nQ 45.21875 56 50.046875 50.171875 \r\nQ 54.890625 44.34375 54.890625 33.015625 \r\nz\r\n\" id=\"DejaVuSans-110\"/>\r\n     <path d=\"M 45.40625 27.984375 \r\nQ 45.40625 37.75 41.375 43.109375 \r\nQ 37.359375 48.484375 30.078125 48.484375 \r\nQ 22.859375 48.484375 18.828125 43.109375 \r\nQ 14.796875 37.75 14.796875 27.984375 \r\nQ 14.796875 18.265625 18.828125 12.890625 \r\nQ 22.859375 7.515625 30.078125 7.515625 \r\nQ 37.359375 7.515625 41.375 12.890625 \r\nQ 45.40625 18.265625 45.40625 27.984375 \r\nz\r\nM 54.390625 6.78125 \r\nQ 54.390625 -7.171875 48.1875 -13.984375 \r\nQ 42 -20.796875 29.203125 -20.796875 \r\nQ 24.46875 -20.796875 20.265625 -20.09375 \r\nQ 16.0625 -19.390625 12.109375 -17.921875 \r\nL 12.109375 -9.1875 \r\nQ 16.0625 -11.328125 19.921875 -12.34375 \r\nQ 23.78125 -13.375 27.78125 -13.375 \r\nQ 36.625 -13.375 41.015625 -8.765625 \r\nQ 45.40625 -4.15625 45.40625 5.171875 \r\nL 45.40625 9.625 \r\nQ 42.625 4.78125 38.28125 2.390625 \r\nQ 33.9375 0 27.875 0 \r\nQ 17.828125 0 11.671875 7.65625 \r\nQ 5.515625 15.328125 5.515625 27.984375 \r\nQ 5.515625 40.671875 11.671875 48.328125 \r\nQ 17.828125 56 27.875 56 \r\nQ 33.9375 56 38.28125 53.609375 \r\nQ 42.625 51.21875 45.40625 46.390625 \r\nL 45.40625 54.6875 \r\nL 54.390625 54.6875 \r\nz\r\n\" id=\"DejaVuSans-103\"/>\r\n     <path id=\"DejaVuSans-32\"/>\r\n     <path d=\"M 45.40625 46.390625 \r\nL 45.40625 75.984375 \r\nL 54.390625 75.984375 \r\nL 54.390625 0 \r\nL 45.40625 0 \r\nL 45.40625 8.203125 \r\nQ 42.578125 3.328125 38.25 0.953125 \r\nQ 33.9375 -1.421875 27.875 -1.421875 \r\nQ 17.96875 -1.421875 11.734375 6.484375 \r\nQ 5.515625 14.40625 5.515625 27.296875 \r\nQ 5.515625 40.1875 11.734375 48.09375 \r\nQ 17.96875 56 27.875 56 \r\nQ 33.9375 56 38.25 53.625 \r\nQ 42.578125 51.265625 45.40625 46.390625 \r\nz\r\nM 14.796875 27.296875 \r\nQ 14.796875 17.390625 18.875 11.75 \r\nQ 22.953125 6.109375 30.078125 6.109375 \r\nQ 37.203125 6.109375 41.296875 11.75 \r\nQ 45.40625 17.390625 45.40625 27.296875 \r\nQ 45.40625 37.203125 41.296875 42.84375 \r\nQ 37.203125 48.484375 30.078125 48.484375 \r\nQ 22.953125 48.484375 18.875 42.84375 \r\nQ 14.796875 37.203125 14.796875 27.296875 \r\nz\r\n\" id=\"DejaVuSans-100\"/>\r\n     <path d=\"M 28.609375 0 \r\nL 0.78125 72.90625 \r\nL 11.078125 72.90625 \r\nL 34.1875 11.53125 \r\nL 57.328125 72.90625 \r\nL 67.578125 72.90625 \r\nL 39.796875 0 \r\nz\r\n\" id=\"DejaVuSans-86\"/>\r\n     <path d=\"M 9.421875 75.984375 \r\nL 18.40625 75.984375 \r\nL 18.40625 0 \r\nL 9.421875 0 \r\nz\r\n\" id=\"DejaVuSans-108\"/>\r\n     <path d=\"M 18.3125 70.21875 \r\nL 18.3125 54.6875 \r\nL 36.8125 54.6875 \r\nL 36.8125 47.703125 \r\nL 18.3125 47.703125 \r\nL 18.3125 18.015625 \r\nQ 18.3125 11.328125 20.140625 9.421875 \r\nQ 21.96875 7.515625 27.59375 7.515625 \r\nL 36.8125 7.515625 \r\nL 36.8125 0 \r\nL 27.59375 0 \r\nQ 17.1875 0 13.234375 3.875 \r\nQ 9.28125 7.765625 9.28125 18.015625 \r\nL 9.28125 47.703125 \r\nL 2.6875 47.703125 \r\nL 2.6875 54.6875 \r\nL 9.28125 54.6875 \r\nL 9.28125 70.21875 \r\nz\r\n\" id=\"DejaVuSans-116\"/>\r\n    </defs>\r\n    <g transform=\"translate(134.315313 16.318125)scale(0.12 -0.12)\">\r\n     <use xlink:href=\"#DejaVuSans-84\"/>\r\n     <use x=\"60.865234\" xlink:href=\"#DejaVuSans-114\"/>\r\n     <use x=\"101.978516\" xlink:href=\"#DejaVuSans-97\"/>\r\n     <use x=\"163.257812\" xlink:href=\"#DejaVuSans-105\"/>\r\n     <use x=\"191.041016\" xlink:href=\"#DejaVuSans-110\"/>\r\n     <use x=\"254.419922\" xlink:href=\"#DejaVuSans-105\"/>\r\n     <use x=\"282.203125\" xlink:href=\"#DejaVuSans-110\"/>\r\n     <use x=\"345.582031\" xlink:href=\"#DejaVuSans-103\"/>\r\n     <use x=\"409.058594\" xlink:href=\"#DejaVuSans-32\"/>\r\n     <use x=\"440.845703\" xlink:href=\"#DejaVuSans-97\"/>\r\n     <use x=\"502.125\" xlink:href=\"#DejaVuSans-110\"/>\r\n     <use x=\"565.503906\" xlink:href=\"#DejaVuSans-100\"/>\r\n     <use x=\"628.980469\" xlink:href=\"#DejaVuSans-32\"/>\r\n     <use x=\"660.767578\" xlink:href=\"#DejaVuSans-86\"/>\r\n     <use x=\"729.066406\" xlink:href=\"#DejaVuSans-97\"/>\r\n     <use x=\"790.345703\" xlink:href=\"#DejaVuSans-108\"/>\r\n     <use x=\"818.128906\" xlink:href=\"#DejaVuSans-105\"/>\r\n     <use x=\"845.912109\" xlink:href=\"#DejaVuSans-100\"/>\r\n     <use x=\"909.388672\" xlink:href=\"#DejaVuSans-97\"/>\r\n     <use x=\"970.667969\" xlink:href=\"#DejaVuSans-116\"/>\r\n     <use x=\"1009.876953\" xlink:href=\"#DejaVuSans-105\"/>\r\n     <use x=\"1037.660156\" xlink:href=\"#DejaVuSans-111\"/>\r\n     <use x=\"1098.841797\" xlink:href=\"#DejaVuSans-110\"/>\r\n     <use x=\"1162.220703\" xlink:href=\"#DejaVuSans-32\"/>\r\n     <use x=\"1194.007812\" xlink:href=\"#DejaVuSans-108\"/>\r\n     <use x=\"1221.791016\" xlink:href=\"#DejaVuSans-111\"/>\r\n     <use x=\"1282.972656\" xlink:href=\"#DejaVuSans-115\"/>\r\n     <use x=\"1335.072266\" xlink:href=\"#DejaVuSans-115\"/>\r\n    </g>\r\n   </g>\r\n   <g id=\"legend_1\">\r\n    <g id=\"patch_7\">\r\n     <path d=\"M 270.5125 59.674375 \r\nL 377.94375 59.674375 \r\nQ 379.94375 59.674375 379.94375 57.674375 \r\nL 379.94375 29.318125 \r\nQ 379.94375 27.318125 377.94375 27.318125 \r\nL 270.5125 27.318125 \r\nQ 268.5125 27.318125 268.5125 29.318125 \r\nL 268.5125 57.674375 \r\nQ 268.5125 59.674375 270.5125 59.674375 \r\nz\r\n\" style=\"fill:#ffffff;opacity:0.8;stroke:#cccccc;stroke-linejoin:miter;\"/>\r\n    </g>\r\n    <g id=\"line2d_20\"/>\r\n    <g id=\"line2d_21\">\r\n     <g>\r\n      <use style=\"fill:#0000ff;stroke:#0000ff;\" x=\"282.5125\" xlink:href=\"#m78fa0b4a1f\" y=\"35.416562\"/>\r\n     </g>\r\n    </g>\r\n    <g id=\"text_21\">\r\n     <!-- Training Loss -->\r\n     <g transform=\"translate(300.5125 38.916562)scale(0.1 -0.1)\">\r\n      <use xlink:href=\"#DejaVuSans-84\"/>\r\n      <use x=\"60.865234\" xlink:href=\"#DejaVuSans-114\"/>\r\n      <use x=\"101.978516\" xlink:href=\"#DejaVuSans-97\"/>\r\n      <use x=\"163.257812\" xlink:href=\"#DejaVuSans-105\"/>\r\n      <use x=\"191.041016\" xlink:href=\"#DejaVuSans-110\"/>\r\n      <use x=\"254.419922\" xlink:href=\"#DejaVuSans-105\"/>\r\n      <use x=\"282.203125\" xlink:href=\"#DejaVuSans-110\"/>\r\n      <use x=\"345.582031\" xlink:href=\"#DejaVuSans-103\"/>\r\n      <use x=\"409.058594\" xlink:href=\"#DejaVuSans-32\"/>\r\n      <use x=\"440.845703\" xlink:href=\"#DejaVuSans-76\"/>\r\n      <use x=\"496.542969\" xlink:href=\"#DejaVuSans-111\"/>\r\n      <use x=\"557.724609\" xlink:href=\"#DejaVuSans-115\"/>\r\n      <use x=\"609.824219\" xlink:href=\"#DejaVuSans-115\"/>\r\n     </g>\r\n    </g>\r\n    <g id=\"line2d_22\">\r\n     <path d=\"M 272.5125 50.094687 \r\nL 292.5125 50.094687 \r\n\" style=\"fill:none;stroke:#0000ff;stroke-linecap:square;stroke-width:1.5;\"/>\r\n    </g>\r\n    <g id=\"line2d_23\"/>\r\n    <g id=\"text_22\">\r\n     <!-- Validation Loss -->\r\n     <g transform=\"translate(300.5125 53.594687)scale(0.1 -0.1)\">\r\n      <use xlink:href=\"#DejaVuSans-86\"/>\r\n      <use x=\"68.298828\" xlink:href=\"#DejaVuSans-97\"/>\r\n      <use x=\"129.578125\" xlink:href=\"#DejaVuSans-108\"/>\r\n      <use x=\"157.361328\" xlink:href=\"#DejaVuSans-105\"/>\r\n      <use x=\"185.144531\" xlink:href=\"#DejaVuSans-100\"/>\r\n      <use x=\"248.621094\" xlink:href=\"#DejaVuSans-97\"/>\r\n      <use x=\"309.900391\" xlink:href=\"#DejaVuSans-116\"/>\r\n      <use x=\"349.109375\" xlink:href=\"#DejaVuSans-105\"/>\r\n      <use x=\"376.892578\" xlink:href=\"#DejaVuSans-111\"/>\r\n      <use x=\"438.074219\" xlink:href=\"#DejaVuSans-110\"/>\r\n      <use x=\"501.453125\" xlink:href=\"#DejaVuSans-32\"/>\r\n      <use x=\"533.240234\" xlink:href=\"#DejaVuSans-76\"/>\r\n      <use x=\"588.9375\" xlink:href=\"#DejaVuSans-111\"/>\r\n      <use x=\"650.119141\" xlink:href=\"#DejaVuSans-115\"/>\r\n      <use x=\"702.21875\" xlink:href=\"#DejaVuSans-115\"/>\r\n     </g>\r\n    </g>\r\n   </g>\r\n  </g>\r\n </g>\r\n <defs>\r\n  <clipPath id=\"pcef6e71d25\">\r\n   <rect height=\"217.44\" width=\"334.8\" x=\"50.14375\" y=\"22.318125\"/>\r\n  </clipPath>\r\n </defs>\r\n</svg>\r\n",
      "image/png": "[encoded data removed]"
     },
     "metadata": {
      "needs_background": "light"
     }
    }
   ],
   "source": [
    "plt.plot(epochs,loss_value,'bo',label='Training Loss')\n",
    "plt.plot(epochs,val_loss_values,'b',label='Validation Loss')\n",
    "plt.title('Training and Validation loss')\n",
    "plt.xlabel('Epochs')\n",
    "plt.ylabel('Loss')\n",
    "plt.legend()\n",
    "plt.show()\n"
   ]
  }
 ]
}